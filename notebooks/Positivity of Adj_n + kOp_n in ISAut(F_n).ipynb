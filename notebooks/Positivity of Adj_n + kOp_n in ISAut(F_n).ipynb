{
 "cells": [
  {
   "cell_type": "markdown",
   "metadata": {
    "cell_style": "center"
   },
   "source": [
    "# Installation"
   ]
  },
  {
   "cell_type": "markdown",
   "metadata": {},
   "source": [
    "The following instructions were prepared using"
   ]
  },
  {
   "cell_type": "code",
   "execution_count": 27,
   "metadata": {
    "ExecuteTime": {
     "end_time": "2020-10-19T01:51:04.765000+02:00",
     "start_time": "2020-10-18T23:50:46.887Z"
    }
   },
   "outputs": [
    {
     "name": "stdout",
     "output_type": "stream",
     "text": [
      "Julia Version 1.5.1\n",
      "Commit 697e782ab8 (2020-08-25 20:08 UTC)\n",
      "Platform Info:\n",
      "  OS: Linux (x86_64-pc-linux-gnu)\n",
      "  CPU: Intel(R) Core(TM) i5-6200U CPU @ 2.30GHz\n",
      "  WORD_SIZE: 64\n",
      "  LIBM: libopenlibm\n",
      "  LLVM: libLLVM-9.0.1 (ORCJIT, skylake)\n",
      "Environment:\n",
      "  JULIA_NUM_THREADS = 2\n"
     ]
    }
   ],
   "source": [
    "versioninfo()"
   ]
  },
  {
   "cell_type": "markdown",
   "metadata": {},
   "source": [
    "Before exploring the notebook you need to clone the main repository:\n",
    "```bash\n",
    " git clone https://github.com/kalmarek/1812.03456.git\n",
    "```\n",
    "This notebook should be located in `1812.03456/notebooks` directory.\n",
    "\n",
    "In the main directory (`1812.03456`) you should run the following code in `julia`s `REPL` console to instantiate the environment for computations:\n",
    "```julia\n",
    "using Pkg\n",
    "Pkg.activate(\".\")\n",
    "Pkg.instantiate()\n",
    "```\n",
    "(this needs to be done once per installation). Jupyter notebook may be launched then from `REPL` within the directory by\n",
    "```julia\n",
    "using Pkg\n",
    "Pkg.activate(\".\")\n",
    "using IJulia\n",
    "notebook(dir=\".\")\n",
    "\n",
    "```\n",
    "\n",
    "Instantiation should install (among others): the [`SCS` solver][1], [`JuMP` package][2] for mathematical programming and `IntervalArithmetic.jl` package from [`ValidatedNumerics.jl`][3].\n",
    "\n",
    "The environment uses [`Groups.jl`][7], [`GroupRings.jl`][6] (which are built on the framework of  [`AbstractAlgebra.jl`][4]) and [`PropertyT.jl`][8] packages.\n",
    "\n",
    "[1]: https://github.com/cvxgrp/scs  \n",
    "[2]: https://github.com/JuliaOpt/JuMP.jl  \n",
    "[3]: https://github.com/JuliaIntervals/ValidatedNumerics.jl\n",
    "[4]: https://github.com/Nemocas/AbstractAlgebra.jl\n",
    "[5]: https://github.com/Nemocas/Nemo.jl\n",
    "[6]: https://github.com/kalmarek/GroupRings.jl\n",
    "[7]: https://github.com/kalmarek/Groups.jl\n",
    "[8]: https://github.com/kalmarek/PropertyT.jl"
   ]
  },
  {
   "cell_type": "markdown",
   "metadata": {},
   "source": [
    "# The computation\n",
    "\n",
    "The following notebook uses the precomputed solutions to certify that\n",
    "$$\\operatorname{Adj}_5 + 2\\operatorname{Op}_5 - 0.28\\Delta_5 \\simeq \\Sigma_i \\xi_i^*\\xi_i \\in \\Sigma^2_2 I\\operatorname{SAut}(F_5).$$\n",
    "\n",
    "With small changes (which we will indicate) it can also be used to certify that\n",
    "$$\\operatorname{Adj}_5 + 3\\operatorname{Op}_5 - 1.4 \\Delta_5 \\simeq \\Sigma_i \\xi_i^*\\xi_i \\in \\Sigma^2_2 I\\operatorname{SAut}(F_5),$$\n",
    "and that\n",
    "$$\\operatorname{Adj}_4 + 100 \\mathrm{Op}_4 - 0.1\\Delta_4 +b \\simeq \\Sigma_i \\xi_i^*\\xi_i \\in \\Sigma^2_2 I\\operatorname{SAut}(F_4),$$\n",
    "where $\\simeq \\Sigma_i \\xi_i^*\\xi_i$ means \"admits approximate sum of squares decomposition\" in the language of [arXiv:1812.03456](https://arxiv.org/abs/1812.03456).\n",
    "\n",
    "Specifically, the last result shows that almost all groups $\\operatorname{SAut}(F_n)$ have property (T). While the constants in the result are by no means optimal, is should be achievable fairly quickly (a few hours at most) on a standard laptop computer."
   ]
  },
  {
   "cell_type": "code",
   "execution_count": 28,
   "metadata": {
    "ExecuteTime": {
     "end_time": "2020-10-19T01:51:20.738000+02:00",
     "start_time": "2020-10-18T23:51:20.673Z"
    }
   },
   "outputs": [
    {
     "name": "stderr",
     "output_type": "stream",
     "text": [
      "\u001b[32m\u001b[1m Activating\u001b[22m\u001b[39m environment at `~/ownCloud/PropertyT/1812.03456/Project.toml`\n"
     ]
    },
    {
     "data": {
      "text/plain": [
       "2020-10-19T01:51:20.737"
      ]
     },
     "execution_count": 28,
     "metadata": {},
     "output_type": "execute_result"
    }
   ],
   "source": [
    "using Pkg\n",
    "Pkg.activate(\"..\")\n",
    "using Dates\n",
    "now()"
   ]
  },
  {
   "cell_type": "code",
   "execution_count": 29,
   "metadata": {
    "ExecuteTime": {
     "end_time": "2020-10-19T01:51:21.842000+02:00",
     "start_time": "2020-10-18T23:51:21.820Z"
    },
    "scrolled": true
   },
   "outputs": [],
   "source": [
    "using SparseArrays\n",
    "import LinearAlgebra: norm\n",
    "using AbstractAlgebra\n",
    "\n",
    "using Groups\n",
    "using GroupRings\n",
    "using PropertyT\n",
    "\n",
    "using PropertyT.JLD\n",
    "\n",
    "using PropertyT.IntervalArithmetic\n",
    "IntervalArithmetic.setrounding(Interval, :tight)\n",
    "IntervalArithmetic.setformat(:standard, sigfigs=6);"
   ]
  },
  {
   "cell_type": "markdown",
   "metadata": {
    "ExecuteTime": {
     "end_time": "2018-11-24T12:10:28.877000+01:00",
     "start_time": "2018-11-24T11:10:27.729Z"
    }
   },
   "source": [
    "So far we only made the needed packages available in the notebook. \n",
    "In the next cell we define the directory where the precomputed solutions reside and check that required files are in place."
   ]
  },
  {
   "cell_type": "code",
   "execution_count": 30,
   "metadata": {
    "ExecuteTime": {
     "end_time": "2020-10-19T01:51:23.524000+02:00",
     "start_time": "2020-10-18T23:51:23.498Z"
    }
   },
   "outputs": [],
   "source": [
    "const N = 5\n",
    "const prefix = abspath(joinpath(@__DIR__,  \"..\" , \"SAutF$(N)_r2\")) \n",
    "isdir(prefix) || @error \"You need to place the precomputed solutions downloaded from zenodo in \\n $prefix\"\n",
    "\n",
    "const DELTA_FILE = joinpath(prefix,\"delta.jld\");\n",
    "const SQADJOP_FILE = joinpath(prefix, \"SqAdjOp_coeffs.jld\");\n",
    "const BLOCKDEC_FILE = joinpath(prefix, \"BlockDecomposition.jld\");\n",
    "\n",
    "if !(isfile(DELTA_FILE) && isfile(SQADJOP_FILE) && isfile(BLOCKDEC_FILE))\n",
    "    @error \"The directory structure must be preserved exactly as in the archive downloaded from zenodo:\n",
    "    $prefix \\n\\t $DELTA_FILE \\n\\t $SQADJOP_FILE \\n\\t $ORBITDATA_FILE\n",
    "    must exist! \n",
    "    \"\n",
    "end"
   ]
  },
  {
   "cell_type": "markdown",
   "metadata": {},
   "source": [
    "## Loading the precomputed group ring elements\n",
    "Below we load $\\Delta$, the group Laplacian for $\\operatorname{SAut}(F_5)$, vectors of coefficients defining elements $Sq_5$, $Adj_5$ and $Op_5$ and turn these into data structures `GroupRingElem` which represent group ring elements.\n",
    "\n",
    "Note that the vectors of coefficients only have meaning with respect to the particular basis which was used for computations. The basis is not saved and loaded due to space concerns. It can be re-computed using\n",
    "```julia\n",
    "let basis, sizes = Groups.generate_balls(gens(G), one(G), radius=4)\n",
    "    @assert sizes[2] == size(RG.pm, 1) == size(RG.pm, 2)\n",
    "    RG.basis, RG.basis_dict = basis, GroupRings.reverse_dict(basis)\n",
    "end\n",
    "```"
   ]
  },
  {
   "cell_type": "code",
   "execution_count": 31,
   "metadata": {
    "ExecuteTime": {
     "end_time": "2020-10-19T01:52:10.855000+02:00",
     "start_time": "2020-10-18T23:51:54.592Z"
    },
    "scrolled": true
   },
   "outputs": [],
   "source": [
    "G = SAut(FreeGroup(N))\n",
    "Δ = PropertyT.loadGRElem(DELTA_FILE, G)\n",
    "RG = parent(Δ)\n",
    "block_decomposition = let od = load(BLOCKDEC_FILE, \"BlockDecomposition\")\n",
    "    block_decomposition = PropertyT.decimate(od, false) # sparsification of projection matrices\n",
    "end\n",
    "Sq, Adj, Op = let (sq_c, adj_c, op_c) = load(SQADJOP_FILE, \"Sq\", \"Adj\", \"Op\")\n",
    "    sq = GroupRingElem(sq_c, RG)\n",
    "    adj = GroupRingElem(adj_c, RG)\n",
    "    op = GroupRingElem(op_c, RG)\n",
    "    sq, adj, op\n",
    "end;"
   ]
  },
  {
   "cell_type": "markdown",
   "metadata": {
    "ExecuteTime": {
     "end_time": "2020-10-16T00:09:55.344000+02:00",
     "start_time": "2020-10-15T22:09:54.138Z"
    }
   },
   "source": [
    "## Replicating $\\operatorname{Adj}_5 + 2\\operatorname{Op}_5 - 0.28\\Delta_5 \\in \\Sigma^2_2 ISAut(F_5)$"
   ]
  },
  {
   "cell_type": "markdown",
   "metadata": {},
   "source": [
    "Let us define: $\\lambda = 0.28$ and $k=2$ and check that precomputed solution file is in place:"
   ]
  },
  {
   "cell_type": "code",
   "execution_count": 32,
   "metadata": {
    "ExecuteTime": {
     "end_time": "2020-10-19T01:52:18.416000+02:00",
     "start_time": "2020-10-18T23:52:18.286Z"
    }
   },
   "outputs": [],
   "source": [
    "const λ = 0.28\n",
    "const k = 2.0\n",
    "\n",
    "const fullpath = joinpath(prefix, \"$(λ)_K=$k\")\n",
    "const SOLUTION_FILE = joinpath(fullpath, \"solution.jld\")\n",
    "\n",
    "if !(isdir(fullpath) && isfile(SOLUTION_FILE))\n",
    "    @error \"Couldn't find the precomputed solution: \\n\\t$SOLUTION_FILE\"\n",
    "end"
   ]
  },
  {
   "cell_type": "markdown",
   "metadata": {},
   "source": [
    "Let us finally define the element of interest (we don't show it by default by placing `;` at the end of line):"
   ]
  },
  {
   "cell_type": "code",
   "execution_count": 33,
   "metadata": {
    "ExecuteTime": {
     "end_time": "2020-10-19T01:52:22.177000+02:00",
     "start_time": "2020-10-18T23:52:22.066Z"
    }
   },
   "outputs": [],
   "source": [
    "elt = Adj + k*Op;"
   ]
  },
  {
   "cell_type": "markdown",
   "metadata": {},
   "source": [
    "`Q` loaded below is the matrix whose columns represent the elements $\\xi_i \\in \\mathbb{R}\\operatorname{SAut}(F_5)$ such that\n",
    "$$\n",
    "\\operatorname{Adj}_5 + 2\\operatorname{Op}_5 - 0.28 \\Delta_5 - \\sum_i \\xi_i^* \\xi_i = b,\n",
    "$$\n",
    "where $\\|b\\|_1$ is sufficiently small with respect to $\\lambda$ (i.e. `Q` represents _approximate sum of squares_ in the language of arXiv:1812.03456."
   ]
  },
  {
   "cell_type": "code",
   "execution_count": 34,
   "metadata": {
    "ExecuteTime": {
     "end_time": "2020-10-19T01:52:25.820000+02:00",
     "start_time": "2020-10-18T23:52:25.180Z"
    }
   },
   "outputs": [
    {
     "data": {
      "text/plain": [
       "4641×4641 Array{Float64,2}:\n",
       "  2.97394     -0.244942     -0.244942     …   0.0158546     0.0131983\n",
       " -0.244942     7.72331      -0.311094         0.000721777  -0.000870767\n",
       " -0.244942    -0.311094      7.72331         -0.00516374   -0.000870767\n",
       " -0.244942    -0.311094     -0.311094        -0.00615168   -0.00498408\n",
       " -0.244942    -0.311094     -0.311094         0.000244806  -0.00112261\n",
       " -0.244942    -0.00261813   -0.136533     …   0.000721777  -0.000870767\n",
       " -0.244942    -0.136533     -0.161489        -0.00516374   -0.000870767\n",
       " -0.244942    -0.136533      0.0399135       -0.00615168   -0.00498408\n",
       " -0.244942    -0.136533      0.0399135        0.000244806  -0.00112261\n",
       " -0.244942    -0.136533     -0.00261813      -0.00153537   -0.000870767\n",
       " -0.244942    -0.161489     -0.136533     …  -0.00153537   -0.000870767\n",
       " -0.244942     0.0399135    -0.136533        -0.0101047    -0.00498408\n",
       " -0.244942     0.0399135    -0.136533        -0.00738135   -0.00112261\n",
       "  ⋮                                       ⋱                 ⋮\n",
       " -0.00908539   0.000180144   0.000180144     -0.00166786    0.00254405\n",
       " -0.0125014    0.00849015    0.00849015   …   0.0145302    -0.00324991\n",
       " -0.0125014   -0.00724893   -0.000773475      0.0145302    -0.00324991\n",
       " -0.0125014   -0.000773475  -0.00724893      -0.0802148    -0.00324991\n",
       " -0.00747295   0.00418824    0.00418824      -0.00592716    0.00140911\n",
       " -0.00747295  -0.00159807    0.00234212      -0.00592716    0.00140911\n",
       " -0.00747295   0.00234212   -0.00159807   …   0.0254546     0.00140911\n",
       " -0.0117129   -2.88721e-5   -2.88721e-5      -0.00195886   -0.0401625\n",
       "  0.0158546   -0.00153539   -0.00153539      -0.00165912   -0.00797085\n",
       "  0.0158546   -0.00516377    0.000721783     -0.00165912   -0.00797085\n",
       "  0.0158546    0.000721783  -0.00516377       0.404917     -0.00797085\n",
       "  0.0131982   -0.000870787  -0.000870787  …  -0.00797188    0.13568"
      ]
     },
     "execution_count": 34,
     "metadata": {},
     "output_type": "execute_result"
    }
   ],
   "source": [
    "Q = load(SOLUTION_FILE, \"Q\")"
   ]
  },
  {
   "cell_type": "markdown",
   "metadata": {},
   "source": [
    "Below we compute the residual $b$. As we do it in floating-point arithmetic, the result can't be taken too seriously."
   ]
  },
  {
   "cell_type": "code",
   "execution_count": 35,
   "metadata": {
    "ExecuteTime": {
     "end_time": "2020-10-19T01:52:28.865000+02:00",
     "start_time": "2020-10-18T23:52:28.819Z"
    }
   },
   "outputs": [
    {
     "data": {
      "text/plain": [
       "SOS_residual (generic function with 1 method)"
      ]
     },
     "execution_count": 35,
     "metadata": {},
     "output_type": "execute_result"
    }
   ],
   "source": [
    "function SOS_residual(eoi::GroupRingElem, Q::Matrix)\n",
    "    RG = parent(eoi)\n",
    "    @time sos = PropertyT.compute_SOS(RG, Q);\n",
    "    return eoi - sos\n",
    "end"
   ]
  },
  {
   "cell_type": "code",
   "execution_count": 36,
   "metadata": {
    "ExecuteTime": {
     "end_time": "2020-10-19T01:54:10.134000+02:00",
     "start_time": "2020-10-18T23:52:34.852Z"
    }
   },
   "outputs": [
    {
     "name": "stdout",
     "output_type": "stream",
     "text": [
      " 89.697863 seconds (88.84 k allocations: 258.419 MiB)\n"
     ]
    },
    {
     "name": "stderr",
     "output_type": "stream",
     "text": [
      "┌ Info: In floating point arithmetic the ℓ₁-norm of the residual\n",
      "│   norm(residual, 1) = 0.0005314707126827891\n",
      "└ @ Main In[36]:3\n"
     ]
    }
   ],
   "source": [
    "let EOI = elt - λ*Δ\n",
    "    residual = SOS_residual(EOI, Q)\n",
    "    @info \"In floating point arithmetic the ℓ₁-norm of the residual\" norm(residual, 1);\n",
    "end"
   ]
  },
  {
   "cell_type": "markdown",
   "metadata": {},
   "source": [
    "Therefore we resort to interval arithmetic to provide certified upper and lower bounds on the norm of the residual:\n",
    "* We first change entries of `Q` to narrow intervals\n",
    "* We project columns of `Q` so that $0$ is in the sum of coefficients of each column (i.e. $\\xi_i \\in I \\operatorname{SL}(N,\\mathbb{Z})$)\n",
    "* We compute the sum of squares and the $\\ell_1$-norm of the residual in the interval arithmetic.\n",
    "\n",
    "The returned `check_columns_augmentation` is a boolean flag to detect if the projection was successful, i.e. if we can guarantee that each column of `Q_aug` can be represented by an element from the augmentation ideal. (If it were not successful, one may project `Q = PropertyT.augIdproj(Q)` in the floating point arithmetic prior to the cell below)."
   ]
  },
  {
   "cell_type": "code",
   "execution_count": 37,
   "metadata": {
    "ExecuteTime": {
     "end_time": "2020-10-19T01:55:04.687000+02:00",
     "start_time": "2020-10-18T23:53:18.744Z"
    }
   },
   "outputs": [
    {
     "data": {
      "text/plain": [
       "4641×4641 Array{Interval{Float64},2}:\n",
       "  [2.97394, 2.97395]         …   [0.0131982, 0.0131983]\n",
       " [-0.244943, -0.244942]         [-0.000870768, -0.000870767]\n",
       " [-0.244943, -0.244942]         [-0.000870768, -0.000870767]\n",
       " [-0.244943, -0.244942]         [-0.00498409, -0.00498408]\n",
       " [-0.244943, -0.244942]         [-0.00112262, -0.00112261]\n",
       " [-0.244943, -0.244942]      …  [-0.000870768, -0.000870767]\n",
       " [-0.244943, -0.244942]         [-0.000870768, -0.000870767]\n",
       " [-0.244943, -0.244942]         [-0.00498409, -0.00498408]\n",
       " [-0.244943, -0.244942]         [-0.00112262, -0.00112261]\n",
       " [-0.244943, -0.244942]         [-0.000870768, -0.000870767]\n",
       " [-0.244943, -0.244942]      …  [-0.000870768, -0.000870767]\n",
       " [-0.244943, -0.244942]         [-0.00498409, -0.00498408]\n",
       " [-0.244943, -0.244942]         [-0.00112262, -0.00112261]\n",
       "   ⋮                         ⋱    ⋮\n",
       " [-0.00908546, -0.00908545]      [0.00254405, 0.00254406]\n",
       " [-0.0125015, -0.0125014]    …  [-0.00324992, -0.00324991]\n",
       " [-0.0125015, -0.0125014]       [-0.00324992, -0.00324991]\n",
       " [-0.0125015, -0.0125014]       [-0.00324992, -0.00324991]\n",
       " [-0.00747301, -0.007473]        [0.00140911, 0.00140912]\n",
       " [-0.00747301, -0.007473]        [0.00140911, 0.00140912]\n",
       " [-0.00747301, -0.007473]    …   [0.00140911, 0.00140912]\n",
       " [-0.011713, -0.0117129]        [-0.0401625, -0.0401624]\n",
       "  [0.0158545, 0.0158546]        [-0.00797086, -0.00797085]\n",
       "  [0.0158545, 0.0158546]        [-0.00797086, -0.00797085]\n",
       "  [0.0158545, 0.0158546]        [-0.00797086, -0.00797085]\n",
       "  [0.0131981, 0.0131982]     …   [0.13568, 0.135681]"
      ]
     },
     "execution_count": 37,
     "metadata": {},
     "output_type": "execute_result"
    }
   ],
   "source": [
    "Q_aug, check_columns_augmentation = PropertyT.augIdproj(Interval, Q);\n",
    "@assert check_columns_augmentation\n",
    "Q_aug"
   ]
  },
  {
   "cell_type": "markdown",
   "metadata": {},
   "source": [
    "We now create the element of interest, $\\operatorname{Adj}_5 + 2\\operatorname{Op}_5 - 0.28 \\Delta_5$ with coefficients in real intervals. Note that only $\\lambda$ is turned into a non-exact interval, and except the support of $\\Delta$ (the first `49` elements) all coefficients are honest integers."
   ]
  },
  {
   "cell_type": "code",
   "execution_count": 38,
   "metadata": {
    "ExecuteTime": {
     "end_time": "2020-10-19T01:55:05.573000+02:00",
     "start_time": "2020-10-18T23:53:26.868Z"
    }
   },
   "outputs": [
    {
     "data": {
      "text/plain": [
       "11154301-element SparseVector{Interval{Float64},Int64} with 4161 stored entries:\n",
       "  [1       ]  =  [7657.59, 7657.61]\n",
       "  [2       ]  =  [-191.721, -191.719]\n",
       "  [3       ]  =  [-191.721, -191.719]\n",
       "  [4       ]  =  [-191.721, -191.719]\n",
       "  [5       ]  =  [-191.721, -191.719]\n",
       "  [6       ]  =  [-191.721, -191.719]\n",
       "  [7       ]  =  [-191.721, -191.719]\n",
       "  [8       ]  =  [-191.721, -191.719]\n",
       "  [9       ]  =  [-191.721, -191.719]\n",
       "  [10      ]  =  [-191.721, -191.719]\n",
       "              ⋮\n",
       "  [4628    ]  =  [1, 1]\n",
       "  [4629    ]  =  [1, 1]\n",
       "  [4631    ]  =  [1, 1]\n",
       "  [4632    ]  =  [1, 1]\n",
       "  [4633    ]  =  [1, 1]\n",
       "  [4634    ]  =  [1, 1]\n",
       "  [4635    ]  =  [1, 1]\n",
       "  [4636    ]  =  [1, 1]\n",
       "  [4638    ]  =  [1, 1]\n",
       "  [4639    ]  =  [1, 1]\n",
       "  [4640    ]  =  [1, 1]"
      ]
     },
     "execution_count": 38,
     "metadata": {},
     "output_type": "execute_result"
    }
   ],
   "source": [
    "elt_int = elt - @interval(λ)*Δ;\n",
    "elt_int.coeffs"
   ]
  },
  {
   "cell_type": "markdown",
   "metadata": {},
   "source": [
    "Finally we compute the $\\ell_1$ norm of the residual with interval arithmetic. The result is **guaranteed** to be contained in the resulting interval, i.e. if each entry of `Q` were changed into an honest rational number and all the computations were carried out in rational arithmetic, the rational $\\ell_1$-norm will be contained in the interval $\\ell_1$-norm."
   ]
  },
  {
   "cell_type": "code",
   "execution_count": null,
   "metadata": {
    "ExecuteTime": {
     "start_time": "2020-10-18T23:55:53.656Z"
    }
   },
   "outputs": [],
   "source": [
    "residual_int = SOS_residual(elt_int, Q_aug)\n",
    "@show norm(residual_int, 1);"
   ]
  },
  {
   "cell_type": "markdown",
   "metadata": {},
   "source": [
    "Using Lemma 4.10 of [arXiv:1812.03456](https://arxiv.org/abs/1812.03456) and the fact that none of the generating transvections of $\\operatorname{SAut}(F_N)$ is involutive we obtain"
   ]
  },
  {
   "cell_type": "code",
   "execution_count": null,
   "metadata": {
    "ExecuteTime": {
     "start_time": "2020-10-18T23:56:08.924Z"
    }
   },
   "outputs": [],
   "source": [
    "λ_cert = @interval(λ) - 2*norm(residual_int,1)\n",
    "@info \"λ is certified to be > \" λ_cert.lo\n",
    "@info \"i.e Adj_$N + $k·Op_$N - ($(λ_cert.lo))·Δ_$N ∈ Σ²₂ ISAut(F_$N)\""
   ]
  },
  {
   "cell_type": "markdown",
   "metadata": {},
   "source": [
    "## Replicating $\\operatorname{Adj}_5 + 3\\operatorname{Op}_5 - 1.4\\Delta_5 \\in \\Sigma^2_2 ISAut(F_5)$"
   ]
  },
  {
   "cell_type": "code",
   "execution_count": null,
   "metadata": {
    "ExecuteTime": {
     "start_time": "2020-10-18T23:56:25.025Z"
    }
   },
   "outputs": [],
   "source": [
    "const λ = 1.4\n",
    "const k = 3.0\n",
    "\n",
    "const fullpath = joinpath(prefix, \"$(λ)_K=$k\")\n",
    "const SOLUTION_FILE = joinpath(fullpath, \"solution.jld\")\n",
    "\n",
    "if !(isdir(fullpath) && isfile(SOLUTION_FILE))\n",
    "    @error \"Couldn't find the precomputed solution: \\n\\t$SOLUTION_FILE\"\n",
    "end"
   ]
  },
  {
   "cell_type": "code",
   "execution_count": null,
   "metadata": {
    "ExecuteTime": {
     "start_time": "2020-10-18T23:56:31.312Z"
    }
   },
   "outputs": [],
   "source": [
    "elt = Adj + k*Op;\n",
    "Q = load(SOLUTION_FILE, \"Q\");\n",
    "Q_aug, check_columns_augmentation = PropertyT.augIdproj(Interval, Q);\n",
    "@assert check_columns_augmentation"
   ]
  },
  {
   "cell_type": "code",
   "execution_count": null,
   "metadata": {
    "ExecuteTime": {
     "start_time": "2020-10-18T23:56:42.934Z"
    }
   },
   "outputs": [],
   "source": [
    "elt_int = elt - @interval(λ)*Δ;\n",
    "residual_int = SOS_residual(elt_int, Q_aug)\n",
    "@show norm(residual_int, 1);"
   ]
  },
  {
   "cell_type": "code",
   "execution_count": null,
   "metadata": {
    "ExecuteTime": {
     "start_time": "2020-10-18T23:57:22.525Z"
    }
   },
   "outputs": [],
   "source": [
    "λ_cert = @interval(λ) - 2*norm(residual_int,1)\n",
    "@info \"λ is certified to be > \" λ_cert.lo\n",
    "@info \"i.e Adj_$N + $k·Op_$N - ($(λ_cert.lo))·Δ_$N ∈ Σ²₂ ISAut(F_$N)\""
   ]
  },
  {
   "cell_type": "code",
   "execution_count": null,
   "metadata": {},
   "outputs": [],
   "source": []
  },
  {
   "cell_type": "markdown",
   "metadata": {},
   "source": [
    "## Confirming that $\\operatorname{Adj}_4 + 100.0\\operatorname{Op}_4 - 0.1\\Delta_4$ admits approximate sum of squares decomposition"
   ]
  },
  {
   "cell_type": "code",
   "execution_count": 26,
   "metadata": {
    "ExecuteTime": {
     "end_time": "2020-10-18T11:13:15.267000+02:00",
     "start_time": "2020-10-18T09:13:15.239Z"
    }
   },
   "outputs": [
    {
     "data": {
      "text/latex": [
       "1 0 0 . 0"
      ],
      "text/plain": [
       "100.0"
      ]
     },
     "execution_count": 26,
     "metadata": {},
     "output_type": "execute_result"
    }
   ],
   "source": [
    "const k = 100.0"
   ]
  },
  {
   "cell_type": "markdown",
   "metadata": {},
   "source": [
    "Now we will generate the ball $B_R$ of radius $𝑅=4$ in $\\operatorname{SAut}(F_4)$, and use it as a (partial) basis of a group ring. Such group ring also needs a (partial) multiplication table to square elements supported on radius $2$ (it is called `pm`, which is actually a division table due to `twisted=true` argument). The table is created as follows: when $x$,$y$ reside at positions `i`-th and `j`-th in $B_R$, then `pm[i,j] = k`, where `k` is the position of $x^{-1}y$ in $B_R$.\n",
    "\n",
    "Then we create the Laplace operator $\\Delta$."
   ]
  },
  {
   "cell_type": "code",
   "execution_count": 5,
   "metadata": {
    "ExecuteTime": {
     "end_time": "2020-10-17T17:47:13.464000+02:00",
     "start_time": "2020-10-17T15:45:51.496Z"
    }
   },
   "outputs": [
    {
     "name": "stdout",
     "output_type": "stream",
     "text": [
      "sizes = [49, 1777, 57725, 1777541]\n"
     ]
    },
    {
     "data": {
      "text/plain": [
       "48(id) - 1ϱ₁₂ - 1ϱ₁₃ - 1ϱ₁₄ - 1ϱ₂₁ - 1ϱ₂₃ - 1ϱ₂₄ - 1ϱ₃₁ - 1ϱ₃₂ - 1ϱ₃₄ - 1ϱ₄₁ - 1ϱ₄₂ - 1ϱ₄₃ - 1λ₁₂ - 1λ₁₃ - 1λ₁₄ - 1λ₂₁ - 1λ₂₃ - 1λ₂₄ - 1λ₃₁ - 1λ₃₂ - 1λ₃₄ - 1λ₄₁ - 1λ₄₂ - 1λ₄₃ - 1ϱ₁₂^-1 - 1ϱ₁₃^-1 - 1ϱ₁₄^-1 - 1ϱ₂₁^-1 - 1ϱ₂₃^-1 - 1ϱ₂₄^-1 - 1ϱ₃₁^-1 - 1ϱ₃₂^-1 - 1ϱ₃₄^-1 - 1ϱ₄₁^-1 - 1ϱ₄₂^-1 - 1ϱ₄₃^-1 - 1λ₁₂^-1 - 1λ₁₃^-1 - 1λ₁₄^-1 - 1λ₂₁^-1 - 1λ₂₃^-1 - 1λ₂₄^-1 - 1λ₃₁^-1 - 1λ₃₂^-1 - 1λ₃₄^-1 - 1λ₄₁^-1 - 1λ₄₂^-1 - 1λ₄₃^-1"
      ]
     },
     "execution_count": 5,
     "metadata": {},
     "output_type": "execute_result"
    }
   ],
   "source": [
    "SAutF₄ = SAut(FreeGroup(4))\n",
    "Δ₄ = let G = SAutF₄, halfradius = 2\n",
    "    \n",
    "    S = gens(G)\n",
    "    S = [S; inv.(S)] # generating set must be symmetric\n",
    "    \n",
    "    B_R, sizes = Groups.wlmetric_ball(S, radius=2*halfradius);\n",
    "    B_rdict = GroupRings.reverse_dict(B_R)\n",
    "    pm = GroupRings.create_pm(B_R, B_rdict, sizes[halfradius]; twisted=true);\n",
    "    RG = GroupRing(G, B_R, B_rdict, pm)\n",
    "    @show sizes;\n",
    "    Δ = length(S)*one(RG) - sum(RG(s) for s in S)\n",
    "end"
   ]
  },
  {
   "cell_type": "markdown",
   "metadata": {},
   "source": [
    "In the cell below we compute Wedderburn-Artin decomposition of `pm` with respect to the action of the Weyl group ($S_2 \\wr S_4$) and sparsify it numerically."
   ]
  },
  {
   "cell_type": "code",
   "execution_count": 7,
   "metadata": {
    "ExecuteTime": {
     "end_time": "2020-10-17T17:51:59.738000+02:00",
     "start_time": "2020-10-17T15:47:33.684Z"
    }
   },
   "outputs": [
    {
     "name": "stderr",
     "output_type": "stream",
     "text": [
      "┌ Info: Decomposing basis of RG into orbits of\n",
      "│   autS = Wreath Product of Full symmetric group over 2 elements by Full symmetric group over 4 elements\n",
      "└ @ PropertyT /home/kalmar/.julia/packages/PropertyT/vcGsE/src/blockdecomposition.jl:15\n"
     ]
    },
    {
     "name": "stdout",
     "output_type": "stream",
     "text": [
      "147.005407 seconds (1.11 G allocations: 76.047 GiB, 18.57% gc time)\n"
     ]
    },
    {
     "name": "stderr",
     "output_type": "stream",
     "text": [
      "┌ Info: The action has 6231 orbits\n",
      "└ @ PropertyT /home/kalmar/.julia/packages/PropertyT/vcGsE/src/blockdecomposition.jl:18\n",
      "┌ Info: Finding projections in the Group Ring of\n",
      "│   autS = Wreath Product of Full symmetric group over 2 elements by Full symmetric group over 4 elements\n",
      "└ @ PropertyT /home/kalmar/.julia/packages/PropertyT/vcGsE/src/blockdecomposition.jl:20\n"
     ]
    },
    {
     "name": "stdout",
     "output_type": "stream",
     "text": [
      "  6.697535 seconds (5.94 M allocations: 303.936 MiB)\n"
     ]
    },
    {
     "name": "stderr",
     "output_type": "stream",
     "text": [
      "┌ Info: Finding AutS-action matrix representation\n",
      "└ @ PropertyT /home/kalmar/.julia/packages/PropertyT/vcGsE/src/blockdecomposition.jl:23\n"
     ]
    },
    {
     "name": "stdout",
     "output_type": "stream",
     "text": [
      " 34.888095 seconds (291.28 M allocations: 19.975 GiB, 19.63% gc time)\n",
      "  0.788540 seconds (1.23 M allocations: 125.708 MiB)\n"
     ]
    },
    {
     "name": "stderr",
     "output_type": "stream",
     "text": [
      "┌ Info: Computing the projection matrices Uπs\n",
      "└ @ PropertyT /home/kalmar/.julia/packages/PropertyT/vcGsE/src/blockdecomposition.jl:27\n"
     ]
    },
    {
     "name": "stdout",
     "output_type": "stream",
     "text": [
      " 70.937997 seconds (1.43 M allocations: 8.248 GiB, 0.37% gc time)\n"
     ]
    },
    {
     "name": "stderr",
     "output_type": "stream",
     "text": [
      "┌ Info: \n",
      "│ multiplicities  =   6  27  38  23  18  22  56  34  22  23  27  32   9  17   8   1   1   1   2   1\n",
      "│     dimensions  =   1   3   3   2   1   4   8   4   6   6   6   6   4   8   4   1   3   3   2   1\n",
      "└ @ PropertyT /home/kalmar/.julia/packages/PropertyT/vcGsE/src/blockdecomposition.jl:37\n"
     ]
    }
   ],
   "source": [
    "orbit_data = let od = PropertyT.BlockDecomposition(parent(Δ₄), WreathProduct(SymmetricGroup(2), SymmetricGroup(4)))\n",
    "    PropertyT.decimate(od, false);\n",
    "end;"
   ]
  },
  {
   "cell_type": "code",
   "execution_count": 8,
   "metadata": {
    "ExecuteTime": {
     "end_time": "2020-10-17T17:52:16.241000+02:00",
     "start_time": "2020-10-17T15:48:03.183Z"
    }
   },
   "outputs": [
    {
     "name": "stdout",
     "output_type": "stream",
     "text": [
      " 13.267560 seconds (1.36 M allocations: 71.518 MiB)\n",
      "  2.945513 seconds (190.02 k allocations: 10.538 MiB)\n"
     ]
    },
    {
     "data": {
      "text/plain": [
       "39936(id) - 1664ϱ₁₂ - 1664ϱ₁₃ - 1664ϱ₁₄ - 1664ϱ₂₁ - 1664ϱ₂₃ - 1664ϱ₂₄ - 1664ϱ₃₁ - 1664ϱ₃₂ - 1664ϱ₃₄ - 1664ϱ₄₁ - 1664ϱ₄₂ - 1664ϱ₄₃ - 1664λ₁₂ - 1664λ₁₃ - 1664λ₁₄ - 1664λ₂₁ - 1664λ₂₃ - 1664λ₂₄ - 1664λ₃₁ - 1664λ₃₂ - 1664λ₃₄ - 1664λ₄₁ - 1664λ₄₂ - 1664λ₄₃ - 1664ϱ₁₂^-1 - 1664ϱ₁₃^-1 - 1664ϱ₁₄^-1 - 1664ϱ₂₁^-1 - 1664ϱ₂₃^-1 - 1664ϱ₂₄^-1 - 1664ϱ₃₁^-1 - 1664ϱ₃₂^-1 - 1664ϱ₃₄^-1 - 1664ϱ₄₁^-1 - 1664ϱ₄₂^-1 - 1664ϱ₄₃^-1 - 1664λ₁₂^-1 - 1664λ₁₃^-1 - 1664λ₁₄^-1 - 1664λ₂₁^-1 - 1664λ₂₃^-1 - 1664λ₂₄^-1 - 1664λ₃₁^-1 - 1664λ₃₂^-1 - 1664λ₃₄^-1 - 1664λ₄₁^-1 - 1664λ₄₂^-1 - 1664λ₄₃^-1 + ϱ₁₂*ϱ₁₃ + ϱ₁₂*ϱ₁₄ + ϱ₁₂*ϱ₂₃ + ϱ₁₂*ϱ₂₄ + ϱ₁₂*ϱ₃₁ + 2ϱ₁₂*ϱ₃₂ + 200ϱ₁₂*ϱ₃₄ + ϱ₁₂*ϱ₄₁ + 2ϱ₁₂*ϱ₄₂ + 200ϱ₁₂*ϱ₄₃ + 2ϱ₁₂*λ₁₃ + 2ϱ₁₂*λ₁₄ + ϱ₁₂*λ₂₃ + ϱ₁₂*λ₂₄ + ϱ₁₂*λ₃₁ + 2ϱ₁₂*λ₃₂ + 200ϱ₁₂*λ₃₄ + ϱ₁₂*λ₄₁ + 2ϱ₁₂*λ₄₂ + 200ϱ₁₂*λ₄₃ + ϱ₁₂*ϱ₁₃^-1 + ϱ₁₂*ϱ₁₄^-1 + ϱ₁₂*ϱ₂₃^-1 + ϱ₁₂*ϱ₂₄^-1 + ϱ₁₂*ϱ₃₁^-1 + 2ϱ₁₂*ϱ₃₂^-1 + 200ϱ₁₂*ϱ₃₄^-1 + ϱ₁₂*ϱ₄₁^-1 + 2ϱ₁₂*ϱ₄₂^-1 + 200ϱ₁₂*ϱ₄₃^-1 + 2ϱ₁₂*λ₁₃^-1 + 2ϱ₁₂*λ₁₄^-1 + ϱ₁₂*λ₂₃^-1 + ϱ₁₂*λ₂₄^-1 + ϱ₁₂*λ₃₁^-1 + 2ϱ₁₂*λ₃₂^-1 + 200ϱ₁₂*λ₃₄^-1 + ϱ₁₂*λ₄₁^-1 + 2ϱ₁₂*λ₄₂^-1 + 200ϱ₁₂*λ₄₃^-1 + ϱ₁₃*ϱ₁₂ + ϱ₁₃*ϱ₁₄ + ϱ₁₃*ϱ₂₁ + 2ϱ₁₃*ϱ₂₃ + 200ϱ₁₃*ϱ₂₄ + ϱ₁₃*ϱ₃₂ + ϱ₁₃*ϱ₃₄ + ϱ₁₃*ϱ₄₁ + 200ϱ₁₃*ϱ₄₂ + 2ϱ₁₃*ϱ₄₃ + 2ϱ₁₃*λ₁₂ + 2ϱ₁₃*λ₁₄ + ϱ₁₃*λ₂₁ + 2ϱ₁₃*λ₂₃ + 200ϱ₁₃*λ₂₄ + ϱ₁₃*λ₃₂ + ϱ₁₃*λ₃₄ + ϱ₁₃*λ₄₁ + 200ϱ₁₃*λ₄₂ + 2ϱ₁₃*λ₄₃ + ϱ₁₃*ϱ₁₂^-1 + ϱ₁₃*ϱ₁₄^-1 + ϱ₁₃*ϱ₂₁^-1 + 2ϱ₁₃*ϱ₂₃^-1 + 200ϱ₁₃*ϱ₂₄^-1 + ϱ₁₃*ϱ₃₂^-1 + ϱ₁₃*ϱ₃₄^-1 + ϱ₁₃*ϱ₄₁^-1 + 200ϱ₁₃*ϱ₄₂^-1 + 2ϱ₁₃*ϱ₄₃^-1 + 2ϱ₁₃*λ₁₂^-1 + 2ϱ₁₃*λ₁₄^-1 + ϱ₁₃*λ₂₁^-1 + 2ϱ₁₃*λ₂₃^-1 + 200ϱ₁₃*λ₂₄^-1 + ϱ₁₃*λ₃₂^-1 + ϱ₁₃*λ₃₄^-1 + ϱ₁₃*λ₄₁^-1 + 200ϱ₁₃*λ₄₂^-1 + 2ϱ₁₃*λ₄₃^-1 + ϱ₁₄*ϱ₁₂ + ϱ₁₄*ϱ₁₃ + ϱ₁₄*ϱ₂₁ + 200ϱ₁₄*ϱ₂₃ + 2ϱ₁₄*ϱ₂₄ + ϱ₁₄*ϱ₃₁ + 200ϱ₁₄*ϱ₃₂ + 2ϱ₁₄*ϱ₃₄ + ϱ₁₄*ϱ₄₂ + ϱ₁₄*ϱ₄₃ + 2ϱ₁₄*λ₁₂ + 2ϱ₁₄*λ₁₃ + ϱ₁₄*λ₂₁ + 200ϱ₁₄*λ₂₃ + 2ϱ₁₄*λ₂₄ + ϱ₁₄*λ₃₁ + 200ϱ₁₄*λ₃₂ + 2ϱ₁₄*λ₃₄ + ϱ₁₄*λ₄₂ + ϱ₁₄*λ₄₃ + ϱ₁₄*ϱ₁₂^-1 + ϱ₁₄*ϱ₁₃^-1 + ϱ₁₄*ϱ₂₁^-1 + 200ϱ₁₄*ϱ₂₃^-1 + 2ϱ₁₄*ϱ₂₄^-1 + ϱ₁₄*ϱ₃₁^-1 + 200ϱ₁₄*ϱ₃₂^-1 + 2ϱ₁₄*ϱ₃₄^-1 + ϱ₁₄*ϱ₄₂^-1 + ϱ₁₄*ϱ₄₃^-1 + 2ϱ₁₄*λ₁₂^-1 + 2ϱ₁₄*λ₁₃^-1 + ϱ₁₄*λ₂₁^-1 + 200ϱ₁₄*λ₂₃^-1 + 2ϱ₁₄*λ₂₄^-1 + ϱ₁₄*λ₃₁^-1 + 200ϱ₁₄*λ₃₂^-1 + 2ϱ₁₄*λ₃₄^-1 + ϱ₁₄*λ₄₂^-1 + ϱ₁₄*λ₄₃^-1 + ϱ₂₁*ϱ₁₃ + ϱ₂₁*ϱ₁₄ + ϱ₂₁*ϱ₂₃ + ϱ₂₁*ϱ₂₄ + 2ϱ₂₁*ϱ₃₁ + ϱ₂₁*ϱ₃₂ + 200ϱ₂₁*ϱ₃₄ + 2ϱ₂₁*ϱ₄₁ + ϱ₂₁*ϱ₄₂ + 200ϱ₂₁*ϱ₄₃ + ϱ₂₁*λ₁₃ + ϱ₂₁*λ₁₄ + 2ϱ₂₁*λ₂₃ + 2ϱ₂₁*λ₂₄ + 2ϱ₂₁*λ₃₁ + ϱ₂₁*λ₃₂ + 200ϱ₂₁*λ₃₄ + 2ϱ₂₁*λ₄₁ + ϱ₂₁*λ₄₂ + 200ϱ₂₁*λ₄₃ + ϱ₂₁*ϱ₁₃^-1 + ϱ₂₁*ϱ₁₄^-1 + ϱ₂₁*ϱ₂₃^-1 + ϱ₂₁*ϱ₂₄^-1 + 2ϱ₂₁*ϱ₃₁^-1 + ϱ₂₁*ϱ₃₂^-1 + 200ϱ₂₁*ϱ₃₄^-1 + 2ϱ₂₁*ϱ₄₁^-1 + ϱ₂₁*ϱ₄₂^-1 + 200ϱ₂₁*ϱ₄₃^-1 + ϱ₂₁*λ₁₃^-1 + ϱ₂₁*λ₁₄^-1 + 2ϱ₂₁*λ₂₃^-1 + 2ϱ₂₁*λ₂₄^-1 + 2ϱ₂₁*λ₃₁^-1 + ϱ₂₁*λ₃₂^-1 + 200ϱ₂₁*λ₃₄^-1 + 2ϱ₂₁*λ₄₁^-1 + ϱ₂₁*λ₄₂^-1 + 200ϱ₂₁*λ₄₃^-1 + ϱ₂₃*ϱ₁₂ + ϱ₂₃*ϱ₂₁ + ϱ₂₃*ϱ₂₄ + ϱ₂₃*ϱ₃₁ + ϱ₂₃*ϱ₃₄ + 200ϱ₂₃*ϱ₄₁ + ϱ₂₃*ϱ₄₂ + 2ϱ₂₃*ϱ₄₃ + ϱ₂₃*λ₁₂ + 2ϱ₂₃*λ₁₃ + 200ϱ₂₃*λ₁₄ + 2ϱ₂₃*λ₂₁ + 2ϱ₂₃*λ₂₄ + ϱ₂₃*λ₃₁ + ϱ₂₃*λ₃₄ + 200ϱ₂₃*λ₄₁ + ϱ₂₃*λ₄₂ + 2ϱ₂₃*λ₄₃ + ϱ₂₃*ϱ₁₂^-1 + 2ϱ₂₃*ϱ₁₃^-1 + 200ϱ₂₃*ϱ₁₄^-1 + ϱ₂₃*ϱ₂₁^-1 + ϱ₂₃*ϱ₂₄^-1 + ϱ₂₃*ϱ₃₁^-1 + ϱ₂₃*ϱ₃₄^-1 + 200ϱ₂₃*ϱ₄₁^-1 + ϱ₂₃*ϱ₄₂^-1 + 2ϱ₂₃*ϱ₄₃^-1 + ϱ₂₃*λ₁₂^-1 + 2ϱ₂₃*λ₁₃^-1 + 200ϱ₂₃*λ₁₄^-1 + 2ϱ₂₃*λ₂₁^-1 + 2ϱ₂₃*λ₂₄^-1 + ϱ₂₃*λ₃₁^-1 + ϱ₂₃*λ₃₄^-1 + 200ϱ₂₃*λ₄₁^-1 + ϱ₂₃*λ₄₂^-1 + 2ϱ₂₃*λ₄₃^-1 + ϱ₂₄*ϱ₁₂ + ϱ₂₄*ϱ₂₁ + ϱ₂₄*ϱ₂₃ + 200ϱ₂₄*ϱ₃₁ + ϱ₂₄*ϱ₃₂ + 2ϱ₂₄*ϱ₃₄ + ϱ₂₄*ϱ₄₁ + ϱ₂₄*ϱ₄₃ + ϱ₂₄*λ₁₂ + 200ϱ₂₄*λ₁₃ + 2ϱ₂₄*λ₁₄ + 2ϱ₂₄*λ₂₁ + 2ϱ₂₄*λ₂₃ + 200ϱ₂₄*λ₃₁ + ϱ₂₄*λ₃₂ + 2ϱ₂₄*λ₃₄ + ϱ₂₄*λ₄₁ + ϱ₂₄*λ₄₃ + ϱ₂₄*ϱ₁₂^-1 + 200ϱ₂₄*ϱ₁₃^-1 + 2ϱ₂₄*ϱ₁₄^-1 + ϱ₂₄*ϱ₂₁^-1 + ϱ₂₄*ϱ₂₃^-1 + 200ϱ₂₄*ϱ₃₁^-1 + ϱ₂₄*ϱ₃₂^-1 + 2ϱ₂₄*ϱ₃₄^-1 + ϱ₂₄*ϱ₄₁^-1 + ϱ₂₄*ϱ₄₃^-1 + ϱ₂₄*λ₁₂^-1 + 200ϱ₂₄*λ₁₃^-1 + 2ϱ₂₄*λ₁₄^-1 + 2ϱ₂₄*λ₂₁^-1 + 2ϱ₂₄*λ₂₃^-1 + 200ϱ₂₄*λ₃₁^-1 + ϱ₂₄*λ₃₂^-1 + 2ϱ₂₄*λ₃₄^-1 + ϱ₂₄*λ₄₁^-1 + ϱ₂₄*λ₄₃^-1 + ϱ₃₁*ϱ₁₂ + ϱ₃₁*ϱ₁₄ + ϱ₃₁*ϱ₂₃ + ϱ₃₁*ϱ₃₂ + ϱ₃₁*ϱ₃₄ + 2ϱ₃₁*ϱ₄₁ + 200ϱ₃₁*ϱ₄₂ + ϱ₃₁*ϱ₄₃ + ϱ₃₁*λ₁₂ + ϱ₃₁*λ₁₄ + 2ϱ₃₁*λ₂₁ + ϱ₃₁*λ₂₃ + 200ϱ₃₁*λ₂₄ + 2ϱ₃₁*λ₃₂ + 2ϱ₃₁*λ₃₄ + 2ϱ₃₁*λ₄₁ + 200ϱ₃₁*λ₄₂ + ϱ₃₁*λ₄₃ + ϱ₃₁*ϱ₁₂^-1 + ϱ₃₁*ϱ₁₄^-1 + 2ϱ₃₁*ϱ₂₁^-1 + ϱ₃₁*ϱ₂₃^-1 + 200ϱ₃₁*ϱ₂₄^-1 + ϱ₃₁*ϱ₃₂^-1 + ϱ₃₁*ϱ₃₄^-1 + 2ϱ₃₁*ϱ₄₁^-1 + 200ϱ₃₁*ϱ₄₂^-1 + ϱ₃₁*ϱ₄₃^-1 + ϱ₃₁*λ₁₂^-1 + ϱ₃₁*λ₁₄^-1 + 2ϱ₃₁*λ₂₁^-1 + ϱ₃₁*λ₂₃^-1 + 200ϱ₃₁*λ₂₄^-1 + 2ϱ₃₁*λ₃₂^-1 + 2ϱ₃₁*λ₃₄^-1 + 2ϱ₃₁*λ₄₁^-1 + 200ϱ₃₁*λ₄₂^-1 + ϱ₃₁*λ₄₃^-1 + ϱ₃₂*ϱ₁₃ + ϱ₃₂*ϱ₂₁ + ϱ₃₂*ϱ₂₄ + ϱ₃₂*ϱ₃₁ + ϱ₃₂*ϱ₃₄ + 200ϱ₃₂*ϱ₄₁ + 2ϱ₃₂*ϱ₄₂ + ϱ₃₂*ϱ₄₃ + 2ϱ₃₂*λ₁₂ + ϱ₃₂*λ₁₃ + 200ϱ₃₂*λ₁₄ + ϱ₃₂*λ₂₁ + ϱ₃₂*λ₂₄ + 2ϱ₃₂*λ₃₁ + 2ϱ₃₂*λ₃₄ + 200ϱ₃₂*λ₄₁ + 2ϱ₃₂*λ₄₂ + ϱ₃₂*λ₄₃ + 2ϱ₃₂*ϱ₁₂^-1 + ϱ₃₂*ϱ₁₃^-1 + 200ϱ₃₂*ϱ₁₄^-1 + ϱ₃₂*ϱ₂₁^-1 + ϱ₃₂*ϱ₂₄^-1 + ϱ₃₂*ϱ₃₁^-1 + ϱ₃₂*ϱ₃₄^-1 + 200ϱ₃₂*ϱ₄₁^-1 + 2ϱ₃₂*ϱ₄₂^-1 + ϱ₃₂*ϱ₄₃^-1 + 2ϱ₃₂*λ₁₂^-1 + ϱ₃₂*λ₁₃^-1 + 200ϱ₃₂*λ₁₄^-1 + ϱ₃₂*λ₂₁^-1 + ϱ₃₂*λ₂₄^-1 + 2ϱ₃₂*λ₃₁^-1 + 2ϱ₃₂*λ₃₄^-1 + 200ϱ₃₂*λ₄₁^-1 + 2ϱ₃₂*λ₄₂^-1 + ϱ₃₂*λ₄₃^-1 + ϱ₃₄*ϱ₁₃ + ϱ₃₄*ϱ₂₃ + ϱ₃₄*ϱ₃₁ + ϱ₃₄*ϱ₃₂ + ϱ₃₄*ϱ₄₁ + ϱ₃₄*ϱ₄₂ + 200ϱ₃₄*λ₁₂ + ϱ₃₄*λ₁₃ + 2ϱ₃₄*λ₁₄ + 200ϱ₃₄*λ₂₁ + ϱ₃₄*λ₂₃ + 2ϱ₃₄*λ₂₄ + 2ϱ₃₄*λ₃₁ + 2ϱ₃₄*λ₃₂ + ϱ₃₄*λ₄₁ + ϱ₃₄*λ₄₂ + 200ϱ₃₄*ϱ₁₂^-1 + ϱ₃₄*ϱ₁₃^-1 + 2ϱ₃₄*ϱ₁₄^-1 + 200ϱ₃₄*ϱ₂₁^-1 + ϱ₃₄*ϱ₂₃^-1 + 2ϱ₃₄*ϱ₂₄^-1 + ϱ₃₄*ϱ₃₁^-1 + ϱ₃₄*ϱ₃₂^-1 + ϱ₃₄*ϱ₄₁^-1 + ϱ₃₄*ϱ₄₂^-1 + 200ϱ₃₄*λ₁₂^-1 + ϱ₃₄*λ₁₃^-1 + 2ϱ₃₄*λ₁₄^-1 + 200ϱ₃₄*λ₂₁^-1 + ϱ₃₄*λ₂₃^-1 + 2ϱ₃₄*λ₂₄^-1 + 2ϱ₃₄*λ₃₁^-1 + 2ϱ₃₄*λ₃₂^-1 + ϱ₃₄*λ₄₁^-1 + ϱ₃₄*λ₄₂^-1 + ϱ₄₁*ϱ₁₂ + ϱ₄₁*ϱ₁₃ + ϱ₄₁*ϱ₂₄ + ϱ₄₁*ϱ₃₄ + ϱ₄₁*ϱ₄₂ + ϱ₄₁*ϱ₄₃ + ϱ₄₁*λ₁₂ + ϱ₄₁*λ₁₃ + 2ϱ₄₁*λ₂₁ + 200ϱ₄₁*λ₂₃ + ϱ₄₁*λ₂₄ + 2ϱ₄₁*λ₃₁ + 200ϱ₄₁*λ₃₂ + ϱ₄₁*λ₃₄ + 2ϱ₄₁*λ₄₂ + 2ϱ₄₁*λ₄₃ + ϱ₄₁*ϱ₁₂^-1 + ϱ₄₁*ϱ₁₃^-1 + 2ϱ₄₁*ϱ₂₁^-1 + 200ϱ₄₁*ϱ₂₃^-1 + ϱ₄₁*ϱ₂₄^-1 + 2ϱ₄₁*ϱ₃₁^-1 + 200ϱ₄₁*ϱ₃₂^-1 + ϱ₄₁*ϱ₃₄^-1 + ϱ₄₁*ϱ₄₂^-1 + ϱ₄₁*ϱ₄₃^-1 + ϱ₄₁*λ₁₂^-1 + ϱ₄₁*λ₁₃^-1 + 2ϱ₄₁*λ₂₁^-1 + 200ϱ₄₁*λ₂₃^-1 + ϱ₄₁*λ₂₄^-1 + 2ϱ₄₁*λ₃₁^-1 + 200ϱ₄₁*λ₃₂^-1 + ϱ₄₁*λ₃₄^-1 + 2ϱ₄₁*λ₄₂^-1 + 2ϱ₄₁*λ₄₃^-1 + ϱ₄₂*ϱ₁₄ + ϱ₄₂*ϱ₂₁ + ϱ₄₂*ϱ₂₃ + ϱ₄₂*ϱ₃₄ + ϱ₄₂*ϱ₄₁ + ϱ₄₂*ϱ₄₃ + 2ϱ₄₂*λ₁₂ + 200ϱ₄₂*λ₁₃ + ϱ₄₂*λ₁₄ + ϱ₄₂*λ₂₁ + ϱ₄₂*λ₂₃ + 200ϱ₄₂*λ₃₁ + 2ϱ₄₂*λ₃₂ + ϱ₄₂*λ₃₄ + 2ϱ₄₂*λ₄₁ + 2ϱ₄₂*λ₄₃ + 2ϱ₄₂*ϱ₁₂^-1 + 200ϱ₄₂*ϱ₁₃^-1 + ϱ₄₂*ϱ₁₄^-1 + ϱ₄₂*ϱ₂₁^-1 + ϱ₄₂*ϱ₂₃^-1 + 200ϱ₄₂*ϱ₃₁^-1 + 2ϱ₄₂*ϱ₃₂^-1 + ϱ₄₂*ϱ₃₄^-1 + ϱ₄₂*ϱ₄₁^-1 + ϱ₄₂*ϱ₄₃^-1 + 2ϱ₄₂*λ₁₂^-1 + 200ϱ₄₂*λ₁₃^-1 + ϱ₄₂*λ₁₄^-1 + ϱ₄₂*λ₂₁^-1 + ϱ₄₂*λ₂₃^-1 + 200ϱ₄₂*λ₃₁^-1 + 2ϱ₄₂*λ₃₂^-1 + ϱ₄₂*λ₃₄^-1 + 2ϱ₄₂*λ₄₁^-1 + 2ϱ₄₂*λ₄₃^-1 + ϱ₄₃*ϱ₁₄ + ϱ₄₃*ϱ₂₄ + ϱ₄₃*ϱ₃₁ + ϱ₄₃*ϱ₃₂ + ϱ₄₃*ϱ₄₁ + ϱ₄₃*ϱ₄₂ + 200ϱ₄₃*λ₁₂ + 2ϱ₄₃*λ₁₃ + ϱ₄₃*λ₁₄ + 200ϱ₄₃*λ₂₁ + 2ϱ₄₃*λ₂₃ + ϱ₄₃*λ₂₄ + ϱ₄₃*λ₃₁ + ϱ₄₃*λ₃₂ + 2ϱ₄₃*λ₄₁ + 2ϱ₄₃*λ₄₂ + 200ϱ₄₃*ϱ₁₂^-1 + 2ϱ₄₃*ϱ₁₃^-1 + ϱ₄₃*ϱ₁₄^-1 + 200ϱ₄₃*ϱ₂₁^-1 + 2ϱ₄₃*ϱ₂₃^-1 + ϱ₄₃*ϱ₂₄^-1 + ϱ₄₃*ϱ₃₁^-1 + ϱ₄₃*ϱ₃₂^-1 + ϱ₄₃*ϱ₄₁^-1 + ϱ₄₃*ϱ₄₂^-1 + 200ϱ₄₃*λ₁₂^-1 + 2ϱ₄₃*λ₁₃^-1 + ϱ₄₃*λ₁₄^-1 + 200ϱ₄₃*λ₂₁^-1 + 2ϱ₄₃*λ₂₃^-1 + ϱ₄₃*λ₂₄^-1 + ϱ₄₃*λ₃₁^-1 + ϱ₄₃*λ₃₂^-1 + 2ϱ₄₃*λ₄₁^-1 + 2ϱ₄₃*λ₄₂^-1 + λ₁₂*ϱ₂₃ + λ₁₂*ϱ₂₄ + λ₁₂*ϱ₃₁ + λ₁₂*ϱ₄₁ + λ₁₂*λ₁₃ + λ₁₂*λ₁₄ + λ₁₂*λ₂₃ + λ₁₂*λ₂₄ + λ₁₂*λ₃₁ + 2λ₁₂*λ₃₂ + 200λ₁₂*λ₃₄ + λ₁₂*λ₄₁ + 2λ₁₂*λ₄₂ + 200λ₁₂*λ₄₃ + 2λ₁₂*ϱ₁₃^-1 + 2λ₁₂*ϱ₁₄^-1 + λ₁₂*ϱ₂₃^-1 + λ₁₂*ϱ₂₄^-1 + λ₁₂*ϱ₃₁^-1 + 2λ₁₂*ϱ₃₂^-1 + 200λ₁₂*ϱ₃₄^-1 + λ₁₂*ϱ₄₁^-1 + 2λ₁₂*ϱ₄₂^-1 + 200λ₁₂*ϱ₄₃^-1 + λ₁₂*λ₁₃^-1 + λ₁₂*λ₁₄^-1 + λ₁₂*λ₂₃^-1 + λ₁₂*λ₂₄^-1 + λ₁₂*λ₃₁^-1 + 2λ₁₂*λ₃₂^-1 + 200λ₁₂*λ₃₄^-1 + λ₁₂*λ₄₁^-1 + 2λ₁₂*λ₄₂^-1 + 200λ₁₂*λ₄₃^-1 + λ₁₃*ϱ₂₁ + λ₁₃*ϱ₃₂ + λ₁₃*ϱ₃₄ + λ₁₃*ϱ₄₁ + λ₁₃*λ₁₂ + λ₁₃*λ₁₄ + λ₁₃*λ₂₁ + 2λ₁₃*λ₂₃ + 200λ₁₃*λ₂₄ + λ₁₃*λ₃₂ + λ₁₃*λ₃₄ + λ₁₃*λ₄₁ + 200λ₁₃*λ₄₂ + 2λ₁₃*λ₄₃ + 2λ₁₃*ϱ₁₂^-1 + 2λ₁₃*ϱ₁₄^-1 + λ₁₃*ϱ₂₁^-1 + 2λ₁₃*ϱ₂₃^-1 + 200λ₁₃*ϱ₂₄^-1 + λ₁₃*ϱ₃₂^-1 + λ₁₃*ϱ₃₄^-1 + λ₁₃*ϱ₄₁^-1 + 200λ₁₃*ϱ₄₂^-1 + 2λ₁₃*ϱ₄₃^-1 + λ₁₃*λ₁₂^-1 + λ₁₃*λ₁₄^-1 + λ₁₃*λ₂₁^-1 + 2λ₁₃*λ₂₃^-1 + 200λ₁₃*λ₂₄^-1 + λ₁₃*λ₃₂^-1 + λ₁₃*λ₃₄^-1 + λ₁₃*λ₄₁^-1 + 200λ₁₃*λ₄₂^-1 + 2λ₁₃*λ₄₃^-1 + λ₁₄*ϱ₂₁ + λ₁₄*ϱ₃₁ + λ₁₄*ϱ₄₂ + λ₁₄*ϱ₄₃ + λ₁₄*λ₁₂ + λ₁₄*λ₁₃ + λ₁₄*λ₂₁ + 200λ₁₄*λ₂₃ + 2λ₁₄*λ₂₄ + λ₁₄*λ₃₁ + 200λ₁₄*λ₃₂ + 2λ₁₄*λ₃₄ + λ₁₄*λ₄₂ + λ₁₄*λ₄₃ + 2λ₁₄*ϱ₁₂^-1 + 2λ₁₄*ϱ₁₃^-1 + λ₁₄*ϱ₂₁^-1 + 200λ₁₄*ϱ₂₃^-1 + 2λ₁₄*ϱ₂₄^-1 + λ₁₄*ϱ₃₁^-1 + 200λ₁₄*ϱ₃₂^-1 + 2λ₁₄*ϱ₃₄^-1 + λ₁₄*ϱ₄₂^-1 + λ₁₄*ϱ₄₃^-1 + λ₁₄*λ₁₂^-1 + λ₁₄*λ₁₃^-1 + λ₁₄*λ₂₁^-1 + 200λ₁₄*λ₂₃^-1 + 2λ₁₄*λ₂₄^-1 + λ₁₄*λ₃₁^-1 + 200λ₁₄*λ₃₂^-1 + 2λ₁₄*λ₃₄^-1 + λ₁₄*λ₄₂^-1 + λ₁₄*λ₄₃^-1 + λ₂₁*ϱ₁₃ + λ₂₁*ϱ₁₄ + λ₂₁*ϱ₃₂ + λ₂₁*ϱ₄₂ + λ₂₁*λ₁₃ + λ₂₁*λ₁₄ + λ₂₁*λ₂₃ + λ₂₁*λ₂₄ + 2λ₂₁*λ₃₁ + λ₂₁*λ₃₂ + 200λ₂₁*λ₃₄ + 2λ₂₁*λ₄₁ + λ₂₁*λ₄₂ + 200λ₂₁*λ₄₃ + λ₂₁*ϱ₁₃^-1 + λ₂₁*ϱ₁₄^-1 + 2λ₂₁*ϱ₂₃^-1 + 2λ₂₁*ϱ₂₄^-1 + 2λ₂₁*ϱ₃₁^-1 + λ₂₁*ϱ₃₂^-1 + 200λ₂₁*ϱ₃₄^-1 + 2λ₂₁*ϱ₄₁^-1 + λ₂₁*ϱ₄₂^-1 + 200λ₂₁*ϱ₄₃^-1 + λ₂₁*λ₁₃^-1 + λ₂₁*λ₁₄^-1 + λ₂₁*λ₂₃^-1 + λ₂₁*λ₂₄^-1 + 2λ₂₁*λ₃₁^-1 + λ₂₁*λ₃₂^-1 + 200λ₂₁*λ₃₄^-1 + 2λ₂₁*λ₄₁^-1 + λ₂₁*λ₄₂^-1 + 200λ₂₁*λ₄₃^-1 + λ₂₃*ϱ₁₂ + λ₂₃*ϱ₃₁ + λ₂₃*ϱ₃₄ + λ₂₃*ϱ₄₂ + λ₂₃*λ₁₂ + λ₂₃*λ₂₁ + λ₂₃*λ₂₄ + λ₂₃*λ₃₁ + λ₂₃*λ₃₄ + 200λ₂₃*λ₄₁ + λ₂₃*λ₄₂ + 2λ₂₃*λ₄₃ + λ₂₃*ϱ₁₂^-1 + 2λ₂₃*ϱ₁₃^-1 + 200λ₂₃*ϱ₁₄^-1 + 2λ₂₃*ϱ₂₁^-1 + 2λ₂₃*ϱ₂₄^-1 + λ₂₃*ϱ₃₁^-1 + λ₂₃*ϱ₃₄^-1 + 200λ₂₃*ϱ₄₁^-1 + λ₂₃*ϱ₄₂^-1 + 2λ₂₃*ϱ₄₃^-1 + λ₂₃*λ₁₂^-1 + 2λ₂₃*λ₁₃^-1 + 200λ₂₃*λ₁₄^-1 + λ₂₃*λ₂₁^-1 + λ₂₃*λ₂₄^-1 + λ₂₃*λ₃₁^-1 + λ₂₃*λ₃₄^-1 + 200λ₂₃*λ₄₁^-1 + λ₂₃*λ₄₂^-1 + 2λ₂₃*λ₄₃^-1 + λ₂₄*ϱ₁₂ + λ₂₄*ϱ₃₂ + λ₂₄*ϱ₄₁ + λ₂₄*ϱ₄₃ + λ₂₄*λ₁₂ + λ₂₄*λ₂₁ + λ₂₄*λ₂₃ + 200λ₂₄*λ₃₁ + λ₂₄*λ₃₂ + 2λ₂₄*λ₃₄ + λ₂₄*λ₄₁ + λ₂₄*λ₄₃ + λ₂₄*ϱ₁₂^-1 + 200λ₂₄*ϱ₁₃^-1 + 2λ₂₄*ϱ₁₄^-1 + 2λ₂₄*ϱ₂₁^-1 + 2λ₂₄*ϱ₂₃^-1 + 200λ₂₄*ϱ₃₁^-1 + λ₂₄*ϱ₃₂^-1 + 2λ₂₄*ϱ₃₄^-1 + λ₂₄*ϱ₄₁^-1 + λ₂₄*ϱ₄₃^-1 + λ₂₄*λ₁₂^-1 + 200λ₂₄*λ₁₃^-1 + 2λ₂₄*λ₁₄^-1 + λ₂₄*λ₂₁^-1 + λ₂₄*λ₂₃^-1 + 200λ₂₄*λ₃₁^-1 + λ₂₄*λ₃₂^-1 + 2λ₂₄*λ₃₄^-1 + λ₂₄*λ₄₁^-1 + λ₂₄*λ₄₃^-1 + λ₃₁*ϱ₁₂ + λ₃₁*ϱ₁₄ + λ₃₁*ϱ₂₃ + λ₃₁*ϱ₄₃ + λ₃₁*λ₁₂ + λ₃₁*λ₁₄ + λ₃₁*λ₂₃ + λ₃₁*λ₃₂ + λ₃₁*λ₃₄ + 2λ₃₁*λ₄₁ + 200λ₃₁*λ₄₂ + λ₃₁*λ₄₃ + λ₃₁*ϱ₁₂^-1 + λ₃₁*ϱ₁₄^-1 + 2λ₃₁*ϱ₂₁^-1 + λ₃₁*ϱ₂₃^-1 + 200λ₃₁*ϱ₂₄^-1 + 2λ₃₁*ϱ₃₂^-1 + 2λ₃₁*ϱ₃₄^-1 + 2λ₃₁*ϱ₄₁^-1 + 200λ₃₁*ϱ₄₂^-1 + λ₃₁*ϱ₄₃^-1 + λ₃₁*λ₁₂^-1 + λ₃₁*λ₁₄^-1 + 2λ₃₁*λ₂₁^-1 + λ₃₁*λ₂₃^-1 + 200λ₃₁*λ₂₄^-1 + λ₃₁*λ₃₂^-1 + λ₃₁*λ₃₄^-1 + 2λ₃₁*λ₄₁^-1 + 200λ₃₁*λ₄₂^-1 + λ₃₁*λ₄₃^-1 + λ₃₂*ϱ₁₃ + λ₃₂*ϱ₂₁ + λ₃₂*ϱ₂₄ + λ₃₂*ϱ₄₃ + λ₃₂*λ₁₃ + λ₃₂*λ₂₁ + λ₃₂*λ₂₄ + λ₃₂*λ₃₁ + λ₃₂*λ₃₄ + 200λ₃₂*λ₄₁ + 2λ₃₂*λ₄₂ + λ₃₂*λ₄₃ + 2λ₃₂*ϱ₁₂^-1 + λ₃₂*ϱ₁₃^-1 + 200λ₃₂*ϱ₁₄^-1 + λ₃₂*ϱ₂₁^-1 + λ₃₂*ϱ₂₄^-1 + 2λ₃₂*ϱ₃₁^-1 + 2λ₃₂*ϱ₃₄^-1 + 200λ₃₂*ϱ₄₁^-1 + 2λ₃₂*ϱ₄₂^-1 + λ₃₂*ϱ₄₃^-1 + 2λ₃₂*λ₁₂^-1 + λ₃₂*λ₁₃^-1 + 200λ₃₂*λ₁₄^-1 + λ₃₂*λ₂₁^-1 + λ₃₂*λ₂₄^-1 + λ₃₂*λ₃₁^-1 + λ₃₂*λ₃₄^-1 + 200λ₃₂*λ₄₁^-1 + 2λ₃₂*λ₄₂^-1 + λ₃₂*λ₄₃^-1 + λ₃₄*ϱ₁₃ + λ₃₄*ϱ₂₃ + λ₃₄*ϱ₄₁ + λ₃₄*ϱ₄₂ + λ₃₄*λ₁₃ + λ₃₄*λ₂₃ + λ₃₄*λ₃₁ + λ₃₄*λ₃₂ + λ₃₄*λ₄₁ + λ₃₄*λ₄₂ + 200λ₃₄*ϱ₁₂^-1 + λ₃₄*ϱ₁₃^-1 + 2λ₃₄*ϱ₁₄^-1 + 200λ₃₄*ϱ₂₁^-1 + λ₃₄*ϱ₂₃^-1 + 2λ₃₄*ϱ₂₄^-1 + 2λ₃₄*ϱ₃₁^-1 + 2λ₃₄*ϱ₃₂^-1 + λ₃₄*ϱ₄₁^-1 + λ₃₄*ϱ₄₂^-1 + 200λ₃₄*λ₁₂^-1 + λ₃₄*λ₁₃^-1 + 2λ₃₄*λ₁₄^-1 + 200λ₃₄*λ₂₁^-1 + λ₃₄*λ₂₃^-1 + 2λ₃₄*λ₂₄^-1 + λ₃₄*λ₃₁^-1 + λ₃₄*λ₃₂^-1 + λ₃₄*λ₄₁^-1 + λ₃₄*λ₄₂^-1 + λ₄₁*ϱ₁₂ + λ₄₁*ϱ₁₃ + λ₄₁*ϱ₂₄ + λ₄₁*ϱ₃₄ + λ₄₁*λ₁₂ + λ₄₁*λ₁₃ + λ₄₁*λ₂₄ + λ₄₁*λ₃₄ + λ₄₁*λ₄₂ + λ₄₁*λ₄₃ + λ₄₁*ϱ₁₂^-1 + λ₄₁*ϱ₁₃^-1 + 2λ₄₁*ϱ₂₁^-1 + 200λ₄₁*ϱ₂₃^-1 + λ₄₁*ϱ₂₄^-1 + 2λ₄₁*ϱ₃₁^-1 + 200λ₄₁*ϱ₃₂^-1 + λ₄₁*ϱ₃₄^-1 + 2λ₄₁*ϱ₄₂^-1 + 2λ₄₁*ϱ₄₃^-1 + λ₄₁*λ₁₂^-1 + λ₄₁*λ₁₃^-1 + 2λ₄₁*λ₂₁^-1 + 200λ₄₁*λ₂₃^-1 + λ₄₁*λ₂₄^-1 + 2λ₄₁*λ₃₁^-1 + 200λ₄₁*λ₃₂^-1 + λ₄₁*λ₃₄^-1 + λ₄₁*λ₄₂^-1 + λ₄₁*λ₄₃^-1 + λ₄₂*ϱ₁₄ + λ₄₂*ϱ₂₁ + λ₄₂*ϱ₂₃ + λ₄₂*ϱ₃₄ + λ₄₂*λ₁₄ + λ₄₂*λ₂₁ + λ₄₂*λ₂₃ + λ₄₂*λ₃₄ + λ₄₂*λ₄₁ + λ₄₂*λ₄₃ + 2λ₄₂*ϱ₁₂^-1 + 200λ₄₂*ϱ₁₃^-1 + λ₄₂*ϱ₁₄^-1 + λ₄₂*ϱ₂₁^-1 + λ₄₂*ϱ₂₃^-1 + 200λ₄₂*ϱ₃₁^-1 + 2λ₄₂*ϱ₃₂^-1 + λ₄₂*ϱ₃₄^-1 + 2λ₄₂*ϱ₄₁^-1 + 2λ₄₂*ϱ₄₃^-1 + 2λ₄₂*λ₁₂^-1 + 200λ₄₂*λ₁₃^-1 + λ₄₂*λ₁₄^-1 + λ₄₂*λ₂₁^-1 + λ₄₂*λ₂₃^-1 + 200λ₄₂*λ₃₁^-1 + 2λ₄₂*λ₃₂^-1 + λ₄₂*λ₃₄^-1 + λ₄₂*λ₄₁^-1 + λ₄₂*λ₄₃^-1 + λ₄₃*ϱ₁₄ + λ₄₃*ϱ₂₄ + λ₄₃*ϱ₃₁ + λ₄₃*ϱ₃₂ + λ₄₃*λ₁₄ + λ₄₃*λ₂₄ + λ₄₃*λ₃₁ + λ₄₃*λ₃₂ + λ₄₃*λ₄₁ + λ₄₃*λ₄₂ + 200λ₄₃*ϱ₁₂^-1 + 2λ₄₃*ϱ₁₃^-1 + λ₄₃*ϱ₁₄^-1 + 200λ₄₃*ϱ₂₁^-1 + 2λ₄₃*ϱ₂₃^-1 + λ₄₃*ϱ₂₄^-1 + λ₄₃*ϱ₃₁^-1 + λ₄₃*ϱ₃₂^-1 + 2λ₄₃*ϱ₄₁^-1 + 2λ₄₃*ϱ₄₂^-1 + 200λ₄₃*λ₁₂^-1 + 2λ₄₃*λ₁₃^-1 + λ₄₃*λ₁₄^-1 + 200λ₄₃*λ₂₁^-1 + 2λ₄₃*λ₂₃^-1 + λ₄₃*λ₂₄^-1 + λ₄₃*λ₃₁^-1 + λ₄₃*λ₃₂^-1 + λ₄₃*λ₄₁^-1 + λ₄₃*λ₄₂^-1 + ϱ₁₂^-1*ϱ₁₃ + ϱ₁₂^-1*ϱ₁₄ + ϱ₁₂^-1*ϱ₂₃ + ϱ₁₂^-1*ϱ₂₄ + ϱ₁₂^-1*ϱ₃₁ + ϱ₁₂^-1*ϱ₄₁ + ϱ₁₂^-1*λ₂₃ + ϱ₁₂^-1*λ₂₄ + ϱ₁₂^-1*λ₃₁ + ϱ₁₂^-1*λ₄₁ + ϱ₁₂^-1*ϱ₁₃^-1 + ϱ₁₂^-1*ϱ₁₄^-1 + ϱ₁₂^-1*ϱ₂₃^-1 + ϱ₁₂^-1*ϱ₂₄^-1 + ϱ₁₂^-1*ϱ₃₁^-1 + 2ϱ₁₂^-1*ϱ₃₂^-1 + 200ϱ₁₂^-1*ϱ₃₄^-1 + ϱ₁₂^-1*ϱ₄₁^-1 + 2ϱ₁₂^-1*ϱ₄₂^-1 + 200ϱ₁₂^-1*ϱ₄₃^-1 + 2ϱ₁₂^-1*λ₁₃^-1 + 2ϱ₁₂^-1*λ₁₄^-1 + ϱ₁₂^-1*λ₂₃^-1 + ϱ₁₂^-1*λ₂₄^-1 + ϱ₁₂^-1*λ₃₁^-1 + 2ϱ₁₂^-1*λ₃₂^-1 + 200ϱ₁₂^-1*λ₃₄^-1 + ϱ₁₂^-1*λ₄₁^-1 + 2ϱ₁₂^-1*λ₄₂^-1 + 200ϱ₁₂^-1*λ₄₃^-1 + ϱ₁₃^-1*ϱ₁₂ + ϱ₁₃^-1*ϱ₁₄ + ϱ₁₃^-1*ϱ₂₁ + ϱ₁₃^-1*ϱ₃₂ + ϱ₁₃^-1*ϱ₃₄ + ϱ₁₃^-1*ϱ₄₁ + ϱ₁₃^-1*λ₂₁ + ϱ₁₃^-1*λ₃₂ + ϱ₁₃^-1*λ₃₄ + ϱ₁₃^-1*λ₄₁ + ϱ₁₃^-1*ϱ₁₂^-1 + ϱ₁₃^-1*ϱ₁₄^-1 + ϱ₁₃^-1*ϱ₂₁^-1 + 2ϱ₁₃^-1*ϱ₂₃^-1 + 200ϱ₁₃^-1*ϱ₂₄^-1 + ϱ₁₃^-1*ϱ₃₂^-1 + ϱ₁₃^-1*ϱ₃₄^-1 + ϱ₁₃^-1*ϱ₄₁^-1 + 200ϱ₁₃^-1*ϱ₄₂^-1 + 2ϱ₁₃^-1*ϱ₄₃^-1 + 2ϱ₁₃^-1*λ₁₂^-1 + 2ϱ₁₃^-1*λ₁₄^-1 + ϱ₁₃^-1*λ₂₁^-1 + 2ϱ₁₃^-1*λ₂₃^-1 + 200ϱ₁₃^-1*λ₂₄^-1 + ϱ₁₃^-1*λ₃₂^-1 + ϱ₁₃^-1*λ₃₄^-1 + ϱ₁₃^-1*λ₄₁^-1 + 200ϱ₁₃^-1*λ₄₂^-1 + 2ϱ₁₃^-1*λ₄₃^-1 + ϱ₁₄^-1*ϱ₁₂ + ϱ₁₄^-1*ϱ₁₃ + ϱ₁₄^-1*ϱ₂₁ + ϱ₁₄^-1*ϱ₃₁ + ϱ₁₄^-1*ϱ₄₂ + ϱ₁₄^-1*ϱ₄₃ + ϱ₁₄^-1*λ₂₁ + ϱ₁₄^-1*λ₃₁ + ϱ₁₄^-1*λ₄₂ + ϱ₁₄^-1*λ₄₃ + ϱ₁₄^-1*ϱ₁₂^-1 + ϱ₁₄^-1*ϱ₁₃^-1 + ϱ₁₄^-1*ϱ₂₁^-1 + 200ϱ₁₄^-1*ϱ₂₃^-1 + 2ϱ₁₄^-1*ϱ₂₄^-1 + ϱ₁₄^-1*ϱ₃₁^-1 + 200ϱ₁₄^-1*ϱ₃₂^-1 + 2ϱ₁₄^-1*ϱ₃₄^-1 + ϱ₁₄^-1*ϱ₄₂^-1 + ϱ₁₄^-1*ϱ₄₃^-1 + 2ϱ₁₄^-1*λ₁₂^-1 + 2ϱ₁₄^-1*λ₁₃^-1 + ϱ₁₄^-1*λ₂₁^-1 + 200ϱ₁₄^-1*λ₂₃^-1 + 2ϱ₁₄^-1*λ₂₄^-1 + ϱ₁₄^-1*λ₃₁^-1 + 200ϱ₁₄^-1*λ₃₂^-1 + 2ϱ₁₄^-1*λ₃₄^-1 + ϱ₁₄^-1*λ₄₂^-1 + ϱ₁₄^-1*λ₄₃^-1 + ϱ₂₁^-1*ϱ₁₃ + ϱ₂₁^-1*ϱ₁₄ + ϱ₂₁^-1*ϱ₂₃ + ϱ₂₁^-1*ϱ₂₄ + ϱ₂₁^-1*ϱ₃₂ + ϱ₂₁^-1*ϱ₄₂ + ϱ₂₁^-1*λ₁₃ + ϱ₂₁^-1*λ₁₄ + ϱ₂₁^-1*λ₃₂ + ϱ₂₁^-1*λ₄₂ + ϱ₂₁^-1*ϱ₁₃^-1 + ϱ₂₁^-1*ϱ₁₄^-1 + ϱ₂₁^-1*ϱ₂₃^-1 + ϱ₂₁^-1*ϱ₂₄^-1 + 2ϱ₂₁^-1*ϱ₃₁^-1 + ϱ₂₁^-1*ϱ₃₂^-1 + 200ϱ₂₁^-1*ϱ₃₄^-1 + 2ϱ₂₁^-1*ϱ₄₁^-1 + ϱ₂₁^-1*ϱ₄₂^-1 + 200ϱ₂₁^-1*ϱ₄₃^-1 + ϱ₂₁^-1*λ₁₃^-1 + ϱ₂₁^-1*λ₁₄^-1 + 2ϱ₂₁^-1*λ₂₃^-1 + 2ϱ₂₁^-1*λ₂₄^-1 + 2ϱ₂₁^-1*λ₃₁^-1 + ϱ₂₁^-1*λ₃₂^-1 + 200ϱ₂₁^-1*λ₃₄^-1 + 2ϱ₂₁^-1*λ₄₁^-1 + ϱ₂₁^-1*λ₄₂^-1 + 200ϱ₂₁^-1*λ₄₃^-1 + ϱ₂₃^-1*ϱ₁₂ + ϱ₂₃^-1*ϱ₂₁ + ϱ₂₃^-1*ϱ₂₄ + ϱ₂₃^-1*ϱ₃₁ + ϱ₂₃^-1*ϱ₃₄ + ϱ₂₃^-1*ϱ₄₂ + ϱ₂₃^-1*λ₁₂ + ϱ₂₃^-1*λ₃₁ + ϱ₂₃^-1*λ₃₄ + ϱ₂₃^-1*λ₄₂ + ϱ₂₃^-1*ϱ₁₂^-1 + ϱ₂₃^-1*ϱ₂₁^-1 + ϱ₂₃^-1*ϱ₂₄^-1 + ϱ₂₃^-1*ϱ₃₁^-1 + ϱ₂₃^-1*ϱ₃₄^-1 + 200ϱ₂₃^-1*ϱ₄₁^-1 + ϱ₂₃^-1*ϱ₄₂^-1 + 2ϱ₂₃^-1*ϱ₄₃^-1 + ϱ₂₃^-1*λ₁₂^-1 + 2ϱ₂₃^-1*λ₁₃^-1 + 200ϱ₂₃^-1*λ₁₄^-1 + 2ϱ₂₃^-1*λ₂₁^-1 + 2ϱ₂₃^-1*λ₂₄^-1 + ϱ₂₃^-1*λ₃₁^-1 + ϱ₂₃^-1*λ₃₄^-1 + 200ϱ₂₃^-1*λ₄₁^-1 + ϱ₂₃^-1*λ₄₂^-1 + 2ϱ₂₃^-1*λ₄₃^-1 + ϱ₂₄^-1*ϱ₁₂ + ϱ₂₄^-1*ϱ₂₁ + ϱ₂₄^-1*ϱ₂₃ + ϱ₂₄^-1*ϱ₃₂ + ϱ₂₄^-1*ϱ₄₁ + ϱ₂₄^-1*ϱ₄₃ + ϱ₂₄^-1*λ₁₂ + ϱ₂₄^-1*λ₃₂ + ϱ₂₄^-1*λ₄₁ + ϱ₂₄^-1*λ₄₃ + ϱ₂₄^-1*ϱ₁₂^-1 + ϱ₂₄^-1*ϱ₂₁^-1 + ϱ₂₄^-1*ϱ₂₃^-1 + 200ϱ₂₄^-1*ϱ₃₁^-1 + ϱ₂₄^-1*ϱ₃₂^-1 + 2ϱ₂₄^-1*ϱ₃₄^-1 + ϱ₂₄^-1*ϱ₄₁^-1 + ϱ₂₄^-1*ϱ₄₃^-1 + ϱ₂₄^-1*λ₁₂^-1 + 200ϱ₂₄^-1*λ₁₃^-1 + 2ϱ₂₄^-1*λ₁₄^-1 + 2ϱ₂₄^-1*λ₂₁^-1 + 2ϱ₂₄^-1*λ₂₃^-1 + 200ϱ₂₄^-1*λ₃₁^-1 + ϱ₂₄^-1*λ₃₂^-1 + 2ϱ₂₄^-1*λ₃₄^-1 + ϱ₂₄^-1*λ₄₁^-1 + ϱ₂₄^-1*λ₄₃^-1 + ϱ₃₁^-1*ϱ₁₂ + ϱ₃₁^-1*ϱ₁₄ + ϱ₃₁^-1*ϱ₂₃ + ϱ₃₁^-1*ϱ₃₂ + ϱ₃₁^-1*ϱ₃₄ + ϱ₃₁^-1*ϱ₄₃ + ϱ₃₁^-1*λ₁₂ + ϱ₃₁^-1*λ₁₄ + ϱ₃₁^-1*λ₂₃ + ϱ₃₁^-1*λ₄₃ + ϱ₃₁^-1*ϱ₁₂^-1 + ϱ₃₁^-1*ϱ₁₄^-1 + ϱ₃₁^-1*ϱ₂₃^-1 + ϱ₃₁^-1*ϱ₃₂^-1 + ϱ₃₁^-1*ϱ₃₄^-1 + 2ϱ₃₁^-1*ϱ₄₁^-1 + 200ϱ₃₁^-1*ϱ₄₂^-1 + ϱ₃₁^-1*ϱ₄₃^-1 + ϱ₃₁^-1*λ₁₂^-1 + ϱ₃₁^-1*λ₁₄^-1 + 2ϱ₃₁^-1*λ₂₁^-1 + ϱ₃₁^-1*λ₂₃^-1 + 200ϱ₃₁^-1*λ₂₄^-1 + 2ϱ₃₁^-1*λ₃₂^-1 + 2ϱ₃₁^-1*λ₃₄^-1 + 2ϱ₃₁^-1*λ₄₁^-1 + 200ϱ₃₁^-1*λ₄₂^-1 + ϱ₃₁^-1*λ₄₃^-1 + ϱ₃₂^-1*ϱ₁₃ + ϱ₃₂^-1*ϱ₂₁ + ϱ₃₂^-1*ϱ₂₄ + ϱ₃₂^-1*ϱ₃₁ + ϱ₃₂^-1*ϱ₃₄ + ϱ₃₂^-1*ϱ₄₃ + ϱ₃₂^-1*λ₁₃ + ϱ₃₂^-1*λ₂₁ + ϱ₃₂^-1*λ₂₄ + ϱ₃₂^-1*λ₄₃ + ϱ₃₂^-1*ϱ₁₃^-1 + ϱ₃₂^-1*ϱ₂₁^-1 + ϱ₃₂^-1*ϱ₂₄^-1 + ϱ₃₂^-1*ϱ₃₁^-1 + ϱ₃₂^-1*ϱ₃₄^-1 + 200ϱ₃₂^-1*ϱ₄₁^-1 + 2ϱ₃₂^-1*ϱ₄₂^-1 + ϱ₃₂^-1*ϱ₄₃^-1 + 2ϱ₃₂^-1*λ₁₂^-1 + ϱ₃₂^-1*λ₁₃^-1 + 200ϱ₃₂^-1*λ₁₄^-1 + ϱ₃₂^-1*λ₂₁^-1 + ϱ₃₂^-1*λ₂₄^-1 + 2ϱ₃₂^-1*λ₃₁^-1 + 2ϱ₃₂^-1*λ₃₄^-1 + 200ϱ₃₂^-1*λ₄₁^-1 + 2ϱ₃₂^-1*λ₄₂^-1 + ϱ₃₂^-1*λ₄₃^-1 + ϱ₃₄^-1*ϱ₁₃ + ϱ₃₄^-1*ϱ₂₃ + ϱ₃₄^-1*ϱ₃₁ + ϱ₃₄^-1*ϱ₃₂ + ϱ₃₄^-1*ϱ₄₁ + ϱ₃₄^-1*ϱ₄₂ + ϱ₃₄^-1*λ₁₃ + ϱ₃₄^-1*λ₂₃ + ϱ₃₄^-1*λ₄₁ + ϱ₃₄^-1*λ₄₂ + ϱ₃₄^-1*ϱ₁₃^-1 + ϱ₃₄^-1*ϱ₂₃^-1 + ϱ₃₄^-1*ϱ₃₁^-1 + ϱ₃₄^-1*ϱ₃₂^-1 + ϱ₃₄^-1*ϱ₄₁^-1 + ϱ₃₄^-1*ϱ₄₂^-1 + 200ϱ₃₄^-1*λ₁₂^-1 + ϱ₃₄^-1*λ₁₃^-1 + 2ϱ₃₄^-1*λ₁₄^-1 + 200ϱ₃₄^-1*λ₂₁^-1 + ϱ₃₄^-1*λ₂₃^-1 + 2ϱ₃₄^-1*λ₂₄^-1 + 2ϱ₃₄^-1*λ₃₁^-1 + 2ϱ₃₄^-1*λ₃₂^-1 + ϱ₃₄^-1*λ₄₁^-1 + ϱ₃₄^-1*λ₄₂^-1 + ϱ₄₁^-1*ϱ₁₂ + ϱ₄₁^-1*ϱ₁₃ + ϱ₄₁^-1*ϱ₂₄ + ϱ₄₁^-1*ϱ₃₄ + ϱ₄₁^-1*ϱ₄₂ + ϱ₄₁^-1*ϱ₄₃ + ϱ₄₁^-1*λ₁₂ + ϱ₄₁^-1*λ₁₃ + ϱ₄₁^-1*λ₂₄ + ϱ₄₁^-1*λ₃₄ + ϱ₄₁^-1*ϱ₁₂^-1 + ϱ₄₁^-1*ϱ₁₃^-1 + ϱ₄₁^-1*ϱ₂₄^-1 + ϱ₄₁^-1*ϱ₃₄^-1 + ϱ₄₁^-1*ϱ₄₂^-1 + ϱ₄₁^-1*ϱ₄₃^-1 + ϱ₄₁^-1*λ₁₂^-1 + ϱ₄₁^-1*λ₁₃^-1 + 2ϱ₄₁^-1*λ₂₁^-1 + 200ϱ₄₁^-1*λ₂₃^-1 + ϱ₄₁^-1*λ₂₄^-1 + 2ϱ₄₁^-1*λ₃₁^-1 + 200ϱ₄₁^-1*λ₃₂^-1 + ϱ₄₁^-1*λ₃₄^-1 + 2ϱ₄₁^-1*λ₄₂^-1 + 2ϱ₄₁^-1*λ₄₃^-1 + ϱ₄₂^-1*ϱ₁₄ + ϱ₄₂^-1*ϱ₂₁ + ϱ₄₂^-1*ϱ₂₃ + ϱ₄₂^-1*ϱ₃₄ + ϱ₄₂^-1*ϱ₄₁ + ϱ₄₂^-1*ϱ₄₃ + ϱ₄₂^-1*λ₁₄ + ϱ₄₂^-1*λ₂₁ + ϱ₄₂^-1*λ₂₃ + ϱ₄₂^-1*λ₃₄ + ϱ₄₂^-1*ϱ₁₄^-1 + ϱ₄₂^-1*ϱ₂₁^-1 + ϱ₄₂^-1*ϱ₂₃^-1 + ϱ₄₂^-1*ϱ₃₄^-1 + ϱ₄₂^-1*ϱ₄₁^-1 + ϱ₄₂^-1*ϱ₄₃^-1 + 2ϱ₄₂^-1*λ₁₂^-1 + 200ϱ₄₂^-1*λ₁₃^-1 + ϱ₄₂^-1*λ₁₄^-1 + ϱ₄₂^-1*λ₂₁^-1 + ϱ₄₂^-1*λ₂₃^-1 + 200ϱ₄₂^-1*λ₃₁^-1 + 2ϱ₄₂^-1*λ₃₂^-1 + ϱ₄₂^-1*λ₃₄^-1 + 2ϱ₄₂^-1*λ₄₁^-1 + 2ϱ₄₂^-1*λ₄₃^-1 + ϱ₄₃^-1*ϱ₁₄ + ϱ₄₃^-1*ϱ₂₄ + ϱ₄₃^-1*ϱ₃₁ + ϱ₄₃^-1*ϱ₃₂ + ϱ₄₃^-1*ϱ₄₁ + ϱ₄₃^-1*ϱ₄₂ + ϱ₄₃^-1*λ₁₄ + ϱ₄₃^-1*λ₂₄ + ϱ₄₃^-1*λ₃₁ + ϱ₄₃^-1*λ₃₂ + ϱ₄₃^-1*ϱ₁₄^-1 + ϱ₄₃^-1*ϱ₂₄^-1 + ϱ₄₃^-1*ϱ₃₁^-1 + ϱ₄₃^-1*ϱ₃₂^-1 + ϱ₄₃^-1*ϱ₄₁^-1 + ϱ₄₃^-1*ϱ₄₂^-1 + 200ϱ₄₃^-1*λ₁₂^-1 + 2ϱ₄₃^-1*λ₁₃^-1 + ϱ₄₃^-1*λ₁₄^-1 + 200ϱ₄₃^-1*λ₂₁^-1 + 2ϱ₄₃^-1*λ₂₃^-1 + ϱ₄₃^-1*λ₂₄^-1 + ϱ₄₃^-1*λ₃₁^-1 + ϱ₄₃^-1*λ₃₂^-1 + 2ϱ₄₃^-1*λ₄₁^-1 + 2ϱ₄₃^-1*λ₄₂^-1 + λ₁₂^-1*ϱ₂₃ + λ₁₂^-1*ϱ₂₄ + λ₁₂^-1*ϱ₃₁ + λ₁₂^-1*ϱ₄₁ + λ₁₂^-1*λ₁₃ + λ₁₂^-1*λ₁₄ + λ₁₂^-1*λ₂₃ + λ₁₂^-1*λ₂₄ + λ₁₂^-1*λ₃₁ + λ₁₂^-1*λ₄₁ + λ₁₂^-1*ϱ₂₃^-1 + λ₁₂^-1*ϱ₂₄^-1 + λ₁₂^-1*ϱ₃₁^-1 + λ₁₂^-1*ϱ₄₁^-1 + λ₁₂^-1*λ₁₃^-1 + λ₁₂^-1*λ₁₄^-1 + λ₁₂^-1*λ₂₃^-1 + λ₁₂^-1*λ₂₄^-1 + λ₁₂^-1*λ₃₁^-1 + 2λ₁₂^-1*λ₃₂^-1 + 200λ₁₂^-1*λ₃₄^-1 + λ₁₂^-1*λ₄₁^-1 + 2λ₁₂^-1*λ₄₂^-1 + 200λ₁₂^-1*λ₄₃^-1 + λ₁₃^-1*ϱ₂₁ + λ₁₃^-1*ϱ₃₂ + λ₁₃^-1*ϱ₃₄ + λ₁₃^-1*ϱ₄₁ + λ₁₃^-1*λ₁₂ + λ₁₃^-1*λ₁₄ + λ₁₃^-1*λ₂₁ + λ₁₃^-1*λ₃₂ + λ₁₃^-1*λ₃₄ + λ₁₃^-1*λ₄₁ + λ₁₃^-1*ϱ₂₁^-1 + λ₁₃^-1*ϱ₃₂^-1 + λ₁₃^-1*ϱ₃₄^-1 + λ₁₃^-1*ϱ₄₁^-1 + λ₁₃^-1*λ₁₂^-1 + λ₁₃^-1*λ₁₄^-1 + λ₁₃^-1*λ₂₁^-1 + 2λ₁₃^-1*λ₂₃^-1 + 200λ₁₃^-1*λ₂₄^-1 + λ₁₃^-1*λ₃₂^-1 + λ₁₃^-1*λ₃₄^-1 + λ₁₃^-1*λ₄₁^-1 + 200λ₁₃^-1*λ₄₂^-1 + 2λ₁₃^-1*λ₄₃^-1 + λ₁₄^-1*ϱ₂₁ + λ₁₄^-1*ϱ₃₁ + λ₁₄^-1*ϱ₄₂ + λ₁₄^-1*ϱ₄₃ + λ₁₄^-1*λ₁₂ + λ₁₄^-1*λ₁₃ + λ₁₄^-1*λ₂₁ + λ₁₄^-1*λ₃₁ + λ₁₄^-1*λ₄₂ + λ₁₄^-1*λ₄₃ + λ₁₄^-1*ϱ₂₁^-1 + λ₁₄^-1*ϱ₃₁^-1 + λ₁₄^-1*ϱ₄₂^-1 + λ₁₄^-1*ϱ₄₃^-1 + λ₁₄^-1*λ₁₂^-1 + λ₁₄^-1*λ₁₃^-1 + λ₁₄^-1*λ₂₁^-1 + 200λ₁₄^-1*λ₂₃^-1 + 2λ₁₄^-1*λ₂₄^-1 + λ₁₄^-1*λ₃₁^-1 + 200λ₁₄^-1*λ₃₂^-1 + 2λ₁₄^-1*λ₃₄^-1 + λ₁₄^-1*λ₄₂^-1 + λ₁₄^-1*λ₄₃^-1 + λ₂₁^-1*ϱ₁₃ + λ₂₁^-1*ϱ₁₄ + λ₂₁^-1*ϱ₃₂ + λ₂₁^-1*ϱ₄₂ + λ₂₁^-1*λ₁₃ + λ₂₁^-1*λ₁₄ + λ₂₁^-1*λ₂₃ + λ₂₁^-1*λ₂₄ + λ₂₁^-1*λ₃₂ + λ₂₁^-1*λ₄₂ + λ₂₁^-1*ϱ₁₃^-1 + λ₂₁^-1*ϱ₁₄^-1 + λ₂₁^-1*ϱ₃₂^-1 + λ₂₁^-1*ϱ₄₂^-1 + λ₂₁^-1*λ₁₃^-1 + λ₂₁^-1*λ₁₄^-1 + λ₂₁^-1*λ₂₃^-1 + λ₂₁^-1*λ₂₄^-1 + 2λ₂₁^-1*λ₃₁^-1 + λ₂₁^-1*λ₃₂^-1 + 200λ₂₁^-1*λ₃₄^-1 + 2λ₂₁^-1*λ₄₁^-1 + λ₂₁^-1*λ₄₂^-1 + 200λ₂₁^-1*λ₄₃^-1 + λ₂₃^-1*ϱ₁₂ + λ₂₃^-1*ϱ₃₁ + λ₂₃^-1*ϱ₃₄ + λ₂₃^-1*ϱ₄₂ + λ₂₃^-1*λ₁₂ + λ₂₃^-1*λ₂₁ + λ₂₃^-1*λ₂₄ + λ₂₃^-1*λ₃₁ + λ₂₃^-1*λ₃₄ + λ₂₃^-1*λ₄₂ + λ₂₃^-1*ϱ₁₂^-1 + λ₂₃^-1*ϱ₃₁^-1 + λ₂₃^-1*ϱ₃₄^-1 + λ₂₃^-1*ϱ₄₂^-1 + λ₂₃^-1*λ₁₂^-1 + λ₂₃^-1*λ₂₁^-1 + λ₂₃^-1*λ₂₄^-1 + λ₂₃^-1*λ₃₁^-1 + λ₂₃^-1*λ₃₄^-1 + 200λ₂₃^-1*λ₄₁^-1 + λ₂₃^-1*λ₄₂^-1 + 2λ₂₃^-1*λ₄₃^-1 + λ₂₄^-1*ϱ₁₂ + λ₂₄^-1*ϱ₃₂ + λ₂₄^-1*ϱ₄₁ + λ₂₄^-1*ϱ₄₃ + λ₂₄^-1*λ₁₂ + λ₂₄^-1*λ₂₁ + λ₂₄^-1*λ₂₃ + λ₂₄^-1*λ₃₂ + λ₂₄^-1*λ₄₁ + λ₂₄^-1*λ₄₃ + λ₂₄^-1*ϱ₁₂^-1 + λ₂₄^-1*ϱ₃₂^-1 + λ₂₄^-1*ϱ₄₁^-1 + λ₂₄^-1*ϱ₄₃^-1 + λ₂₄^-1*λ₁₂^-1 + λ₂₄^-1*λ₂₁^-1 + λ₂₄^-1*λ₂₃^-1 + 200λ₂₄^-1*λ₃₁^-1 + λ₂₄^-1*λ₃₂^-1 + 2λ₂₄^-1*λ₃₄^-1 + λ₂₄^-1*λ₄₁^-1 + λ₂₄^-1*λ₄₃^-1 + λ₃₁^-1*ϱ₁₂ + λ₃₁^-1*ϱ₁₄ + λ₃₁^-1*ϱ₂₃ + λ₃₁^-1*ϱ₄₃ + λ₃₁^-1*λ₁₂ + λ₃₁^-1*λ₁₄ + λ₃₁^-1*λ₂₃ + λ₃₁^-1*λ₃₂ + λ₃₁^-1*λ₃₄ + λ₃₁^-1*λ₄₃ + λ₃₁^-1*ϱ₁₂^-1 + λ₃₁^-1*ϱ₁₄^-1 + λ₃₁^-1*ϱ₂₃^-1 + λ₃₁^-1*ϱ₄₃^-1 + λ₃₁^-1*λ₁₂^-1 + λ₃₁^-1*λ₁₄^-1 + λ₃₁^-1*λ₂₃^-1 + λ₃₁^-1*λ₃₂^-1 + λ₃₁^-1*λ₃₄^-1 + 2λ₃₁^-1*λ₄₁^-1 + 200λ₃₁^-1*λ₄₂^-1 + λ₃₁^-1*λ₄₃^-1 + λ₃₂^-1*ϱ₁₃ + λ₃₂^-1*ϱ₂₁ + λ₃₂^-1*ϱ₂₄ + λ₃₂^-1*ϱ₄₃ + λ₃₂^-1*λ₁₃ + λ₃₂^-1*λ₂₁ + λ₃₂^-1*λ₂₄ + λ₃₂^-1*λ₃₁ + λ₃₂^-1*λ₃₄ + λ₃₂^-1*λ₄₃ + λ₃₂^-1*ϱ₁₃^-1 + λ₃₂^-1*ϱ₂₁^-1 + λ₃₂^-1*ϱ₂₄^-1 + λ₃₂^-1*ϱ₄₃^-1 + λ₃₂^-1*λ₁₃^-1 + λ₃₂^-1*λ₂₁^-1 + λ₃₂^-1*λ₂₄^-1 + λ₃₂^-1*λ₃₁^-1 + λ₃₂^-1*λ₃₄^-1 + 200λ₃₂^-1*λ₄₁^-1 + 2λ₃₂^-1*λ₄₂^-1 + λ₃₂^-1*λ₄₃^-1 + λ₃₄^-1*ϱ₁₃ + λ₃₄^-1*ϱ₂₃ + λ₃₄^-1*ϱ₄₁ + λ₃₄^-1*ϱ₄₂ + λ₃₄^-1*λ₁₃ + λ₃₄^-1*λ₂₃ + λ₃₄^-1*λ₃₁ + λ₃₄^-1*λ₃₂ + λ₃₄^-1*λ₄₁ + λ₃₄^-1*λ₄₂ + λ₃₄^-1*ϱ₁₃^-1 + λ₃₄^-1*ϱ₂₃^-1 + λ₃₄^-1*ϱ₄₁^-1 + λ₃₄^-1*ϱ₄₂^-1 + λ₃₄^-1*λ₁₃^-1 + λ₃₄^-1*λ₂₃^-1 + λ₃₄^-1*λ₃₁^-1 + λ₃₄^-1*λ₃₂^-1 + λ₃₄^-1*λ₄₁^-1 + λ₃₄^-1*λ₄₂^-1 + λ₄₁^-1*ϱ₁₂ + λ₄₁^-1*ϱ₁₃ + λ₄₁^-1*ϱ₂₄ + λ₄₁^-1*ϱ₃₄ + λ₄₁^-1*λ₁₂ + λ₄₁^-1*λ₁₃ + λ₄₁^-1*λ₂₄ + λ₄₁^-1*λ₃₄ + λ₄₁^-1*λ₄₂ + λ₄₁^-1*λ₄₃ + λ₄₁^-1*ϱ₁₂^-1 + λ₄₁^-1*ϱ₁₃^-1 + λ₄₁^-1*ϱ₂₄^-1 + λ₄₁^-1*ϱ₃₄^-1 + λ₄₁^-1*λ₁₂^-1 + λ₄₁^-1*λ₁₃^-1 + λ₄₁^-1*λ₂₄^-1 + λ₄₁^-1*λ₃₄^-1 + λ₄₁^-1*λ₄₂^-1 + λ₄₁^-1*λ₄₃^-1 + λ₄₂^-1*ϱ₁₄ + λ₄₂^-1*ϱ₂₁ + λ₄₂^-1*ϱ₂₃ + λ₄₂^-1*ϱ₃₄ + λ₄₂^-1*λ₁₄ + λ₄₂^-1*λ₂₁ + λ₄₂^-1*λ₂₃ + λ₄₂^-1*λ₃₄ + λ₄₂^-1*λ₄₁ + λ₄₂^-1*λ₄₃ + λ₄₂^-1*ϱ₁₄^-1 + λ₄₂^-1*ϱ₂₁^-1 + λ₄₂^-1*ϱ₂₃^-1 + λ₄₂^-1*ϱ₃₄^-1 + λ₄₂^-1*λ₁₄^-1 + λ₄₂^-1*λ₂₁^-1 + λ₄₂^-1*λ₂₃^-1 + λ₄₂^-1*λ₃₄^-1 + λ₄₂^-1*λ₄₁^-1 + λ₄₂^-1*λ₄₃^-1 + λ₄₃^-1*ϱ₁₄ + λ₄₃^-1*ϱ₂₄ + λ₄₃^-1*ϱ₃₁ + λ₄₃^-1*ϱ₃₂ + λ₄₃^-1*λ₁₄ + λ₄₃^-1*λ₂₄ + λ₄₃^-1*λ₃₁ + λ₄₃^-1*λ₃₂ + λ₄₃^-1*λ₄₁ + λ₄₃^-1*λ₄₂ + λ₄₃^-1*ϱ₁₄^-1 + λ₄₃^-1*ϱ₂₄^-1 + λ₄₃^-1*ϱ₃₁^-1 + λ₄₃^-1*ϱ₃₂^-1 + λ₄₃^-1*λ₁₄^-1 + λ₄₃^-1*λ₂₄^-1 + λ₄₃^-1*λ₃₁^-1 + λ₄₃^-1*λ₃₂^-1 + λ₄₃^-1*λ₄₁^-1 + λ₄₃^-1*λ₄₂^-1"
      ]
     },
     "execution_count": 8,
     "metadata": {},
     "output_type": "execute_result"
    }
   ],
   "source": [
    "@time Adj₄ = PropertyT.Adj(parent(Δ₄), 4)\n",
    "@time Op₄ = PropertyT.Op(parent(Δ₄), 4)\n",
    "\n",
    "elt₄ = Adj₄ + k*Op₄"
   ]
  },
  {
   "cell_type": "markdown",
   "metadata": {},
   "source": [
    "We are ready to define the optimisation problem. Function\n",
    "> `PropertyT.SOS_problem(x, Δ, orbit_data; upper_bound=UB)`  \n",
    "\n",
    "defines the optimisation problem equivalent to the one of the form\n",
    "\\begin{align}\n",
    "\\text{ maximize : } \\quad & \\lambda\\\\\n",
    "\\text{under constraints : }\\quad & 0 \\leqslant \\lambda \\leqslant \\operatorname{UB},\\\\\n",
    "     & x - \\lambda \\Delta = \\sum \\xi_i^* \\xi_i,\\\\\n",
    "     & \\text{with $\\sum \\xi_i^* \\xi_i$ invariant under the action of $S_2 \\wr S_4$}.\n",
    "\\end{align}"
   ]
  },
  {
   "cell_type": "code",
   "execution_count": 10,
   "metadata": {
    "ExecuteTime": {
     "end_time": "2020-10-17T17:56:48.568000+02:00",
     "start_time": "2020-10-17T15:55:54.278Z"
    }
   },
   "outputs": [
    {
     "name": "stderr",
     "output_type": "stream",
     "text": [
      "┌ Info: Adding 6231 constraints...\n",
      "└ @ PropertyT /home/kalmar/.julia/packages/PropertyT/vcGsE/src/sos_sdps.jl:124\n"
     ]
    },
    {
     "name": "stdout",
     "output_type": "stream",
     "text": [
      " 45.476886 seconds (8.21 M allocations: 33.598 GiB, 3.31% gc time)\n"
     ]
    },
    {
     "data": {
      "text/plain": [
       "(A JuMP Model\n",
       "Maximization problem with:\n",
       "Variables: 11047\n",
       "Objective function type: JuMP.VariableRef\n",
       "`JuMP.GenericAffExpr{Float64,JuMP.VariableRef}`-in-`MathOptInterface.EqualTo{Float64}`: 6231 constraints\n",
       "`Array{JuMP.GenericAffExpr{Float64,JuMP.VariableRef},1}`-in-`MathOptInterface.PositiveSemidefiniteConeSquare`: 20 constraints\n",
       "`JuMP.VariableRef`-in-`MathOptInterface.LessThan{Float64}`: 1 constraint\n",
       "Model mode: AUTOMATIC\n",
       "CachingOptimizer state: NO_OPTIMIZER\n",
       "Solver name: No optimizer attached.\n",
       "Names registered in the model: λ,)"
      ]
     },
     "execution_count": 10,
     "metadata": {},
     "output_type": "execute_result"
    }
   ],
   "source": [
    "SDP_problem, varP = PropertyT.SOS_problem_primal(elt₄, Δ₄, orbit_data; upper_bound=0.1);\n",
    "(SDP_problem,)"
   ]
  },
  {
   "cell_type": "markdown",
   "metadata": {},
   "source": [
    "### Solving the problem\n",
    "Depending on the actual problem one may need to tweak the parameters given to the solver:\n",
    " * `eps` sets the requested accuracy,\n",
    " * `max_iters` sets the number of iterations to run before solver gives up,\n",
    " * `alpha` is a bias parameter ($\\alpha \\in (0,2)$) which determines the step size (hence the rate of convergence). $\\alpha$ close to $2$ shoudl provide fastest initial convergence, but may introduce numerical noise.\n",
    " * `acceleration_lookback`: if you experience numerical instability in scs log should be changed to `0`.\n",
    " \n",
    "The parameters below should be enough to obtain a decent solution for $\\operatorname{Adj}_4 + 100.0\\operatorname{Op}_4 - 0.1\\Delta_4$ in reasonable time (<10 minutes)."
   ]
  },
  {
   "cell_type": "code",
   "execution_count": 11,
   "metadata": {
    "ExecuteTime": {
     "end_time": "2020-10-17T17:57:20.450000+02:00",
     "start_time": "2020-10-17T15:57:14.018Z"
    }
   },
   "outputs": [],
   "source": [
    "using JuMP\n",
    "using SCS\n",
    "warm = nothing"
   ]
  },
  {
   "cell_type": "code",
   "execution_count": 13,
   "metadata": {
    "ExecuteTime": {
     "end_time": "2020-10-17T18:06:38.033000+02:00",
     "start_time": "2020-10-17T15:57:52.461Z"
    }
   },
   "outputs": [
    {
     "name": "stdout",
     "output_type": "stream",
     "text": [
      "----------------------------------------------------------------------------\n",
      "\tSCS v2.1.2 - Splitting Conic Solver\n",
      "\t(c) Brendan O'Donoghue, Stanford University, 2012\n",
      "----------------------------------------------------------------------------\n",
      "Lin-sys: sparse-direct, nnz in A = 8284283\n",
      "eps = 1.00e-10, alpha = 1.50, max_iters = 10000, normalize = 1, scale = 1.00\n",
      "acceleration_lookback = 25, rho_x = 1.00e-03\n",
      "Variables n = 11047, constraints m = 17278\n",
      "Cones:\tprimal zero / dual free vars: 11570\n",
      "\tlinear vars: 1\n",
      "\tsd vars: 5707, sd blks: 20\n",
      "Setup time: 1.04e+02s\n",
      "SCS using variable warm-starting\n",
      "----------------------------------------------------------------------------\n",
      " Iter | pri res | dua res | rel gap | pri obj | dua obj | kap/tau | time (s)\n",
      "----------------------------------------------------------------------------\n",
      "     0| 3.43e+20  2.57e+20  1.00e+00 -2.38e+23  1.66e+21  5.84e+22  2.39e-01 \n",
      "   100| 3.28e-04  2.25e-04  1.14e-02  3.73e-02  4.97e-02  4.80e-15  1.28e+01 \n",
      "   200| 3.23e-04  2.15e-04  3.24e-03  4.80e-02  4.45e-02  3.66e-16  2.43e+01 \n",
      "   300| 2.20e-04  1.42e-04  6.41e-03 -3.66e-03  2.79e-03  8.14e-15  3.52e+01 \n",
      "   400| 1.10e-04  7.18e-05  2.39e-03  1.95e-02  2.20e-02  1.05e-14  4.71e+01 \n",
      "   500| 9.00e-05  6.24e-05  7.97e-03  2.47e-02  3.31e-02  1.16e-14  5.79e+01 \n",
      "   600| 7.11e-05  5.35e-05  2.30e-03  2.14e-03 -1.69e-04  2.24e-14  6.93e+01 \n",
      "   700| 5.84e-05  4.35e-05  1.47e-03  1.95e-03  3.43e-03  2.21e-14  8.23e+01 \n",
      "   800| 4.54e-05  3.58e-05  6.25e-04  1.17e-03  1.80e-03  5.11e-15  9.38e+01 \n",
      "   900| 3.64e-05  3.10e-05  5.46e-04  3.36e-03  3.91e-03  1.23e-14  1.05e+02 \n",
      "  1000| 3.02e-05  2.35e-05  4.18e-04  1.69e-03  2.11e-03  7.17e-15  1.16e+02 \n",
      "  1100| 2.89e-05  2.10e-05  1.80e-03  3.89e-03  5.70e-03  2.48e-14  1.28e+02 \n",
      "  1200| 2.04e-05  1.66e-05  1.11e-03  1.71e-03  2.82e-03  1.83e-14  1.39e+02 \n",
      "  1300| 1.20e-05  1.00e-05  5.01e-04 -1.33e-04  3.68e-04  1.96e-14  1.50e+02 \n",
      "  1400| 8.81e-06  6.03e-06  1.82e-04  3.10e-04  4.91e-04  2.47e-14  1.61e+02 \n",
      "  1500| 6.13e-06  4.50e-06  2.84e-05 -1.66e-04 -1.37e-04  7.29e-15  1.74e+02 \n",
      "  1600| 7.49e-06  5.48e-06  4.28e-04 -4.82e-04 -9.10e-04  5.48e-15  1.87e+02 \n",
      "  1700| 5.33e-06  3.69e-06  5.39e-05 -4.56e-04 -4.02e-04  3.36e-15  1.99e+02 \n",
      "  1800| 5.94e-06  5.13e-06  5.86e-05 -2.72e-04 -3.31e-04  1.49e-15  2.12e+02 \n",
      "  1900| 5.81e-06  5.72e-06  1.24e-04 -8.44e-05 -2.09e-04  1.90e-14  2.23e+02 \n",
      "  2000| 6.19e-06  6.31e-06  1.03e-04 -4.84e-04 -5.87e-04  2.02e-14  2.34e+02 \n",
      "  2100| 5.06e-06  5.19e-06  1.45e-04 -4.20e-04 -2.75e-04  1.17e-14  2.46e+02 \n",
      "  2200| 7.40e-06  7.51e-06  2.18e-04 -2.02e-04 -4.20e-04  3.12e-15  2.57e+02 \n",
      "  2300| 8.54e-06  8.26e-06  5.25e-05 -2.08e-04 -1.55e-04  5.84e-15  2.69e+02 \n",
      "  2400| 5.11e-06  5.04e-06  4.61e-05 -3.76e-04 -3.30e-04  2.31e-15  2.80e+02 \n",
      "  2500| 9.59e-06  8.22e-06  2.83e-04 -6.97e-04 -4.14e-04  3.55e-15  2.92e+02 \n",
      "  2600| 1.60e-05  1.15e-05  1.09e-04 -5.75e-04 -4.65e-04  2.33e-14  3.03e+02 \n",
      "  2700| 7.13e-06  6.16e-06  7.63e-04 -3.48e-05  7.29e-04  2.08e-14  3.14e+02 \n",
      "  2800| 4.92e-06  4.97e-06  2.56e-04  1.61e-04 -9.48e-05  5.96e-15  3.25e+02 \n",
      "  2900| 5.63e-06  5.58e-06  4.43e-05 -4.20e-05 -8.63e-05  1.32e-14  3.36e+02 \n",
      "  3000| 4.89e-06  3.99e-06  4.56e-05 -4.58e-04 -5.04e-04  1.15e-14  3.47e+02 \n",
      "  3100| 2.39e-06  1.88e-06  3.61e-04 -1.33e-05 -3.74e-04  4.16e-15  3.58e+02 \n",
      "  3200| 5.30e-07  4.26e-07  6.17e-05 -1.64e-05  4.52e-05  2.05e-14  3.69e+02 \n",
      "  3225| 2.76e-12  2.38e-12  9.60e-11  1.32e-10  3.60e-11  2.66e-14  3.72e+02 \n",
      "----------------------------------------------------------------------------\n",
      "Status: Solved\n",
      "Timing: Solve time: 3.72e+02s\n",
      "\tLin-sys: nnz in L factor: 28575537, avg solve time: 1.03e-01s\n",
      "\tCones: avg projection time: 3.88e-03s\n",
      "\tAcceleration: avg step time: 6.12e-03s\n",
      "----------------------------------------------------------------------------\n",
      "Error metrics:\n",
      "dist(s, K) = 4.6136e-14, dist(y, K*) = 1.8127e-09, s'y/|s||y| = 2.0004e-14\n",
      "primal res: |Ax + s - b|_2 / (1 + |b|_2) = 2.7616e-12\n",
      "dual res:   |A'y + c|_2 / (1 + |c|_2) = 2.3754e-12\n",
      "rel gap:    |c'x + b'y| / (1 + |c'x| + |b'y|) = 9.6037e-11\n",
      "----------------------------------------------------------------------------\n",
      "c'x = 0.0000, -b'y = 0.0000\n",
      "============================================================================\n",
      "status = MathOptInterface.OPTIMAL\n"
     ]
    }
   ],
   "source": [
    "with_SCS = with_optimizer(SCS.Optimizer, \n",
    "    linear_solver=SCS.DirectSolver, \n",
    "    eps=1e-10,\n",
    "    max_iters=10_000,\n",
    "    alpha=1.5,\n",
    "    acceleration_lookback=25,\n",
    "    warm_start=true)\n",
    "\n",
    "status, warm = PropertyT.solve(SDP_problem, with_SCS, warm);\n",
    "@show status;"
   ]
  },
  {
   "cell_type": "markdown",
   "metadata": {},
   "source": [
    "NOTE: if `status = ALMOST_OPTIMAL`, you may need to re-run the cell above."
   ]
  },
  {
   "cell_type": "markdown",
   "metadata": {},
   "source": [
    "It seems that solver obtained sum of squares decomposition for $\\operatorname{Adj}_4 + 100.0\\operatorname{Op}_4 - 0.1\\Delta_4$ with $\\lambda$:"
   ]
  },
  {
   "cell_type": "code",
   "execution_count": 14,
   "metadata": {
    "ExecuteTime": {
     "end_time": "2020-10-18T00:04:34.640000+02:00",
     "start_time": "2020-10-17T22:04:34.214Z"
    }
   },
   "outputs": [
    {
     "data": {
      "text/latex": [
       "0 . 0 9 9 9 9 9 9 9 9 8 6 7 9 2 8 6 1"
      ],
      "text/plain": [
       "0.09999999986792861"
      ]
     },
     "execution_count": 14,
     "metadata": {},
     "output_type": "execute_result"
    }
   ],
   "source": [
    "λ₄ = value(SDP_problem[:λ])"
   ]
  },
  {
   "cell_type": "markdown",
   "metadata": {},
   "source": [
    "To apply the `SOS_residual` function we need to reconstruct matrix `Q` from the semipositive-definite blocks in `SDP_problem`: "
   ]
  },
  {
   "cell_type": "code",
   "execution_count": 15,
   "metadata": {
    "ExecuteTime": {
     "end_time": "2020-10-18T00:05:38.169000+02:00",
     "start_time": "2020-10-17T22:04:40.191Z"
    }
   },
   "outputs": [
    {
     "data": {
      "text/plain": [
       "1777×1777 Array{Float64,2}:\n",
       " 73.6709      -3.53699     -3.53699      …   0.0431621     0.0405378\n",
       " -3.53699     20.0496      -0.688713        -0.011611     -0.00843993\n",
       " -3.53699     -0.688713    20.0496          -0.0392155    -0.00121514\n",
       " -3.53699     -0.688713    -0.688713         0.0141866     0.00404402\n",
       " -3.53699     -0.967957    -0.399642         0.00486181   -0.00843993\n",
       " -3.53699     -0.399642    -0.417603     …   0.00206857   -0.00121514\n",
       " -3.53699     -0.399642     1.37974         -0.000362885   0.00404402\n",
       " -3.53699     -0.399642    -0.967957         0.00981701   -0.00081459\n",
       " -3.53699     -0.417603    -0.399642         0.00923303   -0.00081459\n",
       " -3.53699      1.37974     -0.399642         0.00178076    0.00109183\n",
       " -3.53699     -0.399642    -0.399642     …   0.0242151     0.00338298\n",
       " -3.53699     -0.417603     1.37974         -0.00688898    0.00338298\n",
       " -3.53699      1.37974     -0.417603         0.00118162   -0.00208861\n",
       "  ⋮                                      ⋱   ⋮            \n",
       " -0.0186453   -0.00116197   0.00936472   …  -0.0115783    -0.012457\n",
       "  0.00668127   0.00381377  -0.0079538        0.00342605    0.00798604\n",
       "  0.00668127   0.00543145   0.00163079      -0.0383928     0.00798604\n",
       " -0.00210807  -0.00543049   0.00276041      -0.00151238   -0.00261882\n",
       " -0.0156005   -0.0216717   -0.00666193       0.0309816    -0.00417361\n",
       " -0.0156005   -0.0106323   -0.00414833   …  -0.00130753   -0.00417361\n",
       " -0.0601396   -0.00610257  -0.0146376       -0.00479137    0.00214459\n",
       " -0.0601396   -0.0055568    0.0021179       -0.000227346   0.00214459\n",
       " -0.002854     0.00347054  -0.000525399      0.00166103   -0.0317731\n",
       "  0.0431621    0.00486181   0.00206857      -0.000273638   0.0159298\n",
       "  0.0431621   -0.011611    -0.0392155    …   0.531056      0.0159298\n",
       "  0.0405378   -0.00843993  -0.00121514       0.0159298     0.15954"
      ]
     },
     "execution_count": 15,
     "metadata": {},
     "output_type": "execute_result"
    }
   ],
   "source": [
    "Q₄ = let Ps = [value.(P) for P in varP], od = orbit_data\n",
    "    Qs = real.(sqrt.(Ps));\n",
    "    PropertyT.reconstruct(Qs, od);\n",
    "end"
   ]
  },
  {
   "cell_type": "code",
   "execution_count": 16,
   "metadata": {
    "ExecuteTime": {
     "end_time": "2020-10-18T00:05:45.074000+02:00",
     "start_time": "2020-10-17T22:05:21.708Z"
    }
   },
   "outputs": [],
   "source": [
    "Q₄_aug, check_columns_augmentation = PropertyT.augIdproj(Interval, Q₄);\n",
    "@assert check_columns_augmentation"
   ]
  },
  {
   "cell_type": "code",
   "execution_count": 20,
   "metadata": {
    "ExecuteTime": {
     "end_time": "2020-10-18T00:09:43.806000+02:00",
     "start_time": "2020-10-17T22:06:16.205Z"
    }
   },
   "outputs": [
    {
     "name": "stdout",
     "output_type": "stream",
     "text": [
      "199.716677 seconds (86.55 k allocations: 81.208 MiB)\n",
      "norm(residual₄_int, 1) = [6.44657e-05, 6.45347e-05]\n"
     ]
    },
    {
     "name": "stderr",
     "output_type": "stream",
     "text": [
      "┌ Info: λ₄ is certified to be > \n",
      "│   λ₄_cert.lo = 0.09987093065558365\n",
      "└ @ Main In[20]:5\n",
      "┌ Info: i.e Adj₄ + 100.0·Op₄ - (0.09987093065558365)·Δ₄ ∈ Σ²₂ ISAut(F₄)\n",
      "└ @ Main In[20]:6\n"
     ]
    }
   ],
   "source": [
    "elt₄_int = elt₄ - @interval(λ₄)*Δ₄;\n",
    "residual₄_int = SOS_residual(elt₄_int, Q₄_aug)\n",
    "@show norm(residual₄_int, 1);\n",
    "λ₄_cert = @interval(λ₄) - 2*norm(residual₄_int, 1)\n",
    "@info \"λ₄ is certified to be > \" λ₄_cert.lo\n",
    "@info \"i.e Adj₄ + $k·Op₄ - ($(λ₄_cert.lo))·Δ₄ ∈ Σ²₂ ISAut(F₄)\""
   ]
  },
  {
   "cell_type": "code",
   "execution_count": 18,
   "metadata": {
    "ExecuteTime": {
     "end_time": "2020-10-18T00:05:46.586000+02:00",
     "start_time": "2020-10-17T22:05:43.956Z"
    }
   },
   "outputs": [
    {
     "data": {
      "text/plain": [
       "2020-10-18T00:05:46.488"
      ]
     },
     "execution_count": 18,
     "metadata": {},
     "output_type": "execute_result"
    }
   ],
   "source": [
    "now()"
   ]
  },
  {
   "cell_type": "code",
   "execution_count": null,
   "metadata": {},
   "outputs": [],
   "source": []
  }
 ],
 "metadata": {
  "@webio": {
   "lastCommId": null,
   "lastKernelId": null
  },
  "gist": {
   "data": {
    "description": "ownCloud/GroupsWithPropertyT/notebooks/Positivity in SL(n,Z).ipynb",
    "public": false
   },
   "id": ""
  },
  "kernelspec": {
   "display_name": "Julia 1.5.1",
   "language": "julia",
   "name": "julia-1.5"
  },
  "language_info": {
   "file_extension": ".jl",
   "mimetype": "application/julia",
   "name": "julia",
   "version": "1.5.1"
  },
  "toc": {
   "base_numbering": 1,
   "nav_menu": {},
   "number_sections": true,
   "sideBar": false,
   "skip_h1_title": false,
   "title_cell": "Table of Contents",
   "title_sidebar": "Contents",
   "toc_cell": false,
   "toc_position": {},
   "toc_section_display": true,
   "toc_window_display": false
  }
 },
 "nbformat": 4,
 "nbformat_minor": 2
}
