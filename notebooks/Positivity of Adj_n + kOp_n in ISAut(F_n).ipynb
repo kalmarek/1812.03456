{
 "cells": [
  {
   "cell_type": "markdown",
   "metadata": {
    "cell_style": "center"
   },
   "source": [
    "# Installation"
   ]
  },
  {
   "cell_type": "markdown",
   "metadata": {},
   "source": [
    "The following instructions were prepared using"
   ]
  },
  {
   "cell_type": "code",
   "execution_count": 1,
   "metadata": {
    "ExecuteTime": {
     "end_time": "2020-10-19T01:51:04.765000+02:00",
     "start_time": "2020-10-18T23:50:46.887Z"
    },
    "scrolled": true
   },
   "outputs": [
    {
     "name": "stdout",
     "output_type": "stream",
     "text": [
      "Julia Version 1.5.2\n",
      "Commit 539f3ce943 (2020-09-23 23:17 UTC)\n",
      "Platform Info:\n",
      "  OS: Linux (x86_64-pc-linux-gnu)\n",
      "  CPU: Intel(R) Core(TM) i9-9900X CPU @ 3.50GHz\n",
      "  WORD_SIZE: 64\n",
      "  LIBM: libopenlibm\n",
      "  LLVM: libLLVM-9.0.1 (ORCJIT, skylake-avx512)\n",
      "Environment:\n",
      "  JULIA_NUM_THREADS = 4\n"
     ]
    }
   ],
   "source": [
    "versioninfo()"
   ]
  },
  {
   "cell_type": "markdown",
   "metadata": {},
   "source": [
    "Before exploring the notebook you need to clone the main repository:\n",
    "```bash\n",
    " git clone https://github.com/kalmarek/1812.03456.git\n",
    "```\n",
    "This notebook should be located in `1812.03456/notebooks` directory.\n",
    "\n",
    "In the main directory (`1812.03456`) you should run the following code in `julia`s `REPL` console to instantiate the environment for computations:\n",
    "```julia\n",
    "using Pkg\n",
    "Pkg.activate(\".\")\n",
    "Pkg.instantiate()\n",
    "```\n",
    "(this needs to be done once per installation).\n",
    "\n",
    "Instantiation should install (among others): the [`SCS` solver][1], [`JuMP` package][2] for mathematical programming and `IntervalArithmetic.jl` package from [`ValidatedNumerics.jl`][3].\n",
    "\n",
    "The environment uses [`Groups.jl`][7], [`GroupRings.jl`][6] (which are built on the framework of  [`AbstractAlgebra.jl`][4]) and [`PropertyT.jl`][8] packages.\n",
    "\n",
    "[1]: https://github.com/cvxgrp/scs  \n",
    "[2]: https://github.com/JuliaOpt/JuMP.jl  \n",
    "[3]: https://github.com/JuliaIntervals/ValidatedNumerics.jl\n",
    "[4]: https://github.com/Nemocas/AbstractAlgebra.jl\n",
    "[5]: https://github.com/Nemocas/Nemo.jl\n",
    "[6]: https://github.com/kalmarek/GroupRings.jl\n",
    "[7]: https://github.com/kalmarek/Groups.jl\n",
    "[8]: https://github.com/kalmarek/PropertyT.jl"
   ]
  },
  {
   "cell_type": "markdown",
   "metadata": {},
   "source": [
    "A jupyter server may be launched then within the directory `1812.03456` by issuing from julia command-line (`REPL`) the following commands.\n",
    "```julia\n",
    "using Pkg\n",
    "Pkg.activate(\".\")\n",
    "using IJulia\n",
    "notebook(dir=\".\")\n",
    "\n",
    "```\n",
    "During the first run the user may be asked for installation of `Jupyter` program (a server for running this notebook) within `miniconda` environment, which will happen automatically after confirmation. To execute the commands in the notebook, one needs to navigate to `notebooks` subdirectory of `1812.03456` and click either of the notebooks.\n",
    "\n",
    "> Code \"cells\" have a label, e.g. `In [1]:` on their left margin. Click somewhere in the proximity of the label to select a cell. The selected cell is _run_ by either clicking the `Run` button in the top toolbar, or by pressing `Shift`+`Enter`."
   ]
  },
  {
   "cell_type": "markdown",
   "metadata": {},
   "source": [
    "# The computation\n",
    "\n",
    "The following notebook uses the precomputed solutions to certify that\n",
    "\n",
    "$$\\operatorname{Adj}_5 + 2\\operatorname{Op}_5 - 0.28\\Delta_5 \\simeq \\Sigma_i \\xi_i^*\\xi_i \\in \\Sigma^2_2 I\\operatorname{SAut}(F_5),$$\n",
    "\n",
    "and that\n",
    "\n",
    "$$\\operatorname{Adj}_5 + 3\\operatorname{Op}_5 - 1.4 \\Delta_5 \\simeq \\Sigma_i \\xi_i^*\\xi_i \\in \\Sigma^2_2 I\\operatorname{SAut}(F_5),$$\n",
    "\n",
    "where $\\simeq \\Sigma_i \\xi_i^*\\xi_i$ means \"admits approximate sum of squares decomposition\" in the language of [arXiv:1812.03456](https://arxiv.org/abs/1812.03456).\n",
    "\n",
    "These are the computations upon the main results of [arXiv:1812.03456](https://arxiv.org/abs/1812.03456) depend.\n",
    "Additionaly, one may execute the whole program (including the optimization) proving that\n",
    "\n",
    "$$\\operatorname{Adj}_4 + 100 \\mathrm{Op}_4 - 0.1\\Delta_4 \\simeq \\Sigma_i \\xi_i^*\\xi_i \\in \\Sigma^2_2 I\\operatorname{SAut}(F_4).$$\n",
    "\n",
    "This result shows that almost all groups $\\operatorname{SAut}(F_n)$ have property (T). While the constants in the result are by no means optimal, is should be achievable fairly quickly (at most an hour) on a standard laptop computer."
   ]
  },
  {
   "cell_type": "code",
   "execution_count": 2,
   "metadata": {
    "ExecuteTime": {
     "end_time": "2020-10-19T01:51:20.738000+02:00",
     "start_time": "2020-10-18T23:51:20.673Z"
    }
   },
   "outputs": [
    {
     "name": "stderr",
     "output_type": "stream",
     "text": [
      "\u001b[32m\u001b[1m Activating\u001b[22m\u001b[39m environment at `~/1812.03456/Project.toml`\n"
     ]
    },
    {
     "data": {
      "text/plain": [
       "2020-10-21T13:39:54.894"
      ]
     },
     "execution_count": 2,
     "metadata": {},
     "output_type": "execute_result"
    }
   ],
   "source": [
    "using Pkg\n",
    "Pkg.activate(\"..\")\n",
    "using Dates\n",
    "now()"
   ]
  },
  {
   "cell_type": "code",
   "execution_count": 3,
   "metadata": {
    "ExecuteTime": {
     "end_time": "2020-10-19T01:51:21.842000+02:00",
     "start_time": "2020-10-18T23:51:21.820Z"
    },
    "scrolled": true
   },
   "outputs": [],
   "source": [
    "using SparseArrays\n",
    "import LinearAlgebra: norm\n",
    "using AbstractAlgebra\n",
    "\n",
    "using Groups\n",
    "using GroupRings\n",
    "using PropertyT\n",
    "\n",
    "using PropertyT.JLD\n",
    "\n",
    "using PropertyT.IntervalArithmetic\n",
    "IntervalArithmetic.setrounding(Interval, :tight)\n",
    "IntervalArithmetic.setformat(:standard, sigfigs=6);"
   ]
  },
  {
   "cell_type": "markdown",
   "metadata": {
    "ExecuteTime": {
     "end_time": "2018-11-24T12:10:28.877000+01:00",
     "start_time": "2018-11-24T11:10:27.729Z"
    }
   },
   "source": [
    "So far we only made the needed packages available in the notebook. You need to dowload `SAutF5_r2.tar.xz` file from zenodo.org (`doi:10.5281/zenodo.4118043`) and unpack it in the `1812.03456` directory. In the next cell we define the directory where the precomputed solutions should reside and check that required files are in place."
   ]
  },
  {
   "cell_type": "code",
   "execution_count": 4,
   "metadata": {
    "ExecuteTime": {
     "end_time": "2020-10-19T01:51:23.524000+02:00",
     "start_time": "2020-10-18T23:51:23.498Z"
    }
   },
   "outputs": [],
   "source": [
    "const N = 5\n",
    "const prefix = abspath(joinpath(@__DIR__,  \"..\" , \"SAutF$(N)_r2\")) \n",
    "isdir(prefix) || @error \"You need to place the precomputed solutions downloaded from zenodo in \\n $prefix\"\n",
    "\n",
    "const DELTA_FILE = joinpath(prefix,\"delta.jld\");\n",
    "const SQADJOP_FILE = joinpath(prefix, \"SqAdjOp_coeffs.jld\");\n",
    "const BLOCKDEC_FILE = joinpath(prefix, \"BlockDecomposition.jld\");\n",
    "\n",
    "if !(isfile(DELTA_FILE) && isfile(SQADJOP_FILE) && isfile(BLOCKDEC_FILE))\n",
    "    @error \"The directory structure must be preserved exactly as in the archive downloaded from zenodo:\n",
    "    $prefix \\n\\t $DELTA_FILE \\n\\t $SQADJOP_FILE \\n\\t $ORBITDATA_FILE\n",
    "    must exist! \n",
    "    \"\n",
    "end"
   ]
  },
  {
   "cell_type": "markdown",
   "metadata": {},
   "source": [
    "Below we define a simple function which takes a group ring element `eoi` and a matrix `Q` and computes the the sum of squares `sos` group ring element which `Q` represents (in the parent group ring of `eoi`) and returns the difference `eoi - sos`. This function will be used to compare target elements with the ones obtained through semi-definite optimization."
   ]
  },
  {
   "cell_type": "code",
   "execution_count": 5,
   "metadata": {},
   "outputs": [
    {
     "data": {
      "text/plain": [
       "SOS_residual (generic function with 1 method)"
      ]
     },
     "execution_count": 5,
     "metadata": {},
     "output_type": "execute_result"
    }
   ],
   "source": [
    "function SOS_residual(eoi::GroupRingElem, Q::AbstractMatrix)\n",
    "    RG = parent(eoi)\n",
    "    @time sos = PropertyT.compute_SOS(RG, Q);\n",
    "    return eoi - sos\n",
    "end"
   ]
  },
  {
   "cell_type": "markdown",
   "metadata": {},
   "source": [
    "## Loading the precomputed group ring elements\n",
    "Below we load $\\Delta$, the group Laplacian for $\\operatorname{SAut}(F_5)$, vectors of coefficients defining elements $\\operatorname{Sq}_5$, $\\operatorname{Adj}_5$ and $\\operatorname{Op}_5$ and turn these into data structures `GroupRingElem` which represent group ring elements.\n",
    "\n",
    "Note that the vectors of coefficients only have meaning with respect to the particular basis which was used for computations. The basis is not saved and loaded due to space concerns. It can be re-computed using\n",
    "```julia\n",
    "let basis, sizes = Groups.generate_balls(gens(G), one(G), radius=4)\n",
    "    @assert sizes[2] == size(RG.pm, 1) == size(RG.pm, 2)\n",
    "    RG.basis, RG.basis_dict = basis, GroupRings.reverse_dict(basis)\n",
    "end\n",
    "```"
   ]
  },
  {
   "cell_type": "code",
   "execution_count": 6,
   "metadata": {
    "ExecuteTime": {
     "end_time": "2020-10-19T01:52:10.855000+02:00",
     "start_time": "2020-10-18T23:51:54.592Z"
    },
    "scrolled": true
   },
   "outputs": [],
   "source": [
    "G = SAut(FreeGroup(N))\n",
    "Δ = PropertyT.loadGRElem(DELTA_FILE, G)\n",
    "RG = parent(Δ)\n",
    "block_decomposition = let od = load(BLOCKDEC_FILE, \"BlockDecomposition\")\n",
    "    block_decomposition = PropertyT.decimate(od, false) # sparsification of projection matrices\n",
    "end\n",
    "Sq, Adj, Op = let (sq_c, adj_c, op_c) = load(SQADJOP_FILE, \"Sq\", \"Adj\", \"Op\")\n",
    "    sq = GroupRingElem(sq_c, RG)\n",
    "    adj = GroupRingElem(adj_c, RG)\n",
    "    op = GroupRingElem(op_c, RG)\n",
    "    sq, adj, op\n",
    "end;"
   ]
  },
  {
   "cell_type": "markdown",
   "metadata": {
    "ExecuteTime": {
     "end_time": "2020-10-16T00:09:55.344000+02:00",
     "start_time": "2020-10-15T22:09:54.138Z"
    }
   },
   "source": [
    "## Replicating $\\operatorname{Adj}_5 + 2\\operatorname{Op}_5 - 0.28\\Delta_5 \\in \\Sigma^2_2 ISAut(F_5)$"
   ]
  },
  {
   "cell_type": "markdown",
   "metadata": {},
   "source": [
    "Let us define: $\\lambda = 0.28$ and $k=2$ and check that precomputed solution file is in place:"
   ]
  },
  {
   "cell_type": "code",
   "execution_count": 7,
   "metadata": {
    "ExecuteTime": {
     "end_time": "2020-10-19T01:52:18.416000+02:00",
     "start_time": "2020-10-18T23:52:18.286Z"
    }
   },
   "outputs": [],
   "source": [
    "const λ = 0.28\n",
    "const k = 2.0\n",
    "\n",
    "const fullpath = joinpath(prefix, \"$(λ)_K=$k\")\n",
    "const SOLUTION_FILE = joinpath(fullpath, \"solution.jld\")\n",
    "\n",
    "if !(isdir(fullpath) && isfile(SOLUTION_FILE))\n",
    "    @error \"Couldn't find the precomputed solution: \\n\\t$SOLUTION_FILE\"\n",
    "end"
   ]
  },
  {
   "cell_type": "markdown",
   "metadata": {},
   "source": [
    "Let us finally define the element of interest (we don't show it by default by placing `;` at the end of line):"
   ]
  },
  {
   "cell_type": "code",
   "execution_count": 8,
   "metadata": {
    "ExecuteTime": {
     "end_time": "2020-10-19T01:52:22.177000+02:00",
     "start_time": "2020-10-18T23:52:22.066Z"
    }
   },
   "outputs": [],
   "source": [
    "elt = Adj + k*Op;"
   ]
  },
  {
   "cell_type": "markdown",
   "metadata": {},
   "source": [
    "`Q` loaded below is the matrix whose columns represent the elements $\\xi_i \\in \\mathbb{R}\\operatorname{SAut}(F_5)$ such that\n",
    "$$\n",
    "\\operatorname{Adj}_5 + 2\\operatorname{Op}_5 - 0.28 \\Delta_5 - \\sum_i \\xi_i^* \\xi_i = b,\n",
    "$$\n",
    "where $\\|b\\|_1$ is sufficiently small with respect to $\\lambda$ (i.e. `Q` represents _approximate sum of squares_ in the language of [arXiv:1812.03456](https://arxiv.org/abs/1812.03456)."
   ]
  },
  {
   "cell_type": "code",
   "execution_count": 9,
   "metadata": {
    "ExecuteTime": {
     "end_time": "2020-10-19T01:52:25.820000+02:00",
     "start_time": "2020-10-18T23:52:25.180Z"
    }
   },
   "outputs": [
    {
     "data": {
      "text/plain": [
       "4641×4641 Array{Float64,2}:\n",
       "  2.97397     -0.244942     -0.244942     …   0.0158543     0.0131965\n",
       " -0.244942     7.72331      -0.311095         0.000722162  -0.000870519\n",
       " -0.244942    -0.311095      7.72331         -0.00516345   -0.000870519\n",
       " -0.244942    -0.311095     -0.311095        -0.00615118   -0.00498285\n",
       " -0.244942    -0.311095     -0.311095         0.000245145  -0.00112319\n",
       " -0.244942    -0.00261826   -0.136534     …   0.000722162  -0.000870519\n",
       " -0.244942    -0.136534     -0.161489        -0.00516345   -0.000870519\n",
       " -0.244942    -0.136534      0.0399134       -0.00615118   -0.00498285\n",
       " -0.244942    -0.136534      0.0399134        0.000245145  -0.00112319\n",
       " -0.244942    -0.136534     -0.00261826      -0.00153488   -0.000870519\n",
       " -0.244942    -0.161489     -0.136534     …  -0.00153488   -0.000870519\n",
       " -0.244942     0.0399134    -0.136534        -0.0101051    -0.00498285\n",
       " -0.244942     0.0399134    -0.136534        -0.00738246   -0.00112319\n",
       "  ⋮                                       ⋱                 ⋮\n",
       " -0.00908463   0.000179479   0.000179479     -0.00166578    0.00250892\n",
       " -0.012501     0.00848923    0.00848923   …   0.0145313    -0.00325656\n",
       " -0.012501    -0.00724905   -0.000773334      0.0145313    -0.00325656\n",
       " -0.012501    -0.000773334  -0.00724905      -0.0802158    -0.00325656\n",
       " -0.00747264   0.00418861    0.00418861      -0.00592741    0.0013943\n",
       " -0.00747264  -0.00159755    0.00234181      -0.00592741    0.0013943\n",
       " -0.00747264   0.00234181   -0.00159755   …   0.0254635     0.0013943\n",
       " -0.0117098   -2.82897e-5   -2.82897e-5      -0.00196401   -0.0401892\n",
       "  0.0158545   -0.00153483   -0.00153483      -0.00165852   -0.00797284\n",
       "  0.0158545   -0.00516343    0.000722191     -0.00165852   -0.00797284\n",
       "  0.0158545    0.000722191  -0.00516343       0.40492      -0.00797284\n",
       "  0.0131965   -0.000870492  -0.000870492  …  -0.00797307    0.135697"
      ]
     },
     "execution_count": 9,
     "metadata": {},
     "output_type": "execute_result"
    }
   ],
   "source": [
    "Q = load(SOLUTION_FILE, \"Q\")"
   ]
  },
  {
   "cell_type": "markdown",
   "metadata": {},
   "source": [
    "Below we compute the residual $b$. As we do it in floating-point arithmetic, the result can't be taken too seriously."
   ]
  },
  {
   "cell_type": "code",
   "execution_count": 10,
   "metadata": {
    "ExecuteTime": {
     "end_time": "2020-10-19T01:54:10.134000+02:00",
     "start_time": "2020-10-18T23:52:34.852Z"
    }
   },
   "outputs": [
    {
     "name": "stdout",
     "output_type": "stream",
     "text": [
      " 28.313046 seconds (245.26 k allocations: 270.780 MiB)\n"
     ]
    },
    {
     "name": "stderr",
     "output_type": "stream",
     "text": [
      "┌ Info: In floating point arithmetic the ℓ₁-norm of the residual\n",
      "│   norm(residual, 1) = 9.173410298989073e-5\n",
      "└ @ Main In[10]:3\n"
     ]
    }
   ],
   "source": [
    "let EOI = elt - λ*Δ\n",
    "    residual = SOS_residual(EOI, Q)\n",
    "    @info \"In floating point arithmetic the ℓ₁-norm of the residual\" norm(residual, 1);\n",
    "end"
   ]
  },
  {
   "cell_type": "markdown",
   "metadata": {},
   "source": [
    "Therefore we resort to interval arithmetic to provide certified upper and lower bounds on the norm of the residual:\n",
    "* We first change entries of `Q` to narrow intervals,\n",
    "* We project columns of `Q` so that $0$ is in the sum of coefficients of each column (i.e. $\\xi_i \\in I \\operatorname{SAut}(F_5)$),\n",
    "* We compute the sum of squares and the $\\ell_1$-norm of the residual in the interval arithmetic.\n",
    "\n",
    "The returned `check_columns_augmentation` is a boolean flag to detect if the projection was successful, i.e. if we can guarantee that each column of `Q_aug` can be represented by an element from the augmentation ideal. (If it were not successful, one may project `Q = PropertyT.augIdproj(Q)` in the floating point arithmetic prior to the cell below)."
   ]
  },
  {
   "cell_type": "code",
   "execution_count": 11,
   "metadata": {
    "ExecuteTime": {
     "end_time": "2020-10-19T01:55:04.687000+02:00",
     "start_time": "2020-10-18T23:53:18.744Z"
    }
   },
   "outputs": [
    {
     "data": {
      "text/plain": [
       "4641×4641 Array{Interval{Float64},2}:\n",
       "  [2.97397, 2.97398]         …   [0.0131964, 0.0131965]\n",
       " [-0.244942, -0.244941]         [-0.000870514, -0.000870513]\n",
       " [-0.244942, -0.244941]         [-0.000870514, -0.000870513]\n",
       " [-0.244942, -0.244941]         [-0.00498285, -0.00498284]\n",
       " [-0.244942, -0.244941]         [-0.00112319, -0.00112318]\n",
       " [-0.244942, -0.244941]      …  [-0.000870514, -0.000870513]\n",
       " [-0.244942, -0.244941]         [-0.000870514, -0.000870513]\n",
       " [-0.244942, -0.244941]         [-0.00498285, -0.00498284]\n",
       " [-0.244942, -0.244941]         [-0.00112319, -0.00112318]\n",
       " [-0.244942, -0.244941]         [-0.000870514, -0.000870513]\n",
       " [-0.244942, -0.244941]      …  [-0.000870514, -0.000870513]\n",
       " [-0.244942, -0.244941]         [-0.00498285, -0.00498284]\n",
       " [-0.244942, -0.244941]         [-0.00112319, -0.00112318]\n",
       "   ⋮                         ⋱    ⋮\n",
       " [-0.00908475, -0.00908474]      [0.00250892, 0.00250893]\n",
       " [-0.0125012, -0.0125011]    …  [-0.00325656, -0.00325655]\n",
       " [-0.0125012, -0.0125011]       [-0.00325656, -0.00325655]\n",
       " [-0.0125012, -0.0125011]       [-0.00325656, -0.00325655]\n",
       " [-0.00747276, -0.00747275]      [0.0013943, 0.00139431]\n",
       " [-0.00747276, -0.00747275]      [0.0013943, 0.00139431]\n",
       " [-0.00747276, -0.00747275]  …   [0.0013943, 0.00139431]\n",
       " [-0.0117099, -0.0117098]       [-0.0401893, -0.0401892]\n",
       "  [0.0158543, 0.0158544]        [-0.00797284, -0.00797283]\n",
       "  [0.0158543, 0.0158544]        [-0.00797284, -0.00797283]\n",
       "  [0.0158543, 0.0158544]        [-0.00797284, -0.00797283]\n",
       "  [0.0131964, 0.0131965]     …   [0.135696, 0.135697]"
      ]
     },
     "execution_count": 11,
     "metadata": {},
     "output_type": "execute_result"
    }
   ],
   "source": [
    "Q_aug, check_columns_augmentation = PropertyT.augIdproj(Interval, Q);\n",
    "@assert check_columns_augmentation\n",
    "Q_aug"
   ]
  },
  {
   "cell_type": "markdown",
   "metadata": {},
   "source": [
    "We now create the element of interest, $\\operatorname{Adj}_5 + 2\\operatorname{Op}_5 - 0.28 \\Delta_5$ with coefficients in real intervals. Note that only $\\lambda$ is turned into a non-exact interval, and except the support of $\\Delta$ (the first `49` elements) all coefficients are honest integers."
   ]
  },
  {
   "cell_type": "code",
   "execution_count": 12,
   "metadata": {
    "ExecuteTime": {
     "end_time": "2020-10-19T01:55:05.573000+02:00",
     "start_time": "2020-10-18T23:53:26.868Z"
    }
   },
   "outputs": [
    {
     "data": {
      "text/plain": [
       "11154301-element SparseVector{Interval{Float64},Int64} with 4161 stored entries:\n",
       "  [1       ]  =  [7657.59, 7657.61]\n",
       "  [2       ]  =  [-191.721, -191.719]\n",
       "  [3       ]  =  [-191.721, -191.719]\n",
       "  [4       ]  =  [-191.721, -191.719]\n",
       "  [5       ]  =  [-191.721, -191.719]\n",
       "  [6       ]  =  [-191.721, -191.719]\n",
       "  [7       ]  =  [-191.721, -191.719]\n",
       "  [8       ]  =  [-191.721, -191.719]\n",
       "  [9       ]  =  [-191.721, -191.719]\n",
       "  [10      ]  =  [-191.721, -191.719]\n",
       "              ⋮\n",
       "  [4628    ]  =  [1, 1]\n",
       "  [4629    ]  =  [1, 1]\n",
       "  [4631    ]  =  [1, 1]\n",
       "  [4632    ]  =  [1, 1]\n",
       "  [4633    ]  =  [1, 1]\n",
       "  [4634    ]  =  [1, 1]\n",
       "  [4635    ]  =  [1, 1]\n",
       "  [4636    ]  =  [1, 1]\n",
       "  [4638    ]  =  [1, 1]\n",
       "  [4639    ]  =  [1, 1]\n",
       "  [4640    ]  =  [1, 1]"
      ]
     },
     "execution_count": 12,
     "metadata": {},
     "output_type": "execute_result"
    }
   ],
   "source": [
    "elt_int = elt - @interval(λ)*Δ;\n",
    "elt_int.coeffs"
   ]
  },
  {
   "cell_type": "markdown",
   "metadata": {},
   "source": [
    "Finally we compute the $\\ell_1$ norm of the residual with interval arithmetic. The result is **guaranteed** to be contained in the resulting interval, i.e. if each entry of `Q` were changed into an honest rational number and all the computations were carried out in rational arithmetic, the rational $\\ell_1$-norm will be contained in the interval $\\ell_1$-norm."
   ]
  },
  {
   "cell_type": "code",
   "execution_count": 13,
   "metadata": {
    "ExecuteTime": {
     "start_time": "2020-10-18T23:55:53.656Z"
    }
   },
   "outputs": [
    {
     "name": "stdout",
     "output_type": "stream",
     "text": [
      "953.889613 seconds (520.88 k allocations: 529.781 MiB, 0.00% gc time)\n",
      "norm(residual_int, 1) = [0.000228394, 0.000228496]\n"
     ]
    }
   ],
   "source": [
    "residual_int = SOS_residual(elt_int, Q_aug)\n",
    "@show norm(residual_int, 1);"
   ]
  },
  {
   "cell_type": "markdown",
   "metadata": {},
   "source": [
    "Using Lemma 4.10 of [arXiv:1812.03456](https://arxiv.org/abs/1812.03456) and the fact that none of the generating transvections of $\\operatorname{SAut}(F_N)$ is involutive we obtain"
   ]
  },
  {
   "cell_type": "code",
   "execution_count": 14,
   "metadata": {
    "ExecuteTime": {
     "start_time": "2020-10-18T23:56:08.924Z"
    }
   },
   "outputs": [
    {
     "name": "stderr",
     "output_type": "stream",
     "text": [
      "┌ Info: λ is certified to be > \n",
      "│   λ_cert.lo = 0.2795430082668905\n",
      "└ @ Main In[14]:2\n",
      "┌ Info: i.e Adj_5 + 2.0·Op_5 - (0.2795430082668905)·Δ_5 ∈ Σ²₂ ISAut(F_5)\n",
      "└ @ Main In[14]:3\n"
     ]
    }
   ],
   "source": [
    "λ_cert = @interval(λ) - 2*norm(residual_int,1)\n",
    "@info \"λ is certified to be > \" λ_cert.lo\n",
    "@info \"i.e Adj_$N + $k·Op_$N - ($(λ_cert.lo))·Δ_$N ∈ Σ²₂ ISAut(F_$N)\""
   ]
  },
  {
   "cell_type": "markdown",
   "metadata": {},
   "source": [
    "## Replicating $\\operatorname{Adj}_5 + 3\\operatorname{Op}_5 - 1.4\\Delta_5 \\in \\Sigma^2_2 ISAut(F_5)$"
   ]
  },
  {
   "cell_type": "code",
   "execution_count": 15,
   "metadata": {
    "ExecuteTime": {
     "start_time": "2020-10-18T23:56:25.025Z"
    }
   },
   "outputs": [],
   "source": [
    "const λ = 1.4\n",
    "const k = 3.0\n",
    "\n",
    "const fullpath = joinpath(prefix, \"$(λ)_K=$k\")\n",
    "const SOLUTION_FILE = joinpath(fullpath, \"solution.jld\")\n",
    "\n",
    "if !(isdir(fullpath) && isfile(SOLUTION_FILE))\n",
    "    @error \"Couldn't find the precomputed solution: \\n\\t$SOLUTION_FILE\"\n",
    "end"
   ]
  },
  {
   "cell_type": "code",
   "execution_count": 16,
   "metadata": {
    "ExecuteTime": {
     "start_time": "2020-10-18T23:56:31.312Z"
    }
   },
   "outputs": [],
   "source": [
    "elt = Adj + k*Op;\n",
    "Q = load(SOLUTION_FILE, \"Q\");\n",
    "Q_aug, check_columns_augmentation = PropertyT.augIdproj(Interval, Q);\n",
    "@assert check_columns_augmentation"
   ]
  },
  {
   "cell_type": "code",
   "execution_count": 17,
   "metadata": {
    "ExecuteTime": {
     "start_time": "2020-10-18T23:56:42.934Z"
    }
   },
   "outputs": [
    {
     "name": "stdout",
     "output_type": "stream",
     "text": [
      "953.420002 seconds (113.01 k allocations: 512.971 MiB, 0.05% gc time)\n",
      "norm(residual_int, 1) = [0.0149432, 0.0149435]\n"
     ]
    }
   ],
   "source": [
    "elt_int = elt - @interval(λ)*Δ;\n",
    "residual_int = SOS_residual(elt_int, Q_aug)\n",
    "@show norm(residual_int, 1);"
   ]
  },
  {
   "cell_type": "code",
   "execution_count": 18,
   "metadata": {
    "ExecuteTime": {
     "start_time": "2020-10-18T23:57:22.525Z"
    }
   },
   "outputs": [
    {
     "name": "stderr",
     "output_type": "stream",
     "text": [
      "┌ Info: λ is certified to be > \n",
      "│   λ_cert.lo = 1.3701131734136716\n",
      "└ @ Main In[18]:2\n",
      "┌ Info: i.e Adj_5 + 3.0·Op_5 - (1.3701131734136716)·Δ_5 ∈ Σ²₂ ISAut(F_5)\n",
      "└ @ Main In[18]:3\n"
     ]
    }
   ],
   "source": [
    "λ_cert = @interval(λ) - 2*norm(residual_int,1)\n",
    "@info \"λ is certified to be > \" λ_cert.lo\n",
    "@info \"i.e Adj_$N + $k·Op_$N - ($(λ_cert.lo))·Δ_$N ∈ Σ²₂ ISAut(F_$N)\""
   ]
  },
  {
   "cell_type": "markdown",
   "metadata": {},
   "source": [
    "## Confirming that $\\operatorname{Adj}_4 + 100.0\\operatorname{Op}_4 - 0.1\\Delta_4$ admits approximate sum of squares decomposition"
   ]
  },
  {
   "cell_type": "code",
   "execution_count": 19,
   "metadata": {
    "ExecuteTime": {
     "end_time": "2020-10-18T11:13:15.267000+02:00",
     "start_time": "2020-10-18T09:13:15.239Z"
    }
   },
   "outputs": [
    {
     "data": {
      "text/latex": [
       "1 0 0 . 0"
      ],
      "text/plain": [
       "100.0"
      ]
     },
     "execution_count": 19,
     "metadata": {},
     "output_type": "execute_result"
    }
   ],
   "source": [
    "const λ = 0.1\n",
    "const k = 100.0"
   ]
  },
  {
   "cell_type": "markdown",
   "metadata": {},
   "source": [
    "Now we will generate the ball $B_R$ of radius $R=4$ in $\\operatorname{SAut}(F_4)$, and use it as a (partial) basis of a group ring. Such a group ring also needs a (partial) multiplication table to square elements supported on radius $2$ (it is called `pm`, which is actually a \"division table\" due to `twisted=true` argument). The table is created as follows: when $x$,$y$ reside at positions `i` and `j` in $B_R$, then `pm[i,j] = k`, where `k` is the position of $x^{-1}y$ in $B_R$.\n",
    "\n",
    "Then we create the Laplace operator $\\Delta$."
   ]
  },
  {
   "cell_type": "code",
   "execution_count": 20,
   "metadata": {
    "ExecuteTime": {
     "end_time": "2020-10-17T17:47:13.464000+02:00",
     "start_time": "2020-10-17T15:45:51.496Z"
    }
   },
   "outputs": [
    {
     "name": "stdout",
     "output_type": "stream",
     "text": [
      "sizes = [49, 1777, 57725, 1777541]\n"
     ]
    },
    {
     "data": {
      "text/plain": [
       "48(id) - 1ϱ₁₂ - 1ϱ₁₃ - 1ϱ₁₄ - 1ϱ₂₁ - 1ϱ₂₃ - 1ϱ₂₄ - 1ϱ₃₁ - 1ϱ₃₂ - 1ϱ₃₄ - 1ϱ₄₁ - 1ϱ₄₂ - 1ϱ₄₃ - 1λ₁₂ - 1λ₁₃ - 1λ₁₄ - 1λ₂₁ - 1λ₂₃ - 1λ₂₄ - 1λ₃₁ - 1λ₃₂ - 1λ₃₄ - 1λ₄₁ - 1λ₄₂ - 1λ₄₃ - 1ϱ₁₂^-1 - 1ϱ₁₃^-1 - 1ϱ₁₄^-1 - 1ϱ₂₁^-1 - 1ϱ₂₃^-1 - 1ϱ₂₄^-1 - 1ϱ₃₁^-1 - 1ϱ₃₂^-1 - 1ϱ₃₄^-1 - 1ϱ₄₁^-1 - 1ϱ₄₂^-1 - 1ϱ₄₃^-1 - 1λ₁₂^-1 - 1λ₁₃^-1 - 1λ₁₄^-1 - 1λ₂₁^-1 - 1λ₂₃^-1 - 1λ₂₄^-1 - 1λ₃₁^-1 - 1λ₃₂^-1 - 1λ₃₄^-1 - 1λ₄₁^-1 - 1λ₄₂^-1 - 1λ₄₃^-1"
      ]
     },
     "execution_count": 20,
     "metadata": {},
     "output_type": "execute_result"
    }
   ],
   "source": [
    "SAutF₄ = SAut(FreeGroup(4))\n",
    "Δ₄ = let G = SAutF₄, halfradius = 2\n",
    "    \n",
    "    S = gens(G)\n",
    "    S = [S; inv.(S)] # generating set must be symmetric\n",
    "    \n",
    "    B_R, sizes = Groups.wlmetric_ball(S, radius=2*halfradius);\n",
    "    B_rdict = GroupRings.reverse_dict(B_R)\n",
    "    pm = GroupRings.create_pm(B_R, B_rdict, sizes[halfradius]; twisted=true);\n",
    "    RG = GroupRing(G, B_R, B_rdict, pm)\n",
    "    @show sizes;\n",
    "    Δ = length(S)*one(RG) - sum(RG(s) for s in S)\n",
    "end"
   ]
  },
  {
   "cell_type": "markdown",
   "metadata": {},
   "source": [
    "In the cell below we compute Wedderburn-Artin decomposition of `pm` with respect to the action of the Weyl group ($S_2 \\wr S_4$) and sparsify it numerically."
   ]
  },
  {
   "cell_type": "code",
   "execution_count": 21,
   "metadata": {
    "ExecuteTime": {
     "end_time": "2020-10-17T17:51:59.738000+02:00",
     "start_time": "2020-10-17T15:47:33.684Z"
    }
   },
   "outputs": [
    {
     "name": "stderr",
     "output_type": "stream",
     "text": [
      "┌ Info: Decomposing basis of RG into orbits of\n",
      "│   autS = Wreath Product of Full symmetric group over 2 elements by Full symmetric group over 4 elements\n",
      "└ @ PropertyT /home/kalmar/.julia/packages/PropertyT/vcGsE/src/blockdecomposition.jl:15\n"
     ]
    },
    {
     "name": "stdout",
     "output_type": "stream",
     "text": [
      " 48.762163 seconds (1.11 G allocations: 76.049 GiB, 37.93% gc time)\n"
     ]
    },
    {
     "name": "stderr",
     "output_type": "stream",
     "text": [
      "┌ Info: The action has 6231 orbits\n",
      "└ @ PropertyT /home/kalmar/.julia/packages/PropertyT/vcGsE/src/blockdecomposition.jl:18\n",
      "┌ Info: Finding projections in the Group Ring of\n",
      "│   autS = Wreath Product of Full symmetric group over 2 elements by Full symmetric group over 4 elements\n",
      "└ @ PropertyT /home/kalmar/.julia/packages/PropertyT/vcGsE/src/blockdecomposition.jl:20\n"
     ]
    },
    {
     "name": "stdout",
     "output_type": "stream",
     "text": [
      "  4.558152 seconds (6.03 M allocations: 308.531 MiB, 15.56% gc time)\n"
     ]
    },
    {
     "name": "stderr",
     "output_type": "stream",
     "text": [
      "┌ Info: Finding AutS-action matrix representation\n",
      "└ @ PropertyT /home/kalmar/.julia/packages/PropertyT/vcGsE/src/blockdecomposition.jl:23\n"
     ]
    },
    {
     "name": "stdout",
     "output_type": "stream",
     "text": [
      " 11.694259 seconds (291.32 M allocations: 19.976 GiB, 34.16% gc time)\n",
      "  0.392333 seconds (1.13 M allocations: 120.585 MiB)\n"
     ]
    },
    {
     "name": "stderr",
     "output_type": "stream",
     "text": [
      "┌ Info: Computing the projection matrices Uπs\n",
      "└ @ PropertyT /home/kalmar/.julia/packages/PropertyT/vcGsE/src/blockdecomposition.jl:27\n"
     ]
    },
    {
     "name": "stdout",
     "output_type": "stream",
     "text": [
      " 31.218765 seconds (1.29 M allocations: 8.241 GiB, 2.36% gc time)\n"
     ]
    },
    {
     "name": "stderr",
     "output_type": "stream",
     "text": [
      "┌ Info: \n",
      "│ multiplicities  =   6  27  38  23  18  22  56  34  22  23  27  32   9  17   8   1   1   1   2   1\n",
      "│     dimensions  =   1   3   3   2   1   4   8   4   6   6   6   6   4   8   4   1   3   3   2   1\n",
      "└ @ PropertyT /home/kalmar/.julia/packages/PropertyT/vcGsE/src/blockdecomposition.jl:37\n"
     ]
    }
   ],
   "source": [
    "block_decomposition = let od = PropertyT.BlockDecomposition(parent(Δ₄), WreathProduct(SymmetricGroup(2), SymmetricGroup(4)))\n",
    "    PropertyT.decimate(od, false);\n",
    "end;"
   ]
  },
  {
   "cell_type": "code",
   "execution_count": 22,
   "metadata": {
    "ExecuteTime": {
     "end_time": "2020-10-17T17:52:16.241000+02:00",
     "start_time": "2020-10-17T15:48:03.183Z"
    }
   },
   "outputs": [
    {
     "name": "stdout",
     "output_type": "stream",
     "text": [
      "  7.023643 seconds (1.36 M allocations: 71.502 MiB)\n",
      "  1.688224 seconds (190.03 k allocations: 10.537 MiB)\n"
     ]
    },
    {
     "data": {
      "text/plain": [
       "39936(id) - 1664ϱ₁₂ - 1664ϱ₁₃ - 1664ϱ₁₄ - 1664ϱ₂₁ - 1664ϱ₂₃ - 1664ϱ₂₄ - 1664ϱ₃₁ - 1664ϱ₃₂ - 1664ϱ₃₄ - 1664ϱ₄₁ - 1664ϱ₄₂ - 1664ϱ₄₃ - 1664λ₁₂ - 1664λ₁₃ - 1664λ₁₄ - 1664λ₂₁ - 1664λ₂₃ - 1664λ₂₄ - 1664λ₃₁ - 1664λ₃₂ - 1664λ₃₄ - 1664λ₄₁ - 1664λ₄₂ - 1664λ₄₃ - 1664ϱ₁₂^-1 - 1664ϱ₁₃^-1 - 1664ϱ₁₄^-1 - 1664ϱ₂₁^-1 - 1664ϱ₂₃^-1 - 1664ϱ₂₄^-1 - 1664ϱ₃₁^-1 - 1664ϱ₃₂^-1 - 1664ϱ₃₄^-1 - 1664ϱ₄₁^-1 - 1664ϱ₄₂^-1 - 1664ϱ₄₃^-1 - 1664λ₁₂^-1 - 1664λ₁₃^-1 - 1664λ₁₄^-1 - 1664λ₂₁^-1 - 1664λ₂₃^-1 - 1664λ₂₄^-1 - 1664λ₃₁^-1 - 1664λ₃₂^-1 - 1664λ₃₄^-1 - 1664λ₄₁^-1 - 1664λ₄₂^-1 - 1664λ₄₃^-1 + ϱ₁₂*ϱ₁₃ + ϱ₁₂*ϱ₁₄ + ϱ₁₂*ϱ₂₃ + ϱ₁₂*ϱ₂₄ + ϱ₁₂*ϱ₃₁ + 2ϱ₁₂*ϱ₃₂ + 200ϱ₁₂*ϱ₃₄ + ϱ₁₂*ϱ₄₁ + 2ϱ₁₂*ϱ₄₂ + 200ϱ₁₂*ϱ₄₃ + 2ϱ₁₂*λ₁₃ + 2ϱ₁₂*λ₁₄ + ϱ₁₂*λ₂₃ + ϱ₁₂*λ₂₄ + ϱ₁₂*λ₃₁ + 2ϱ₁₂*λ₃₂ + 200ϱ₁₂*λ₃₄ + ϱ₁₂*λ₄₁ + 2ϱ₁₂*λ₄₂ + 200ϱ₁₂*λ₄₃ + ϱ₁₂*ϱ₁₃^-1 + ϱ₁₂*ϱ₁₄^-1 + ϱ₁₂*ϱ₂₃^-1 + ϱ₁₂*ϱ₂₄^-1 + ϱ₁₂*ϱ₃₁^-1 + 2ϱ₁₂*ϱ₃₂^-1 + 200ϱ₁₂*ϱ₃₄^-1 + ϱ₁₂*ϱ₄₁^-1 + 2ϱ₁₂*ϱ₄₂^-1 + 200ϱ₁₂*ϱ₄₃^-1 + 2ϱ₁₂*λ₁₃^-1 + 2ϱ₁₂*λ₁₄^-1 + ϱ₁₂*λ₂₃^-1 + ϱ₁₂*λ₂₄^-1 + ϱ₁₂*λ₃₁^-1 + 2ϱ₁₂*λ₃₂^-1 + 200ϱ₁₂*λ₃₄^-1 + ϱ₁₂*λ₄₁^-1 + 2ϱ₁₂*λ₄₂^-1 + 200ϱ₁₂*λ₄₃^-1 + ϱ₁₃*ϱ₁₂ + ϱ₁₃*ϱ₁₄ + ϱ₁₃*ϱ₂₁ + 2ϱ₁₃*ϱ₂₃ + 200ϱ₁₃*ϱ₂₄ + ϱ₁₃*ϱ₃₂ + ϱ₁₃*ϱ₃₄ + ϱ₁₃*ϱ₄₁ + 200ϱ₁₃*ϱ₄₂ + 2ϱ₁₃*ϱ₄₃ + 2ϱ₁₃*λ₁₂ + 2ϱ₁₃*λ₁₄ + ϱ₁₃*λ₂₁ + 2ϱ₁₃*λ₂₃ + 200ϱ₁₃*λ₂₄ + ϱ₁₃*λ₃₂ + ϱ₁₃*λ₃₄ + ϱ₁₃*λ₄₁ + 200ϱ₁₃*λ₄₂ + 2ϱ₁₃*λ₄₃ + ϱ₁₃*ϱ₁₂^-1 + ϱ₁₃*ϱ₁₄^-1 + ϱ₁₃*ϱ₂₁^-1 + 2ϱ₁₃*ϱ₂₃^-1 + 200ϱ₁₃*ϱ₂₄^-1 + ϱ₁₃*ϱ₃₂^-1 + ϱ₁₃*ϱ₃₄^-1 + ϱ₁₃*ϱ₄₁^-1 + 200ϱ₁₃*ϱ₄₂^-1 + 2ϱ₁₃*ϱ₄₃^-1 + 2ϱ₁₃*λ₁₂^-1 + 2ϱ₁₃*λ₁₄^-1 + ϱ₁₃*λ₂₁^-1 + 2ϱ₁₃*λ₂₃^-1 + 200ϱ₁₃*λ₂₄^-1 + ϱ₁₃*λ₃₂^-1 + ϱ₁₃*λ₃₄^-1 + ϱ₁₃*λ₄₁^-1 + 200ϱ₁₃*λ₄₂^-1 + 2ϱ₁₃*λ₄₃^-1 + ϱ₁₄*ϱ₁₂ + ϱ₁₄*ϱ₁₃ + ϱ₁₄*ϱ₂₁ + 200ϱ₁₄*ϱ₂₃ + 2ϱ₁₄*ϱ₂₄ + ϱ₁₄*ϱ₃₁ + 200ϱ₁₄*ϱ₃₂ + 2ϱ₁₄*ϱ₃₄ + ϱ₁₄*ϱ₄₂ + ϱ₁₄*ϱ₄₃ + 2ϱ₁₄*λ₁₂ + 2ϱ₁₄*λ₁₃ + ϱ₁₄*λ₂₁ + 200ϱ₁₄*λ₂₃ + 2ϱ₁₄*λ₂₄ + ϱ₁₄*λ₃₁ + 200ϱ₁₄*λ₃₂ + 2ϱ₁₄*λ₃₄ + ϱ₁₄*λ₄₂ + ϱ₁₄*λ₄₃ + ϱ₁₄*ϱ₁₂^-1 + ϱ₁₄*ϱ₁₃^-1 + ϱ₁₄*ϱ₂₁^-1 + 200ϱ₁₄*ϱ₂₃^-1 + 2ϱ₁₄*ϱ₂₄^-1 + ϱ₁₄*ϱ₃₁^-1 + 200ϱ₁₄*ϱ₃₂^-1 + 2ϱ₁₄*ϱ₃₄^-1 + ϱ₁₄*ϱ₄₂^-1 + ϱ₁₄*ϱ₄₃^-1 + 2ϱ₁₄*λ₁₂^-1 + 2ϱ₁₄*λ₁₃^-1 + ϱ₁₄*λ₂₁^-1 + 200ϱ₁₄*λ₂₃^-1 + 2ϱ₁₄*λ₂₄^-1 + ϱ₁₄*λ₃₁^-1 + 200ϱ₁₄*λ₃₂^-1 + 2ϱ₁₄*λ₃₄^-1 + ϱ₁₄*λ₄₂^-1 + ϱ₁₄*λ₄₃^-1 + ϱ₂₁*ϱ₁₃ + ϱ₂₁*ϱ₁₄ + ϱ₂₁*ϱ₂₃ + ϱ₂₁*ϱ₂₄ + 2ϱ₂₁*ϱ₃₁ + ϱ₂₁*ϱ₃₂ + 200ϱ₂₁*ϱ₃₄ + 2ϱ₂₁*ϱ₄₁ + ϱ₂₁*ϱ₄₂ + 200ϱ₂₁*ϱ₄₃ + ϱ₂₁*λ₁₃ + ϱ₂₁*λ₁₄ + 2ϱ₂₁*λ₂₃ + 2ϱ₂₁*λ₂₄ + 2ϱ₂₁*λ₃₁ + ϱ₂₁*λ₃₂ + 200ϱ₂₁*λ₃₄ + 2ϱ₂₁*λ₄₁ + ϱ₂₁*λ₄₂ + 200ϱ₂₁*λ₄₃ + ϱ₂₁*ϱ₁₃^-1 + ϱ₂₁*ϱ₁₄^-1 + ϱ₂₁*ϱ₂₃^-1 + ϱ₂₁*ϱ₂₄^-1 + 2ϱ₂₁*ϱ₃₁^-1 + ϱ₂₁*ϱ₃₂^-1 + 200ϱ₂₁*ϱ₃₄^-1 + 2ϱ₂₁*ϱ₄₁^-1 + ϱ₂₁*ϱ₄₂^-1 + 200ϱ₂₁*ϱ₄₃^-1 + ϱ₂₁*λ₁₃^-1 + ϱ₂₁*λ₁₄^-1 + 2ϱ₂₁*λ₂₃^-1 + 2ϱ₂₁*λ₂₄^-1 + 2ϱ₂₁*λ₃₁^-1 + ϱ₂₁*λ₃₂^-1 + 200ϱ₂₁*λ₃₄^-1 + 2ϱ₂₁*λ₄₁^-1 + ϱ₂₁*λ₄₂^-1 + 200ϱ₂₁*λ₄₃^-1 + ϱ₂₃*ϱ₁₂ + ϱ₂₃*ϱ₂₁ + ϱ₂₃*ϱ₂₄ + ϱ₂₃*ϱ₃₁ + ϱ₂₃*ϱ₃₄ + 200ϱ₂₃*ϱ₄₁ + ϱ₂₃*ϱ₄₂ + 2ϱ₂₃*ϱ₄₃ + ϱ₂₃*λ₁₂ + 2ϱ₂₃*λ₁₃ + 200ϱ₂₃*λ₁₄ + 2ϱ₂₃*λ₂₁ + 2ϱ₂₃*λ₂₄ + ϱ₂₃*λ₃₁ + ϱ₂₃*λ₃₄ + 200ϱ₂₃*λ₄₁ + ϱ₂₃*λ₄₂ + 2ϱ₂₃*λ₄₃ + ϱ₂₃*ϱ₁₂^-1 + 2ϱ₂₃*ϱ₁₃^-1 + 200ϱ₂₃*ϱ₁₄^-1 + ϱ₂₃*ϱ₂₁^-1 + ϱ₂₃*ϱ₂₄^-1 + ϱ₂₃*ϱ₃₁^-1 + ϱ₂₃*ϱ₃₄^-1 + 200ϱ₂₃*ϱ₄₁^-1 + ϱ₂₃*ϱ₄₂^-1 + 2ϱ₂₃*ϱ₄₃^-1 + ϱ₂₃*λ₁₂^-1 + 2ϱ₂₃*λ₁₃^-1 + 200ϱ₂₃*λ₁₄^-1 + 2ϱ₂₃*λ₂₁^-1 + 2ϱ₂₃*λ₂₄^-1 + ϱ₂₃*λ₃₁^-1 + ϱ₂₃*λ₃₄^-1 + 200ϱ₂₃*λ₄₁^-1 + ϱ₂₃*λ₄₂^-1 + 2ϱ₂₃*λ₄₃^-1 + ϱ₂₄*ϱ₁₂ + ϱ₂₄*ϱ₂₁ + ϱ₂₄*ϱ₂₃ + 200ϱ₂₄*ϱ₃₁ + ϱ₂₄*ϱ₃₂ + 2ϱ₂₄*ϱ₃₄ + ϱ₂₄*ϱ₄₁ + ϱ₂₄*ϱ₄₃ + ϱ₂₄*λ₁₂ + 200ϱ₂₄*λ₁₃ + 2ϱ₂₄*λ₁₄ + 2ϱ₂₄*λ₂₁ + 2ϱ₂₄*λ₂₃ + 200ϱ₂₄*λ₃₁ + ϱ₂₄*λ₃₂ + 2ϱ₂₄*λ₃₄ + ϱ₂₄*λ₄₁ + ϱ₂₄*λ₄₃ + ϱ₂₄*ϱ₁₂^-1 + 200ϱ₂₄*ϱ₁₃^-1 + 2ϱ₂₄*ϱ₁₄^-1 + ϱ₂₄*ϱ₂₁^-1 + ϱ₂₄*ϱ₂₃^-1 + 200ϱ₂₄*ϱ₃₁^-1 + ϱ₂₄*ϱ₃₂^-1 + 2ϱ₂₄*ϱ₃₄^-1 + ϱ₂₄*ϱ₄₁^-1 + ϱ₂₄*ϱ₄₃^-1 + ϱ₂₄*λ₁₂^-1 + 200ϱ₂₄*λ₁₃^-1 + 2ϱ₂₄*λ₁₄^-1 + 2ϱ₂₄*λ₂₁^-1 + 2ϱ₂₄*λ₂₃^-1 + 200ϱ₂₄*λ₃₁^-1 + ϱ₂₄*λ₃₂^-1 + 2ϱ₂₄*λ₃₄^-1 + ϱ₂₄*λ₄₁^-1 + ϱ₂₄*λ₄₃^-1 + ϱ₃₁*ϱ₁₂ + ϱ₃₁*ϱ₁₄ + ϱ₃₁*ϱ₂₃ + ϱ₃₁*ϱ₃₂ + ϱ₃₁*ϱ₃₄ + 2ϱ₃₁*ϱ₄₁ + 200ϱ₃₁*ϱ₄₂ + ϱ₃₁*ϱ₄₃ + ϱ₃₁*λ₁₂ + ϱ₃₁*λ₁₄ + 2ϱ₃₁*λ₂₁ + ϱ₃₁*λ₂₃ + 200ϱ₃₁*λ₂₄ + 2ϱ₃₁*λ₃₂ + 2ϱ₃₁*λ₃₄ + 2ϱ₃₁*λ₄₁ + 200ϱ₃₁*λ₄₂ + ϱ₃₁*λ₄₃ + ϱ₃₁*ϱ₁₂^-1 + ϱ₃₁*ϱ₁₄^-1 + 2ϱ₃₁*ϱ₂₁^-1 + ϱ₃₁*ϱ₂₃^-1 + 200ϱ₃₁*ϱ₂₄^-1 + ϱ₃₁*ϱ₃₂^-1 + ϱ₃₁*ϱ₃₄^-1 + 2ϱ₃₁*ϱ₄₁^-1 + 200ϱ₃₁*ϱ₄₂^-1 + ϱ₃₁*ϱ₄₃^-1 + ϱ₃₁*λ₁₂^-1 + ϱ₃₁*λ₁₄^-1 + 2ϱ₃₁*λ₂₁^-1 + ϱ₃₁*λ₂₃^-1 + 200ϱ₃₁*λ₂₄^-1 + 2ϱ₃₁*λ₃₂^-1 + 2ϱ₃₁*λ₃₄^-1 + 2ϱ₃₁*λ₄₁^-1 + 200ϱ₃₁*λ₄₂^-1 + ϱ₃₁*λ₄₃^-1 + ϱ₃₂*ϱ₁₃ + ϱ₃₂*ϱ₂₁ + ϱ₃₂*ϱ₂₄ + ϱ₃₂*ϱ₃₁ + ϱ₃₂*ϱ₃₄ + 200ϱ₃₂*ϱ₄₁ + 2ϱ₃₂*ϱ₄₂ + ϱ₃₂*ϱ₄₃ + 2ϱ₃₂*λ₁₂ + ϱ₃₂*λ₁₃ + 200ϱ₃₂*λ₁₄ + ϱ₃₂*λ₂₁ + ϱ₃₂*λ₂₄ + 2ϱ₃₂*λ₃₁ + 2ϱ₃₂*λ₃₄ + 200ϱ₃₂*λ₄₁ + 2ϱ₃₂*λ₄₂ + ϱ₃₂*λ₄₃ + 2ϱ₃₂*ϱ₁₂^-1 + ϱ₃₂*ϱ₁₃^-1 + 200ϱ₃₂*ϱ₁₄^-1 + ϱ₃₂*ϱ₂₁^-1 + ϱ₃₂*ϱ₂₄^-1 + ϱ₃₂*ϱ₃₁^-1 + ϱ₃₂*ϱ₃₄^-1 + 200ϱ₃₂*ϱ₄₁^-1 + 2ϱ₃₂*ϱ₄₂^-1 + ϱ₃₂*ϱ₄₃^-1 + 2ϱ₃₂*λ₁₂^-1 + ϱ₃₂*λ₁₃^-1 + 200ϱ₃₂*λ₁₄^-1 + ϱ₃₂*λ₂₁^-1 + ϱ₃₂*λ₂₄^-1 + 2ϱ₃₂*λ₃₁^-1 + 2ϱ₃₂*λ₃₄^-1 + 200ϱ₃₂*λ₄₁^-1 + 2ϱ₃₂*λ₄₂^-1 + ϱ₃₂*λ₄₃^-1 + ϱ₃₄*ϱ₁₃ + ϱ₃₄*ϱ₂₃ + ϱ₃₄*ϱ₃₁ + ϱ₃₄*ϱ₃₂ + ϱ₃₄*ϱ₄₁ + ϱ₃₄*ϱ₄₂ + 200ϱ₃₄*λ₁₂ + ϱ₃₄*λ₁₃ + 2ϱ₃₄*λ₁₄ + 200ϱ₃₄*λ₂₁ + ϱ₃₄*λ₂₃ + 2ϱ₃₄*λ₂₄ + 2ϱ₃₄*λ₃₁ + 2ϱ₃₄*λ₃₂ + ϱ₃₄*λ₄₁ + ϱ₃₄*λ₄₂ + 200ϱ₃₄*ϱ₁₂^-1 + ϱ₃₄*ϱ₁₃^-1 + 2ϱ₃₄*ϱ₁₄^-1 + 200ϱ₃₄*ϱ₂₁^-1 + ϱ₃₄*ϱ₂₃^-1 + 2ϱ₃₄*ϱ₂₄^-1 + ϱ₃₄*ϱ₃₁^-1 + ϱ₃₄*ϱ₃₂^-1 + ϱ₃₄*ϱ₄₁^-1 + ϱ₃₄*ϱ₄₂^-1 + 200ϱ₃₄*λ₁₂^-1 + ϱ₃₄*λ₁₃^-1 + 2ϱ₃₄*λ₁₄^-1 + 200ϱ₃₄*λ₂₁^-1 + ϱ₃₄*λ₂₃^-1 + 2ϱ₃₄*λ₂₄^-1 + 2ϱ₃₄*λ₃₁^-1 + 2ϱ₃₄*λ₃₂^-1 + ϱ₃₄*λ₄₁^-1 + ϱ₃₄*λ₄₂^-1 + ϱ₄₁*ϱ₁₂ + ϱ₄₁*ϱ₁₃ + ϱ₄₁*ϱ₂₄ + ϱ₄₁*ϱ₃₄ + ϱ₄₁*ϱ₄₂ + ϱ₄₁*ϱ₄₃ + ϱ₄₁*λ₁₂ + ϱ₄₁*λ₁₃ + 2ϱ₄₁*λ₂₁ + 200ϱ₄₁*λ₂₃ + ϱ₄₁*λ₂₄ + 2ϱ₄₁*λ₃₁ + 200ϱ₄₁*λ₃₂ + ϱ₄₁*λ₃₄ + 2ϱ₄₁*λ₄₂ + 2ϱ₄₁*λ₄₃ + ϱ₄₁*ϱ₁₂^-1 + ϱ₄₁*ϱ₁₃^-1 + 2ϱ₄₁*ϱ₂₁^-1 + 200ϱ₄₁*ϱ₂₃^-1 + ϱ₄₁*ϱ₂₄^-1 + 2ϱ₄₁*ϱ₃₁^-1 + 200ϱ₄₁*ϱ₃₂^-1 + ϱ₄₁*ϱ₃₄^-1 + ϱ₄₁*ϱ₄₂^-1 + ϱ₄₁*ϱ₄₃^-1 + ϱ₄₁*λ₁₂^-1 + ϱ₄₁*λ₁₃^-1 + 2ϱ₄₁*λ₂₁^-1 + 200ϱ₄₁*λ₂₃^-1 + ϱ₄₁*λ₂₄^-1 + 2ϱ₄₁*λ₃₁^-1 + 200ϱ₄₁*λ₃₂^-1 + ϱ₄₁*λ₃₄^-1 + 2ϱ₄₁*λ₄₂^-1 + 2ϱ₄₁*λ₄₃^-1 + ϱ₄₂*ϱ₁₄ + ϱ₄₂*ϱ₂₁ + ϱ₄₂*ϱ₂₃ + ϱ₄₂*ϱ₃₄ + ϱ₄₂*ϱ₄₁ + ϱ₄₂*ϱ₄₃ + 2ϱ₄₂*λ₁₂ + 200ϱ₄₂*λ₁₃ + ϱ₄₂*λ₁₄ + ϱ₄₂*λ₂₁ + ϱ₄₂*λ₂₃ + 200ϱ₄₂*λ₃₁ + 2ϱ₄₂*λ₃₂ + ϱ₄₂*λ₃₄ + 2ϱ₄₂*λ₄₁ + 2ϱ₄₂*λ₄₃ + 2ϱ₄₂*ϱ₁₂^-1 + 200ϱ₄₂*ϱ₁₃^-1 + ϱ₄₂*ϱ₁₄^-1 + ϱ₄₂*ϱ₂₁^-1 + ϱ₄₂*ϱ₂₃^-1 + 200ϱ₄₂*ϱ₃₁^-1 + 2ϱ₄₂*ϱ₃₂^-1 + ϱ₄₂*ϱ₃₄^-1 + ϱ₄₂*ϱ₄₁^-1 + ϱ₄₂*ϱ₄₃^-1 + 2ϱ₄₂*λ₁₂^-1 + 200ϱ₄₂*λ₁₃^-1 + ϱ₄₂*λ₁₄^-1 + ϱ₄₂*λ₂₁^-1 + ϱ₄₂*λ₂₃^-1 + 200ϱ₄₂*λ₃₁^-1 + 2ϱ₄₂*λ₃₂^-1 + ϱ₄₂*λ₃₄^-1 + 2ϱ₄₂*λ₄₁^-1 + 2ϱ₄₂*λ₄₃^-1 + ϱ₄₃*ϱ₁₄ + ϱ₄₃*ϱ₂₄ + ϱ₄₃*ϱ₃₁ + ϱ₄₃*ϱ₃₂ + ϱ₄₃*ϱ₄₁ + ϱ₄₃*ϱ₄₂ + 200ϱ₄₃*λ₁₂ + 2ϱ₄₃*λ₁₃ + ϱ₄₃*λ₁₄ + 200ϱ₄₃*λ₂₁ + 2ϱ₄₃*λ₂₃ + ϱ₄₃*λ₂₄ + ϱ₄₃*λ₃₁ + ϱ₄₃*λ₃₂ + 2ϱ₄₃*λ₄₁ + 2ϱ₄₃*λ₄₂ + 200ϱ₄₃*ϱ₁₂^-1 + 2ϱ₄₃*ϱ₁₃^-1 + ϱ₄₃*ϱ₁₄^-1 + 200ϱ₄₃*ϱ₂₁^-1 + 2ϱ₄₃*ϱ₂₃^-1 + ϱ₄₃*ϱ₂₄^-1 + ϱ₄₃*ϱ₃₁^-1 + ϱ₄₃*ϱ₃₂^-1 + ϱ₄₃*ϱ₄₁^-1 + ϱ₄₃*ϱ₄₂^-1 + 200ϱ₄₃*λ₁₂^-1 + 2ϱ₄₃*λ₁₃^-1 + ϱ₄₃*λ₁₄^-1 + 200ϱ₄₃*λ₂₁^-1 + 2ϱ₄₃*λ₂₃^-1 + ϱ₄₃*λ₂₄^-1 + ϱ₄₃*λ₃₁^-1 + ϱ₄₃*λ₃₂^-1 + 2ϱ₄₃*λ₄₁^-1 + 2ϱ₄₃*λ₄₂^-1 + λ₁₂*ϱ₂₃ + λ₁₂*ϱ₂₄ + λ₁₂*ϱ₃₁ + λ₁₂*ϱ₄₁ + λ₁₂*λ₁₃ + λ₁₂*λ₁₄ + λ₁₂*λ₂₃ + λ₁₂*λ₂₄ + λ₁₂*λ₃₁ + 2λ₁₂*λ₃₂ + 200λ₁₂*λ₃₄ + λ₁₂*λ₄₁ + 2λ₁₂*λ₄₂ + 200λ₁₂*λ₄₃ + 2λ₁₂*ϱ₁₃^-1 + 2λ₁₂*ϱ₁₄^-1 + λ₁₂*ϱ₂₃^-1 + λ₁₂*ϱ₂₄^-1 + λ₁₂*ϱ₃₁^-1 + 2λ₁₂*ϱ₃₂^-1 + 200λ₁₂*ϱ₃₄^-1 + λ₁₂*ϱ₄₁^-1 + 2λ₁₂*ϱ₄₂^-1 + 200λ₁₂*ϱ₄₃^-1 + λ₁₂*λ₁₃^-1 + λ₁₂*λ₁₄^-1 + λ₁₂*λ₂₃^-1 + λ₁₂*λ₂₄^-1 + λ₁₂*λ₃₁^-1 + 2λ₁₂*λ₃₂^-1 + 200λ₁₂*λ₃₄^-1 + λ₁₂*λ₄₁^-1 + 2λ₁₂*λ₄₂^-1 + 200λ₁₂*λ₄₃^-1 + λ₁₃*ϱ₂₁ + λ₁₃*ϱ₃₂ + λ₁₃*ϱ₃₄ + λ₁₃*ϱ₄₁ + λ₁₃*λ₁₂ + λ₁₃*λ₁₄ + λ₁₃*λ₂₁ + 2λ₁₃*λ₂₃ + 200λ₁₃*λ₂₄ + λ₁₃*λ₃₂ + λ₁₃*λ₃₄ + λ₁₃*λ₄₁ + 200λ₁₃*λ₄₂ + 2λ₁₃*λ₄₃ + 2λ₁₃*ϱ₁₂^-1 + 2λ₁₃*ϱ₁₄^-1 + λ₁₃*ϱ₂₁^-1 + 2λ₁₃*ϱ₂₃^-1 + 200λ₁₃*ϱ₂₄^-1 + λ₁₃*ϱ₃₂^-1 + λ₁₃*ϱ₃₄^-1 + λ₁₃*ϱ₄₁^-1 + 200λ₁₃*ϱ₄₂^-1 + 2λ₁₃*ϱ₄₃^-1 + λ₁₃*λ₁₂^-1 + λ₁₃*λ₁₄^-1 + λ₁₃*λ₂₁^-1 + 2λ₁₃*λ₂₃^-1 + 200λ₁₃*λ₂₄^-1 + λ₁₃*λ₃₂^-1 + λ₁₃*λ₃₄^-1 + λ₁₃*λ₄₁^-1 + 200λ₁₃*λ₄₂^-1 + 2λ₁₃*λ₄₃^-1 + λ₁₄*ϱ₂₁ + λ₁₄*ϱ₃₁ + λ₁₄*ϱ₄₂ + λ₁₄*ϱ₄₃ + λ₁₄*λ₁₂ + λ₁₄*λ₁₃ + λ₁₄*λ₂₁ + 200λ₁₄*λ₂₃ + 2λ₁₄*λ₂₄ + λ₁₄*λ₃₁ + 200λ₁₄*λ₃₂ + 2λ₁₄*λ₃₄ + λ₁₄*λ₄₂ + λ₁₄*λ₄₃ + 2λ₁₄*ϱ₁₂^-1 + 2λ₁₄*ϱ₁₃^-1 + λ₁₄*ϱ₂₁^-1 + 200λ₁₄*ϱ₂₃^-1 + 2λ₁₄*ϱ₂₄^-1 + λ₁₄*ϱ₃₁^-1 + 200λ₁₄*ϱ₃₂^-1 + 2λ₁₄*ϱ₃₄^-1 + λ₁₄*ϱ₄₂^-1 + λ₁₄*ϱ₄₃^-1 + λ₁₄*λ₁₂^-1 + λ₁₄*λ₁₃^-1 + λ₁₄*λ₂₁^-1 + 200λ₁₄*λ₂₃^-1 + 2λ₁₄*λ₂₄^-1 + λ₁₄*λ₃₁^-1 + 200λ₁₄*λ₃₂^-1 + 2λ₁₄*λ₃₄^-1 + λ₁₄*λ₄₂^-1 + λ₁₄*λ₄₃^-1 + λ₂₁*ϱ₁₃ + λ₂₁*ϱ₁₄ + λ₂₁*ϱ₃₂ + λ₂₁*ϱ₄₂ + λ₂₁*λ₁₃ + λ₂₁*λ₁₄ + λ₂₁*λ₂₃ + λ₂₁*λ₂₄ + 2λ₂₁*λ₃₁ + λ₂₁*λ₃₂ + 200λ₂₁*λ₃₄ + 2λ₂₁*λ₄₁ + λ₂₁*λ₄₂ + 200λ₂₁*λ₄₃ + λ₂₁*ϱ₁₃^-1 + λ₂₁*ϱ₁₄^-1 + 2λ₂₁*ϱ₂₃^-1 + 2λ₂₁*ϱ₂₄^-1 + 2λ₂₁*ϱ₃₁^-1 + λ₂₁*ϱ₃₂^-1 + 200λ₂₁*ϱ₃₄^-1 + 2λ₂₁*ϱ₄₁^-1 + λ₂₁*ϱ₄₂^-1 + 200λ₂₁*ϱ₄₃^-1 + λ₂₁*λ₁₃^-1 + λ₂₁*λ₁₄^-1 + λ₂₁*λ₂₃^-1 + λ₂₁*λ₂₄^-1 + 2λ₂₁*λ₃₁^-1 + λ₂₁*λ₃₂^-1 + 200λ₂₁*λ₃₄^-1 + 2λ₂₁*λ₄₁^-1 + λ₂₁*λ₄₂^-1 + 200λ₂₁*λ₄₃^-1 + λ₂₃*ϱ₁₂ + λ₂₃*ϱ₃₁ + λ₂₃*ϱ₃₄ + λ₂₃*ϱ₄₂ + λ₂₃*λ₁₂ + λ₂₃*λ₂₁ + λ₂₃*λ₂₄ + λ₂₃*λ₃₁ + λ₂₃*λ₃₄ + 200λ₂₃*λ₄₁ + λ₂₃*λ₄₂ + 2λ₂₃*λ₄₃ + λ₂₃*ϱ₁₂^-1 + 2λ₂₃*ϱ₁₃^-1 + 200λ₂₃*ϱ₁₄^-1 + 2λ₂₃*ϱ₂₁^-1 + 2λ₂₃*ϱ₂₄^-1 + λ₂₃*ϱ₃₁^-1 + λ₂₃*ϱ₃₄^-1 + 200λ₂₃*ϱ₄₁^-1 + λ₂₃*ϱ₄₂^-1 + 2λ₂₃*ϱ₄₃^-1 + λ₂₃*λ₁₂^-1 + 2λ₂₃*λ₁₃^-1 + 200λ₂₃*λ₁₄^-1 + λ₂₃*λ₂₁^-1 + λ₂₃*λ₂₄^-1 + λ₂₃*λ₃₁^-1 + λ₂₃*λ₃₄^-1 + 200λ₂₃*λ₄₁^-1 + λ₂₃*λ₄₂^-1 + 2λ₂₃*λ₄₃^-1 + λ₂₄*ϱ₁₂ + λ₂₄*ϱ₃₂ + λ₂₄*ϱ₄₁ + λ₂₄*ϱ₄₃ + λ₂₄*λ₁₂ + λ₂₄*λ₂₁ + λ₂₄*λ₂₃ + 200λ₂₄*λ₃₁ + λ₂₄*λ₃₂ + 2λ₂₄*λ₃₄ + λ₂₄*λ₄₁ + λ₂₄*λ₄₃ + λ₂₄*ϱ₁₂^-1 + 200λ₂₄*ϱ₁₃^-1 + 2λ₂₄*ϱ₁₄^-1 + 2λ₂₄*ϱ₂₁^-1 + 2λ₂₄*ϱ₂₃^-1 + 200λ₂₄*ϱ₃₁^-1 + λ₂₄*ϱ₃₂^-1 + 2λ₂₄*ϱ₃₄^-1 + λ₂₄*ϱ₄₁^-1 + λ₂₄*ϱ₄₃^-1 + λ₂₄*λ₁₂^-1 + 200λ₂₄*λ₁₃^-1 + 2λ₂₄*λ₁₄^-1 + λ₂₄*λ₂₁^-1 + λ₂₄*λ₂₃^-1 + 200λ₂₄*λ₃₁^-1 + λ₂₄*λ₃₂^-1 + 2λ₂₄*λ₃₄^-1 + λ₂₄*λ₄₁^-1 + λ₂₄*λ₄₃^-1 + λ₃₁*ϱ₁₂ + λ₃₁*ϱ₁₄ + λ₃₁*ϱ₂₃ + λ₃₁*ϱ₄₃ + λ₃₁*λ₁₂ + λ₃₁*λ₁₄ + λ₃₁*λ₂₃ + λ₃₁*λ₃₂ + λ₃₁*λ₃₄ + 2λ₃₁*λ₄₁ + 200λ₃₁*λ₄₂ + λ₃₁*λ₄₃ + λ₃₁*ϱ₁₂^-1 + λ₃₁*ϱ₁₄^-1 + 2λ₃₁*ϱ₂₁^-1 + λ₃₁*ϱ₂₃^-1 + 200λ₃₁*ϱ₂₄^-1 + 2λ₃₁*ϱ₃₂^-1 + 2λ₃₁*ϱ₃₄^-1 + 2λ₃₁*ϱ₄₁^-1 + 200λ₃₁*ϱ₄₂^-1 + λ₃₁*ϱ₄₃^-1 + λ₃₁*λ₁₂^-1 + λ₃₁*λ₁₄^-1 + 2λ₃₁*λ₂₁^-1 + λ₃₁*λ₂₃^-1 + 200λ₃₁*λ₂₄^-1 + λ₃₁*λ₃₂^-1 + λ₃₁*λ₃₄^-1 + 2λ₃₁*λ₄₁^-1 + 200λ₃₁*λ₄₂^-1 + λ₃₁*λ₄₃^-1 + λ₃₂*ϱ₁₃ + λ₃₂*ϱ₂₁ + λ₃₂*ϱ₂₄ + λ₃₂*ϱ₄₃ + λ₃₂*λ₁₃ + λ₃₂*λ₂₁ + λ₃₂*λ₂₄ + λ₃₂*λ₃₁ + λ₃₂*λ₃₄ + 200λ₃₂*λ₄₁ + 2λ₃₂*λ₄₂ + λ₃₂*λ₄₃ + 2λ₃₂*ϱ₁₂^-1 + λ₃₂*ϱ₁₃^-1 + 200λ₃₂*ϱ₁₄^-1 + λ₃₂*ϱ₂₁^-1 + λ₃₂*ϱ₂₄^-1 + 2λ₃₂*ϱ₃₁^-1 + 2λ₃₂*ϱ₃₄^-1 + 200λ₃₂*ϱ₄₁^-1 + 2λ₃₂*ϱ₄₂^-1 + λ₃₂*ϱ₄₃^-1 + 2λ₃₂*λ₁₂^-1 + λ₃₂*λ₁₃^-1 + 200λ₃₂*λ₁₄^-1 + λ₃₂*λ₂₁^-1 + λ₃₂*λ₂₄^-1 + λ₃₂*λ₃₁^-1 + λ₃₂*λ₃₄^-1 + 200λ₃₂*λ₄₁^-1 + 2λ₃₂*λ₄₂^-1 + λ₃₂*λ₄₃^-1 + λ₃₄*ϱ₁₃ + λ₃₄*ϱ₂₃ + λ₃₄*ϱ₄₁ + λ₃₄*ϱ₄₂ + λ₃₄*λ₁₃ + λ₃₄*λ₂₃ + λ₃₄*λ₃₁ + λ₃₄*λ₃₂ + λ₃₄*λ₄₁ + λ₃₄*λ₄₂ + 200λ₃₄*ϱ₁₂^-1 + λ₃₄*ϱ₁₃^-1 + 2λ₃₄*ϱ₁₄^-1 + 200λ₃₄*ϱ₂₁^-1 + λ₃₄*ϱ₂₃^-1 + 2λ₃₄*ϱ₂₄^-1 + 2λ₃₄*ϱ₃₁^-1 + 2λ₃₄*ϱ₃₂^-1 + λ₃₄*ϱ₄₁^-1 + λ₃₄*ϱ₄₂^-1 + 200λ₃₄*λ₁₂^-1 + λ₃₄*λ₁₃^-1 + 2λ₃₄*λ₁₄^-1 + 200λ₃₄*λ₂₁^-1 + λ₃₄*λ₂₃^-1 + 2λ₃₄*λ₂₄^-1 + λ₃₄*λ₃₁^-1 + λ₃₄*λ₃₂^-1 + λ₃₄*λ₄₁^-1 + λ₃₄*λ₄₂^-1 + λ₄₁*ϱ₁₂ + λ₄₁*ϱ₁₃ + λ₄₁*ϱ₂₄ + λ₄₁*ϱ₃₄ + λ₄₁*λ₁₂ + λ₄₁*λ₁₃ + λ₄₁*λ₂₄ + λ₄₁*λ₃₄ + λ₄₁*λ₄₂ + λ₄₁*λ₄₃ + λ₄₁*ϱ₁₂^-1 + λ₄₁*ϱ₁₃^-1 + 2λ₄₁*ϱ₂₁^-1 + 200λ₄₁*ϱ₂₃^-1 + λ₄₁*ϱ₂₄^-1 + 2λ₄₁*ϱ₃₁^-1 + 200λ₄₁*ϱ₃₂^-1 + λ₄₁*ϱ₃₄^-1 + 2λ₄₁*ϱ₄₂^-1 + 2λ₄₁*ϱ₄₃^-1 + λ₄₁*λ₁₂^-1 + λ₄₁*λ₁₃^-1 + 2λ₄₁*λ₂₁^-1 + 200λ₄₁*λ₂₃^-1 + λ₄₁*λ₂₄^-1 + 2λ₄₁*λ₃₁^-1 + 200λ₄₁*λ₃₂^-1 + λ₄₁*λ₃₄^-1 + λ₄₁*λ₄₂^-1 + λ₄₁*λ₄₃^-1 + λ₄₂*ϱ₁₄ + λ₄₂*ϱ₂₁ + λ₄₂*ϱ₂₃ + λ₄₂*ϱ₃₄ + λ₄₂*λ₁₄ + λ₄₂*λ₂₁ + λ₄₂*λ₂₃ + λ₄₂*λ₃₄ + λ₄₂*λ₄₁ + λ₄₂*λ₄₃ + 2λ₄₂*ϱ₁₂^-1 + 200λ₄₂*ϱ₁₃^-1 + λ₄₂*ϱ₁₄^-1 + λ₄₂*ϱ₂₁^-1 + λ₄₂*ϱ₂₃^-1 + 200λ₄₂*ϱ₃₁^-1 + 2λ₄₂*ϱ₃₂^-1 + λ₄₂*ϱ₃₄^-1 + 2λ₄₂*ϱ₄₁^-1 + 2λ₄₂*ϱ₄₃^-1 + 2λ₄₂*λ₁₂^-1 + 200λ₄₂*λ₁₃^-1 + λ₄₂*λ₁₄^-1 + λ₄₂*λ₂₁^-1 + λ₄₂*λ₂₃^-1 + 200λ₄₂*λ₃₁^-1 + 2λ₄₂*λ₃₂^-1 + λ₄₂*λ₃₄^-1 + λ₄₂*λ₄₁^-1 + λ₄₂*λ₄₃^-1 + λ₄₃*ϱ₁₄ + λ₄₃*ϱ₂₄ + λ₄₃*ϱ₃₁ + λ₄₃*ϱ₃₂ + λ₄₃*λ₁₄ + λ₄₃*λ₂₄ + λ₄₃*λ₃₁ + λ₄₃*λ₃₂ + λ₄₃*λ₄₁ + λ₄₃*λ₄₂ + 200λ₄₃*ϱ₁₂^-1 + 2λ₄₃*ϱ₁₃^-1 + λ₄₃*ϱ₁₄^-1 + 200λ₄₃*ϱ₂₁^-1 + 2λ₄₃*ϱ₂₃^-1 + λ₄₃*ϱ₂₄^-1 + λ₄₃*ϱ₃₁^-1 + λ₄₃*ϱ₃₂^-1 + 2λ₄₃*ϱ₄₁^-1 + 2λ₄₃*ϱ₄₂^-1 + 200λ₄₃*λ₁₂^-1 + 2λ₄₃*λ₁₃^-1 + λ₄₃*λ₁₄^-1 + 200λ₄₃*λ₂₁^-1 + 2λ₄₃*λ₂₃^-1 + λ₄₃*λ₂₄^-1 + λ₄₃*λ₃₁^-1 + λ₄₃*λ₃₂^-1 + λ₄₃*λ₄₁^-1 + λ₄₃*λ₄₂^-1 + ϱ₁₂^-1*ϱ₁₃ + ϱ₁₂^-1*ϱ₁₄ + ϱ₁₂^-1*ϱ₂₃ + ϱ₁₂^-1*ϱ₂₄ + ϱ₁₂^-1*ϱ₃₁ + ϱ₁₂^-1*ϱ₄₁ + ϱ₁₂^-1*λ₂₃ + ϱ₁₂^-1*λ₂₄ + ϱ₁₂^-1*λ₃₁ + ϱ₁₂^-1*λ₄₁ + ϱ₁₂^-1*ϱ₁₃^-1 + ϱ₁₂^-1*ϱ₁₄^-1 + ϱ₁₂^-1*ϱ₂₃^-1 + ϱ₁₂^-1*ϱ₂₄^-1 + ϱ₁₂^-1*ϱ₃₁^-1 + 2ϱ₁₂^-1*ϱ₃₂^-1 + 200ϱ₁₂^-1*ϱ₃₄^-1 + ϱ₁₂^-1*ϱ₄₁^-1 + 2ϱ₁₂^-1*ϱ₄₂^-1 + 200ϱ₁₂^-1*ϱ₄₃^-1 + 2ϱ₁₂^-1*λ₁₃^-1 + 2ϱ₁₂^-1*λ₁₄^-1 + ϱ₁₂^-1*λ₂₃^-1 + ϱ₁₂^-1*λ₂₄^-1 + ϱ₁₂^-1*λ₃₁^-1 + 2ϱ₁₂^-1*λ₃₂^-1 + 200ϱ₁₂^-1*λ₃₄^-1 + ϱ₁₂^-1*λ₄₁^-1 + 2ϱ₁₂^-1*λ₄₂^-1 + 200ϱ₁₂^-1*λ₄₃^-1 + ϱ₁₃^-1*ϱ₁₂ + ϱ₁₃^-1*ϱ₁₄ + ϱ₁₃^-1*ϱ₂₁ + ϱ₁₃^-1*ϱ₃₂ + ϱ₁₃^-1*ϱ₃₄ + ϱ₁₃^-1*ϱ₄₁ + ϱ₁₃^-1*λ₂₁ + ϱ₁₃^-1*λ₃₂ + ϱ₁₃^-1*λ₃₄ + ϱ₁₃^-1*λ₄₁ + ϱ₁₃^-1*ϱ₁₂^-1 + ϱ₁₃^-1*ϱ₁₄^-1 + ϱ₁₃^-1*ϱ₂₁^-1 + 2ϱ₁₃^-1*ϱ₂₃^-1 + 200ϱ₁₃^-1*ϱ₂₄^-1 + ϱ₁₃^-1*ϱ₃₂^-1 + ϱ₁₃^-1*ϱ₃₄^-1 + ϱ₁₃^-1*ϱ₄₁^-1 + 200ϱ₁₃^-1*ϱ₄₂^-1 + 2ϱ₁₃^-1*ϱ₄₃^-1 + 2ϱ₁₃^-1*λ₁₂^-1 + 2ϱ₁₃^-1*λ₁₄^-1 + ϱ₁₃^-1*λ₂₁^-1 + 2ϱ₁₃^-1*λ₂₃^-1 + 200ϱ₁₃^-1*λ₂₄^-1 + ϱ₁₃^-1*λ₃₂^-1 + ϱ₁₃^-1*λ₃₄^-1 + ϱ₁₃^-1*λ₄₁^-1 + 200ϱ₁₃^-1*λ₄₂^-1 + 2ϱ₁₃^-1*λ₄₃^-1 + ϱ₁₄^-1*ϱ₁₂ + ϱ₁₄^-1*ϱ₁₃ + ϱ₁₄^-1*ϱ₂₁ + ϱ₁₄^-1*ϱ₃₁ + ϱ₁₄^-1*ϱ₄₂ + ϱ₁₄^-1*ϱ₄₃ + ϱ₁₄^-1*λ₂₁ + ϱ₁₄^-1*λ₃₁ + ϱ₁₄^-1*λ₄₂ + ϱ₁₄^-1*λ₄₃ + ϱ₁₄^-1*ϱ₁₂^-1 + ϱ₁₄^-1*ϱ₁₃^-1 + ϱ₁₄^-1*ϱ₂₁^-1 + 200ϱ₁₄^-1*ϱ₂₃^-1 + 2ϱ₁₄^-1*ϱ₂₄^-1 + ϱ₁₄^-1*ϱ₃₁^-1 + 200ϱ₁₄^-1*ϱ₃₂^-1 + 2ϱ₁₄^-1*ϱ₃₄^-1 + ϱ₁₄^-1*ϱ₄₂^-1 + ϱ₁₄^-1*ϱ₄₃^-1 + 2ϱ₁₄^-1*λ₁₂^-1 + 2ϱ₁₄^-1*λ₁₃^-1 + ϱ₁₄^-1*λ₂₁^-1 + 200ϱ₁₄^-1*λ₂₃^-1 + 2ϱ₁₄^-1*λ₂₄^-1 + ϱ₁₄^-1*λ₃₁^-1 + 200ϱ₁₄^-1*λ₃₂^-1 + 2ϱ₁₄^-1*λ₃₄^-1 + ϱ₁₄^-1*λ₄₂^-1 + ϱ₁₄^-1*λ₄₃^-1 + ϱ₂₁^-1*ϱ₁₃ + ϱ₂₁^-1*ϱ₁₄ + ϱ₂₁^-1*ϱ₂₃ + ϱ₂₁^-1*ϱ₂₄ + ϱ₂₁^-1*ϱ₃₂ + ϱ₂₁^-1*ϱ₄₂ + ϱ₂₁^-1*λ₁₃ + ϱ₂₁^-1*λ₁₄ + ϱ₂₁^-1*λ₃₂ + ϱ₂₁^-1*λ₄₂ + ϱ₂₁^-1*ϱ₁₃^-1 + ϱ₂₁^-1*ϱ₁₄^-1 + ϱ₂₁^-1*ϱ₂₃^-1 + ϱ₂₁^-1*ϱ₂₄^-1 + 2ϱ₂₁^-1*ϱ₃₁^-1 + ϱ₂₁^-1*ϱ₃₂^-1 + 200ϱ₂₁^-1*ϱ₃₄^-1 + 2ϱ₂₁^-1*ϱ₄₁^-1 + ϱ₂₁^-1*ϱ₄₂^-1 + 200ϱ₂₁^-1*ϱ₄₃^-1 + ϱ₂₁^-1*λ₁₃^-1 + ϱ₂₁^-1*λ₁₄^-1 + 2ϱ₂₁^-1*λ₂₃^-1 + 2ϱ₂₁^-1*λ₂₄^-1 + 2ϱ₂₁^-1*λ₃₁^-1 + ϱ₂₁^-1*λ₃₂^-1 + 200ϱ₂₁^-1*λ₃₄^-1 + 2ϱ₂₁^-1*λ₄₁^-1 + ϱ₂₁^-1*λ₄₂^-1 + 200ϱ₂₁^-1*λ₄₃^-1 + ϱ₂₃^-1*ϱ₁₂ + ϱ₂₃^-1*ϱ₂₁ + ϱ₂₃^-1*ϱ₂₄ + ϱ₂₃^-1*ϱ₃₁ + ϱ₂₃^-1*ϱ₃₄ + ϱ₂₃^-1*ϱ₄₂ + ϱ₂₃^-1*λ₁₂ + ϱ₂₃^-1*λ₃₁ + ϱ₂₃^-1*λ₃₄ + ϱ₂₃^-1*λ₄₂ + ϱ₂₃^-1*ϱ₁₂^-1 + ϱ₂₃^-1*ϱ₂₁^-1 + ϱ₂₃^-1*ϱ₂₄^-1 + ϱ₂₃^-1*ϱ₃₁^-1 + ϱ₂₃^-1*ϱ₃₄^-1 + 200ϱ₂₃^-1*ϱ₄₁^-1 + ϱ₂₃^-1*ϱ₄₂^-1 + 2ϱ₂₃^-1*ϱ₄₃^-1 + ϱ₂₃^-1*λ₁₂^-1 + 2ϱ₂₃^-1*λ₁₃^-1 + 200ϱ₂₃^-1*λ₁₄^-1 + 2ϱ₂₃^-1*λ₂₁^-1 + 2ϱ₂₃^-1*λ₂₄^-1 + ϱ₂₃^-1*λ₃₁^-1 + ϱ₂₃^-1*λ₃₄^-1 + 200ϱ₂₃^-1*λ₄₁^-1 + ϱ₂₃^-1*λ₄₂^-1 + 2ϱ₂₃^-1*λ₄₃^-1 + ϱ₂₄^-1*ϱ₁₂ + ϱ₂₄^-1*ϱ₂₁ + ϱ₂₄^-1*ϱ₂₃ + ϱ₂₄^-1*ϱ₃₂ + ϱ₂₄^-1*ϱ₄₁ + ϱ₂₄^-1*ϱ₄₃ + ϱ₂₄^-1*λ₁₂ + ϱ₂₄^-1*λ₃₂ + ϱ₂₄^-1*λ₄₁ + ϱ₂₄^-1*λ₄₃ + ϱ₂₄^-1*ϱ₁₂^-1 + ϱ₂₄^-1*ϱ₂₁^-1 + ϱ₂₄^-1*ϱ₂₃^-1 + 200ϱ₂₄^-1*ϱ₃₁^-1 + ϱ₂₄^-1*ϱ₃₂^-1 + 2ϱ₂₄^-1*ϱ₃₄^-1 + ϱ₂₄^-1*ϱ₄₁^-1 + ϱ₂₄^-1*ϱ₄₃^-1 + ϱ₂₄^-1*λ₁₂^-1 + 200ϱ₂₄^-1*λ₁₃^-1 + 2ϱ₂₄^-1*λ₁₄^-1 + 2ϱ₂₄^-1*λ₂₁^-1 + 2ϱ₂₄^-1*λ₂₃^-1 + 200ϱ₂₄^-1*λ₃₁^-1 + ϱ₂₄^-1*λ₃₂^-1 + 2ϱ₂₄^-1*λ₃₄^-1 + ϱ₂₄^-1*λ₄₁^-1 + ϱ₂₄^-1*λ₄₃^-1 + ϱ₃₁^-1*ϱ₁₂ + ϱ₃₁^-1*ϱ₁₄ + ϱ₃₁^-1*ϱ₂₃ + ϱ₃₁^-1*ϱ₃₂ + ϱ₃₁^-1*ϱ₃₄ + ϱ₃₁^-1*ϱ₄₃ + ϱ₃₁^-1*λ₁₂ + ϱ₃₁^-1*λ₁₄ + ϱ₃₁^-1*λ₂₃ + ϱ₃₁^-1*λ₄₃ + ϱ₃₁^-1*ϱ₁₂^-1 + ϱ₃₁^-1*ϱ₁₄^-1 + ϱ₃₁^-1*ϱ₂₃^-1 + ϱ₃₁^-1*ϱ₃₂^-1 + ϱ₃₁^-1*ϱ₃₄^-1 + 2ϱ₃₁^-1*ϱ₄₁^-1 + 200ϱ₃₁^-1*ϱ₄₂^-1 + ϱ₃₁^-1*ϱ₄₃^-1 + ϱ₃₁^-1*λ₁₂^-1 + ϱ₃₁^-1*λ₁₄^-1 + 2ϱ₃₁^-1*λ₂₁^-1 + ϱ₃₁^-1*λ₂₃^-1 + 200ϱ₃₁^-1*λ₂₄^-1 + 2ϱ₃₁^-1*λ₃₂^-1 + 2ϱ₃₁^-1*λ₃₄^-1 + 2ϱ₃₁^-1*λ₄₁^-1 + 200ϱ₃₁^-1*λ₄₂^-1 + ϱ₃₁^-1*λ₄₃^-1 + ϱ₃₂^-1*ϱ₁₃ + ϱ₃₂^-1*ϱ₂₁ + ϱ₃₂^-1*ϱ₂₄ + ϱ₃₂^-1*ϱ₃₁ + ϱ₃₂^-1*ϱ₃₄ + ϱ₃₂^-1*ϱ₄₃ + ϱ₃₂^-1*λ₁₃ + ϱ₃₂^-1*λ₂₁ + ϱ₃₂^-1*λ₂₄ + ϱ₃₂^-1*λ₄₃ + ϱ₃₂^-1*ϱ₁₃^-1 + ϱ₃₂^-1*ϱ₂₁^-1 + ϱ₃₂^-1*ϱ₂₄^-1 + ϱ₃₂^-1*ϱ₃₁^-1 + ϱ₃₂^-1*ϱ₃₄^-1 + 200ϱ₃₂^-1*ϱ₄₁^-1 + 2ϱ₃₂^-1*ϱ₄₂^-1 + ϱ₃₂^-1*ϱ₄₃^-1 + 2ϱ₃₂^-1*λ₁₂^-1 + ϱ₃₂^-1*λ₁₃^-1 + 200ϱ₃₂^-1*λ₁₄^-1 + ϱ₃₂^-1*λ₂₁^-1 + ϱ₃₂^-1*λ₂₄^-1 + 2ϱ₃₂^-1*λ₃₁^-1 + 2ϱ₃₂^-1*λ₃₄^-1 + 200ϱ₃₂^-1*λ₄₁^-1 + 2ϱ₃₂^-1*λ₄₂^-1 + ϱ₃₂^-1*λ₄₃^-1 + ϱ₃₄^-1*ϱ₁₃ + ϱ₃₄^-1*ϱ₂₃ + ϱ₃₄^-1*ϱ₃₁ + ϱ₃₄^-1*ϱ₃₂ + ϱ₃₄^-1*ϱ₄₁ + ϱ₃₄^-1*ϱ₄₂ + ϱ₃₄^-1*λ₁₃ + ϱ₃₄^-1*λ₂₃ + ϱ₃₄^-1*λ₄₁ + ϱ₃₄^-1*λ₄₂ + ϱ₃₄^-1*ϱ₁₃^-1 + ϱ₃₄^-1*ϱ₂₃^-1 + ϱ₃₄^-1*ϱ₃₁^-1 + ϱ₃₄^-1*ϱ₃₂^-1 + ϱ₃₄^-1*ϱ₄₁^-1 + ϱ₃₄^-1*ϱ₄₂^-1 + 200ϱ₃₄^-1*λ₁₂^-1 + ϱ₃₄^-1*λ₁₃^-1 + 2ϱ₃₄^-1*λ₁₄^-1 + 200ϱ₃₄^-1*λ₂₁^-1 + ϱ₃₄^-1*λ₂₃^-1 + 2ϱ₃₄^-1*λ₂₄^-1 + 2ϱ₃₄^-1*λ₃₁^-1 + 2ϱ₃₄^-1*λ₃₂^-1 + ϱ₃₄^-1*λ₄₁^-1 + ϱ₃₄^-1*λ₄₂^-1 + ϱ₄₁^-1*ϱ₁₂ + ϱ₄₁^-1*ϱ₁₃ + ϱ₄₁^-1*ϱ₂₄ + ϱ₄₁^-1*ϱ₃₄ + ϱ₄₁^-1*ϱ₄₂ + ϱ₄₁^-1*ϱ₄₃ + ϱ₄₁^-1*λ₁₂ + ϱ₄₁^-1*λ₁₃ + ϱ₄₁^-1*λ₂₄ + ϱ₄₁^-1*λ₃₄ + ϱ₄₁^-1*ϱ₁₂^-1 + ϱ₄₁^-1*ϱ₁₃^-1 + ϱ₄₁^-1*ϱ₂₄^-1 + ϱ₄₁^-1*ϱ₃₄^-1 + ϱ₄₁^-1*ϱ₄₂^-1 + ϱ₄₁^-1*ϱ₄₃^-1 + ϱ₄₁^-1*λ₁₂^-1 + ϱ₄₁^-1*λ₁₃^-1 + 2ϱ₄₁^-1*λ₂₁^-1 + 200ϱ₄₁^-1*λ₂₃^-1 + ϱ₄₁^-1*λ₂₄^-1 + 2ϱ₄₁^-1*λ₃₁^-1 + 200ϱ₄₁^-1*λ₃₂^-1 + ϱ₄₁^-1*λ₃₄^-1 + 2ϱ₄₁^-1*λ₄₂^-1 + 2ϱ₄₁^-1*λ₄₃^-1 + ϱ₄₂^-1*ϱ₁₄ + ϱ₄₂^-1*ϱ₂₁ + ϱ₄₂^-1*ϱ₂₃ + ϱ₄₂^-1*ϱ₃₄ + ϱ₄₂^-1*ϱ₄₁ + ϱ₄₂^-1*ϱ₄₃ + ϱ₄₂^-1*λ₁₄ + ϱ₄₂^-1*λ₂₁ + ϱ₄₂^-1*λ₂₃ + ϱ₄₂^-1*λ₃₄ + ϱ₄₂^-1*ϱ₁₄^-1 + ϱ₄₂^-1*ϱ₂₁^-1 + ϱ₄₂^-1*ϱ₂₃^-1 + ϱ₄₂^-1*ϱ₃₄^-1 + ϱ₄₂^-1*ϱ₄₁^-1 + ϱ₄₂^-1*ϱ₄₃^-1 + 2ϱ₄₂^-1*λ₁₂^-1 + 200ϱ₄₂^-1*λ₁₃^-1 + ϱ₄₂^-1*λ₁₄^-1 + ϱ₄₂^-1*λ₂₁^-1 + ϱ₄₂^-1*λ₂₃^-1 + 200ϱ₄₂^-1*λ₃₁^-1 + 2ϱ₄₂^-1*λ₃₂^-1 + ϱ₄₂^-1*λ₃₄^-1 + 2ϱ₄₂^-1*λ₄₁^-1 + 2ϱ₄₂^-1*λ₄₃^-1 + ϱ₄₃^-1*ϱ₁₄ + ϱ₄₃^-1*ϱ₂₄ + ϱ₄₃^-1*ϱ₃₁ + ϱ₄₃^-1*ϱ₃₂ + ϱ₄₃^-1*ϱ₄₁ + ϱ₄₃^-1*ϱ₄₂ + ϱ₄₃^-1*λ₁₄ + ϱ₄₃^-1*λ₂₄ + ϱ₄₃^-1*λ₃₁ + ϱ₄₃^-1*λ₃₂ + ϱ₄₃^-1*ϱ₁₄^-1 + ϱ₄₃^-1*ϱ₂₄^-1 + ϱ₄₃^-1*ϱ₃₁^-1 + ϱ₄₃^-1*ϱ₃₂^-1 + ϱ₄₃^-1*ϱ₄₁^-1 + ϱ₄₃^-1*ϱ₄₂^-1 + 200ϱ₄₃^-1*λ₁₂^-1 + 2ϱ₄₃^-1*λ₁₃^-1 + ϱ₄₃^-1*λ₁₄^-1 + 200ϱ₄₃^-1*λ₂₁^-1 + 2ϱ₄₃^-1*λ₂₃^-1 + ϱ₄₃^-1*λ₂₄^-1 + ϱ₄₃^-1*λ₃₁^-1 + ϱ₄₃^-1*λ₃₂^-1 + 2ϱ₄₃^-1*λ₄₁^-1 + 2ϱ₄₃^-1*λ₄₂^-1 + λ₁₂^-1*ϱ₂₃ + λ₁₂^-1*ϱ₂₄ + λ₁₂^-1*ϱ₃₁ + λ₁₂^-1*ϱ₄₁ + λ₁₂^-1*λ₁₃ + λ₁₂^-1*λ₁₄ + λ₁₂^-1*λ₂₃ + λ₁₂^-1*λ₂₄ + λ₁₂^-1*λ₃₁ + λ₁₂^-1*λ₄₁ + λ₁₂^-1*ϱ₂₃^-1 + λ₁₂^-1*ϱ₂₄^-1 + λ₁₂^-1*ϱ₃₁^-1 + λ₁₂^-1*ϱ₄₁^-1 + λ₁₂^-1*λ₁₃^-1 + λ₁₂^-1*λ₁₄^-1 + λ₁₂^-1*λ₂₃^-1 + λ₁₂^-1*λ₂₄^-1 + λ₁₂^-1*λ₃₁^-1 + 2λ₁₂^-1*λ₃₂^-1 + 200λ₁₂^-1*λ₃₄^-1 + λ₁₂^-1*λ₄₁^-1 + 2λ₁₂^-1*λ₄₂^-1 + 200λ₁₂^-1*λ₄₃^-1 + λ₁₃^-1*ϱ₂₁ + λ₁₃^-1*ϱ₃₂ + λ₁₃^-1*ϱ₃₄ + λ₁₃^-1*ϱ₄₁ + λ₁₃^-1*λ₁₂ + λ₁₃^-1*λ₁₄ + λ₁₃^-1*λ₂₁ + λ₁₃^-1*λ₃₂ + λ₁₃^-1*λ₃₄ + λ₁₃^-1*λ₄₁ + λ₁₃^-1*ϱ₂₁^-1 + λ₁₃^-1*ϱ₃₂^-1 + λ₁₃^-1*ϱ₃₄^-1 + λ₁₃^-1*ϱ₄₁^-1 + λ₁₃^-1*λ₁₂^-1 + λ₁₃^-1*λ₁₄^-1 + λ₁₃^-1*λ₂₁^-1 + 2λ₁₃^-1*λ₂₃^-1 + 200λ₁₃^-1*λ₂₄^-1 + λ₁₃^-1*λ₃₂^-1 + λ₁₃^-1*λ₃₄^-1 + λ₁₃^-1*λ₄₁^-1 + 200λ₁₃^-1*λ₄₂^-1 + 2λ₁₃^-1*λ₄₃^-1 + λ₁₄^-1*ϱ₂₁ + λ₁₄^-1*ϱ₃₁ + λ₁₄^-1*ϱ₄₂ + λ₁₄^-1*ϱ₄₃ + λ₁₄^-1*λ₁₂ + λ₁₄^-1*λ₁₃ + λ₁₄^-1*λ₂₁ + λ₁₄^-1*λ₃₁ + λ₁₄^-1*λ₄₂ + λ₁₄^-1*λ₄₃ + λ₁₄^-1*ϱ₂₁^-1 + λ₁₄^-1*ϱ₃₁^-1 + λ₁₄^-1*ϱ₄₂^-1 + λ₁₄^-1*ϱ₄₃^-1 + λ₁₄^-1*λ₁₂^-1 + λ₁₄^-1*λ₁₃^-1 + λ₁₄^-1*λ₂₁^-1 + 200λ₁₄^-1*λ₂₃^-1 + 2λ₁₄^-1*λ₂₄^-1 + λ₁₄^-1*λ₃₁^-1 + 200λ₁₄^-1*λ₃₂^-1 + 2λ₁₄^-1*λ₃₄^-1 + λ₁₄^-1*λ₄₂^-1 + λ₁₄^-1*λ₄₃^-1 + λ₂₁^-1*ϱ₁₃ + λ₂₁^-1*ϱ₁₄ + λ₂₁^-1*ϱ₃₂ + λ₂₁^-1*ϱ₄₂ + λ₂₁^-1*λ₁₃ + λ₂₁^-1*λ₁₄ + λ₂₁^-1*λ₂₃ + λ₂₁^-1*λ₂₄ + λ₂₁^-1*λ₃₂ + λ₂₁^-1*λ₄₂ + λ₂₁^-1*ϱ₁₃^-1 + λ₂₁^-1*ϱ₁₄^-1 + λ₂₁^-1*ϱ₃₂^-1 + λ₂₁^-1*ϱ₄₂^-1 + λ₂₁^-1*λ₁₃^-1 + λ₂₁^-1*λ₁₄^-1 + λ₂₁^-1*λ₂₃^-1 + λ₂₁^-1*λ₂₄^-1 + 2λ₂₁^-1*λ₃₁^-1 + λ₂₁^-1*λ₃₂^-1 + 200λ₂₁^-1*λ₃₄^-1 + 2λ₂₁^-1*λ₄₁^-1 + λ₂₁^-1*λ₄₂^-1 + 200λ₂₁^-1*λ₄₃^-1 + λ₂₃^-1*ϱ₁₂ + λ₂₃^-1*ϱ₃₁ + λ₂₃^-1*ϱ₃₄ + λ₂₃^-1*ϱ₄₂ + λ₂₃^-1*λ₁₂ + λ₂₃^-1*λ₂₁ + λ₂₃^-1*λ₂₄ + λ₂₃^-1*λ₃₁ + λ₂₃^-1*λ₃₄ + λ₂₃^-1*λ₄₂ + λ₂₃^-1*ϱ₁₂^-1 + λ₂₃^-1*ϱ₃₁^-1 + λ₂₃^-1*ϱ₃₄^-1 + λ₂₃^-1*ϱ₄₂^-1 + λ₂₃^-1*λ₁₂^-1 + λ₂₃^-1*λ₂₁^-1 + λ₂₃^-1*λ₂₄^-1 + λ₂₃^-1*λ₃₁^-1 + λ₂₃^-1*λ₃₄^-1 + 200λ₂₃^-1*λ₄₁^-1 + λ₂₃^-1*λ₄₂^-1 + 2λ₂₃^-1*λ₄₃^-1 + λ₂₄^-1*ϱ₁₂ + λ₂₄^-1*ϱ₃₂ + λ₂₄^-1*ϱ₄₁ + λ₂₄^-1*ϱ₄₃ + λ₂₄^-1*λ₁₂ + λ₂₄^-1*λ₂₁ + λ₂₄^-1*λ₂₃ + λ₂₄^-1*λ₃₂ + λ₂₄^-1*λ₄₁ + λ₂₄^-1*λ₄₃ + λ₂₄^-1*ϱ₁₂^-1 + λ₂₄^-1*ϱ₃₂^-1 + λ₂₄^-1*ϱ₄₁^-1 + λ₂₄^-1*ϱ₄₃^-1 + λ₂₄^-1*λ₁₂^-1 + λ₂₄^-1*λ₂₁^-1 + λ₂₄^-1*λ₂₃^-1 + 200λ₂₄^-1*λ₃₁^-1 + λ₂₄^-1*λ₃₂^-1 + 2λ₂₄^-1*λ₃₄^-1 + λ₂₄^-1*λ₄₁^-1 + λ₂₄^-1*λ₄₃^-1 + λ₃₁^-1*ϱ₁₂ + λ₃₁^-1*ϱ₁₄ + λ₃₁^-1*ϱ₂₃ + λ₃₁^-1*ϱ₄₃ + λ₃₁^-1*λ₁₂ + λ₃₁^-1*λ₁₄ + λ₃₁^-1*λ₂₃ + λ₃₁^-1*λ₃₂ + λ₃₁^-1*λ₃₄ + λ₃₁^-1*λ₄₃ + λ₃₁^-1*ϱ₁₂^-1 + λ₃₁^-1*ϱ₁₄^-1 + λ₃₁^-1*ϱ₂₃^-1 + λ₃₁^-1*ϱ₄₃^-1 + λ₃₁^-1*λ₁₂^-1 + λ₃₁^-1*λ₁₄^-1 + λ₃₁^-1*λ₂₃^-1 + λ₃₁^-1*λ₃₂^-1 + λ₃₁^-1*λ₃₄^-1 + 2λ₃₁^-1*λ₄₁^-1 + 200λ₃₁^-1*λ₄₂^-1 + λ₃₁^-1*λ₄₃^-1 + λ₃₂^-1*ϱ₁₃ + λ₃₂^-1*ϱ₂₁ + λ₃₂^-1*ϱ₂₄ + λ₃₂^-1*ϱ₄₃ + λ₃₂^-1*λ₁₃ + λ₃₂^-1*λ₂₁ + λ₃₂^-1*λ₂₄ + λ₃₂^-1*λ₃₁ + λ₃₂^-1*λ₃₄ + λ₃₂^-1*λ₄₃ + λ₃₂^-1*ϱ₁₃^-1 + λ₃₂^-1*ϱ₂₁^-1 + λ₃₂^-1*ϱ₂₄^-1 + λ₃₂^-1*ϱ₄₃^-1 + λ₃₂^-1*λ₁₃^-1 + λ₃₂^-1*λ₂₁^-1 + λ₃₂^-1*λ₂₄^-1 + λ₃₂^-1*λ₃₁^-1 + λ₃₂^-1*λ₃₄^-1 + 200λ₃₂^-1*λ₄₁^-1 + 2λ₃₂^-1*λ₄₂^-1 + λ₃₂^-1*λ₄₃^-1 + λ₃₄^-1*ϱ₁₃ + λ₃₄^-1*ϱ₂₃ + λ₃₄^-1*ϱ₄₁ + λ₃₄^-1*ϱ₄₂ + λ₃₄^-1*λ₁₃ + λ₃₄^-1*λ₂₃ + λ₃₄^-1*λ₃₁ + λ₃₄^-1*λ₃₂ + λ₃₄^-1*λ₄₁ + λ₃₄^-1*λ₄₂ + λ₃₄^-1*ϱ₁₃^-1 + λ₃₄^-1*ϱ₂₃^-1 + λ₃₄^-1*ϱ₄₁^-1 + λ₃₄^-1*ϱ₄₂^-1 + λ₃₄^-1*λ₁₃^-1 + λ₃₄^-1*λ₂₃^-1 + λ₃₄^-1*λ₃₁^-1 + λ₃₄^-1*λ₃₂^-1 + λ₃₄^-1*λ₄₁^-1 + λ₃₄^-1*λ₄₂^-1 + λ₄₁^-1*ϱ₁₂ + λ₄₁^-1*ϱ₁₃ + λ₄₁^-1*ϱ₂₄ + λ₄₁^-1*ϱ₃₄ + λ₄₁^-1*λ₁₂ + λ₄₁^-1*λ₁₃ + λ₄₁^-1*λ₂₄ + λ₄₁^-1*λ₃₄ + λ₄₁^-1*λ₄₂ + λ₄₁^-1*λ₄₃ + λ₄₁^-1*ϱ₁₂^-1 + λ₄₁^-1*ϱ₁₃^-1 + λ₄₁^-1*ϱ₂₄^-1 + λ₄₁^-1*ϱ₃₄^-1 + λ₄₁^-1*λ₁₂^-1 + λ₄₁^-1*λ₁₃^-1 + λ₄₁^-1*λ₂₄^-1 + λ₄₁^-1*λ₃₄^-1 + λ₄₁^-1*λ₄₂^-1 + λ₄₁^-1*λ₄₃^-1 + λ₄₂^-1*ϱ₁₄ + λ₄₂^-1*ϱ₂₁ + λ₄₂^-1*ϱ₂₃ + λ₄₂^-1*ϱ₃₄ + λ₄₂^-1*λ₁₄ + λ₄₂^-1*λ₂₁ + λ₄₂^-1*λ₂₃ + λ₄₂^-1*λ₃₄ + λ₄₂^-1*λ₄₁ + λ₄₂^-1*λ₄₃ + λ₄₂^-1*ϱ₁₄^-1 + λ₄₂^-1*ϱ₂₁^-1 + λ₄₂^-1*ϱ₂₃^-1 + λ₄₂^-1*ϱ₃₄^-1 + λ₄₂^-1*λ₁₄^-1 + λ₄₂^-1*λ₂₁^-1 + λ₄₂^-1*λ₂₃^-1 + λ₄₂^-1*λ₃₄^-1 + λ₄₂^-1*λ₄₁^-1 + λ₄₂^-1*λ₄₃^-1 + λ₄₃^-1*ϱ₁₄ + λ₄₃^-1*ϱ₂₄ + λ₄₃^-1*ϱ₃₁ + λ₄₃^-1*ϱ₃₂ + λ₄₃^-1*λ₁₄ + λ₄₃^-1*λ₂₄ + λ₄₃^-1*λ₃₁ + λ₄₃^-1*λ₃₂ + λ₄₃^-1*λ₄₁ + λ₄₃^-1*λ₄₂ + λ₄₃^-1*ϱ₁₄^-1 + λ₄₃^-1*ϱ₂₄^-1 + λ₄₃^-1*ϱ₃₁^-1 + λ₄₃^-1*ϱ₃₂^-1 + λ₄₃^-1*λ₁₄^-1 + λ₄₃^-1*λ₂₄^-1 + λ₄₃^-1*λ₃₁^-1 + λ₄₃^-1*λ₃₂^-1 + λ₄₃^-1*λ₄₁^-1 + λ₄₃^-1*λ₄₂^-1"
      ]
     },
     "execution_count": 22,
     "metadata": {},
     "output_type": "execute_result"
    }
   ],
   "source": [
    "@time Adj₄ = PropertyT.Adj(parent(Δ₄), 4)\n",
    "@time Op₄ = PropertyT.Op(parent(Δ₄), 4)\n",
    "\n",
    "elt₄ = Adj₄ + k*Op₄"
   ]
  },
  {
   "cell_type": "markdown",
   "metadata": {},
   "source": [
    "We are ready to define the optimisation problem. Function\n",
    "> `PropertyT.SOS_problem(x, Δ, orbit_data; upper_bound=UB)`  \n",
    "\n",
    "defines the optimisation problem equivalent to the one of the form\n",
    "\\begin{align}\n",
    "\\text{ maximize : } \\quad & \\lambda\\\\\n",
    "\\text{under constraints : }\\quad & 0 \\leqslant \\lambda \\leqslant \\operatorname{UB},\\\\\n",
    "     & x - \\lambda \\Delta = \\sum \\xi_i^* \\xi_i,\\\\\n",
    "     & \\text{with $\\sum \\xi_i^* \\xi_i$ invariant under the action of $S_2 \\wr S_4$}.\n",
    "\\end{align}"
   ]
  },
  {
   "cell_type": "code",
   "execution_count": 23,
   "metadata": {
    "ExecuteTime": {
     "end_time": "2020-10-17T17:56:48.568000+02:00",
     "start_time": "2020-10-17T15:55:54.278Z"
    }
   },
   "outputs": [
    {
     "name": "stderr",
     "output_type": "stream",
     "text": [
      "┌ Info: Adding 6231 constraints...\n",
      "└ @ PropertyT /home/kalmar/.julia/packages/PropertyT/vcGsE/src/sos_sdps.jl:124\n"
     ]
    },
    {
     "name": "stdout",
     "output_type": "stream",
     "text": [
      " 24.120746 seconds (8.20 M allocations: 33.581 GiB, 7.96% gc time)\n"
     ]
    },
    {
     "data": {
      "text/plain": [
       "(A JuMP Model\n",
       "Maximization problem with:\n",
       "Variables: 11047\n",
       "Objective function type: JuMP.VariableRef\n",
       "`JuMP.GenericAffExpr{Float64,JuMP.VariableRef}`-in-`MathOptInterface.EqualTo{Float64}`: 6231 constraints\n",
       "`Array{JuMP.GenericAffExpr{Float64,JuMP.VariableRef},1}`-in-`MathOptInterface.PositiveSemidefiniteConeSquare`: 20 constraints\n",
       "`JuMP.VariableRef`-in-`MathOptInterface.LessThan{Float64}`: 1 constraint\n",
       "Model mode: AUTOMATIC\n",
       "CachingOptimizer state: NO_OPTIMIZER\n",
       "Solver name: No optimizer attached.\n",
       "Names registered in the model: λ,)"
      ]
     },
     "execution_count": 23,
     "metadata": {},
     "output_type": "execute_result"
    }
   ],
   "source": [
    "SDP_problem, varP = PropertyT.SOS_problem_primal(elt₄, Δ₄, block_decomposition; upper_bound=0.1);\n",
    "(SDP_problem,)"
   ]
  },
  {
   "cell_type": "markdown",
   "metadata": {},
   "source": [
    "### Solving the problem\n",
    "Depending on the actual problem one may need to tweak the parameters given to the solver:\n",
    " * `eps` sets the requested accuracy,\n",
    " * `max_iters` sets the number of iterations to run before solver gives up,\n",
    " * `alpha` is a bias parameter ($\\alpha \\in (0,2)$) which determines the step size (hence the rate of convergence). $\\alpha$ close to $2$ shoudl provide fastest initial convergence, but may introduce numerical noise.\n",
    " * `acceleration_lookback`: if you experience numerical instability in scs log should be changed to `0`.\n",
    " \n",
    "The parameters below should be enough to obtain a decent solution for $\\operatorname{Adj}_4 + 100.0\\operatorname{Op}_4 - 0.1\\Delta_4$ in reasonable time (<10 minutes)."
   ]
  },
  {
   "cell_type": "code",
   "execution_count": 24,
   "metadata": {
    "ExecuteTime": {
     "end_time": "2020-10-17T17:57:20.450000+02:00",
     "start_time": "2020-10-17T15:57:14.018Z"
    }
   },
   "outputs": [],
   "source": [
    "using PropertyT.JuMP\n",
    "using SCS\n",
    "warm = nothing"
   ]
  },
  {
   "cell_type": "code",
   "execution_count": 25,
   "metadata": {
    "ExecuteTime": {
     "end_time": "2020-10-17T18:06:38.033000+02:00",
     "start_time": "2020-10-17T15:57:52.461Z"
    }
   },
   "outputs": [
    {
     "name": "stdout",
     "output_type": "stream",
     "text": [
      "----------------------------------------------------------------------------\n",
      "\tSCS v2.1.2 - Splitting Conic Solver\n",
      "\t(c) Brendan O'Donoghue, Stanford University, 2012\n",
      "----------------------------------------------------------------------------\n",
      "Lin-sys: sparse-direct, nnz in A = 8010504\n",
      "eps = 1.00e-10, alpha = 1.50, max_iters = 10000, normalize = 1, scale = 1.00\n",
      "acceleration_lookback = 25, rho_x = 1.00e-03\n",
      "Variables n = 11047, constraints m = 17278\n",
      "Cones:\tprimal zero / dual free vars: 11570\n",
      "\tlinear vars: 1\n",
      "\tsd vars: 5707, sd blks: 20\n",
      "Setup time: 8.97e+01s\n",
      "SCS using variable warm-starting\n",
      "----------------------------------------------------------------------------\n",
      " Iter | pri res | dua res | rel gap | pri obj | dua obj | kap/tau | time (s)\n",
      "----------------------------------------------------------------------------\n",
      "     0| 3.46e+20  2.60e+20  1.00e+00 -2.31e+23  1.87e+21  5.59e+22  1.99e-01 \n",
      "   100| 8.05e-04  4.66e-04  5.00e-02  4.02e-02 -1.24e-02  1.95e-15  1.05e+01 \n",
      "   200| 3.06e-04  2.06e-04  2.33e-03  3.49e-02  3.24e-02  8.28e-15  2.08e+01 \n",
      "   300| 2.20e-04  1.50e-04  7.79e-03  9.21e-03  1.34e-03  5.06e-15  3.12e+01 \n",
      "   400| 1.23e-04  9.22e-05  9.82e-04  2.12e-02  2.22e-02  7.79e-16  4.16e+01 \n",
      "   500| 1.08e-04  7.81e-05  1.21e-02  1.22e-02  2.47e-02  1.02e-14  5.19e+01 \n",
      "   600| 8.40e-05  6.04e-05  1.85e-03  4.37e-03  2.51e-03  5.90e-15  6.23e+01 \n",
      "   700| 6.99e-05  5.00e-05  1.01e-03  4.32e-03  5.34e-03  1.13e-15  7.26e+01 \n",
      "   800| 5.73e-05  4.39e-05  2.75e-03  2.33e-03  5.10e-03  1.05e-14  8.29e+01 \n",
      "   900| 4.30e-05  3.50e-05  1.23e-03  2.11e-03  8.76e-04  6.81e-15  9.32e+01 \n",
      "  1000| 3.76e-05  2.80e-05  2.67e-04  2.71e-03  2.97e-03  4.71e-15  1.04e+02 \n",
      "  1100| 2.44e-05  1.79e-05  6.35e-04  2.55e-03  3.19e-03  2.63e-15  1.14e+02 \n",
      "  1200| 2.55e-05  1.96e-05  3.56e-04  1.82e-03  1.46e-03  2.04e-14  1.24e+02 \n",
      "  1300| 1.32e-05  1.16e-05  7.56e-04 -1.02e-03 -1.78e-03  9.40e-15  1.34e+02 \n",
      "  1400| 1.08e-05  8.13e-06  6.76e-04 -1.21e-03 -1.88e-03  8.61e-15  1.45e+02 \n",
      "  1500| 7.78e-06  7.03e-06  1.07e-04  2.65e-04  1.58e-04  2.42e-14  1.55e+02 \n",
      "  1600| 6.93e-06  5.65e-06  2.58e-04  3.38e-04  8.01e-05  2.51e-14  1.65e+02 \n",
      "  1700| 5.30e-06  4.94e-06  1.84e-04 -4.83e-04 -2.98e-04  2.34e-14  1.75e+02 \n",
      "  1800| 6.58e-06  6.49e-06  4.62e-04 -5.02e-04 -9.65e-04  7.54e-15  1.86e+02 \n",
      "  1900| 6.68e-06  6.49e-06  5.31e-04  2.03e-05 -5.11e-04  4.04e-15  1.96e+02 \n",
      "  2000| 5.36e-06  5.03e-06  3.51e-04 -8.41e-05  2.67e-04  1.85e-14  2.06e+02 \n",
      "  2100| 6.41e-06  4.85e-06  2.48e-04  7.09e-05 -1.77e-04  9.05e-15  2.16e+02 \n",
      "  2200| 6.55e-06  6.66e-06  3.96e-04  3.61e-04 -3.59e-05  3.11e-15  2.26e+02 \n",
      "  2300| 6.06e-06  6.42e-06  9.80e-04  3.12e-04  1.29e-03  8.79e-15  2.37e+02 \n",
      "  2400| 5.02e-06  4.55e-06  1.14e-04  4.07e-04  2.93e-04  1.11e-14  2.47e+02 \n",
      "  2500| 1.08e-05  9.33e-06  9.65e-05  1.25e-03  1.35e-03  9.50e-15  2.57e+02 \n",
      "  2600| 2.63e-05  2.06e-05  2.72e-03  4.13e-03  6.88e-03  1.14e-14  2.67e+02 \n",
      "  2700| 5.67e-06  4.68e-06  1.23e-04 -1.17e-04  6.24e-06  2.69e-14  2.78e+02 \n",
      "  2800| 5.19e-06  4.87e-06  3.51e-04  7.82e-05  4.30e-04  1.11e-14  2.88e+02 \n",
      "  2900| 6.07e-06  5.66e-06  5.06e-05 -1.05e-04 -1.55e-04  9.22e-15  2.98e+02 \n",
      "  3000| 4.78e-06  3.70e-06  1.16e-03 -2.16e-04  9.48e-04  2.63e-14  3.08e+02 \n",
      "  3100| 1.80e-06  1.50e-06  3.74e-04  5.71e-05 -3.17e-04  3.64e-15  3.18e+02 \n",
      "  3200| 7.36e-12  6.15e-12  3.89e-10 -3.53e-11 -4.24e-10  3.96e-15  3.29e+02 \n",
      "  3204| 3.61e-13  2.95e-13  9.02e-11  1.22e-11 -7.80e-11  7.20e-16  3.29e+02 \n",
      "----------------------------------------------------------------------------\n",
      "Status: Solved\n",
      "Timing: Solve time: 3.29e+02s\n",
      "\tLin-sys: nnz in L factor: 28748612, avg solve time: 9.36e-02s\n",
      "\tCones: avg projection time: 3.30e-03s\n",
      "\tAcceleration: avg step time: 4.10e-03s\n",
      "----------------------------------------------------------------------------\n",
      "Error metrics:\n",
      "dist(s, K) = 1.1395e-09, dist(y, K*) = 2.0661e-09, s'y/|s||y| = -7.6432e-14\n",
      "primal res: |Ax + s - b|_2 / (1 + |b|_2) = 3.6127e-13\n",
      "dual res:   |A'y + c|_2 / (1 + |c|_2) = 2.9493e-13\n",
      "rel gap:    |c'x + b'y| / (1 + |c'x| + |b'y|) = 9.0154e-11\n",
      "----------------------------------------------------------------------------\n",
      "c'x = 0.0000, -b'y = -0.0000\n",
      "============================================================================\n",
      "status = MathOptInterface.OPTIMAL\n"
     ]
    }
   ],
   "source": [
    "with_SCS = with_optimizer(SCS.Optimizer, \n",
    "    linear_solver=SCS.DirectSolver, \n",
    "    eps=1e-10,\n",
    "    max_iters=10_000,\n",
    "    alpha=1.5,\n",
    "    acceleration_lookback=25,\n",
    "    warm_start=true)\n",
    "\n",
    "status, warm = PropertyT.solve(SDP_problem, with_SCS, warm);\n",
    "@show status;"
   ]
  },
  {
   "cell_type": "markdown",
   "metadata": {},
   "source": [
    "NOTE: if `status = ALMOST_OPTIMAL`, you may need to re-run the cell above."
   ]
  },
  {
   "cell_type": "markdown",
   "metadata": {},
   "source": [
    "It seems that solver obtained sum of squares decomposition for $\\operatorname{Adj}_4 + 100.0\\operatorname{Op}_4 - 0.1\\Delta_4$ with $\\lambda$:"
   ]
  },
  {
   "cell_type": "code",
   "execution_count": 26,
   "metadata": {
    "ExecuteTime": {
     "end_time": "2020-10-18T00:04:34.640000+02:00",
     "start_time": "2020-10-17T22:04:34.214Z"
    }
   },
   "outputs": [
    {
     "data": {
      "text/latex": [
       "0 . 0 9 9 9 9 9 9 9 9 9 8 7 8 2 1 6 6"
      ],
      "text/plain": [
       "0.09999999998782166"
      ]
     },
     "execution_count": 26,
     "metadata": {},
     "output_type": "execute_result"
    }
   ],
   "source": [
    "λ₄ = value(SDP_problem[:λ])"
   ]
  },
  {
   "cell_type": "markdown",
   "metadata": {},
   "source": [
    "To apply the `SOS_residual` function we need to reconstruct matrix `Q` from the semipositive-definite blocks in `SDP_problem`: "
   ]
  },
  {
   "cell_type": "code",
   "execution_count": 27,
   "metadata": {
    "ExecuteTime": {
     "end_time": "2020-10-18T00:05:38.169000+02:00",
     "start_time": "2020-10-17T22:04:40.191Z"
    }
   },
   "outputs": [
    {
     "data": {
      "text/plain": [
       "1777×1777 Array{Float64,2}:\n",
       " 73.6668      -3.53685      -3.53685      …   0.042403      0.052693\n",
       " -3.53685     20.088        -0.672753        -0.00720344   -0.0118432\n",
       " -3.53685     -0.672753     20.088           -0.0412075     4.17635e-5\n",
       " -3.53685     -0.672753     -0.672753         0.0136568     0.00637814\n",
       " -3.53685     -0.909577     -0.399332         0.00507484   -0.0118432\n",
       " -3.53685     -0.399332     -0.431527     …  -0.000939495   4.17635e-5\n",
       " -3.53685     -0.399332      1.35135          0.000623127   0.00637814\n",
       " -3.53685     -0.399332     -0.909577         0.00937818   -0.000377992\n",
       " -3.53685     -0.431527     -0.399332         0.00280739   -0.000377992\n",
       " -3.53685      1.35135      -0.399332         0.00367772    0.00719231\n",
       " -3.53685     -0.399332     -0.399332     …   0.0318183     0.00811301\n",
       " -3.53685     -0.431527      1.35135         -0.00728109    0.00811301\n",
       " -3.53685      1.35135      -0.431527         0.00512306    0.00785316\n",
       "  ⋮                                       ⋱   ⋮            \n",
       " -0.0181961    0.00308358    0.00426268   …  -0.012201     -0.01126\n",
       "  0.00609812   0.00547639   -0.00683407       0.00421675    0.00893611\n",
       "  0.00609812  -0.000991355  -0.00105234      -0.0323998     0.00893611\n",
       " -0.0179306   -0.00174578   -0.000656216     -0.0022567    -0.012395\n",
       " -0.0167704   -0.021978     -0.00857865       0.0290574     0.0019202\n",
       " -0.0167704   -0.0122136    -0.00147366   …  -0.0116298     0.0019202\n",
       " -0.0599944   -0.0119557    -0.0161813       -0.00655492    0.000431544\n",
       " -0.0599944   -0.0123905     0.00256829      -0.0029705     0.000431544\n",
       " -0.0195403    0.00735981   -0.000662284     -0.00319418   -0.0453741\n",
       "  0.042403     0.00507484   -0.000939495      0.000746334   0.0175979\n",
       "  0.042403    -0.00720344   -0.0412075    …   0.533857      0.0175979\n",
       "  0.052693    -0.0118432     4.17637e-5       0.0175979     0.16533"
      ]
     },
     "execution_count": 27,
     "metadata": {},
     "output_type": "execute_result"
    }
   ],
   "source": [
    "Q₄ = let Ps = [value.(P) for P in varP], bd = block_decomposition\n",
    "    Qs = real.(sqrt.(Ps));\n",
    "    PropertyT.reconstruct(Qs, block_decomposition);\n",
    "end"
   ]
  },
  {
   "cell_type": "code",
   "execution_count": 28,
   "metadata": {
    "ExecuteTime": {
     "end_time": "2020-10-18T00:05:45.074000+02:00",
     "start_time": "2020-10-17T22:05:21.708Z"
    }
   },
   "outputs": [],
   "source": [
    "Q₄_aug, check_columns_augmentation = PropertyT.augIdproj(Interval, Q₄);\n",
    "@assert check_columns_augmentation"
   ]
  },
  {
   "cell_type": "code",
   "execution_count": 29,
   "metadata": {
    "ExecuteTime": {
     "end_time": "2020-10-18T00:09:43.806000+02:00",
     "start_time": "2020-10-17T22:06:16.205Z"
    }
   },
   "outputs": [
    {
     "name": "stdout",
     "output_type": "stream",
     "text": [
      " 54.242839 seconds (40.43 k allocations: 80.632 MiB)\n",
      "norm(residual₄_int, 1) = [1.08665e-05, 1.09478e-05]\n"
     ]
    },
    {
     "name": "stderr",
     "output_type": "stream",
     "text": [
      "┌ Info: λ₄ is certified to be > \n",
      "│   λ₄_cert.lo = 0.09997810453347668\n",
      "└ @ Main In[29]:5\n",
      "┌ Info: i.e Adj₄ + 100.0·Op₄ - (0.09997810453347668)·Δ₄ ∈ Σ²₂ ISAut(F₄)\n",
      "└ @ Main In[29]:6\n"
     ]
    }
   ],
   "source": [
    "elt₄_int = elt₄ - @interval(λ₄)*Δ₄;\n",
    "residual₄_int = SOS_residual(elt₄_int, Q₄_aug)\n",
    "@show norm(residual₄_int, 1);\n",
    "λ₄_cert = @interval(λ₄) - 2*norm(residual₄_int, 1)\n",
    "@info \"λ₄ is certified to be > \" λ₄_cert.lo\n",
    "@info \"i.e Adj₄ + $k·Op₄ - ($(λ₄_cert.lo))·Δ₄ ∈ Σ²₂ ISAut(F₄)\""
   ]
  },
  {
   "cell_type": "code",
   "execution_count": 30,
   "metadata": {
    "ExecuteTime": {
     "end_time": "2020-10-18T00:05:46.586000+02:00",
     "start_time": "2020-10-17T22:05:43.956Z"
    }
   },
   "outputs": [
    {
     "data": {
      "text/plain": [
       "2020-10-21T14:24:45.043"
      ]
     },
     "execution_count": 30,
     "metadata": {},
     "output_type": "execute_result"
    }
   ],
   "source": [
    "now()"
   ]
  }
 ],
 "metadata": {
  "@webio": {
   "lastCommId": null,
   "lastKernelId": null
  },
  "gist": {
   "data": {
    "description": "ownCloud/GroupsWithPropertyT/notebooks/Positivity in SL(n,Z).ipynb",
    "public": false
   },
   "id": ""
  },
  "kernelspec": {
   "display_name": "Julia 1.5.2",
   "language": "julia",
   "name": "julia-1.5"
  },
  "language_info": {
   "file_extension": ".jl",
   "mimetype": "application/julia",
   "name": "julia",
   "version": "1.5.2"
  },
  "toc": {
   "base_numbering": 1,
   "nav_menu": {},
   "number_sections": true,
   "sideBar": false,
   "skip_h1_title": false,
   "title_cell": "Table of Contents",
   "title_sidebar": "Contents",
   "toc_cell": false,
   "toc_position": {},
   "toc_section_display": true,
   "toc_window_display": false
  }
 },
 "nbformat": 4,
 "nbformat_minor": 2
}
