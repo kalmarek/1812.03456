{
 "cells": [
  {
   "cell_type": "markdown",
   "metadata": {
    "cell_style": "center"
   },
   "source": [
    "# Installation"
   ]
  },
  {
   "cell_type": "markdown",
   "metadata": {},
   "source": [
    "The following instructions were prepared using"
   ]
  },
  {
   "cell_type": "code",
   "execution_count": 1,
   "metadata": {
    "ExecuteTime": {
     "end_time": "2020-10-17T17:36:54.487000+02:00",
     "start_time": "2020-10-17T15:36:51.237Z"
    }
   },
   "outputs": [
    {
     "name": "stdout",
     "output_type": "stream",
     "text": [
      "Julia Version 1.5.2\n",
      "Commit 539f3ce943 (2020-09-23 23:17 UTC)\n",
      "Platform Info:\n",
      "  OS: Linux (x86_64-pc-linux-gnu)\n",
      "  CPU: Intel(R) Core(TM) i9-9900X CPU @ 3.50GHz\n",
      "  WORD_SIZE: 64\n",
      "  LIBM: libopenlibm\n",
      "  LLVM: libLLVM-9.0.1 (ORCJIT, skylake-avx512)\n",
      "Environment:\n",
      "  JULIA_NUM_THREADS = 4\n"
     ]
    }
   ],
   "source": [
    "versioninfo()"
   ]
  },
  {
   "cell_type": "markdown",
   "metadata": {},
   "source": [
    "Before exploring the notebook you need to clone the main repository:\n",
    "```bash\n",
    " git clone https://github.com/kalmarek/1812.03456.git\n",
    "```\n",
    "This notebook should be located in `1812.03456/notebooks` directory.\n",
    "\n",
    "In the main directory (`1812.03456`) you should run the following code in `julia`s `REPL` console to instantiate the environment for computations:\n",
    "```julia\n",
    "using Pkg\n",
    "Pkg.activate(\".\")\n",
    "Pkg.instantiate()\n",
    "```\n",
    "(this needs to be done once per installation). Jupyter notebook may be launched then from `REPL` by\n",
    "```\n",
    "julia> using IJulia\n",
    "\n",
    "julia> notebook(dir=\".\")\n",
    "\n",
    "```\n",
    "\n",
    "Instantiation should install (among others): the [`SCS` solver][1], [`JuMP` package][2] for mathematical programming and `IntervalArithmetic.jl` package from [`ValidatedNumerics.jl`][3].\n",
    "\n",
    "The environment uses [`Groups.jl`][7], [`GroupRings.jl`][6] (which are built on the framework of  [`AbstractAlgebra.jl`][4]) and [`PropertyT.jl`][8] packages.\n",
    "\n",
    "[1]: https://github.com/cvxgrp/scs  \n",
    "[2]: https://github.com/JuliaOpt/JuMP.jl  \n",
    "[3]: https://github.com/JuliaIntervals/ValidatedNumerics.jl\n",
    "[4]: https://github.com/Nemocas/AbstractAlgebra.jl\n",
    "[5]: https://github.com/Nemocas/Nemo.jl\n",
    "[6]: https://github.com/kalmarek/GroupRings.jl\n",
    "[7]: https://github.com/kalmarek/Groups.jl\n",
    "[8]: https://github.com/kalmarek/PropertyT.jl"
   ]
  },
  {
   "cell_type": "markdown",
   "metadata": {},
   "source": [
    "# The computation\n",
    "\n",
    "The following programme certifies that\n",
    "$$\\operatorname{Adj}_4 + \\operatorname{Op}_4 - 0.82\\Delta_4 =\\Sigma_i \\xi_i^*\\xi_i \\in \\Sigma^2_2\\mathbb{R}\\operatorname{SL}(4,\\mathbb{Z}).$$\n",
    "\n",
    "With small changes (which we will indicate) it also certifies that \n",
    "$$\\operatorname{Adj}_3 - 0.157999\\Delta_3 \\in \\Sigma^2_2\\mathbb{R}\\operatorname{SL}(3,\\mathbb{Z})$$\n",
    "and that\n",
    "$$\\operatorname{Adj}_5 +1.5 \\mathrm{Op}_5 - 1.5\\Delta_5 \\in \\Sigma^2_2\\mathbb{R}\\operatorname{SL}(5,\\mathbb{Z}).$$"
   ]
  },
  {
   "cell_type": "code",
   "execution_count": 2,
   "metadata": {
    "ExecuteTime": {
     "end_time": "2020-10-17T17:37:02.259000+02:00",
     "start_time": "2020-10-17T15:37:00.743Z"
    }
   },
   "outputs": [
    {
     "name": "stderr",
     "output_type": "stream",
     "text": [
      "\u001b[32m\u001b[1m Activating\u001b[22m\u001b[39m environment at `~/1812.03456/Project.toml`\n"
     ]
    },
    {
     "data": {
      "text/plain": [
       "2020-10-21T13:02:26.066"
      ]
     },
     "execution_count": 2,
     "metadata": {},
     "output_type": "execute_result"
    }
   ],
   "source": [
    "using Pkg\n",
    "Pkg.activate(\"..\")\n",
    "using Dates\n",
    "now()"
   ]
  },
  {
   "cell_type": "code",
   "execution_count": 3,
   "metadata": {
    "ExecuteTime": {
     "end_time": "2020-10-17T17:37:35.440000+02:00",
     "start_time": "2020-10-17T15:37:09.344Z"
    },
    "scrolled": true
   },
   "outputs": [],
   "source": [
    "using LinearAlgebra\n",
    "using AbstractAlgebra\n",
    "using Groups\n",
    "using GroupRings\n",
    "using PropertyT"
   ]
  },
  {
   "cell_type": "markdown",
   "metadata": {
    "ExecuteTime": {
     "end_time": "2018-11-24T12:10:28.877000+01:00",
     "start_time": "2018-11-24T11:10:27.729Z"
    }
   },
   "source": [
    "So far we only made the needed packages available in the notebook. \n",
    "In the next cell we define `G` to be the set of all $4\\times 4$ matrices over $\\mathbb Z$.\n",
    "(For the second computation, set `N=3` below; for the third, set `N=5`)"
   ]
  },
  {
   "cell_type": "code",
   "execution_count": 4,
   "metadata": {
    "ExecuteTime": {
     "end_time": "2020-10-17T17:37:37.491000+02:00",
     "start_time": "2020-10-17T15:37:14.471Z"
    }
   },
   "outputs": [
    {
     "data": {
      "text/plain": [
       "Matrix Algebra of degree 4 over Integers"
      ]
     },
     "execution_count": 4,
     "metadata": {},
     "output_type": "execute_result"
    }
   ],
   "source": [
    "N = 4\n",
    "G = MatrixAlgebra(zz, N)"
   ]
  },
  {
   "cell_type": "markdown",
   "metadata": {},
   "source": [
    "## Generating set\n",
    "Now we create the elementary matrices $E_{i,j}$. The set of all such matrices and their inverses is denoted by `S`."
   ]
  },
  {
   "cell_type": "code",
   "execution_count": 5,
   "metadata": {
    "ExecuteTime": {
     "end_time": "2020-10-17T17:37:41.613000+02:00",
     "start_time": "2020-10-17T15:37:18.572Z"
    }
   },
   "outputs": [
    {
     "data": {
      "text/plain": [
       "24-element Array{AbstractAlgebra.Generic.MatAlgElem{Int64},1}:\n",
       " [1 1 0 0; 0 1 0 0; 0 0 1 0; 0 0 0 1]\n",
       " [1 0 1 0; 0 1 0 0; 0 0 1 0; 0 0 0 1]\n",
       " [1 0 0 1; 0 1 0 0; 0 0 1 0; 0 0 0 1]\n",
       " [1 0 0 0; 1 1 0 0; 0 0 1 0; 0 0 0 1]\n",
       " [1 0 0 0; 0 1 1 0; 0 0 1 0; 0 0 0 1]\n",
       " [1 0 0 0; 0 1 0 1; 0 0 1 0; 0 0 0 1]\n",
       " [1 0 0 0; 0 1 0 0; 1 0 1 0; 0 0 0 1]\n",
       " [1 0 0 0; 0 1 0 0; 0 1 1 0; 0 0 0 1]\n",
       " [1 0 0 0; 0 1 0 0; 0 0 1 1; 0 0 0 1]\n",
       " [1 0 0 0; 0 1 0 0; 0 0 1 0; 1 0 0 1]\n",
       " [1 0 0 0; 0 1 0 0; 0 0 1 0; 0 1 0 1]\n",
       " [1 0 0 0; 0 1 0 0; 0 0 1 0; 0 0 1 1]\n",
       " [1 -1 0 0; 0 1 0 0; 0 0 1 0; 0 0 0 1]\n",
       " [1 0 -1 0; 0 1 0 0; 0 0 1 0; 0 0 0 1]\n",
       " [1 0 0 -1; 0 1 0 0; 0 0 1 0; 0 0 0 1]\n",
       " [1 0 0 0; -1 1 0 0; 0 0 1 0; 0 0 0 1]\n",
       " [1 0 0 0; 0 1 -1 0; 0 0 1 0; 0 0 0 1]\n",
       " [1 0 0 0; 0 1 0 -1; 0 0 1 0; 0 0 0 1]\n",
       " [1 0 0 0; 0 1 0 0; -1 0 1 0; 0 0 0 1]\n",
       " [1 0 0 0; 0 1 0 0; 0 -1 1 0; 0 0 0 1]\n",
       " [1 0 0 0; 0 1 0 0; 0 0 1 -1; 0 0 0 1]\n",
       " [1 0 0 0; 0 1 0 0; 0 0 1 0; -1 0 0 1]\n",
       " [1 0 0 0; 0 1 0 0; 0 0 1 0; 0 -1 0 1]\n",
       " [1 0 0 0; 0 1 0 0; 0 0 1 0; 0 0 -1 1]"
      ]
     },
     "execution_count": 5,
     "metadata": {},
     "output_type": "execute_result"
    }
   ],
   "source": [
    "S = PropertyT.generating_set(G)"
   ]
  },
  {
   "cell_type": "markdown",
   "metadata": {},
   "source": [
    "## Group Ring and Laplacians\n",
    "Now we will generate the ball `E_R` of radius $R=4$ in $\\operatorname{SL}(N,\\mathbb{Z})$ and use this as a (partial) basis in a group ring (denoted by `RG` below). Such group ring also needs a multiplication table (`pm`, which is actually a *division table*) which is created as follows: when $x,y$ reside at positions `i`-th and `j`-th in `E_R`, then `pm[i,j] = k`, where `k` is the position of $x^{-1}y$ in `E_R`. "
   ]
  },
  {
   "cell_type": "code",
   "execution_count": 6,
   "metadata": {
    "ExecuteTime": {
     "end_time": "2020-10-17T17:38:15.984000+02:00",
     "start_time": "2020-10-17T15:38:08.363Z"
    }
   },
   "outputs": [
    {
     "name": "stdout",
     "output_type": "stream",
     "text": [
      "sizes = [25, 433, 6149, 75197]\n"
     ]
    },
    {
     "data": {
      "text/plain": [
       "24[1 0 0 0; 0 1 0 0; 0 0 1 0; 0 0 0 1] - 1[1 1 0 0; 0 1 0 0; 0 0 1 0; 0 0 0 1] - 1[1 0 1 0; 0 1 0 0; 0 0 1 0; 0 0 0 1] - 1[1 0 0 1; 0 1 0 0; 0 0 1 0; 0 0 0 1] - 1[1 0 0 0; 1 1 0 0; 0 0 1 0; 0 0 0 1] - 1[1 0 0 0; 0 1 1 0; 0 0 1 0; 0 0 0 1] - 1[1 0 0 0; 0 1 0 1; 0 0 1 0; 0 0 0 1] - 1[1 0 0 0; 0 1 0 0; 1 0 1 0; 0 0 0 1] - 1[1 0 0 0; 0 1 0 0; 0 1 1 0; 0 0 0 1] - 1[1 0 0 0; 0 1 0 0; 0 0 1 1; 0 0 0 1] - 1[1 0 0 0; 0 1 0 0; 0 0 1 0; 1 0 0 1] - 1[1 0 0 0; 0 1 0 0; 0 0 1 0; 0 1 0 1] - 1[1 0 0 0; 0 1 0 0; 0 0 1 0; 0 0 1 1] - 1[1 -1 0 0; 0 1 0 0; 0 0 1 0; 0 0 0 1] - 1[1 0 -1 0; 0 1 0 0; 0 0 1 0; 0 0 0 1] - 1[1 0 0 -1; 0 1 0 0; 0 0 1 0; 0 0 0 1] - 1[1 0 0 0; -1 1 0 0; 0 0 1 0; 0 0 0 1] - 1[1 0 0 0; 0 1 -1 0; 0 0 1 0; 0 0 0 1] - 1[1 0 0 0; 0 1 0 -1; 0 0 1 0; 0 0 0 1] - 1[1 0 0 0; 0 1 0 0; -1 0 1 0; 0 0 0 1] - 1[1 0 0 0; 0 1 0 0; 0 -1 1 0; 0 0 0 1] - 1[1 0 0 0; 0 1 0 0; 0 0 1 -1; 0 0 0 1] - 1[1 0 0 0; 0 1 0 0; 0 0 1 0; -1 0 0 1] - 1[1 0 0 0; 0 1 0 0; 0 0 1 0; 0 -1 0 1] - 1[1 0 0 0; 0 1 0 0; 0 0 1 0; 0 0 -1 1]"
      ]
     },
     "execution_count": 6,
     "metadata": {},
     "output_type": "execute_result"
    }
   ],
   "source": [
    "halfradius = 2\n",
    "E_R, sizes = Groups.wlmetric_ball(S, radius=2*halfradius);\n",
    "E_rdict = GroupRings.reverse_dict(E_R)\n",
    "pm = GroupRings.create_pm(E_R, E_rdict, sizes[halfradius]; twisted=true);\n",
    "RG = GroupRing(G, E_R, E_rdict, pm)\n",
    "@show sizes;\n",
    "Δ = length(S)*one(RG) - sum(RG(s) for s in S)"
   ]
  },
  {
   "cell_type": "markdown",
   "metadata": {},
   "source": [
    "## Orbit Decomposition\n",
    "Now something happens: in the next cell we split the subspace of $\\mathbb{R} \\operatorname{SL}(N, \\mathbb{Z})$ supported on `E_R` into irreducible representations of the wreath product $\\mathbb Z / 2 \\mathbb Z \\wr \\operatorname{Sym}_N$. The action of wreath product on the elements of the matrix space is by conjugation, i.e. permutation of rows and columns.\n",
    "We also compute projections on the invariant subspaces to later speed up the optimisation step."
   ]
  },
  {
   "cell_type": "code",
   "execution_count": 7,
   "metadata": {
    "ExecuteTime": {
     "end_time": "2020-10-17T17:39:37.488000+02:00",
     "start_time": "2020-10-17T15:39:36.109Z"
    }
   },
   "outputs": [
    {
     "name": "stderr",
     "output_type": "stream",
     "text": [
      "┌ Info: Decomposing basis of RG into orbits of\n",
      "│   autS = Wreath Product of Full symmetric group over 2 elements by Full symmetric group over 4 elements\n",
      "└ @ PropertyT /home/kalmar/.julia/packages/PropertyT/vcGsE/src/blockdecomposition.jl:15\n"
     ]
    },
    {
     "name": "stdout",
     "output_type": "stream",
     "text": [
      "  0.304335 seconds (1.10 M allocations: 89.684 MiB, 8.60% gc time)\n"
     ]
    },
    {
     "name": "stderr",
     "output_type": "stream",
     "text": [
      "┌ Info: The action has 558 orbits\n",
      "└ @ PropertyT /home/kalmar/.julia/packages/PropertyT/vcGsE/src/blockdecomposition.jl:18\n",
      "┌ Info: Finding projections in the Group Ring of\n",
      "│   autS = Wreath Product of Full symmetric group over 2 elements by Full symmetric group over 4 elements\n",
      "└ @ PropertyT /home/kalmar/.julia/packages/PropertyT/vcGsE/src/blockdecomposition.jl:20\n"
     ]
    },
    {
     "name": "stdout",
     "output_type": "stream",
     "text": [
      "  3.818060 seconds (6.02 M allocations: 308.271 MiB, 2.65% gc time)\n"
     ]
    },
    {
     "name": "stderr",
     "output_type": "stream",
     "text": [
      "┌ Info: Finding AutS-action matrix representation\n",
      "└ @ PropertyT /home/kalmar/.julia/packages/PropertyT/vcGsE/src/blockdecomposition.jl:23\n"
     ]
    },
    {
     "name": "stdout",
     "output_type": "stream",
     "text": [
      "  0.136971 seconds (582.79 k allocations: 52.493 MiB)\n",
      "  0.492913 seconds (1.51 M allocations: 93.189 MiB, 8.70% gc time)\n"
     ]
    },
    {
     "name": "stderr",
     "output_type": "stream",
     "text": [
      "┌ Info: Computing the projection matrices Uπs\n",
      "└ @ PropertyT /home/kalmar/.julia/packages/PropertyT/vcGsE/src/blockdecomposition.jl:27\n"
     ]
    },
    {
     "name": "stdout",
     "output_type": "stream",
     "text": [
      "  1.155125 seconds (1.42 M allocations: 825.282 MiB, 6.41% gc time)\n"
     ]
    },
    {
     "name": "stderr",
     "output_type": "stream",
     "text": [
      "┌ Info: \n",
      "│ multiplicities  =   3  13  19  12  10   0   0   0   9  11  13  15   0   0   0   1   1   1   2   1\n",
      "│     dimensions  =   1   3   3   2   1   4   8   4   6   6   6   6   4   8   4   1   3   3   2   1\n",
      "└ @ PropertyT /home/kalmar/.julia/packages/PropertyT/vcGsE/src/blockdecomposition.jl:37\n"
     ]
    }
   ],
   "source": [
    "block_decomposition = let bd = PropertyT.BlockDecomposition(RG, WreathProduct(SymmetricGroup(2), SymmetricGroup(N)))\n",
    "    PropertyT.decimate(bd, false);\n",
    "end;"
   ]
  },
  {
   "cell_type": "markdown",
   "metadata": {},
   "source": [
    "## Elements Adj and Op\n",
    "Now we  define the elements $\\operatorname{Adj}_N$ and $\\operatorname{Op}_N$. The functions `Sq`, `Adj`, `Op` returning the appropriate elements are defined in the `src/sqadjop.jl` source file."
   ]
  },
  {
   "cell_type": "code",
   "execution_count": 8,
   "metadata": {
    "ExecuteTime": {
     "end_time": "2020-10-17T17:39:43.052000+02:00",
     "start_time": "2020-10-17T15:39:41.401Z"
    },
    "scrolled": true
   },
   "outputs": [
    {
     "name": "stdout",
     "output_type": "stream",
     "text": [
      "  0.733075 seconds (1.04 M allocations: 53.078 MiB)\n",
      "  0.145846 seconds (155.32 k allocations: 7.875 MiB)\n"
     ]
    }
   ],
   "source": [
    "@time AdjN = PropertyT.Adj(RG, N)\n",
    "@time OpN = PropertyT.Op(RG, N);"
   ]
  },
  {
   "cell_type": "markdown",
   "metadata": {},
   "source": [
    "Finally we compute the element `elt` of our interest:\n",
    "* if `N=3`: $\\operatorname{elt} = \\operatorname{Adj}_3$\n",
    "* if `N=4`: $\\operatorname{elt} = \\operatorname{Adj}_4 + \\operatorname{Op}_4$\n",
    "* if `N=5`: $\\operatorname{elt} = \\operatorname{Adj}_5 + 1.5\\operatorname{Op}_5.$"
   ]
  },
  {
   "cell_type": "code",
   "execution_count": 9,
   "metadata": {
    "ExecuteTime": {
     "end_time": "2020-10-17T17:39:49.373000+02:00",
     "start_time": "2020-10-17T15:39:48.978Z"
    }
   },
   "outputs": [
    {
     "data": {
      "text/plain": [
       "75197-element SparseArrays.SparseVector{Int64,Int64} with 361 stored entries:\n",
       "  [1    ]  =  480\n",
       "  [2    ]  =  -40\n",
       "  [3    ]  =  -40\n",
       "  [4    ]  =  -40\n",
       "  [5    ]  =  -40\n",
       "  [6    ]  =  -40\n",
       "  [7    ]  =  -40\n",
       "  [8    ]  =  -40\n",
       "  [9    ]  =  -40\n",
       "  [10   ]  =  -40\n",
       "           ⋮\n",
       "  [418  ]  =  1\n",
       "  [420  ]  =  1\n",
       "  [422  ]  =  2\n",
       "  [423  ]  =  1\n",
       "  [424  ]  =  1\n",
       "  [425  ]  =  1\n",
       "  [426  ]  =  1\n",
       "  [428  ]  =  1\n",
       "  [429  ]  =  1\n",
       "  [430  ]  =  1\n",
       "  [431  ]  =  1"
      ]
     },
     "execution_count": 9,
     "metadata": {},
     "output_type": "execute_result"
    }
   ],
   "source": [
    "if N == 3\n",
    "    k = 0\n",
    "elseif N == 4\n",
    "    k = 1\n",
    "elseif N == 5\n",
    "    k = 1.5\n",
    "end\n",
    "elt = AdjN + k*OpN;\n",
    "elt.coeffs"
   ]
  },
  {
   "cell_type": "markdown",
   "metadata": {},
   "source": [
    "## Optimization Problem"
   ]
  },
  {
   "cell_type": "markdown",
   "metadata": {},
   "source": [
    "We are ready to define the optimisation problem. Function\n",
    "> `PropertyT.SOS_problem(x, Δ, orbit_data; upper_bound=UB)`  \n",
    "\n",
    "defines the optimisation problem equivalent to the one of the form\n",
    "\\begin{align}\n",
    "\\text{ maximize : } \\quad & \\lambda\\\\\n",
    "\\text{under constraints : }\\quad & 0 \\leqslant \\lambda \\leqslant \\operatorname{UB},\\\\\n",
    "     & x - \\lambda \\Delta = \\sum \\xi_i^* \\xi_i,\\\\\n",
    "     & \\text{the set of $\\xi_i$s is invariant under $\\mathbb{Z}/2\\mathbb{Z} \\wr \\operatorname{Sym}_N$}.\n",
    "\\end{align}"
   ]
  },
  {
   "cell_type": "code",
   "execution_count": 10,
   "metadata": {
    "ExecuteTime": {
     "end_time": "2020-10-17T17:40:15.461000+02:00",
     "start_time": "2020-10-17T15:40:03.002Z"
    }
   },
   "outputs": [
    {
     "name": "stderr",
     "output_type": "stream",
     "text": [
      "┌ Info: Adding 558 constraints...\n",
      "└ @ PropertyT /home/kalmar/.julia/packages/PropertyT/vcGsE/src/sos_sdps.jl:124\n"
     ]
    },
    {
     "name": "stdout",
     "output_type": "stream",
     "text": [
      "  0.923033 seconds (1.47 M allocations: 331.103 MiB, 27.48% gc time)\n"
     ]
    },
    {
     "data": {
      "text/plain": [
       "(A JuMP Model\n",
       "Maximization problem with:\n",
       "Variables: 1388\n",
       "Objective function type: JuMP.VariableRef\n",
       "`JuMP.GenericAffExpr{Float64,JuMP.VariableRef}`-in-`MathOptInterface.EqualTo{Float64}`: 558 constraints\n",
       "`Array{JuMP.GenericAffExpr{Float64,JuMP.VariableRef},1}`-in-`MathOptInterface.PositiveSemidefiniteConeSquare`: 14 constraints\n",
       "`JuMP.VariableRef`-in-`MathOptInterface.LessThan{Float64}`: 1 constraint\n",
       "Model mode: AUTOMATIC\n",
       "CachingOptimizer state: NO_OPTIMIZER\n",
       "Solver name: No optimizer attached.\n",
       "Names registered in the model: λ, Array{JuMP.VariableRef,2}[[noname noname noname; noname noname noname; noname noname noname], [noname noname … noname noname; noname noname … noname noname; … ; noname noname … noname noname; noname noname … noname noname], [noname noname … noname noname; noname noname … noname noname; … ; noname noname … noname noname; noname noname … noname noname], [noname noname … noname noname; noname noname … noname noname; … ; noname noname … noname noname; noname noname … noname noname], [noname noname … noname noname; noname noname … noname noname; … ; noname noname … noname noname; noname noname … noname noname], [noname noname … noname noname; noname noname … noname noname; … ; noname noname … noname noname; noname noname … noname noname], [noname noname … noname noname; noname noname … noname noname; … ; noname noname … noname noname; noname noname … noname noname], [noname noname … noname noname; noname noname … noname noname; … ; noname noname … noname noname; noname noname … noname noname], [noname noname … noname noname; noname noname … noname noname; … ; noname noname … noname noname; noname noname … noname noname], [noname], [noname], [noname], [noname noname; noname noname], [noname]])"
      ]
     },
     "execution_count": 10,
     "metadata": {},
     "output_type": "execute_result"
    }
   ],
   "source": [
    "# @time SDP_problem, varλ, varP = PropertyT.SOS_problem(elt, Δ, orbit_data)\n",
    "if N == 3\n",
    "    UB = 0.158\n",
    "elseif N == 4\n",
    "    UB = 0.82005\n",
    "elseif N == 5\n",
    "    UB = 1.5005\n",
    "end\n",
    "SDP_problem, varP = PropertyT.SOS_problem_primal(elt, Δ, block_decomposition; upper_bound=UB)"
   ]
  },
  {
   "cell_type": "code",
   "execution_count": 11,
   "metadata": {
    "ExecuteTime": {
     "end_time": "2020-10-17T17:42:13.876000+02:00",
     "start_time": "2020-10-17T15:42:13.861Z"
    }
   },
   "outputs": [],
   "source": [
    "using PropertyT.JuMP\n",
    "using SCS\n",
    "λ = Ps = warm = nothing"
   ]
  },
  {
   "cell_type": "markdown",
   "metadata": {},
   "source": [
    "### Solving the problem\n",
    "Depending on the actual problem one may need to tweak the parameters given to the solver:\n",
    " * `eps` sets the requested accuracy\n",
    " * `max_iters` sets the number of iterations to run before solver gives up\n",
    " * `alpha` is a parameter ($\\alpha \\in (0,2)$) which determines the rate of convergence at the cost of the accuracy\n",
    " * `acceleration_lookback`: if you experience numerical instability in scs log should be changed to `1` (at the cost of rate of convergence).\n",
    " \n",
    " The parameters below should be enough to obtain a decent solution for $\\operatorname{SL}(4, \\mathbb{Z}), \\operatorname{SL}(5, \\mathbb{Z})$.   \n",
    " For $\\operatorname{SL}(3, \\mathbb{Z})$ multiple runs of the following cell are required to obtain convergence (i.e. `status = MathOptInterface.OPTIMAL`; Note that when changing `UB` (above) to `0.15` a much faster convergence can be observed."
   ]
  },
  {
   "cell_type": "code",
   "execution_count": 12,
   "metadata": {
    "ExecuteTime": {
     "end_time": "2020-10-17T17:42:21.883000+02:00",
     "start_time": "2020-10-17T15:42:15.510Z"
    },
    "scrolled": false
   },
   "outputs": [
    {
     "name": "stdout",
     "output_type": "stream",
     "text": [
      "----------------------------------------------------------------------------\n",
      "\tSCS v2.1.2 - Splitting Conic Solver\n",
      "\t(c) Brendan O'Donoghue, Stanford University, 2012\n",
      "----------------------------------------------------------------------------\n",
      "Lin-sys: sparse-direct, nnz in A = 133004\n",
      "eps = 3.00e-13, alpha = 1.50, max_iters = 10000, normalize = 1, scale = 1.00\n",
      "acceleration_lookback = 20, rho_x = 1.00e-03\n",
      "Variables n = 1388, constraints m = 1946\n",
      "Cones:\tprimal zero / dual free vars: 1196\n",
      "\tlinear vars: 1\n",
      "\tsd vars: 749, sd blks: 14\n",
      "Setup time: 6.60e-02s\n",
      "SCS using variable warm-starting\n",
      "----------------------------------------------------------------------------\n",
      " Iter | pri res | dua res | rel gap | pri obj | dua obj | kap/tau | time (s)\n",
      "----------------------------------------------------------------------------\n",
      "     0| 1.65e+20  1.24e+20  1.00e+00 -3.16e+21  2.48e+19  3.17e+20  2.27e-03 \n",
      "   100| 6.67e-05  5.27e-05  2.89e-04  6.71e-05  3.56e-04  4.04e-16  1.39e-01 \n",
      "   200| 1.00e-04  7.86e-05  2.84e-04 -2.30e-04 -5.13e-04  1.83e-16  2.75e-01 \n",
      "   300| 3.39e-05  2.33e-05  6.98e-06  4.20e-05  3.50e-05  1.80e-16  4.11e-01 \n",
      "   400| 1.62e-05  1.15e-05  4.18e-05 -3.66e-05 -7.84e-05  1.44e-15  5.47e-01 \n",
      "   500| 8.64e-06  5.80e-06  4.15e-06  8.60e-06  4.45e-06  1.13e-15  6.83e-01 \n",
      "   600| 7.87e-06  5.55e-06  7.06e-06  9.34e-06  2.28e-06  5.86e-16  8.20e-01 \n",
      "   700| 2.52e-06  1.87e-06  2.71e-06  9.04e-07 -1.80e-06  6.73e-16  9.54e-01 \n",
      "   800| 1.64e-06  1.11e-06  2.68e-06 -8.28e-07  1.85e-06  2.27e-16  1.09e+00 \n",
      "   900| 1.62e-06  1.07e-06  1.36e-06  4.07e-06  5.43e-06  1.99e-16  1.22e+00 \n",
      "  1000| 2.25e-07  1.19e-07  7.07e-09 -6.14e-08 -5.43e-08  3.53e-17  1.34e+00 \n",
      "  1100| 2.42e-07  1.27e-07  3.08e-07  4.23e-08  3.50e-07  1.59e-16  1.47e+00 \n",
      "  1200| 2.59e-07  1.62e-07  9.41e-08  1.62e-10 -9.40e-08  3.13e-16  1.59e+00 \n",
      "  1300| 2.26e-07  1.18e-07  5.09e-09 -2.48e-08 -2.99e-08  2.03e-16  1.71e+00 \n",
      "  1400| 3.78e-07  2.85e-07  8.83e-07  2.76e-07  1.16e-06  2.90e-16  1.83e+00 \n",
      "  1500| 2.25e-07  1.18e-07  1.69e-08 -5.93e-09  1.10e-08  3.96e-16  1.95e+00 \n",
      "  1600| 2.23e-07  1.15e-07  3.42e-08  3.24e-09 -3.10e-08  1.15e-15  2.07e+00 \n",
      "  1699| 2.39e-13  1.22e-13  1.49e-13  7.53e-14 -7.40e-14  1.43e-15  2.19e+00 \n",
      "----------------------------------------------------------------------------\n",
      "Status: Solved\n",
      "Timing: Solve time: 2.19e+00s\n",
      "\tLin-sys: nnz in L factor: 293352, avg solve time: 6.19e-04s\n",
      "\tCones: avg projection time: 3.03e-04s\n",
      "\tAcceleration: avg step time: 2.96e-04s\n",
      "----------------------------------------------------------------------------\n",
      "Error metrics:\n",
      "dist(s, K) = 2.1231e-16, dist(y, K*) = 1.8235e-09, s'y/|s||y| = 1.0298e-13\n",
      "primal res: |Ax + s - b|_2 / (1 + |b|_2) = 2.3903e-13\n",
      "dual res:   |A'y + c|_2 / (1 + |c|_2) = 1.2178e-13\n",
      "rel gap:    |c'x + b'y| / (1 + |c'x| + |b'y|) = 1.4934e-13\n",
      "----------------------------------------------------------------------------\n",
      "c'x = 0.0000, -b'y = -0.0000\n",
      "============================================================================\n",
      "status = MathOptInterface.OPTIMAL\n",
      "λ = 0.8200499999999246\n"
     ]
    }
   ],
   "source": [
    "with_SCS = with_optimizer(SCS.Optimizer, \n",
    "    linear_solver=SCS.DirectSolver, \n",
    "    eps=3e-13,\n",
    "    max_iters=10_000,\n",
    "    alpha=1.5,\n",
    "    acceleration_lookback=20,\n",
    "    warm_start=true)\n",
    "\n",
    "status, warm = PropertyT.solve(SDP_problem, with_SCS, warm);\n",
    "\n",
    "λ = value(SDP_problem[:λ])\n",
    "@show(status, λ);"
   ]
  },
  {
   "cell_type": "markdown",
   "metadata": {},
   "source": [
    "## Checking the solution\n",
    "Now we reconstruct the solution to the original problem over $\\mathbb{R} \\operatorname{SL}(N,\\mathbb{Z})$, which essentially boils down to averaging the obtained solution over the orbits of wreath product action:\n",
    "  $$Q=\\frac{1}{|\\Sigma|}\\sum_{\\sigma\\in\\Sigma}\\sum_{\\pi\\in \\widehat{\\Sigma}} \\dim{\\pi}\\cdot\\sigma\\left(U_{\\pi}^T \\sqrt{P_{\\pi}} U_{\\pi}\\right).$$"
   ]
  },
  {
   "cell_type": "code",
   "execution_count": 13,
   "metadata": {
    "ExecuteTime": {
     "end_time": "2020-10-17T17:42:51.677000+02:00",
     "start_time": "2020-10-17T15:42:47.483Z"
    }
   },
   "outputs": [
    {
     "data": {
      "text/plain": [
       "433×433 Array{Float64,2}:\n",
       "  1.74178    -0.23254     -0.23254      …   0.0240788    -0.0272453\n",
       " -0.23254     3.17964     -0.0794995       -0.0263971     0.00970716\n",
       " -0.23254    -0.0794995    3.17964          0.00306073   -0.00552904\n",
       " -0.23254    -0.0794995   -0.0794995       -0.00414783    0.00668187\n",
       " -0.23254     0.0593166   -0.137798        -0.0263971     0.00970716\n",
       " -0.23254    -0.137798    -0.0797927    …   0.00306073   -0.00552904\n",
       " -0.23254    -0.137798    -0.0217825       -0.00414783    0.00668187\n",
       " -0.23254    -0.137798     0.0593166       -0.00418215    0.00675384\n",
       " -0.23254    -0.0797927   -0.137798        -0.00418215    0.00675384\n",
       " -0.23254    -0.0217825   -0.137798         0.000502018   0.00737746\n",
       " -0.23254    -0.137798    -0.137798     …   0.00315626   -0.00557801\n",
       " -0.23254    -0.0797927   -0.0217825        0.00315626   -0.00557801\n",
       " -0.23254    -0.0217825   -0.0797927       -0.00934383    0.00974041\n",
       "  ⋮                                     ⋱                \n",
       "  0.0625862   0.0176682    0.0176682        0.0168769    -0.0311815\n",
       " -0.0165114   0.0244523    0.0609596       -0.0213995     0.00874131\n",
       " -0.0165114   0.00590419  -0.0119374       -0.0213995     0.00874131\n",
       " -0.0165743   0.00587347   0.0128556       -0.0212681     0.00899152\n",
       " -0.0165743   0.0244189    0.000753699  …  -0.0212681     0.00899152\n",
       "  0.0162373   0.03127     -0.0151193        0.00264004   -0.0282012\n",
       " -0.0165114   0.0244523   -0.00115372      -0.0213995     0.00874131\n",
       " -0.0165114   0.00590419  -0.0119374       -0.0213995     0.00874131\n",
       " -0.0165743   0.00587347  -0.00869463      -0.0212681     0.00899152\n",
       " -0.0165743   0.0244189    0.000753699  …  -0.0212681     0.00899152\n",
       "  0.0240788  -0.0263971    0.00306073       0.0893779    -0.0282779\n",
       " -0.0272453   0.00970716  -0.00552904      -0.0282779     0.10392"
      ]
     },
     "execution_count": 13,
     "metadata": {},
     "output_type": "execute_result"
    }
   ],
   "source": [
    "Ps = [value.(P) for P in varP]\n",
    "Qs = real.(sqrt.(Ps));\n",
    "Q = PropertyT.reconstruct(Qs, block_decomposition)"
   ]
  },
  {
   "cell_type": "markdown",
   "metadata": {},
   "source": [
    "As explained in the paper the columns of the square-root of the solution matrix provide the coefficients for $\\xi_i$'s in basis `E_R` of the group ring. Below we compute the residual \n",
    "    $$ b = \\left(x - \\lambda\\Delta\\right) - \\sum \\xi_i^*\\xi_i.$$\n",
    "As we do it in floating-point arithmetic,  the result can't be taken seriously."
   ]
  },
  {
   "cell_type": "code",
   "execution_count": 14,
   "metadata": {
    "ExecuteTime": {
     "end_time": "2020-10-17T17:42:51.692000+02:00",
     "start_time": "2020-10-17T15:42:50.661Z"
    }
   },
   "outputs": [
    {
     "data": {
      "text/plain": [
       "SOS_residual (generic function with 1 method)"
      ]
     },
     "execution_count": 14,
     "metadata": {},
     "output_type": "execute_result"
    }
   ],
   "source": [
    "function SOS_residual(x::GroupRingElem, Q::Matrix)\n",
    "    RG = parent(x)\n",
    "    @time sos = PropertyT.compute_SOS(RG, Q);\n",
    "    return x - sos\n",
    "end"
   ]
  },
  {
   "cell_type": "code",
   "execution_count": 15,
   "metadata": {
    "ExecuteTime": {
     "end_time": "2020-10-17T17:42:55.908000+02:00",
     "start_time": "2020-10-17T15:42:53.635Z"
    }
   },
   "outputs": [
    {
     "name": "stdout",
     "output_type": "stream",
     "text": [
      "  0.034382 seconds (43.79 k allocations: 5.102 MiB)\n",
      "norm(residual, 1) = 2.1927155930872447e-9\n"
     ]
    }
   ],
   "source": [
    "residual = SOS_residual(elt - λ*Δ, Q)\n",
    "@show norm(residual, 1);"
   ]
  },
  {
   "cell_type": "markdown",
   "metadata": {},
   "source": [
    "### Checking in interval arithmetic"
   ]
  },
  {
   "cell_type": "code",
   "execution_count": 16,
   "metadata": {
    "ExecuteTime": {
     "end_time": "2020-10-17T17:43:05.341000+02:00",
     "start_time": "2020-10-17T15:43:05.045Z"
    }
   },
   "outputs": [],
   "source": [
    "using PropertyT.IntervalArithmetic\n",
    "IntervalArithmetic.setrounding(Interval, :tight)\n",
    "IntervalArithmetic.setformat(sigfigs=12);"
   ]
  },
  {
   "cell_type": "markdown",
   "metadata": {},
   "source": [
    "Here we resort to interval arithmetic to provide certified upper and lower bounds on the norm of the residual.\n",
    "* We first change entries of `Q` to narrow intervals\n",
    "* We project columns of `Q` so that $0$ is in the sum of coefficients of each column (i.e. $\\xi_i \\in I \\operatorname{SL}(N,\\mathbb{Z})$)\n",
    "* We compute the sum of squares and the $\\ell_1$-norm of the residual in the interval arithmetic.\n",
    "\n",
    "The returned `check_columns_augmentation` is a boolean flag to detect if the projection was successful, i.e. if we can guarantee that each column of `Q_aug` can be represented by an element from the augmentation ideal. (If it were not successful, one may project `Q = PropertyT.augIdproj(Q)` in the floating point arithmetic prior to the cell below).\n",
    "\n",
    "The resulting norm of the residual is **guaranteed** to be contained in the resulting interval. E.g. if each entry of `Q` were changed into an honest rational number and all the computations were carried out in rational arithmetic, the rational $\\ell_1$-norm will be contained in the interval $\\ell_1$-norm."
   ]
  },
  {
   "cell_type": "code",
   "execution_count": 17,
   "metadata": {
    "ExecuteTime": {
     "end_time": "2020-10-17T17:43:19.664000+02:00",
     "start_time": "2020-10-17T15:43:11.648Z"
    }
   },
   "outputs": [
    {
     "name": "stdout",
     "output_type": "stream",
     "text": [
      "  0.847018 seconds (72.68 k allocations: 8.378 MiB)\n",
      "norm(residual_int, 1) = [2.75348625948e-09, 3.06642022624e-09]\n"
     ]
    }
   ],
   "source": [
    "Q_aug, check_columns_augmentation = PropertyT.augIdproj(Interval, Q);\n",
    "@assert check_columns_augmentation\n",
    "elt_int = elt - @interval(λ)*Δ;\n",
    "residual_int = SOS_residual(elt_int, Q_aug)\n",
    "@show norm(residual_int, 1);"
   ]
  },
  {
   "cell_type": "code",
   "execution_count": 18,
   "metadata": {
    "ExecuteTime": {
     "end_time": "2020-10-17T17:43:21.640000+02:00",
     "start_time": "2020-10-17T15:43:21.291Z"
    }
   },
   "outputs": [
    {
     "data": {
      "text/plain": [
       "[0.820049993867, 0.820049994493]"
      ]
     },
     "execution_count": 18,
     "metadata": {},
     "output_type": "execute_result"
    }
   ],
   "source": [
    "certified_λ = @interval(λ) - 2*norm(residual_int,1)"
   ]
  },
  {
   "cell_type": "markdown",
   "metadata": {
    "ExecuteTime": {
     "end_time": "2018-11-24T14:06:31.828000+01:00",
     "start_time": "2018-11-24T13:06:31.206Z"
    }
   },
   "source": [
    "So $\\operatorname{elt} - \\lambda_0 \\Delta \\in \\Sigma^2 I\\operatorname{SL}(N, \\mathbb{Z})$, where as $\\lambda_0$ we could take the left end of the above interval:"
   ]
  },
  {
   "cell_type": "code",
   "execution_count": 19,
   "metadata": {
    "ExecuteTime": {
     "end_time": "2020-10-17T17:43:48.336000+02:00",
     "start_time": "2020-10-17T15:43:48.322Z"
    }
   },
   "outputs": [
    {
     "data": {
      "text/latex": [
       "0 . 8 2 0 0 4 9 9 9 3 8 6 7 0 8 4"
      ],
      "text/plain": [
       "0.820049993867084"
      ]
     },
     "execution_count": 19,
     "metadata": {},
     "output_type": "execute_result"
    }
   ],
   "source": [
    "certified_λ.lo"
   ]
  },
  {
   "cell_type": "code",
   "execution_count": 20,
   "metadata": {
    "ExecuteTime": {
     "end_time": "2020-10-17T17:43:49.746000+02:00",
     "start_time": "2020-10-17T15:43:49.663Z"
    }
   },
   "outputs": [
    {
     "data": {
      "text/plain": [
       "2020-10-21T13:03:37.179"
      ]
     },
     "execution_count": 20,
     "metadata": {},
     "output_type": "execute_result"
    }
   ],
   "source": [
    "using Dates\n",
    "now()"
   ]
  },
  {
   "cell_type": "code",
   "execution_count": null,
   "metadata": {},
   "outputs": [],
   "source": []
  }
 ],
 "metadata": {
  "@webio": {
   "lastCommId": null,
   "lastKernelId": null
  },
  "gist": {
   "data": {
    "description": "ownCloud/GroupsWithPropertyT/notebooks/Positivity in SL(n,Z).ipynb",
    "public": false
   },
   "id": ""
  },
  "kernelspec": {
   "display_name": "Julia 1.5.2",
   "language": "julia",
   "name": "julia-1.5"
  },
  "language_info": {
   "file_extension": ".jl",
   "mimetype": "application/julia",
   "name": "julia",
   "version": "1.5.2"
  },
  "toc": {
   "base_numbering": 1,
   "nav_menu": {},
   "number_sections": true,
   "sideBar": false,
   "skip_h1_title": false,
   "title_cell": "Table of Contents",
   "title_sidebar": "Contents",
   "toc_cell": false,
   "toc_position": {},
   "toc_section_display": true,
   "toc_window_display": false
  }
 },
 "nbformat": 4,
 "nbformat_minor": 2
}
