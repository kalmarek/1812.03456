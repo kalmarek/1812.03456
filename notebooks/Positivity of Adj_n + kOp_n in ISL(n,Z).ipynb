{
 "cells": [
  {
   "cell_type": "markdown",
   "metadata": {
    "cell_style": "center"
   },
   "source": [
    "# Installation"
   ]
  },
  {
   "cell_type": "markdown",
   "metadata": {},
   "source": [
    "The following instructions were prepared using"
   ]
  },
  {
   "cell_type": "code",
   "execution_count": 1,
   "metadata": {
    "ExecuteTime": {
     "end_time": "2020-10-17T17:36:54.487000+02:00",
     "start_time": "2020-10-17T15:36:51.237Z"
    }
   },
   "outputs": [
    {
     "name": "stdout",
     "output_type": "stream",
     "text": [
      "Julia Version 1.5.1\n",
      "Commit 697e782ab8 (2020-08-25 20:08 UTC)\n",
      "Platform Info:\n",
      "  OS: Linux (x86_64-pc-linux-gnu)\n",
      "  CPU: Intel(R) Core(TM) i5-6200U CPU @ 2.30GHz\n",
      "  WORD_SIZE: 64\n",
      "  LIBM: libopenlibm\n",
      "  LLVM: libLLVM-9.0.1 (ORCJIT, skylake)\n",
      "Environment:\n",
      "  JULIA_NUM_THREADS = 2\n"
     ]
    }
   ],
   "source": [
    "versioninfo()"
   ]
  },
  {
   "cell_type": "markdown",
   "metadata": {},
   "source": [
    "Before exploring the notebook you need to clone the main repository:\n",
    "```bash\n",
    " git clone https://github.com/kalmarek/1812.03456.git\n",
    "```\n",
    "This notebook should be located in `1812.03456/notebooks` directory.\n",
    "\n",
    "In the main directory (`1812.03456`) you should run the following code in `julia`s `REPL` console to instantiate the environment for computations:\n",
    "```julia\n",
    "using Pkg\n",
    "Pkg.activate(\".\")\n",
    "Pkg.instantiate()\n",
    "```\n",
    "(this needs to be done once per installation). Jupyter notebook may be launched then from `REPL` by\n",
    "```\n",
    "julia> using IJulia\n",
    "\n",
    "julia> notebook(dir=\".\")\n",
    "\n",
    "```\n",
    "\n",
    "Instantiation should install (among others): the [`SCS` solver][1], [`JuMP` package][2] for mathematical programming and `IntervalArithmetic.jl` package from [`ValidatedNumerics.jl`][3].\n",
    "\n",
    "The environment uses [`Groups.jl`][7], [`GroupRings.jl`][6] (which are built on the framework of  [`AbstractAlgebra.jl`][4]) and [`PropertyT.jl`][8] packages.\n",
    "\n",
    "[1]: https://github.com/cvxgrp/scs  \n",
    "[2]: https://github.com/JuliaOpt/JuMP.jl  \n",
    "[3]: https://github.com/JuliaIntervals/ValidatedNumerics.jl\n",
    "[4]: https://github.com/Nemocas/AbstractAlgebra.jl\n",
    "[5]: https://github.com/Nemocas/Nemo.jl\n",
    "[6]: https://github.com/kalmarek/GroupRings.jl\n",
    "[7]: https://github.com/kalmarek/Groups.jl\n",
    "[8]: https://github.com/kalmarek/PropertyT.jl"
   ]
  },
  {
   "cell_type": "markdown",
   "metadata": {},
   "source": [
    "# The computation\n",
    "\n",
    "The following programme certifies that\n",
    "$$\\operatorname{Adj}_4 + \\operatorname{Op}_4 - 0.82\\Delta_4 =\\Sigma_i \\xi_i^*\\xi_i \\in \\Sigma^2_2\\mathbb{R}\\operatorname{SL}(4,\\mathbb{Z}).$$\n",
    "\n",
    "With small changes (which we will indicate) it also certifies that \n",
    "$$\\operatorname{Adj}_3 - 0.157999\\Delta_3 \\in \\Sigma^2_2\\mathbb{R}\\operatorname{SL}(3,\\mathbb{Z})$$\n",
    "and that\n",
    "$$\\operatorname{Adj}_5 +1.5 \\mathrm{Op}_5 - 1.5\\Delta_5 \\in \\Sigma^2_2\\mathbb{R}\\operatorname{SL}(5,\\mathbb{Z}).$$"
   ]
  },
  {
   "cell_type": "code",
   "execution_count": 2,
   "metadata": {
    "ExecuteTime": {
     "end_time": "2020-10-17T17:37:02.259000+02:00",
     "start_time": "2020-10-17T15:37:00.743Z"
    }
   },
   "outputs": [
    {
     "name": "stderr",
     "output_type": "stream",
     "text": [
      "\u001b[32m\u001b[1m Activating\u001b[22m\u001b[39m environment at `~/ownCloud/PropertyT/1812.03456/Project.toml`\n"
     ]
    },
    {
     "data": {
      "text/plain": [
       "2020-10-17T17:37:01.341"
      ]
     },
     "execution_count": 2,
     "metadata": {},
     "output_type": "execute_result"
    }
   ],
   "source": [
    "using Pkg\n",
    "Pkg.activate(\"..\")\n",
    "using Dates\n",
    "now()"
   ]
  },
  {
   "cell_type": "code",
   "execution_count": 3,
   "metadata": {
    "ExecuteTime": {
     "end_time": "2020-10-17T17:37:35.440000+02:00",
     "start_time": "2020-10-17T15:37:09.344Z"
    },
    "scrolled": true
   },
   "outputs": [],
   "source": [
    "using LinearAlgebra\n",
    "using AbstractAlgebra\n",
    "using Groups\n",
    "using GroupRings\n",
    "using PropertyT"
   ]
  },
  {
   "cell_type": "markdown",
   "metadata": {
    "ExecuteTime": {
     "end_time": "2018-11-24T12:10:28.877000+01:00",
     "start_time": "2018-11-24T11:10:27.729Z"
    }
   },
   "source": [
    "So far we only made the needed packages available in the notebook. \n",
    "In the next cell we define `G` to be the set of all $4\\times 4$ matrices over $\\mathbb Z$.\n",
    "(For the second computation, set `N=3` below; for the third, set `N=5`)"
   ]
  },
  {
   "cell_type": "code",
   "execution_count": 4,
   "metadata": {
    "ExecuteTime": {
     "end_time": "2020-10-17T17:37:37.491000+02:00",
     "start_time": "2020-10-17T15:37:14.471Z"
    }
   },
   "outputs": [
    {
     "data": {
      "text/plain": [
       "Matrix Algebra of degree 4 over Integers"
      ]
     },
     "execution_count": 4,
     "metadata": {},
     "output_type": "execute_result"
    }
   ],
   "source": [
    "N = 4\n",
    "G = MatrixAlgebra(zz, N)"
   ]
  },
  {
   "cell_type": "markdown",
   "metadata": {},
   "source": [
    "## Generating set\n",
    "Now we create the elementary matrices $E_{i,j}$. The set of all such matrices and their inverses is denoted by `S`."
   ]
  },
  {
   "cell_type": "code",
   "execution_count": 5,
   "metadata": {
    "ExecuteTime": {
     "end_time": "2020-10-17T17:37:41.613000+02:00",
     "start_time": "2020-10-17T15:37:18.572Z"
    }
   },
   "outputs": [
    {
     "data": {
      "text/plain": [
       "24-element Array{AbstractAlgebra.Generic.MatAlgElem{Int64},1}:\n",
       " [1 1 0 0; 0 1 0 0; 0 0 1 0; 0 0 0 1]\n",
       " [1 0 1 0; 0 1 0 0; 0 0 1 0; 0 0 0 1]\n",
       " [1 0 0 1; 0 1 0 0; 0 0 1 0; 0 0 0 1]\n",
       " [1 0 0 0; 1 1 0 0; 0 0 1 0; 0 0 0 1]\n",
       " [1 0 0 0; 0 1 1 0; 0 0 1 0; 0 0 0 1]\n",
       " [1 0 0 0; 0 1 0 1; 0 0 1 0; 0 0 0 1]\n",
       " [1 0 0 0; 0 1 0 0; 1 0 1 0; 0 0 0 1]\n",
       " [1 0 0 0; 0 1 0 0; 0 1 1 0; 0 0 0 1]\n",
       " [1 0 0 0; 0 1 0 0; 0 0 1 1; 0 0 0 1]\n",
       " [1 0 0 0; 0 1 0 0; 0 0 1 0; 1 0 0 1]\n",
       " [1 0 0 0; 0 1 0 0; 0 0 1 0; 0 1 0 1]\n",
       " [1 0 0 0; 0 1 0 0; 0 0 1 0; 0 0 1 1]\n",
       " [1 -1 0 0; 0 1 0 0; 0 0 1 0; 0 0 0 1]\n",
       " [1 0 -1 0; 0 1 0 0; 0 0 1 0; 0 0 0 1]\n",
       " [1 0 0 -1; 0 1 0 0; 0 0 1 0; 0 0 0 1]\n",
       " [1 0 0 0; -1 1 0 0; 0 0 1 0; 0 0 0 1]\n",
       " [1 0 0 0; 0 1 -1 0; 0 0 1 0; 0 0 0 1]\n",
       " [1 0 0 0; 0 1 0 -1; 0 0 1 0; 0 0 0 1]\n",
       " [1 0 0 0; 0 1 0 0; -1 0 1 0; 0 0 0 1]\n",
       " [1 0 0 0; 0 1 0 0; 0 -1 1 0; 0 0 0 1]\n",
       " [1 0 0 0; 0 1 0 0; 0 0 1 -1; 0 0 0 1]\n",
       " [1 0 0 0; 0 1 0 0; 0 0 1 0; -1 0 0 1]\n",
       " [1 0 0 0; 0 1 0 0; 0 0 1 0; 0 -1 0 1]\n",
       " [1 0 0 0; 0 1 0 0; 0 0 1 0; 0 0 -1 1]"
      ]
     },
     "execution_count": 5,
     "metadata": {},
     "output_type": "execute_result"
    }
   ],
   "source": [
    "S = PropertyT.generating_set(G)"
   ]
  },
  {
   "cell_type": "markdown",
   "metadata": {},
   "source": [
    "## Group Ring and Laplacians\n",
    "Now we will generate the ball `E_R` of radius $R=4$ in $\\operatorname{SL}(N,\\mathbb{Z})$ and use this as a (partial) basis in a group ring (denoted by `RG` below). Such group ring also needs a multiplication table (`pm`, which is actually a *division table*) which is created as follows: when $x,y$ reside at positions `i`-th and `j`-th in `E_R`, then `pm[i,j] = k`, where `k` is the position of $x^{-1}y$ in `E_R`. "
   ]
  },
  {
   "cell_type": "code",
   "execution_count": 7,
   "metadata": {
    "ExecuteTime": {
     "end_time": "2020-10-17T17:38:15.984000+02:00",
     "start_time": "2020-10-17T15:38:08.363Z"
    }
   },
   "outputs": [
    {
     "name": "stdout",
     "output_type": "stream",
     "text": [
      "sizes = [25, 433, 6149, 75197]\n"
     ]
    },
    {
     "data": {
      "text/plain": [
       "24[1 0 0 0; 0 1 0 0; 0 0 1 0; 0 0 0 1] - 1[1 1 0 0; 0 1 0 0; 0 0 1 0; 0 0 0 1] - 1[1 0 1 0; 0 1 0 0; 0 0 1 0; 0 0 0 1] - 1[1 0 0 1; 0 1 0 0; 0 0 1 0; 0 0 0 1] - 1[1 0 0 0; 1 1 0 0; 0 0 1 0; 0 0 0 1] - 1[1 0 0 0; 0 1 1 0; 0 0 1 0; 0 0 0 1] - 1[1 0 0 0; 0 1 0 1; 0 0 1 0; 0 0 0 1] - 1[1 0 0 0; 0 1 0 0; 1 0 1 0; 0 0 0 1] - 1[1 0 0 0; 0 1 0 0; 0 1 1 0; 0 0 0 1] - 1[1 0 0 0; 0 1 0 0; 0 0 1 1; 0 0 0 1] - 1[1 0 0 0; 0 1 0 0; 0 0 1 0; 1 0 0 1] - 1[1 0 0 0; 0 1 0 0; 0 0 1 0; 0 1 0 1] - 1[1 0 0 0; 0 1 0 0; 0 0 1 0; 0 0 1 1] - 1[1 -1 0 0; 0 1 0 0; 0 0 1 0; 0 0 0 1] - 1[1 0 -1 0; 0 1 0 0; 0 0 1 0; 0 0 0 1] - 1[1 0 0 -1; 0 1 0 0; 0 0 1 0; 0 0 0 1] - 1[1 0 0 0; -1 1 0 0; 0 0 1 0; 0 0 0 1] - 1[1 0 0 0; 0 1 -1 0; 0 0 1 0; 0 0 0 1] - 1[1 0 0 0; 0 1 0 -1; 0 0 1 0; 0 0 0 1] - 1[1 0 0 0; 0 1 0 0; -1 0 1 0; 0 0 0 1] - 1[1 0 0 0; 0 1 0 0; 0 -1 1 0; 0 0 0 1] - 1[1 0 0 0; 0 1 0 0; 0 0 1 -1; 0 0 0 1] - 1[1 0 0 0; 0 1 0 0; 0 0 1 0; -1 0 0 1] - 1[1 0 0 0; 0 1 0 0; 0 0 1 0; 0 -1 0 1] - 1[1 0 0 0; 0 1 0 0; 0 0 1 0; 0 0 -1 1]"
      ]
     },
     "execution_count": 7,
     "metadata": {},
     "output_type": "execute_result"
    }
   ],
   "source": [
    "halfradius = 2\n",
    "E_R, sizes = Groups.wlmetric_ball(S, radius=2*halfradius);\n",
    "E_rdict = GroupRings.reverse_dict(E_R)\n",
    "pm = GroupRings.create_pm(E_R, E_rdict, sizes[halfradius]; twisted=true);\n",
    "RG = GroupRing(G, E_R, E_rdict, pm)\n",
    "@show sizes;\n",
    "Δ = length(S)*one(RG) - sum(RG(s) for s in S)"
   ]
  },
  {
   "cell_type": "markdown",
   "metadata": {},
   "source": [
    "## Orbit Decomposition\n",
    "Now something happens: in the next cell we split the subspace of $\\mathbb{R} \\operatorname{SL}(N, \\mathbb{Z})$ supported on `E_R` into irreducible representations of the wreath product $\\mathbb Z / 2 \\mathbb Z \\wr \\operatorname{Sym}_N$. The action of wreath product on the elements of the matrix space is by conjugation, i.e. permutation of rows and columns.\n",
    "We also compute projections on the invariant subspaces to later speed up the optimisation step."
   ]
  },
  {
   "cell_type": "code",
   "execution_count": 12,
   "metadata": {
    "ExecuteTime": {
     "end_time": "2020-10-17T17:39:37.488000+02:00",
     "start_time": "2020-10-17T15:39:36.109Z"
    }
   },
   "outputs": [
    {
     "name": "stderr",
     "output_type": "stream",
     "text": [
      "┌ Info: Decomposing basis of RG into orbits of\n",
      "│   autS = Wreath Product of Full symmetric group over 2 elements by Full symmetric group over 4 elements\n",
      "└ @ PropertyT /home/kalmar/.julia/packages/PropertyT/vcGsE/src/blockdecomposition.jl:15\n"
     ]
    },
    {
     "name": "stdout",
     "output_type": "stream",
     "text": [
      "  0.164138 seconds (455.58 k allocations: 56.657 MiB)\n",
      "  0.019989 seconds (158.02 k allocations: 8.778 MiB)\n"
     ]
    },
    {
     "name": "stderr",
     "output_type": "stream",
     "text": [
      "┌ Info: The action has 558 orbits\n",
      "└ @ PropertyT /home/kalmar/.julia/packages/PropertyT/vcGsE/src/blockdecomposition.jl:18\n",
      "┌ Info: Finding projections in the Group Ring of\n",
      "│   autS = Wreath Product of Full symmetric group over 2 elements by Full symmetric group over 4 elements\n",
      "└ @ PropertyT /home/kalmar/.julia/packages/PropertyT/vcGsE/src/blockdecomposition.jl:20\n",
      "┌ Info: Finding AutS-action matrix representation\n",
      "└ @ PropertyT /home/kalmar/.julia/packages/PropertyT/vcGsE/src/blockdecomposition.jl:23\n"
     ]
    },
    {
     "name": "stdout",
     "output_type": "stream",
     "text": [
      "  0.082691 seconds (346.36 k allocations: 40.309 MiB)\n",
      "  0.044868 seconds (6.17 k allocations: 16.216 MiB, 83.03% gc time)\n"
     ]
    },
    {
     "name": "stderr",
     "output_type": "stream",
     "text": [
      "┌ Info: Computing the projection matrices Uπs\n",
      "└ @ PropertyT /home/kalmar/.julia/packages/PropertyT/vcGsE/src/blockdecomposition.jl:27\n"
     ]
    },
    {
     "name": "stdout",
     "output_type": "stream",
     "text": [
      "  1.060554 seconds (33.20 k allocations: 755.113 MiB, 3.53% gc time)\n"
     ]
    },
    {
     "name": "stderr",
     "output_type": "stream",
     "text": [
      "┌ Info: \n",
      "│ multiplicities  =   3  13  19  12  10   0   0   0   9  11  13  15   0   0   0   1   1   1   2   1\n",
      "│     dimensions  =   1   3   3   2   1   4   8   4   6   6   6   6   4   8   4   1   3   3   2   1\n",
      "└ @ PropertyT /home/kalmar/.julia/packages/PropertyT/vcGsE/src/blockdecomposition.jl:37\n"
     ]
    }
   ],
   "source": [
    "block_decomposition = let bd = PropertyT.BlockDecomposition(RG, WreathProduct(SymmetricGroup(2), SymmetricGroup(N)))\n",
    "    PropertyT.decimate(bd, false);\n",
    "end;"
   ]
  },
  {
   "cell_type": "markdown",
   "metadata": {},
   "source": [
    "## Elements Adj and Op\n",
    "Now we  define the elements $\\operatorname{Adj}_N$ and $\\operatorname{Op}_N$. The functions `Sq`, `Adj`, `Op` returning the appropriate elements are defined in the `src/sqadjop.jl` source file."
   ]
  },
  {
   "cell_type": "code",
   "execution_count": 13,
   "metadata": {
    "ExecuteTime": {
     "end_time": "2020-10-17T17:39:43.052000+02:00",
     "start_time": "2020-10-17T15:39:41.401Z"
    }
   },
   "outputs": [
    {
     "name": "stdout",
     "output_type": "stream",
     "text": [
      "  1.353613 seconds (1.04 M allocations: 53.086 MiB)\n",
      "  0.265352 seconds (155.32 k allocations: 7.876 MiB, 7.92% gc time)\n"
     ]
    }
   ],
   "source": [
    "@time AdjN = PropertyT.Adj(RG, N)\n",
    "@time OpN = PropertyT.Op(RG, N);"
   ]
  },
  {
   "cell_type": "markdown",
   "metadata": {},
   "source": [
    "Finally we compute the element `elt` of our interest:\n",
    "* if `N=3`: $\\operatorname{elt} = \\operatorname{Adj}_3$\n",
    "* if `N=4`: $\\operatorname{elt} = \\operatorname{Adj}_4 + \\operatorname{Op}_4$\n",
    "* if `N=5`: $\\operatorname{elt} = \\operatorname{Adj}_5 + 1.5\\operatorname{Op}_5.$"
   ]
  },
  {
   "cell_type": "code",
   "execution_count": 14,
   "metadata": {
    "ExecuteTime": {
     "end_time": "2020-10-17T17:39:49.373000+02:00",
     "start_time": "2020-10-17T15:39:48.978Z"
    }
   },
   "outputs": [
    {
     "data": {
      "text/plain": [
       "75197-element SparseArrays.SparseVector{Int64,Int64} with 361 stored entries:\n",
       "  [1    ]  =  480\n",
       "  [2    ]  =  -40\n",
       "  [3    ]  =  -40\n",
       "  [4    ]  =  -40\n",
       "  [5    ]  =  -40\n",
       "  [6    ]  =  -40\n",
       "  [7    ]  =  -40\n",
       "  [8    ]  =  -40\n",
       "  [9    ]  =  -40\n",
       "  [10   ]  =  -40\n",
       "           ⋮\n",
       "  [418  ]  =  1\n",
       "  [420  ]  =  1\n",
       "  [422  ]  =  2\n",
       "  [423  ]  =  1\n",
       "  [424  ]  =  1\n",
       "  [425  ]  =  1\n",
       "  [426  ]  =  1\n",
       "  [428  ]  =  1\n",
       "  [429  ]  =  1\n",
       "  [430  ]  =  1\n",
       "  [431  ]  =  1"
      ]
     },
     "execution_count": 14,
     "metadata": {},
     "output_type": "execute_result"
    }
   ],
   "source": [
    "if N == 3\n",
    "    k = 0\n",
    "elseif N == 4\n",
    "    k = 1\n",
    "elseif N == 5\n",
    "    k = 1.5\n",
    "end\n",
    "elt = AdjN + k*OpN;\n",
    "elt.coeffs"
   ]
  },
  {
   "cell_type": "markdown",
   "metadata": {},
   "source": [
    "## Optimization Problem"
   ]
  },
  {
   "cell_type": "markdown",
   "metadata": {},
   "source": [
    "We are ready to define the optimisation problem. Function\n",
    "> `PropertyT.SOS_problem(x, Δ, orbit_data; upper_bound=UB)`  \n",
    "\n",
    "defines the optimisation problem equivalent to the one of the form\n",
    "\\begin{align}\n",
    "\\text{ maximize : } \\quad & \\lambda\\\\\n",
    "\\text{under constraints : }\\quad & 0 \\leqslant \\lambda \\leqslant \\operatorname{UB},\\\\\n",
    "     & x - \\lambda \\Delta = \\sum \\xi_i^* \\xi_i,\\\\\n",
    "     & \\text{each $\\xi_i$ is invariant under $\\mathbb{Z}/2\\mathbb{Z} \\wr \\operatorname{Sym}_N$}.\n",
    "\\end{align}"
   ]
  },
  {
   "cell_type": "code",
   "execution_count": 15,
   "metadata": {
    "ExecuteTime": {
     "end_time": "2020-10-17T17:40:15.461000+02:00",
     "start_time": "2020-10-17T15:40:03.002Z"
    }
   },
   "outputs": [
    {
     "name": "stderr",
     "output_type": "stream",
     "text": [
      "┌ Info: Adding 558 constraints...\n",
      "└ @ PropertyT /home/kalmar/.julia/packages/PropertyT/vcGsE/src/sos_sdps.jl:124\n"
     ]
    },
    {
     "name": "stdout",
     "output_type": "stream",
     "text": [
      "  1.612674 seconds (1.47 M allocations: 330.527 MiB, 14.00% gc time)\n"
     ]
    },
    {
     "data": {
      "text/plain": [
       "(A JuMP Model\n",
       "Maximization problem with:\n",
       "Variables: 1388\n",
       "Objective function type: JuMP.VariableRef\n",
       "`JuMP.GenericAffExpr{Float64,JuMP.VariableRef}`-in-`MathOptInterface.EqualTo{Float64}`: 558 constraints\n",
       "`Array{JuMP.GenericAffExpr{Float64,JuMP.VariableRef},1}`-in-`MathOptInterface.PositiveSemidefiniteConeSquare`: 14 constraints\n",
       "`JuMP.VariableRef`-in-`MathOptInterface.LessThan{Float64}`: 1 constraint\n",
       "Model mode: AUTOMATIC\n",
       "CachingOptimizer state: NO_OPTIMIZER\n",
       "Solver name: No optimizer attached.\n",
       "Names registered in the model: λ, Array{JuMP.VariableRef,2}[[noname noname noname; noname noname noname; noname noname noname], [noname noname … noname noname; noname noname … noname noname; … ; noname noname … noname noname; noname noname … noname noname], [noname noname … noname noname; noname noname … noname noname; … ; noname noname … noname noname; noname noname … noname noname], [noname noname … noname noname; noname noname … noname noname; … ; noname noname … noname noname; noname noname … noname noname], [noname noname … noname noname; noname noname … noname noname; … ; noname noname … noname noname; noname noname … noname noname], [noname noname … noname noname; noname noname … noname noname; … ; noname noname … noname noname; noname noname … noname noname], [noname noname … noname noname; noname noname … noname noname; … ; noname noname … noname noname; noname noname … noname noname], [noname noname … noname noname; noname noname … noname noname; … ; noname noname … noname noname; noname noname … noname noname], [noname noname … noname noname; noname noname … noname noname; … ; noname noname … noname noname; noname noname … noname noname], [noname], [noname], [noname], [noname noname; noname noname], [noname]])"
      ]
     },
     "execution_count": 15,
     "metadata": {},
     "output_type": "execute_result"
    }
   ],
   "source": [
    "# @time SDP_problem, varλ, varP = PropertyT.SOS_problem(elt, Δ, orbit_data)\n",
    "if N == 3\n",
    "    UB = 0.158\n",
    "elseif N == 4\n",
    "    UB = 0.82005\n",
    "elseif N == 5\n",
    "    UB = 1.5005\n",
    "end\n",
    "SDP_problem, varP = PropertyT.SOS_problem_primal(elt, Δ, block_decomposition; upper_bound=UB)"
   ]
  },
  {
   "cell_type": "code",
   "execution_count": 22,
   "metadata": {
    "ExecuteTime": {
     "end_time": "2020-10-17T17:42:13.876000+02:00",
     "start_time": "2020-10-17T15:42:13.861Z"
    }
   },
   "outputs": [],
   "source": [
    "using JuMP\n",
    "using SCS\n",
    "λ = Ps = warm = nothing"
   ]
  },
  {
   "cell_type": "markdown",
   "metadata": {},
   "source": [
    "### Solving the problem\n",
    "Depending on the actual problem one may need to tweak the parameters given to the solver:\n",
    " * `eps` sets the requested accuracy\n",
    " * `max_iters` sets the number of iterations to run before solver gives up\n",
    " * `alpha` is a parameter ($\\alpha \\in (0,2)$) which determines the rate of convergence at the cost of the accuracy\n",
    " * `acceleration_lookback`: if you experience numerical instability in scs log should be changed to `1` (at the cost of rate of convergence).\n",
    " \n",
    " The parameters below should be enough to obtain a decent solution for $\\operatorname{SL}(4, \\mathbb{Z}), \\operatorname{SL}(5, \\mathbb{Z})$.   \n",
    " For $\\operatorname{SL}(3, \\mathbb{Z})$ approximately `1_000_000` of iterations is required; in this case by changing `UB` to $0.15$ (above) a much faster convergence can be observed."
   ]
  },
  {
   "cell_type": "code",
   "execution_count": 23,
   "metadata": {
    "ExecuteTime": {
     "end_time": "2020-10-17T17:42:21.883000+02:00",
     "start_time": "2020-10-17T15:42:15.510Z"
    },
    "scrolled": false
   },
   "outputs": [
    {
     "name": "stdout",
     "output_type": "stream",
     "text": [
      "----------------------------------------------------------------------------\n",
      "\tSCS v2.1.2 - Splitting Conic Solver\n",
      "\t(c) Brendan O'Donoghue, Stanford University, 2012\n",
      "----------------------------------------------------------------------------\n",
      "Lin-sys: sparse-direct, nnz in A = 135076\n",
      "eps = 3.00e-13, alpha = 1.50, max_iters = 10000, normalize = 1, scale = 1.00\n",
      "acceleration_lookback = 20, rho_x = 1.00e-03\n",
      "Variables n = 1388, constraints m = 1946\n",
      "Cones:\tprimal zero / dual free vars: 1196\n",
      "\tlinear vars: 1\n",
      "\tsd vars: 749, sd blks: 14\n",
      "Setup time: 1.46e-01s\n",
      "SCS using variable warm-starting\n",
      "----------------------------------------------------------------------------\n",
      " Iter | pri res | dua res | rel gap | pri obj | dua obj | kap/tau | time (s)\n",
      "----------------------------------------------------------------------------\n",
      "     0| 1.63e+20  1.22e+20  1.00e+00 -3.12e+21  2.51e+19  3.30e+20  4.52e-03 \n",
      "   100| 8.05e-05  5.91e-05  1.07e-04  2.46e-04  1.39e-04  1.36e-15  3.91e-01 \n",
      "   200| 1.07e-04  6.55e-05  2.56e-05  2.63e-04  2.37e-04  3.54e-16  7.79e-01 \n",
      "   300| 2.72e-05  1.82e-05  2.64e-06 -3.69e-05 -3.95e-05  3.57e-16  1.17e+00 \n",
      "   400| 1.68e-05  1.18e-05  1.42e-05 -1.19e-05 -2.62e-05  8.46e-17  1.45e+00 \n",
      "   500| 9.62e-06  6.97e-06  3.03e-05 -1.32e-05  1.71e-05  9.64e-18  1.73e+00 \n",
      "   600| 6.22e-06  4.22e-06  6.72e-06  1.03e-05  3.63e-06  1.53e-15  2.10e+00 \n",
      "   700| 3.13e-06  2.22e-06  8.74e-07  2.07e-06  1.19e-06  1.20e-15  2.55e+00 \n",
      "   800| 2.13e-06  1.45e-06  1.84e-06 -2.07e-07 -2.05e-06  6.24e-16  2.93e+00 \n",
      "   900| 3.89e-06  2.82e-06  1.07e-05 -6.72e-06  4.03e-06  4.82e-17  3.30e+00 \n",
      "  1000| 2.31e-07  1.23e-07  1.04e-07 -2.52e-07 -1.48e-07  1.35e-16  3.66e+00 \n",
      "  1100| 2.24e-07  1.18e-07  6.36e-08 -8.72e-08 -1.51e-07  4.83e-16  3.89e+00 \n",
      "  1200| 2.36e-07  1.34e-07  4.51e-07 -9.78e-08 -5.49e-07  3.90e-16  4.20e+00 \n",
      "  1300| 2.27e-07  1.21e-07  2.46e-08 -1.22e-07 -9.76e-08  3.63e-16  4.47e+00 \n",
      "  1400| 2.37e-07  1.35e-07  8.35e-07  2.64e-07 -5.71e-07  5.45e-16  4.73e+00 \n",
      "  1500| 2.24e-07  1.18e-07  3.22e-08 -3.17e-08  5.04e-10  2.78e-16  4.99e+00 \n",
      "  1600| 2.26e-07  1.21e-07  1.16e-07 -4.51e-08 -1.61e-07  5.99e-17  5.23e+00 \n",
      "  1700| 1.54e-09  8.10e-10  1.43e-12  2.69e-13  1.70e-12  5.47e-16  5.48e+00 \n",
      "  1800| 2.55e-10  1.65e-10  1.12e-11  3.76e-12  1.50e-11  4.93e-16  5.76e+00 \n",
      "  1900| 2.45e-07  1.37e-07  1.22e-11 -3.63e-12 -1.58e-11  7.59e-16  6.00e+00 \n",
      "  1936| 1.77e-13  1.39e-13  1.68e-13 -1.94e-13 -3.62e-13  1.29e-15  6.10e+00 \n",
      "----------------------------------------------------------------------------\n",
      "Status: Solved\n",
      "Timing: Solve time: 6.10e+00s\n",
      "\tLin-sys: nnz in L factor: 301875, avg solve time: 1.63e-03s\n",
      "\tCones: avg projection time: 5.39e-04s\n",
      "\tAcceleration: avg step time: 8.14e-04s\n",
      "----------------------------------------------------------------------------\n",
      "Error metrics:\n",
      "dist(s, K) = 6.4879e-10, dist(y, K*) = 1.7665e-09, s'y/|s||y| = -4.3757e-14\n",
      "primal res: |Ax + s - b|_2 / (1 + |b|_2) = 1.7719e-13\n",
      "dual res:   |A'y + c|_2 / (1 + |c|_2) = 1.3908e-13\n",
      "rel gap:    |c'x + b'y| / (1 + |c'x| + |b'y|) = 1.6805e-13\n",
      "----------------------------------------------------------------------------\n",
      "c'x = -0.0000, -b'y = -0.0000\n",
      "============================================================================\n",
      "status = MathOptInterface.OPTIMAL\n",
      "λ = 0.8200500000001941\n"
     ]
    }
   ],
   "source": [
    "with_SCS = with_optimizer(SCS.Optimizer, \n",
    "    linear_solver=SCS.DirectSolver, \n",
    "    eps=3e-13,\n",
    "    max_iters=10000,\n",
    "    alpha=1.5,\n",
    "    acceleration_lookback=20,\n",
    "    warm_start=true)\n",
    "\n",
    "status, warm = PropertyT.solve(SDP_problem, with_SCS, warm);\n",
    "\n",
    "λ = value(SDP_problem[:λ])\n",
    "@show(status, λ);"
   ]
  },
  {
   "cell_type": "markdown",
   "metadata": {},
   "source": [
    "## Checking the solution\n",
    "Now we reconstruct the solution to the original problem over $\\mathbb{R} \\operatorname{SL}(N,\\mathbb{Z})$, which essentially boils down to averaging the obtained solution over the orbits of wreath product action:\n",
    "  $$Q=\\frac{1}{|\\Sigma|}\\sum_{\\sigma\\in\\Sigma}\\sum_{\\pi\\in \\widehat{\\Sigma}} \\dim{\\pi}\\cdot\\sigma\\left(U_{\\pi}^T \\sqrt{P_{\\pi}} U_{\\pi}\\right).$$"
   ]
  },
  {
   "cell_type": "code",
   "execution_count": 26,
   "metadata": {
    "ExecuteTime": {
     "end_time": "2020-10-17T17:42:51.677000+02:00",
     "start_time": "2020-10-17T15:42:47.483Z"
    }
   },
   "outputs": [
    {
     "data": {
      "text/plain": [
       "433×433 Array{Float64,2}:\n",
       "  1.79844    -0.244855    -0.244855     …   0.0365242    -0.0339552\n",
       " -0.244855    3.27653     -0.0794207       -0.0271263     0.0102415\n",
       " -0.244855   -0.0794207    3.27653          0.00268331   -0.00534557\n",
       " -0.244855   -0.0794207   -0.0794207       -0.00583136    0.00575391\n",
       " -0.244855    0.0191633   -0.152337        -0.0271263     0.0102415\n",
       " -0.244855   -0.152337    -0.0799117    …   0.00268331   -0.00534557\n",
       " -0.244855   -0.152337    -0.0302292       -0.00583136    0.00575391\n",
       " -0.244855   -0.152337     0.0191633       -0.00576952    0.0057453\n",
       " -0.244855   -0.0799117   -0.152337        -0.00576952    0.0057453\n",
       " -0.244855   -0.0302292   -0.152337        -0.000915419   0.00600043\n",
       " -0.244855   -0.152337    -0.152337     …   0.00274121   -0.00546807\n",
       " -0.244855   -0.0799117   -0.0302292        0.00274121   -0.00546807\n",
       " -0.244855   -0.0302292   -0.0799117       -0.00888896    0.00644246\n",
       "  ⋮                                     ⋱                \n",
       "  0.061128    0.0162992    0.0162992        0.01186      -0.0289718\n",
       " -0.0164262   0.0220956    0.058385        -0.0203191     0.0121429\n",
       " -0.0164262   0.00897865  -0.0129111       -0.0203191     0.0121429\n",
       " -0.0166521   0.00898925   0.013348        -0.0200025     0.0117452\n",
       " -0.0166521   0.0220839    0.00221203   …  -0.0200025     0.0117452\n",
       "  0.0264225   0.0330542   -0.013538        -0.0132412    -0.0282708\n",
       " -0.0164262   0.0220956    0.000251347     -0.0203191     0.0121429\n",
       " -0.0164262   0.00897865  -0.0129111       -0.0203191     0.0121429\n",
       " -0.0166521   0.00898925  -0.0141835       -0.0200025     0.0117452\n",
       " -0.0166521   0.0220839    0.00221203   …  -0.0200025     0.0117452\n",
       "  0.0365242  -0.0271263    0.00268331       0.101403     -0.0479073\n",
       " -0.0339552   0.0102415   -0.00534557      -0.0479073     0.119942"
      ]
     },
     "execution_count": 26,
     "metadata": {},
     "output_type": "execute_result"
    }
   ],
   "source": [
    "Ps = [value.(P) for P in varP]\n",
    "Qs = real.(sqrt.(Ps));\n",
    "Q = PropertyT.reconstruct(Qs, block_decomposition)"
   ]
  },
  {
   "cell_type": "markdown",
   "metadata": {},
   "source": [
    "As explained in the paper the columns of the square-root of the solution matrix provide the coefficients for $\\xi_i$'s in basis `E_R` of the group ring. Below we compute the residual \n",
    "    $$ b = \\left(x - \\lambda\\Delta\\right) - \\sum \\xi_i^*\\xi_i.$$\n",
    "As we do it in floating-point arithmetic,  the result can't be taken seriously."
   ]
  },
  {
   "cell_type": "code",
   "execution_count": 27,
   "metadata": {
    "ExecuteTime": {
     "end_time": "2020-10-17T17:42:51.692000+02:00",
     "start_time": "2020-10-17T15:42:50.661Z"
    }
   },
   "outputs": [
    {
     "data": {
      "text/plain": [
       "SOS_residual (generic function with 1 method)"
      ]
     },
     "execution_count": 27,
     "metadata": {},
     "output_type": "execute_result"
    }
   ],
   "source": [
    "function SOS_residual(x::GroupRingElem, Q::Matrix)\n",
    "    RG = parent(x)\n",
    "    @time sos = PropertyT.compute_SOS(RG, Q);\n",
    "    return x - sos\n",
    "end"
   ]
  },
  {
   "cell_type": "code",
   "execution_count": 28,
   "metadata": {
    "ExecuteTime": {
     "end_time": "2020-10-17T17:42:55.908000+02:00",
     "start_time": "2020-10-17T15:42:53.635Z"
    }
   },
   "outputs": [
    {
     "name": "stdout",
     "output_type": "stream",
     "text": [
      "  0.085913 seconds (39.30 k allocations: 4.481 MiB)\n",
      "norm(residual, 1) = 1.0254085621119818e-8\n"
     ]
    }
   ],
   "source": [
    "residual = SOS_residual(elt - λ*Δ, Q)\n",
    "@show norm(residual, 1);"
   ]
  },
  {
   "cell_type": "markdown",
   "metadata": {},
   "source": [
    "### Checking in interval arithmetic"
   ]
  },
  {
   "cell_type": "code",
   "execution_count": 30,
   "metadata": {
    "ExecuteTime": {
     "end_time": "2020-10-17T17:43:05.341000+02:00",
     "start_time": "2020-10-17T15:43:05.045Z"
    }
   },
   "outputs": [],
   "source": [
    "using PropertyT.IntervalArithmetic\n",
    "IntervalArithmetic.setrounding(Interval, :tight)\n",
    "IntervalArithmetic.setformat(sigfigs=12);"
   ]
  },
  {
   "cell_type": "markdown",
   "metadata": {},
   "source": [
    "Here we resort to interval arithmetic to provide certified upper and lower bounds on the norm of the residual.\n",
    "* We first change entries of `Q` to narrow intervals\n",
    "* We project columns of `Q` so that $0$ is in the sum of coefficients of each column (i.e. $\\xi_i \\in I \\operatorname{SL}(N,\\mathbb{Z})$)\n",
    "* We compute the sum of squares and the $\\ell_1$-norm of the residual in the interval arithmetic.\n",
    "\n",
    "The returned `check_columns_augmentation` is a boolean flag to detect if the projection was successful, i.e. if we can guarantee that each column of `Q_aug` can be represented by an element from the augmentation ideal. (If it were not successful, one may project `Q = PropertyT.augIdproj(Q)` in the floating point arithmetic prior to the cell below).\n",
    "\n",
    "The resulting norm of the residual is **guaranteed** to be contained in the resulting interval. E.g. if each entry of `Q` were changed into an honest rational number and all the computations were carried out in rational arithmetic, the rational $\\ell_1$-norm will be contained in the interval $\\ell_1$-norm."
   ]
  },
  {
   "cell_type": "code",
   "execution_count": 31,
   "metadata": {
    "ExecuteTime": {
     "end_time": "2020-10-17T17:43:19.664000+02:00",
     "start_time": "2020-10-17T15:43:11.648Z"
    }
   },
   "outputs": [
    {
     "name": "stdout",
     "output_type": "stream",
     "text": [
      "  3.428940 seconds (68.03 k allocations: 7.752 MiB)\n",
      "norm(residual_int, 1) = [1.22284496266e-08, 1.2560013768e-08]\n"
     ]
    }
   ],
   "source": [
    "Q_aug, check_columns_augmentation = PropertyT.augIdproj(Interval, Q);\n",
    "@assert check_columns_augmentation\n",
    "elt_int = elt - @interval(λ)*Δ;\n",
    "residual_int = SOS_residual(elt_int, Q_aug)\n",
    "@show norm(residual_int, 1);"
   ]
  },
  {
   "cell_type": "code",
   "execution_count": 32,
   "metadata": {
    "ExecuteTime": {
     "end_time": "2020-10-17T17:43:21.640000+02:00",
     "start_time": "2020-10-17T15:43:21.291Z"
    }
   },
   "outputs": [
    {
     "data": {
      "text/plain": [
       "[0.82004997488, 0.820049975544]"
      ]
     },
     "execution_count": 32,
     "metadata": {},
     "output_type": "execute_result"
    }
   ],
   "source": [
    "certified_λ = @interval(λ) - 2*norm(residual_int,1)"
   ]
  },
  {
   "cell_type": "markdown",
   "metadata": {
    "ExecuteTime": {
     "end_time": "2018-11-24T14:06:31.828000+01:00",
     "start_time": "2018-11-24T13:06:31.206Z"
    }
   },
   "source": [
    "So $\\operatorname{elt} - \\lambda_0 \\Delta \\in \\Sigma^2 I\\operatorname{SL}(N, \\mathbb{Z})$, where as $\\lambda_0$ we could take the left end of the above interval:"
   ]
  },
  {
   "cell_type": "code",
   "execution_count": 35,
   "metadata": {
    "ExecuteTime": {
     "end_time": "2020-10-17T17:43:48.336000+02:00",
     "start_time": "2020-10-17T15:43:48.322Z"
    }
   },
   "outputs": [
    {
     "data": {
      "text/latex": [
       "0 . 8 2 0 0 4 9 9 7 4 8 8 0 1 6 6 5"
      ],
      "text/plain": [
       "0.8200499748801665"
      ]
     },
     "execution_count": 35,
     "metadata": {},
     "output_type": "execute_result"
    }
   ],
   "source": [
    "certified_λ.lo"
   ]
  },
  {
   "cell_type": "code",
   "execution_count": 36,
   "metadata": {
    "ExecuteTime": {
     "end_time": "2020-10-17T17:43:49.746000+02:00",
     "start_time": "2020-10-17T15:43:49.663Z"
    }
   },
   "outputs": [
    {
     "data": {
      "text/plain": [
       "2020-10-17T17:43:49.676"
      ]
     },
     "execution_count": 36,
     "metadata": {},
     "output_type": "execute_result"
    }
   ],
   "source": [
    "using Dates\n",
    "now()"
   ]
  },
  {
   "cell_type": "code",
   "execution_count": null,
   "metadata": {},
   "outputs": [],
   "source": []
  }
 ],
 "metadata": {
  "@webio": {
   "lastCommId": null,
   "lastKernelId": null
  },
  "gist": {
   "data": {
    "description": "ownCloud/GroupsWithPropertyT/notebooks/Positivity in SL(n,Z).ipynb",
    "public": false
   },
   "id": ""
  },
  "kernelspec": {
   "display_name": "Julia 1.5.1",
   "language": "julia",
   "name": "julia-1.5"
  },
  "language_info": {
   "file_extension": ".jl",
   "mimetype": "application/julia",
   "name": "julia",
   "version": "1.5.1"
  },
  "toc": {
   "base_numbering": 1,
   "nav_menu": {},
   "number_sections": true,
   "sideBar": false,
   "skip_h1_title": false,
   "title_cell": "Table of Contents",
   "title_sidebar": "Contents",
   "toc_cell": false,
   "toc_position": {},
   "toc_section_display": true,
   "toc_window_display": false
  }
 },
 "nbformat": 4,
 "nbformat_minor": 2
}
