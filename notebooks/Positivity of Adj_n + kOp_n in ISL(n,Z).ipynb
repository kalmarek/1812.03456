{
 "cells": [
  {
   "cell_type": "markdown",
   "metadata": {
    "cell_style": "center"
   },
   "source": [
    "# Installation"
   ]
  },
  {
   "cell_type": "markdown",
   "metadata": {},
   "source": [
    "Before exploring the notebook you need to clone the main repository:\n",
    "```bash\n",
    " git clone https://github.com/kalmarek/1812.03456.git\n",
    "```\n",
    "This notebook should be located in `1812.03456/notebooks` directory.\n",
    "\n",
    "In the main directory (`1812.03456`) you should run the following code in `julia`s `REPL` console to instantiate the environment for computations:\n",
    "```julia\n",
    "using Pkg\n",
    "Pkg.activate(\".\")\n",
    "Pkg.instantiate()\n",
    "```\n",
    "(this needs to be done once per installation).\n",
    "\n",
    "Instantiation should install (among others): the [`SCS` solver][1], [`JuMP` package][2] for mathematical programming and `IntervalArithmetic.jl` package from [`ValidatedNumerics.jl`][3].\n",
    "\n",
    "The environment also makes use of [`AbstractAlgebra.jl`][4], [`Nemo.jl`][5], [`GroupRings.jl`][6], [`Groups.jl`][7] and [`PropertyT.jl`][8] packages.\n",
    "\n",
    "[1]: https://github.com/cvxgrp/scs  \n",
    "[2]: https://github.com/JuliaOpt/JuMP.jl  \n",
    "[3]: https://github.com/JuliaIntervals/ValidatedNumerics.jl\n",
    "[4]: https://github.com/Nemocas/AbstractAlgebra.jl\n",
    "[5]: https://github.com/Nemocas/Nemo.jl\n",
    "[6]: https://github.com/kalmarek/GroupRings.jl\n",
    "[7]: https://github.com/kalmarek/Groups.jl\n",
    "[8]: https://github.com/kalmarek/PropertyT.jl"
   ]
  },
  {
   "cell_type": "markdown",
   "metadata": {},
   "source": [
    "# The computation\n",
    "\n",
    "The following programme certifies that\n",
    "$$\\operatorname{Adj}_4 + \\operatorname{Op}_4 - 0.82\\Delta_4 =\\Sigma_i \\xi_i^*\\xi_i \\in \\Sigma^2_2\\mathbb{R}\\operatorname{SL}(4,\\mathbb{Z}).$$\n",
    "\n",
    "With small changes (which we will indicate) it also certifies that \n",
    "$$\\operatorname{Adj}_3 - 0.157999\\Delta_3 \\in \\Sigma^2_2\\mathbb{R}\\operatorname{SL}(3,\\mathbb{Z})$$\n",
    "and that\n",
    "$$\\operatorname{Adj}_5 +1.5 \\mathrm{Op}_5 - 1.5\\Delta_5 \\in \\Sigma^2_2\\mathbb{R}\\operatorname{SL}(5,\\mathbb{Z}).$$"
   ]
  },
  {
   "cell_type": "code",
   "execution_count": 2,
   "metadata": {
    "ExecuteTime": {
     "end_time": "2019-06-28T10:13:53.660000+02:00",
     "start_time": "2019-06-28T08:13:53.116Z"
    }
   },
   "outputs": [
    {
     "data": {
      "text/plain": [
       "2019-06-28T10:13:53.177"
      ]
     },
     "execution_count": 2,
     "metadata": {},
     "output_type": "execute_result"
    }
   ],
   "source": [
    "using Pkg\n",
    "Pkg.activate(\"..\")\n",
    "using Dates\n",
    "now()"
   ]
  },
  {
   "cell_type": "code",
   "execution_count": 3,
   "metadata": {
    "ExecuteTime": {
     "end_time": "2019-06-28T10:14:09.667000+02:00",
     "start_time": "2019-06-28T08:13:55.772Z"
    },
    "scrolled": true
   },
   "outputs": [
    {
     "name": "stdout",
     "output_type": "stream",
     "text": [
      "\n",
      "Welcome to Nemo version 0.14.0\n",
      "\n",
      "Nemo comes with absolutely no warranty whatsoever\n",
      "\n"
     ]
    },
    {
     "name": "stderr",
     "output_type": "stream",
     "text": [
      "┌ Info: Recompiling stale cache file /home/kalmar/.julia/compiled/v1.1/PropertyT/ASnhZ.ji for PropertyT [03b72c93-0167-51e2-8a1e-eb4ff1fb940d]\n",
      "└ @ Base loading.jl:1184\n"
     ]
    }
   ],
   "source": [
    "using AbstractAlgebra\n",
    "using Nemo\n",
    "using Groups\n",
    "using GroupRings\n",
    "using PropertyT"
   ]
  },
  {
   "cell_type": "markdown",
   "metadata": {
    "ExecuteTime": {
     "end_time": "2018-11-24T12:10:28.877000+01:00",
     "start_time": "2018-11-24T11:10:27.729Z"
    }
   },
   "source": [
    "So far we only made the needed packages available in the notebook. \n",
    "In the next cell we define `G` to be the set of all $4\\times 4$ matrices over $\\mathbb Z$.\n",
    "(For the second computation, set `N=3` below; for the third, set `N=5`)"
   ]
  },
  {
   "cell_type": "code",
   "execution_count": 4,
   "metadata": {
    "ExecuteTime": {
     "end_time": "2019-06-28T10:14:21.674000+02:00",
     "start_time": "2019-06-28T08:14:19.062Z"
    }
   },
   "outputs": [
    {
     "data": {
      "text/plain": [
       "Matrix Space of 4 rows and 4 columns over Integer Ring"
      ]
     },
     "execution_count": 4,
     "metadata": {},
     "output_type": "execute_result"
    }
   ],
   "source": [
    "N = 4\n",
    "G = Nemo.MatrixSpace(Nemo.ZZ, N, N)"
   ]
  },
  {
   "cell_type": "markdown",
   "metadata": {},
   "source": [
    "## Generating set\n",
    "Now we create the elementary matrices $E_{i,j}$. The set of all such matrices and their inverses is denoted by `S`."
   ]
  },
  {
   "cell_type": "code",
   "execution_count": 5,
   "metadata": {
    "ExecuteTime": {
     "end_time": "2019-06-28T10:14:25.053000+02:00",
     "start_time": "2019-06-28T08:14:24.404Z"
    }
   },
   "outputs": [
    {
     "data": {
      "text/plain": [
       "SqAdjOp (generic function with 1 method)"
      ]
     },
     "execution_count": 5,
     "metadata": {},
     "output_type": "execute_result"
    }
   ],
   "source": [
    "include(\"../src/sqadjop.jl\")"
   ]
  },
  {
   "cell_type": "code",
   "execution_count": 7,
   "metadata": {
    "ExecuteTime": {
     "end_time": "2019-06-28T10:14:41.163000+02:00",
     "start_time": "2019-06-28T08:14:40.082Z"
    }
   },
   "outputs": [
    {
     "data": {
      "text/plain": [
       "24-element Array{fmpz_mat,1}:\n",
       " [1 1 0 0]\n",
       "[0 1 0 0]\n",
       "[0 0 1 0]\n",
       "[0 0 0 1] \n",
       " [1 0 1 0]\n",
       "[0 1 0 0]\n",
       "[0 0 1 0]\n",
       "[0 0 0 1] \n",
       " [1 0 0 1]\n",
       "[0 1 0 0]\n",
       "[0 0 1 0]\n",
       "[0 0 0 1] \n",
       " [1 0 0 0]\n",
       "[1 1 0 0]\n",
       "[0 0 1 0]\n",
       "[0 0 0 1] \n",
       " [1 0 0 0]\n",
       "[0 1 1 0]\n",
       "[0 0 1 0]\n",
       "[0 0 0 1] \n",
       " [1 0 0 0]\n",
       "[0 1 0 1]\n",
       "[0 0 1 0]\n",
       "[0 0 0 1] \n",
       " [1 0 0 0]\n",
       "[0 1 0 0]\n",
       "[1 0 1 0]\n",
       "[0 0 0 1] \n",
       " [1 0 0 0]\n",
       "[0 1 0 0]\n",
       "[0 1 1 0]\n",
       "[0 0 0 1] \n",
       " [1 0 0 0]\n",
       "[0 1 0 0]\n",
       "[0 0 1 1]\n",
       "[0 0 0 1] \n",
       " [1 0 0 0]\n",
       "[0 1 0 0]\n",
       "[0 0 1 0]\n",
       "[1 0 0 1] \n",
       " [1 0 0 0]\n",
       "[0 1 0 0]\n",
       "[0 0 1 0]\n",
       "[0 1 0 1] \n",
       " [1 0 0 0]\n",
       "[0 1 0 0]\n",
       "[0 0 1 0]\n",
       "[0 0 1 1] \n",
       " [1 -1 0 0]\n",
       "[0 1 0 0]\n",
       "[0 0 1 0]\n",
       "[0 0 0 1]\n",
       " [1 0 -1 0]\n",
       "[0 1 0 0]\n",
       "[0 0 1 0]\n",
       "[0 0 0 1]\n",
       " [1 0 0 -1]\n",
       "[0 1 0 0]\n",
       "[0 0 1 0]\n",
       "[0 0 0 1]\n",
       " [1 0 0 0]\n",
       "[-1 1 0 0]\n",
       "[0 0 1 0]\n",
       "[0 0 0 1]\n",
       " [1 0 0 0]\n",
       "[0 1 -1 0]\n",
       "[0 0 1 0]\n",
       "[0 0 0 1]\n",
       " [1 0 0 0]\n",
       "[0 1 0 -1]\n",
       "[0 0 1 0]\n",
       "[0 0 0 1]\n",
       " [1 0 0 0]\n",
       "[0 1 0 0]\n",
       "[-1 0 1 0]\n",
       "[0 0 0 1]\n",
       " [1 0 0 0]\n",
       "[0 1 0 0]\n",
       "[0 -1 1 0]\n",
       "[0 0 0 1]\n",
       " [1 0 0 0]\n",
       "[0 1 0 0]\n",
       "[0 0 1 -1]\n",
       "[0 0 0 1]\n",
       " [1 0 0 0]\n",
       "[0 1 0 0]\n",
       "[0 0 1 0]\n",
       "[-1 0 0 1]\n",
       " [1 0 0 0]\n",
       "[0 1 0 0]\n",
       "[0 0 1 0]\n",
       "[0 -1 0 1]\n",
       " [1 0 0 0]\n",
       "[0 1 0 0]\n",
       "[0 0 1 0]\n",
       "[0 0 -1 1]"
      ]
     },
     "execution_count": 7,
     "metadata": {},
     "output_type": "execute_result"
    }
   ],
   "source": [
    "S = generating_set(G)"
   ]
  },
  {
   "cell_type": "markdown",
   "metadata": {},
   "source": [
    "## Group Ring and Laplacians\n",
    "Now we will generate the ball `E_R` of radius $R=4$ in $\\operatorname{SL}(N,\\mathbb{Z})$ and use this as a (partial) basis in a group ring (denoted by `RG` below). Such group ring also needs a multiplication table (`pm`, which is actually a *division table*) which is created as follows: when $x,y$ reside at positions `i`-th and `j`-th in `E_R`, then `pm[i,j] = k`, where `k` is the position of $x^{-1}y$ in `E_R`. "
   ]
  },
  {
   "cell_type": "code",
   "execution_count": 8,
   "metadata": {
    "ExecuteTime": {
     "end_time": "2019-06-28T10:14:48.963000+02:00",
     "start_time": "2019-06-28T08:14:45.021Z"
    }
   },
   "outputs": [
    {
     "name": "stdout",
     "output_type": "stream",
     "text": [
      "sizes = [25, 433, 6149, 75197]\n"
     ]
    },
    {
     "data": {
      "text/plain": [
       "24[1 0 0 0]\n",
       "[0 1 0 0]\n",
       "[0 0 1 0]\n",
       "[0 0 0 1] - 1[1 1 0 0]\n",
       "[0 1 0 0]\n",
       "[0 0 1 0]\n",
       "[0 0 0 1] - 1[1 0 1 0]\n",
       "[0 1 0 0]\n",
       "[0 0 1 0]\n",
       "[0 0 0 1] - 1[1 0 0 1]\n",
       "[0 1 0 0]\n",
       "[0 0 1 0]\n",
       "[0 0 0 1] - 1[1 0 0 0]\n",
       "[1 1 0 0]\n",
       "[0 0 1 0]\n",
       "[0 0 0 1] - 1[1 0 0 0]\n",
       "[0 1 1 0]\n",
       "[0 0 1 0]\n",
       "[0 0 0 1] - 1[1 0 0 0]\n",
       "[0 1 0 1]\n",
       "[0 0 1 0]\n",
       "[0 0 0 1] - 1[1 0 0 0]\n",
       "[0 1 0 0]\n",
       "[1 0 1 0]\n",
       "[0 0 0 1] - 1[1 0 0 0]\n",
       "[0 1 0 0]\n",
       "[0 1 1 0]\n",
       "[0 0 0 1] - 1[1 0 0 0]\n",
       "[0 1 0 0]\n",
       "[0 0 1 1]\n",
       "[0 0 0 1] - 1[1 0 0 0]\n",
       "[0 1 0 0]\n",
       "[0 0 1 0]\n",
       "[1 0 0 1] - 1[1 0 0 0]\n",
       "[0 1 0 0]\n",
       "[0 0 1 0]\n",
       "[0 1 0 1] - 1[1 0 0 0]\n",
       "[0 1 0 0]\n",
       "[0 0 1 0]\n",
       "[0 0 1 1] - 1[1 -1 0 0]\n",
       "[0 1 0 0]\n",
       "[0 0 1 0]\n",
       "[0 0 0 1] - 1[1 0 -1 0]\n",
       "[0 1 0 0]\n",
       "[0 0 1 0]\n",
       "[0 0 0 1] - 1[1 0 0 -1]\n",
       "[0 1 0 0]\n",
       "[0 0 1 0]\n",
       "[0 0 0 1] - 1[1 0 0 0]\n",
       "[-1 1 0 0]\n",
       "[0 0 1 0]\n",
       "[0 0 0 1] - 1[1 0 0 0]\n",
       "[0 1 -1 0]\n",
       "[0 0 1 0]\n",
       "[0 0 0 1] - 1[1 0 0 0]\n",
       "[0 1 0 -1]\n",
       "[0 0 1 0]\n",
       "[0 0 0 1] - 1[1 0 0 0]\n",
       "[0 1 0 0]\n",
       "[-1 0 1 0]\n",
       "[0 0 0 1] - 1[1 0 0 0]\n",
       "[0 1 0 0]\n",
       "[0 -1 1 0]\n",
       "[0 0 0 1] - 1[1 0 0 0]\n",
       "[0 1 0 0]\n",
       "[0 0 1 -1]\n",
       "[0 0 0 1] - 1[1 0 0 0]\n",
       "[0 1 0 0]\n",
       "[0 0 1 0]\n",
       "[-1 0 0 1] - 1[1 0 0 0]\n",
       "[0 1 0 0]\n",
       "[0 0 1 0]\n",
       "[0 -1 0 1] - 1[1 0 0 0]\n",
       "[0 1 0 0]\n",
       "[0 0 1 0]\n",
       "[0 0 -1 1]"
      ]
     },
     "execution_count": 8,
     "metadata": {},
     "output_type": "execute_result"
    }
   ],
   "source": [
    "ID = one(G)\n",
    "radius = 2\n",
    "E_R, sizes = Groups.generate_balls(S, ID, radius=2*radius);\n",
    "E_rdict = GroupRings.reverse_dict(E_R)\n",
    "pm = GroupRings.create_pm(E_R, E_rdict, sizes[radius]; twisted=true);\n",
    "RG = GroupRing(G, E_R, E_rdict, pm)\n",
    "@show sizes;\n",
    "Δ = length(S)*one(RG) - RG(S)"
   ]
  },
  {
   "cell_type": "markdown",
   "metadata": {},
   "source": [
    "## Orbit Decomposition\n",
    "Now something happens: in the next cell we split the subspace of $\\mathbb{R} \\operatorname{SL}(N, \\mathbb{Z})$ supported on `E_R` into irreducible representations of the wreath product $\\mathbb Z / 2 \\mathbb Z \\wr \\operatorname{Sym}_N$. The action of wreath product on the elements of the matrix space is by conjugation, i.e. permutation of rows and columns.\n",
    "We also compute projections on the invariant subspaces to later speed up the optimisation step."
   ]
  },
  {
   "cell_type": "code",
   "execution_count": 52,
   "metadata": {
    "ExecuteTime": {
     "end_time": "2019-06-28T14:07:34.585000+02:00",
     "start_time": "2019-06-28T12:07:29.798Z"
    }
   },
   "outputs": [
    {
     "name": "stderr",
     "output_type": "stream",
     "text": [
      "┌ Info: Decomposing basis of RG into orbits of\n",
      "│   autS = Wreath Product of Permutation group over 2 elements by Permutation group over 4 elements\n",
      "└ @ PropertyT /home/kalmar/.julia/packages/PropertyT/has1D/src/orbitdata.jl:15\n"
     ]
    },
    {
     "name": "stdout",
     "output_type": "stream",
     "text": [
      "  0.466664 seconds (7.08 M allocations: 137.645 MiB)\n",
      "  0.044372 seconds (294.02 k allocations: 13.655 MiB)\n"
     ]
    },
    {
     "name": "stderr",
     "output_type": "stream",
     "text": [
      "┌ Info: The action has 558 orbits\n",
      "└ @ PropertyT /home/kalmar/.julia/packages/PropertyT/has1D/src/orbitdata.jl:18\n",
      "┌ Info: Finding projections in the Group Ring of\n",
      "│   autS = Wreath Product of Permutation group over 2 elements by Permutation group over 4 elements\n",
      "└ @ PropertyT /home/kalmar/.julia/packages/PropertyT/has1D/src/orbitdata.jl:20\n",
      "┌ Info: Finding AutS-action matrix representation\n",
      "└ @ PropertyT /home/kalmar/.julia/packages/PropertyT/has1D/src/orbitdata.jl:23\n"
     ]
    },
    {
     "name": "stdout",
     "output_type": "stream",
     "text": [
      "  3.146962 seconds (6.21 M allocations: 120.969 MiB, 52.03% gc time)\n",
      "  0.025616 seconds (5.96 k allocations: 13.453 MiB)\n"
     ]
    },
    {
     "name": "stderr",
     "output_type": "stream",
     "text": [
      "┌ Info: Computing the projection matrices Uπs\n",
      "└ @ PropertyT /home/kalmar/.julia/packages/PropertyT/has1D/src/orbitdata.jl:27\n"
     ]
    },
    {
     "name": "stdout",
     "output_type": "stream",
     "text": [
      "  1.093775 seconds (61.50 k allocations: 756.110 MiB)\n"
     ]
    },
    {
     "name": "stderr",
     "output_type": "stream",
     "text": [
      "┌ Info: \n",
      "│ multiplicities  =   3  13  19  12  10   0   0   0   9  11  13  15   0   0   0   1   1   1   2   1\n",
      "│     dimensions  =   1   3   3   2   1   4   8   4   6   6   6   6   4   8   4   1   3   3   2   1\n",
      "└ @ PropertyT /home/kalmar/.julia/packages/PropertyT/has1D/src/orbitdata.jl:37\n",
      "┌ Info: Sparsifying (433, 3)-matrix... \n",
      "│  0.6882217090069284   → 0.18475750577367206 ), (240 non-zeros)\n",
      "└ @ PropertyT /home/kalmar/.julia/packages/PropertyT/has1D/src/orbitdata.jl:114\n",
      "┌ Info: Sparsifying (433, 13)-matrix... \n",
      "│  0.5821637946349263   → 0.3084029134837449  ), (1736 non-zeros)\n",
      "└ @ PropertyT /home/kalmar/.julia/packages/PropertyT/has1D/src/orbitdata.jl:114\n",
      "┌ Info: Sparsifying (433, 19)-matrix... \n",
      "│  0.6031360155585268   → 0.4934970220007293  ), (4060 non-zeros)\n",
      "└ @ PropertyT /home/kalmar/.julia/packages/PropertyT/has1D/src/orbitdata.jl:114\n",
      "┌ Info: Sparsifying (433, 12)-matrix... \n",
      "│  0.6043110084680523   → 0.2817551963048499  ), (1464 non-zeros)\n",
      "└ @ PropertyT /home/kalmar/.julia/packages/PropertyT/has1D/src/orbitdata.jl:114\n",
      "┌ Info: Sparsifying (433, 10)-matrix... \n",
      "│  0.48221709006928404  → 0.1                 ), (433 non-zeros)\n",
      "└ @ PropertyT /home/kalmar/.julia/packages/PropertyT/has1D/src/orbitdata.jl:114\n",
      "┌ Info: Sparsifying (433, 9)-matrix... \n",
      "│  0.24044136515268155  → 0.03695150115473441 ), (144 non-zeros)\n",
      "└ @ PropertyT /home/kalmar/.julia/packages/PropertyT/has1D/src/orbitdata.jl:114\n",
      "┌ Info: Sparsifying (433, 11)-matrix... \n",
      "│  0.19462523619567498  → 0.033592273777031285), (160 non-zeros)\n",
      "└ @ PropertyT /home/kalmar/.julia/packages/PropertyT/has1D/src/orbitdata.jl:114\n",
      "┌ Info: Sparsifying (433, 13)-matrix... \n",
      "│  0.16237342334340024  → 0.02842423165748801 ), (160 non-zeros)\n",
      "└ @ PropertyT /home/kalmar/.julia/packages/PropertyT/has1D/src/orbitdata.jl:114\n",
      "┌ Info: Sparsifying (433, 15)-matrix... \n",
      "│  0.16874518860662047  → 0.027097767513471902), (176 non-zeros)\n",
      "└ @ PropertyT /home/kalmar/.julia/packages/PropertyT/has1D/src/orbitdata.jl:114\n",
      "┌ Info: Sparsifying (433, 1)-matrix... \n",
      "│  0.11085450346420324  → 0.11085450346420324 ), (48 non-zeros)\n",
      "└ @ PropertyT /home/kalmar/.julia/packages/PropertyT/has1D/src/orbitdata.jl:114\n",
      "┌ Info: Sparsifying (433, 1)-matrix... \n",
      "│  0.07390300230946882  → 0.07390300230946882 ), (32 non-zeros)\n",
      "└ @ PropertyT /home/kalmar/.julia/packages/PropertyT/has1D/src/orbitdata.jl:114\n",
      "┌ Info: Sparsifying (433, 1)-matrix... \n",
      "│  0.07390300230946882  → 0.07390300230946882 ), (32 non-zeros)\n",
      "└ @ PropertyT /home/kalmar/.julia/packages/PropertyT/has1D/src/orbitdata.jl:114\n",
      "┌ Info: Sparsifying (433, 2)-matrix... \n",
      "│  0.11200923787528869  → 0.09237875288683603 ), (80 non-zeros)\n",
      "└ @ PropertyT /home/kalmar/.julia/packages/PropertyT/has1D/src/orbitdata.jl:114\n",
      "┌ Info: Sparsifying (433, 1)-matrix... \n",
      "│  0.11085450346420324  → 0.11085450346420324 ), (48 non-zeros)\n",
      "└ @ PropertyT /home/kalmar/.julia/packages/PropertyT/has1D/src/orbitdata.jl:114\n"
     ]
    }
   ],
   "source": [
    "od = PropertyT.OrbitData(RG, WreathProduct(PermGroup(2), PermGroup(N)))\n",
    "orbit_data = PropertyT.decimate(od);"
   ]
  },
  {
   "cell_type": "markdown",
   "metadata": {},
   "source": [
    "## Elements Adj and Op\n",
    "Now we  define the elements $\\operatorname{Adj}_N$ and $\\operatorname{Op}_N$. The functions `Sq`, `Adj`, `Op` returning the appropriate elements are defined in the `src/sqadjop.jl` source file."
   ]
  },
  {
   "cell_type": "code",
   "execution_count": 45,
   "metadata": {
    "ExecuteTime": {
     "end_time": "2019-06-28T14:06:07.368000+02:00",
     "start_time": "2019-06-28T12:06:07.049Z"
    }
   },
   "outputs": [
    {
     "name": "stdout",
     "output_type": "stream",
     "text": [
      "  0.253026 seconds (4.23 k allocations: 645.141 KiB)\n",
      "  0.050150 seconds (3.27 k allocations: 170.953 KiB)\n"
     ]
    }
   ],
   "source": [
    "@time AdjN = Adj(RG, N)\n",
    "@time OpN = Op(RG, N);"
   ]
  },
  {
   "cell_type": "markdown",
   "metadata": {},
   "source": [
    "Finally we compute the element `elt` of our interest:\n",
    "* if `N=3`: $\\operatorname{elt} = \\operatorname{Adj}_3$\n",
    "* if `N=4`: $\\operatorname{elt} = \\operatorname{Adj}_4 + \\operatorname{Op}_4$\n",
    "* if `N=5`: $\\operatorname{elt} = \\operatorname{Adj}_5 + 1.5\\operatorname{Op}_5.$"
   ]
  },
  {
   "cell_type": "code",
   "execution_count": 46,
   "metadata": {
    "ExecuteTime": {
     "end_time": "2019-06-28T14:06:09.715000+02:00",
     "start_time": "2019-06-28T12:06:09.695Z"
    }
   },
   "outputs": [
    {
     "data": {
      "text/plain": [
       "75197-element SparseArrays.SparseVector{Int64,Int64} with 361 stored entries:\n",
       "  [1    ]  =  488\n",
       "  [2    ]  =  -40\n",
       "  [3    ]  =  -40\n",
       "  [4    ]  =  -40\n",
       "  [5    ]  =  -40\n",
       "  [6    ]  =  -40\n",
       "  [7    ]  =  -40\n",
       "  [8    ]  =  -40\n",
       "  [9    ]  =  -40\n",
       "  [10   ]  =  -40\n",
       "           ⋮\n",
       "  [418  ]  =  1\n",
       "  [420  ]  =  1\n",
       "  [422  ]  =  2\n",
       "  [423  ]  =  1\n",
       "  [424  ]  =  1\n",
       "  [425  ]  =  1\n",
       "  [426  ]  =  1\n",
       "  [428  ]  =  1\n",
       "  [429  ]  =  1\n",
       "  [430  ]  =  1\n",
       "  [431  ]  =  1"
      ]
     },
     "execution_count": 46,
     "metadata": {},
     "output_type": "execute_result"
    }
   ],
   "source": [
    "if N == 3\n",
    "    k = 0\n",
    "elseif N == 4\n",
    "    k = 1\n",
    "elseif N == 5\n",
    "    k = 1.5\n",
    "end\n",
    "elt = AdjN + k*OpN;\n",
    "elt.coeffs"
   ]
  },
  {
   "cell_type": "markdown",
   "metadata": {},
   "source": [
    "## Optimization Problem"
   ]
  },
  {
   "cell_type": "markdown",
   "metadata": {},
   "source": [
    "We are ready to define the optimisation problem. Function\n",
    "> `PropertyT.SOS_problem(x, Δ, orbit_data; upper_bound=UB)`  \n",
    "\n",
    "defines the optimisation problem equivalent to the one of the form\n",
    "\\begin{align}\n",
    "\\text{ maximize : } \\quad & \\lambda\\\\\n",
    "\\text{under constraints : }\\quad & 0 \\leqslant \\lambda \\leqslant \\operatorname{UB},\\\\\n",
    "     & x - \\lambda \\Delta = \\sum \\xi_i^* \\xi_i,\\\\\n",
    "     & \\text{each $\\xi_i$ is invariant under $\\mathbb{Z}/2\\mathbb{Z} \\wr \\operatorname{Sym}_N$}.\n",
    "\\end{align}"
   ]
  },
  {
   "cell_type": "code",
   "execution_count": 47,
   "metadata": {
    "ExecuteTime": {
     "end_time": "2019-06-28T14:06:12.164000+02:00",
     "start_time": "2019-06-28T12:06:12.154Z"
    }
   },
   "outputs": [
    {
     "data": {
      "text/plain": [
       "[1 1 0 0]\n",
       "[0 1 0 0]\n",
       "[0 0 1 1]\n",
       "[0 0 0 1]"
      ]
     },
     "execution_count": 47,
     "metadata": {},
     "output_type": "execute_result"
    }
   ],
   "source": [
    "RG.basis[34]"
   ]
  },
  {
   "cell_type": "code",
   "execution_count": 48,
   "metadata": {
    "ExecuteTime": {
     "end_time": "2019-06-28T14:06:13.264000+02:00",
     "start_time": "2019-06-28T12:06:13.245Z"
    }
   },
   "outputs": [
    {
     "data": {
      "text/plain": [
       "48-element Array{Int64,1}:\n",
       "  34\n",
       " 201\n",
       "  45\n",
       " 279\n",
       " 100\n",
       " 204\n",
       " 111\n",
       " 327\n",
       "  73\n",
       " 126\n",
       "  84\n",
       " 306\n",
       "  53\n",
       "   ⋮\n",
       " 121\n",
       " 132\n",
       " 224\n",
       " 342\n",
       " 103\n",
       " 258\n",
       " 114\n",
       " 330\n",
       "  37\n",
       " 255\n",
       "  48\n",
       " 282"
      ]
     },
     "execution_count": 48,
     "metadata": {},
     "output_type": "execute_result"
    }
   ],
   "source": [
    "orbit_data.orbits[9]"
   ]
  },
  {
   "cell_type": "code",
   "execution_count": 51,
   "metadata": {
    "ExecuteTime": {
     "end_time": "2019-06-28T14:06:45.449000+02:00",
     "start_time": "2019-06-28T12:06:45.430Z"
    }
   },
   "outputs": [
    {
     "name": "stdout",
     "output_type": "stream",
     "text": [
      "  [1 ]  =  2\n",
      "  [2 ]  =  2\n",
      "  [3 ]  =  2\n",
      "  [4 ]  =  2\n",
      "  [5 ]  =  2\n",
      "  [6 ]  =  2\n",
      "  [7 ]  =  2\n",
      "  [8 ]  =  2\n",
      "  [9 ]  =  1\n",
      "  [10]  =  1\n",
      "  [11]  =  1\n",
      "  [12]  =  1\n",
      "  [13]  =  1\n",
      "  [14]  =  1\n",
      "  [15]  =  1\n",
      "  [16]  =  1\n",
      "  [17]  =  1\n",
      "  [18]  =  1\n",
      "  [19]  =  1\n",
      "  [20]  =  1\n",
      "  [21]  =  1\n",
      "  [22]  =  1\n",
      "  [23]  =  1\n",
      "  [24]  =  1\n",
      "  [25]  =  1\n",
      "  [26]  =  1\n",
      "  [27]  =  1\n",
      "  [28]  =  1\n",
      "  [29]  =  1\n",
      "  [30]  =  1\n",
      "  [31]  =  1\n",
      "  [32]  =  1\n",
      "  [33]  =  1\n",
      "  [34]  =  1\n",
      "  [35]  =  1\n",
      "  [36]  =  1\n",
      "  [37]  =  1\n",
      "  [38]  =  1\n",
      "  [39]  =  1\n",
      "  [40]  =  1\n",
      "  [41]  =  2\n",
      "  [42]  =  2\n",
      "  [43]  =  2\n",
      "  [44]  =  2\n",
      "  [45]  =  2\n",
      "  [46]  =  2\n",
      "  [47]  =  2\n",
      "  [48]  =  2"
     ]
    }
   ],
   "source": [
    "print(OpN.coeffs[orbit_data.orbits[9]])"
   ]
  },
  {
   "cell_type": "code",
   "execution_count": 12,
   "metadata": {
    "ExecuteTime": {
     "end_time": "2019-06-28T10:15:52.592000+02:00",
     "start_time": "2019-06-28T08:15:47.336Z"
    }
   },
   "outputs": [
    {
     "name": "stderr",
     "output_type": "stream",
     "text": [
      "┌ Info: Adding 558 constraints...\n",
      "└ @ PropertyT /home/kalmar/.julia/packages/PropertyT/has1D/src/sos_sdps.jl:92\n"
     ]
    },
    {
     "ename": "AssertionError",
     "evalue": "AssertionError: all(k .== val)",
     "output_type": "error",
     "traceback": [
      "AssertionError: all(k .== val)",
      "",
      "Stacktrace:",
      " [1] orbit_spvector(::SparseArrays.SparseVector{Int64,Int64}, ::Array{Array{Int64,1},1}) at /home/kalmar/.julia/packages/PropertyT/has1D/src/sos_sdps.jl:32",
      " [2] addconstraints!(::JuMP.Model, ::Array{Array{JuMP.VariableRef,2},1}, ::GroupRingElem{Int64,SparseArrays.SparseVector{Int64,Int64},GroupRing{FmpzMatSpace,fmpz_mat}}, ::GroupRingElem{Int64,SparseArrays.SparseVector{Int64,Int64},GroupRing{FmpzMatSpace,fmpz_mat}}, ::PropertyT.OrbitData{Array{Float64,2},WreathProductElem{4,perm{Int64},perm{Int64}},perm{Int64}}) at /home/kalmar/.julia/packages/PropertyT/has1D/src/sos_sdps.jl:111",
      " [3] macro expansion at ./util.jl:156 [inlined]",
      " [4] #SOS_problem#33(::Float64, ::Function, ::GroupRingElem{Int64,SparseArrays.SparseVector{Int64,Int64},GroupRing{FmpzMatSpace,fmpz_mat}}, ::GroupRingElem{Int64,SparseArrays.SparseVector{Int64,Int64},GroupRing{FmpzMatSpace,fmpz_mat}}, ::PropertyT.OrbitData{Array{Float64,2},WreathProductElem{4,perm{Int64},perm{Int64}},perm{Int64}}) at /home/kalmar/.julia/packages/PropertyT/has1D/src/sos_sdps.jl:93",
      " [5] (::getfield(PropertyT, Symbol(\"#kw##SOS_problem\")))(::NamedTuple{(:upper_bound,),Tuple{Float64}}, ::typeof(PropertyT.SOS_problem), ::GroupRingElem{Int64,SparseArrays.SparseVector{Int64,Int64},GroupRing{FmpzMatSpace,fmpz_mat}}, ::GroupRingElem{Int64,SparseArrays.SparseVector{Int64,Int64},GroupRing{FmpzMatSpace,fmpz_mat}}, ::PropertyT.OrbitData{Array{Float64,2},WreathProductElem{4,perm{Int64},perm{Int64}},perm{Int64}}) at ./none:0",
      " [6] top-level scope at In[12]:9"
     ]
    }
   ],
   "source": [
    "# @time SDP_problem, varλ, varP = PropertyT.SOS_problem(elt, Δ, orbit_data)\n",
    "if N == 3\n",
    "    UB = 0.158\n",
    "elseif N == 4\n",
    "    UB = 0.82005\n",
    "elseif N == 5\n",
    "    UB = 1.5005\n",
    "end\n",
    "SDP_problem, varP = PropertyT.SOS_problem(elt, Δ, orbit_data; upper_bound=UB)"
   ]
  },
  {
   "cell_type": "code",
   "execution_count": 11,
   "metadata": {
    "ExecuteTime": {
     "end_time": "2019-06-27T00:45:01.752000+02:00",
     "start_time": "2019-06-26T22:43:29.371Z"
    }
   },
   "outputs": [],
   "source": [
    "using JuMP\n",
    "using SCS\n",
    "λ = Ps = warm = nothing"
   ]
  },
  {
   "cell_type": "markdown",
   "metadata": {},
   "source": [
    "### Solving the problem\n",
    "Depending on the actual problem one may need to tweak the parameters given to the solver:\n",
    " * `eps` sets the requested accuracy\n",
    " * `max_iters` sets the number of iterations to run before solver gives up\n",
    " * `alpha` is a parameter ($\\alpha \\in (0,2)$) which determines the rate of convergence at the cost of the accuracy\n",
    " * `acceleration_lookback` should not be changed, unless you know what are the consequences ;-)\n",
    " \n",
    " The parameters below should be enough to obtain a decent solution for $\\operatorname{SL}(4, \\mathbb{Z}), \\operatorname{SL}(5, \\mathbb{Z})$.   \n",
    " For $\\operatorname{SL}(3, \\mathbb{Z})$ approximately `1_000_000` of iterations is required; in this case by changing `UB` to $0.15$ (above) a much faster convergence can be observed."
   ]
  },
  {
   "cell_type": "code",
   "execution_count": 12,
   "metadata": {
    "ExecuteTime": {
     "end_time": "2019-06-27T00:46:27.667000+02:00",
     "start_time": "2019-06-26T22:43:29.381Z"
    },
    "scrolled": false
   },
   "outputs": [
    {
     "name": "stdout",
     "output_type": "stream",
     "text": [
      "----------------------------------------------------------------------------\n",
      "\tSCS v2.0.2 - Splitting Conic Solver\n",
      "\t(c) Brendan O'Donoghue, Stanford University, 2012-2017\n",
      "----------------------------------------------------------------------------\n",
      "Lin-sys: sparse-direct, nnz in A = 131318\n",
      "eps = 3.00e-13, alpha = 1.50, max_iters = 30000, normalize = 1, scale = 1.00\n",
      "acceleration_lookback = 1, rho_x = 1.00e-03\n",
      "Variables n = 1388, constraints m = 1946\n",
      "Cones:\tprimal zero / dual free vars: 1196\n",
      "\tlinear vars: 1\n",
      "\tsd vars: 749, sd blks: 14\n",
      "Setup time: 9.65e-02s\n",
      "SCS using variable warm-starting\n",
      "----------------------------------------------------------------------------\n",
      " Iter | pri res | dua res | rel gap | pri obj | dua obj | kap/tau | time (s)\n",
      "----------------------------------------------------------------------------\n",
      "     0| 1.02e+00  1.23e+00  9.75e-01 -3.44e+01  4.76e+00  0.00e+00  3.24e-03 \n",
      "   100| 2.29e-05  3.30e-04  4.55e-04 -8.19e-01 -8.18e-01  1.65e-15  2.86e-01 \n",
      "   200| 3.14e-05  1.93e-04  3.64e-04 -8.19e-01 -8.18e-01  7.81e-16  5.58e-01 \n",
      "   300| 3.00e-05  1.49e-04  3.17e-04 -8.19e-01 -8.19e-01  1.11e-16  8.43e-01 \n",
      "   400| 2.74e-05  1.18e-04  2.72e-04 -8.19e-01 -8.19e-01  1.12e-16  1.13e+00 \n",
      "   500| 2.27e-05  9.76e-05  2.24e-04 -8.20e-01 -8.19e-01  1.13e-16  1.41e+00 \n",
      "   600| 2.16e-05  8.44e-05  2.13e-04 -8.20e-01 -8.19e-01  8.04e-16  1.69e+00 \n",
      "   700| 2.04e-05  7.62e-05  2.03e-04 -8.20e-01 -8.19e-01  8.08e-16  2.04e+00 \n",
      "   800| 1.92e-05  7.01e-05  1.96e-04 -8.20e-01 -8.19e-01  1.14e-16  2.32e+00 \n",
      "   900| 1.81e-05  6.54e-05  1.90e-04 -8.20e-01 -8.19e-01  8.16e-16  2.59e+00 \n",
      "  1000| 1.71e-05  6.19e-05  1.84e-04 -8.20e-01 -8.19e-01  1.15e-16  2.89e+00 \n",
      "  1100| 1.61e-05  5.88e-05  1.79e-04 -8.20e-01 -8.19e-01  1.76e-15  3.17e+00 \n",
      "  1200| 1.53e-05  5.62e-05  1.76e-04 -8.20e-01 -8.19e-01  8.27e-16  3.45e+00 \n",
      "  1300| 1.48e-05  5.42e-05  1.72e-04 -8.20e-01 -8.19e-01  8.31e-16  3.75e+00 \n",
      "  1400| 1.41e-05  5.21e-05  1.65e-04 -8.20e-01 -8.19e-01  1.17e-16  4.04e+00 \n",
      "  1500| 1.39e-05  5.03e-05  1.60e-04 -8.20e-01 -8.19e-01  8.38e-16  4.31e+00 \n",
      "  1600| 1.36e-05  4.88e-05  1.56e-04 -8.20e-01 -8.19e-01  1.08e-15  4.60e+00 \n",
      "  1700| 1.32e-05  4.75e-05  1.53e-04 -8.20e-01 -8.19e-01  1.08e-15  4.89e+00 \n",
      "  1800| 1.27e-05  4.58e-05  1.47e-04 -8.20e-01 -8.19e-01  1.81e-15  5.18e+00 \n",
      "  1900| 1.22e-05  4.36e-05  1.41e-04 -8.20e-01 -8.19e-01  1.19e-16  5.47e+00 \n",
      "  2000| 1.19e-05  4.22e-05  1.37e-04 -8.20e-01 -8.19e-01  1.09e-15  5.80e+00 \n",
      "  2100| 1.17e-05  4.10e-05  1.34e-04 -8.20e-01 -8.19e-01  1.20e-16  6.09e+00 \n",
      "  2200| 1.14e-05  3.99e-05  1.32e-04 -8.20e-01 -8.19e-01  8.60e-16  6.39e+00 \n",
      "  2300| 1.10e-05  3.89e-05  1.28e-04 -8.20e-01 -8.19e-01  1.85e-15  6.68e+00 \n",
      "  2400| 1.09e-05  3.79e-05  1.26e-04 -8.20e-01 -8.19e-01  8.66e-16  6.97e+00 \n",
      "  2500| 1.06e-05  3.69e-05  1.24e-04 -8.20e-01 -8.19e-01  8.69e-16  7.28e+00 \n",
      "  2600| 1.04e-05  3.61e-05  1.21e-04 -8.20e-01 -8.19e-01  1.12e-15  7.55e+00 \n",
      "  2700| 1.01e-05  3.52e-05  1.19e-04 -8.20e-01 -8.19e-01  8.74e-16  7.88e+00 \n",
      "  2800| 9.90e-06  3.45e-05  1.17e-04 -8.20e-01 -8.19e-01  1.12e-15  8.36e+00 \n",
      "  2900| 9.66e-06  3.37e-05  1.15e-04 -8.20e-01 -8.19e-01  8.80e-16  8.67e+00 \n",
      "  3000| 9.42e-06  3.30e-05  1.13e-04 -8.20e-01 -8.20e-01  1.24e-16  8.96e+00 \n",
      "  3100| 9.19e-06  3.23e-05  1.11e-04 -8.20e-01 -8.20e-01  8.85e-16  9.25e+00 \n",
      "  3200| 8.96e-06  3.16e-05  1.09e-04 -8.20e-01 -8.20e-01  8.88e-16  9.52e+00 \n",
      "  3300| 8.73e-06  3.09e-05  1.06e-04 -8.20e-01 -8.20e-01  1.14e-15  9.82e+00 \n",
      "  3400| 8.51e-06  3.03e-05  1.04e-04 -8.20e-01 -8.20e-01  8.93e-16  1.01e+01 \n",
      "  3500| 8.29e-06  2.96e-05  1.02e-04 -8.20e-01 -8.20e-01  8.95e-16  1.03e+01 \n",
      "  3600| 8.07e-06  2.90e-05  1.00e-04 -8.20e-01 -8.20e-01  1.26e-16  1.06e+01 \n",
      "  3700| 7.86e-06  2.84e-05  9.82e-05 -8.20e-01 -8.20e-01  9.00e-16  1.09e+01 \n",
      "  3800| 7.64e-06  2.77e-05  9.52e-05 -8.20e-01 -8.20e-01  1.16e-15  1.11e+01 \n",
      "  3900| 7.47e-06  2.69e-05  9.34e-05 -8.20e-01 -8.20e-01  1.28e-16  1.15e+01 \n",
      "  4000| 7.28e-06  2.63e-05  9.14e-05 -8.20e-01 -8.20e-01  1.28e-16  1.18e+01 \n",
      "  4100| 7.07e-06  2.57e-05  8.95e-05 -8.20e-01 -8.20e-01  1.28e-16  1.21e+01 \n",
      "  4200| 6.86e-06  2.51e-05  8.77e-05 -8.20e-01 -8.20e-01  9.11e-16  1.24e+01 \n",
      "  4300| 6.65e-06  2.46e-05  8.59e-05 -8.20e-01 -8.20e-01  1.96e-15  1.27e+01 \n",
      "  4400| 6.45e-06  2.41e-05  8.42e-05 -8.20e-01 -8.20e-01  9.16e-16  1.31e+01 \n",
      "  4500| 6.26e-06  2.36e-05  8.26e-05 -8.20e-01 -8.20e-01  9.18e-16  1.34e+01 \n",
      "  4600| 6.08e-06  2.31e-05  8.09e-05 -8.20e-01 -8.20e-01  1.18e-15  1.36e+01 \n",
      "  4700| 5.91e-06  2.27e-05  7.92e-05 -8.20e-01 -8.20e-01  9.22e-16  1.40e+01 \n",
      "  4800| 5.75e-06  2.23e-05  7.75e-05 -8.20e-01 -8.20e-01  9.24e-16  1.42e+01 \n",
      "  4900| 5.60e-06  2.19e-05  7.58e-05 -8.20e-01 -8.20e-01  1.98e-15  1.45e+01 \n",
      "  5000| 5.44e-06  2.14e-05  7.38e-05 -8.20e-01 -8.20e-01  9.27e-16  1.48e+01 \n",
      "  5100| 5.29e-06  2.10e-05  7.21e-05 -8.20e-01 -8.20e-01  9.29e-16  1.52e+01 \n",
      "  5200| 5.16e-06  2.06e-05  7.05e-05 -8.20e-01 -8.20e-01  1.32e-16  1.54e+01 \n",
      "  5300| 5.02e-06  2.02e-05  6.89e-05 -8.20e-01 -8.20e-01  1.33e-16  1.57e+01 \n",
      "  5400| 4.88e-06  1.98e-05  6.73e-05 -8.20e-01 -8.20e-01  1.33e-16  1.60e+01 \n",
      "  5500| 4.77e-06  1.94e-05  6.61e-05 -8.20e-01 -8.20e-01  9.36e-16  1.63e+01 \n",
      "  5600| 4.64e-06  1.91e-05  6.45e-05 -8.20e-01 -8.20e-01  9.38e-16  1.65e+01 \n",
      "  5700| 4.52e-06  1.87e-05  6.31e-05 -8.20e-01 -8.20e-01  9.40e-16  1.68e+01 \n",
      "  5800| 4.40e-06  1.84e-05  6.17e-05 -8.20e-01 -8.20e-01  1.34e-16  1.71e+01 \n",
      "  5900| 4.27e-06  1.80e-05  6.04e-05 -8.20e-01 -8.20e-01  9.43e-16  1.74e+01 \n",
      "  6000| 4.15e-06  1.77e-05  5.90e-05 -8.20e-01 -8.20e-01  9.45e-16  1.76e+01 \n",
      "  6100| 4.03e-06  1.73e-05  5.77e-05 -8.20e-01 -8.20e-01  9.46e-16  1.79e+01 \n",
      "  6200| 3.91e-06  1.70e-05  5.64e-05 -8.20e-01 -8.20e-01  2.03e-15  1.82e+01 \n",
      "  6300| 3.78e-06  1.67e-05  5.51e-05 -8.20e-01 -8.20e-01  1.22e-15  1.84e+01 \n",
      "  6400| 3.66e-06  1.63e-05  5.38e-05 -8.20e-01 -8.20e-01  9.50e-16  1.87e+01 \n",
      "  6500| 3.53e-06  1.60e-05  5.26e-05 -8.20e-01 -8.20e-01  1.37e-16  1.90e+01 \n",
      "  6600| 3.41e-06  1.57e-05  5.13e-05 -8.20e-01 -8.20e-01  1.37e-16  1.93e+01 \n",
      "  6700| 3.28e-06  1.54e-05  5.01e-05 -8.20e-01 -8.20e-01  2.05e-15  1.96e+01 \n",
      "  6800| 3.04e-06  1.49e-05  4.74e-05 -8.20e-01 -8.20e-01  9.56e-16  1.98e+01 \n",
      "  6900| 2.91e-06  1.45e-05  4.61e-05 -8.20e-01 -8.20e-01  2.05e-15  2.01e+01 \n",
      "  7000| 2.78e-06  1.41e-05  4.48e-05 -8.20e-01 -8.20e-01  1.23e-15  2.04e+01 \n",
      "  7100| 2.65e-06  1.37e-05  4.35e-05 -8.20e-01 -8.20e-01  1.24e-15  2.06e+01 \n",
      "  7200| 2.53e-06  1.34e-05  4.23e-05 -8.20e-01 -8.20e-01  1.38e-16  2.09e+01 \n",
      "  7300| 2.41e-06  1.30e-05  4.12e-05 -8.20e-01 -8.20e-01  1.39e-16  2.11e+01 \n",
      "  7400| 2.29e-06  1.27e-05  4.00e-05 -8.20e-01 -8.20e-01  1.39e-16  2.14e+01 \n",
      "  7500| 2.17e-06  1.24e-05  3.89e-05 -8.20e-01 -8.20e-01  1.39e-16  2.17e+01 \n",
      "  7600| 2.06e-06  1.21e-05  3.79e-05 -8.20e-01 -8.20e-01  9.65e-16  2.19e+01 \n",
      "  7700| 1.95e-06  1.18e-05  3.68e-05 -8.20e-01 -8.20e-01  1.40e-16  2.22e+01 \n",
      "  7800| 1.84e-06  1.15e-05  3.58e-05 -8.20e-01 -8.20e-01  9.67e-16  2.25e+01 \n",
      "  7900| 1.73e-06  1.12e-05  3.48e-05 -8.20e-01 -8.20e-01  9.68e-16  2.27e+01 \n",
      "  8000| 1.63e-06  1.09e-05  3.39e-05 -8.20e-01 -8.20e-01  1.25e-15  2.30e+01 \n",
      "  8100| 1.52e-06  1.06e-05  3.29e-05 -8.20e-01 -8.20e-01  1.40e-16  2.32e+01 \n",
      "  8200| 1.42e-06  1.03e-05  3.20e-05 -8.20e-01 -8.20e-01  1.41e-16  2.35e+01 \n",
      "  8300| 1.33e-06  1.01e-05  3.11e-05 -8.20e-01 -8.20e-01  1.25e-15  2.37e+01 \n",
      "  8400| 1.23e-06  9.81e-06  3.02e-05 -8.20e-01 -8.20e-01  2.09e-15  2.40e+01 \n",
      "  8500| 1.15e-06  9.55e-06  2.93e-05 -8.20e-01 -8.20e-01  1.41e-16  2.42e+01 \n",
      "  8600| 1.06e-06  9.29e-06  2.85e-05 -8.20e-01 -8.20e-01  9.74e-16  2.45e+01 \n",
      "  8700| 9.87e-07  8.93e-06  2.77e-05 -8.20e-01 -8.20e-01  2.09e-15  2.47e+01 \n",
      "  8800| 8.91e-07  8.66e-06  2.66e-05 -8.20e-01 -8.20e-01  9.76e-16  2.50e+01 \n",
      "  8900| 8.15e-07  8.41e-06  2.57e-05 -8.20e-01 -8.20e-01  1.42e-16  2.53e+01 \n",
      "  9000| 7.50e-07  8.18e-06  2.49e-05 -8.20e-01 -8.20e-01  1.42e-16  2.57e+01 \n",
      "  9100| 6.95e-07  7.95e-06  2.41e-05 -8.20e-01 -8.20e-01  1.42e-16  2.60e+01 \n",
      "  9200| 6.51e-07  7.73e-06  2.33e-05 -8.20e-01 -8.20e-01  1.42e-16  2.63e+01 \n",
      "  9300| 6.17e-07  7.51e-06  2.25e-05 -8.20e-01 -8.20e-01  9.79e-16  2.66e+01 \n",
      "  9400| 5.97e-07  7.29e-06  2.18e-05 -8.20e-01 -8.20e-01  9.80e-16  2.69e+01 \n",
      "  9500| 5.88e-07  7.08e-06  2.11e-05 -8.20e-01 -8.20e-01  1.43e-16  2.72e+01 \n",
      "  9600| 5.93e-07  6.87e-06  2.04e-05 -8.20e-01 -8.20e-01  9.81e-16  2.76e+01 \n",
      "  9700| 6.09e-07  6.66e-06  1.97e-05 -8.20e-01 -8.20e-01  1.43e-16  2.79e+01 \n",
      "  9800| 6.35e-07  6.45e-06  1.90e-05 -8.20e-01 -8.20e-01  9.82e-16  2.81e+01 \n",
      "  9900| 6.70e-07  6.24e-06  1.84e-05 -8.20e-01 -8.20e-01  9.82e-16  2.83e+01 \n",
      " 10000| 7.11e-07  6.04e-06  1.77e-05 -8.20e-01 -8.20e-01  9.83e-16  2.86e+01 \n",
      " 10100| 7.58e-07  5.84e-06  1.71e-05 -8.20e-01 -8.20e-01  1.43e-16  2.88e+01 \n",
      " 10200| 8.08e-07  5.64e-06  1.65e-05 -8.20e-01 -8.20e-01  1.43e-16  2.90e+01 \n",
      " 10300| 8.61e-07  5.44e-06  1.59e-05 -8.20e-01 -8.20e-01  9.84e-16  2.93e+01 \n",
      " 10400| 9.16e-07  5.24e-06  1.53e-05 -8.20e-01 -8.20e-01  1.44e-16  2.95e+01 \n",
      " 10500| 9.73e-07  5.05e-06  1.47e-05 -8.20e-01 -8.20e-01  1.44e-16  2.98e+01 \n",
      " 10600| 1.03e-06  4.86e-06  1.41e-05 -8.20e-01 -8.20e-01  1.44e-16  3.00e+01 \n",
      " 10700| 1.09e-06  4.67e-06  1.35e-05 -8.20e-01 -8.20e-01  9.86e-16  3.02e+01 \n",
      " 10800| 1.14e-06  4.48e-06  1.29e-05 -8.20e-01 -8.20e-01  9.86e-16  3.05e+01 \n",
      " 10900| 1.20e-06  4.29e-06  1.24e-05 -8.20e-01 -8.20e-01  1.44e-16  3.07e+01 \n",
      " 11000| 1.26e-06  4.11e-06  1.18e-05 -8.20e-01 -8.20e-01  1.28e-15  3.09e+01 \n",
      " 11100| 1.31e-06  3.93e-06  1.12e-05 -8.20e-01 -8.20e-01  9.87e-16  3.11e+01 \n",
      " 11200| 1.37e-06  3.74e-06  1.07e-05 -8.20e-01 -8.20e-01  1.44e-16  3.14e+01 \n",
      " 11300| 1.42e-06  3.57e-06  1.02e-05 -8.20e-01 -8.20e-01  9.88e-16  3.16e+01 \n",
      " 11400| 1.47e-06  3.39e-06  9.64e-06 -8.20e-01 -8.20e-01  1.28e-15  3.18e+01 \n",
      " 11500| 1.52e-06  3.21e-06  9.12e-06 -8.20e-01 -8.20e-01  9.89e-16  3.21e+01 \n",
      " 11600| 1.57e-06  3.04e-06  8.60e-06 -8.20e-01 -8.20e-01  1.45e-16  3.23e+01 \n",
      " 11700| 1.62e-06  2.87e-06  8.09e-06 -8.20e-01 -8.20e-01  1.45e-16  3.25e+01 \n",
      " 11800| 1.67e-06  2.69e-06  7.58e-06 -8.20e-01 -8.20e-01  1.45e-16  3.27e+01 \n",
      " 11900| 1.71e-06  2.53e-06  7.08e-06 -8.20e-01 -8.20e-01  9.89e-16  3.29e+01 \n",
      " 12000| 1.76e-06  2.36e-06  6.59e-06 -8.20e-01 -8.20e-01  1.45e-16  3.32e+01 \n",
      " 12100| 1.80e-06  2.19e-06  6.10e-06 -8.20e-01 -8.20e-01  1.45e-16  3.34e+01 \n",
      " 12200| 1.84e-06  2.03e-06  5.62e-06 -8.20e-01 -8.20e-01  9.90e-16  3.36e+01 \n",
      " 12300| 1.88e-06  1.86e-06  5.14e-06 -8.20e-01 -8.20e-01  2.13e-15  3.38e+01 \n",
      " 12400| 1.91e-06  1.70e-06  4.66e-06 -8.20e-01 -8.20e-01  1.45e-16  3.40e+01 \n",
      " 12500| 1.95e-06  1.54e-06  4.19e-06 -8.20e-01 -8.20e-01  9.90e-16  3.42e+01 \n",
      " 12600| 1.98e-06  1.38e-06  3.73e-06 -8.20e-01 -8.20e-01  9.90e-16  3.45e+01 \n",
      " 12700| 2.01e-06  1.23e-06  3.27e-06 -8.20e-01 -8.20e-01  1.45e-16  3.47e+01 \n",
      " 12800| 2.04e-06  1.07e-06  2.81e-06 -8.20e-01 -8.20e-01  9.91e-16  3.49e+01 \n",
      " 12900| 2.07e-06  9.23e-07  2.36e-06 -8.20e-01 -8.20e-01  1.45e-16  3.52e+01 \n",
      " 13000| 2.09e-06  7.76e-07  1.91e-06 -8.20e-01 -8.20e-01  2.13e-15  3.54e+01 \n",
      " 13100| 2.11e-06  6.34e-07  1.47e-06 -8.20e-01 -8.20e-01  1.45e-16  3.56e+01 \n",
      " 13200| 2.13e-06  5.04e-07  1.03e-06 -8.20e-01 -8.20e-01  1.28e-15  3.59e+01 \n",
      " 13300| 2.15e-06  3.96e-07  6.01e-07 -8.20e-01 -8.20e-01  1.45e-16  3.61e+01 \n",
      " 13400| 2.16e-06  3.32e-07  1.74e-07 -8.20e-01 -8.20e-01  1.45e-16  3.63e+01 \n",
      " 13500| 5.83e-07  1.41e-07  2.96e-07 -8.20e-01 -8.20e-01  1.45e-16  3.65e+01 \n",
      " 13600| 5.85e-07  9.59e-08  3.12e-07 -8.20e-01 -8.20e-01  1.45e-16  3.67e+01 \n",
      " 13700| 5.85e-07  8.53e-08  3.07e-07 -8.20e-01 -8.20e-01  9.91e-16  3.69e+01 \n",
      " 13800| 5.85e-07  7.66e-08  3.05e-07 -8.20e-01 -8.20e-01  1.45e-16  3.71e+01 \n",
      " 13900| 5.85e-07  6.91e-08  3.02e-07 -8.20e-01 -8.20e-01  1.45e-16  3.74e+01 \n",
      " 14000| 5.84e-07  6.25e-08  3.00e-07 -8.20e-01 -8.20e-01  2.13e-15  3.76e+01 \n",
      " 14100| 5.84e-07  5.67e-08  2.98e-07 -8.20e-01 -8.20e-01  1.45e-16  3.78e+01 \n",
      " 14200| 5.84e-07  5.17e-08  2.95e-07 -8.20e-01 -8.20e-01  2.13e-15  3.80e+01 \n",
      " 14300| 5.84e-07  4.73e-08  2.93e-07 -8.20e-01 -8.20e-01  1.45e-16  3.82e+01 \n",
      " 14400| 5.83e-07  4.35e-08  2.90e-07 -8.20e-01 -8.20e-01  1.45e-16  3.84e+01 \n",
      " 14500| 5.83e-07  4.02e-08  2.87e-07 -8.20e-01 -8.20e-01  9.91e-16  3.86e+01 \n",
      " 14600| 5.83e-07  3.73e-08  2.84e-07 -8.20e-01 -8.20e-01  9.91e-16  3.88e+01 \n",
      " 14700| 5.83e-07  3.48e-08  2.81e-07 -8.20e-01 -8.20e-01  1.45e-16  3.90e+01 \n",
      " 14800| 5.83e-07  3.26e-08  2.78e-07 -8.20e-01 -8.20e-01  9.91e-16  3.92e+01 \n",
      " 14900| 5.82e-07  3.07e-08  2.75e-07 -8.20e-01 -8.20e-01  2.13e-15  3.94e+01 \n",
      " 15000| 5.82e-07  2.90e-08  2.72e-07 -8.20e-01 -8.20e-01  9.91e-16  3.96e+01 \n",
      " 15100| 5.82e-07  2.76e-08  2.69e-07 -8.20e-01 -8.20e-01  1.45e-16  3.98e+01 \n",
      " 15200| 5.81e-07  2.63e-08  2.65e-07 -8.20e-01 -8.20e-01  1.45e-16  4.00e+01 \n",
      " 15300| 5.81e-07  2.52e-08  2.62e-07 -8.20e-01 -8.20e-01  1.28e-15  4.02e+01 \n",
      " 15400| 5.81e-07  2.42e-08  2.59e-07 -8.20e-01 -8.20e-01  9.91e-16  4.04e+01 \n",
      " 15500| 5.81e-07  2.34e-08  2.56e-07 -8.20e-01 -8.20e-01  9.91e-16  4.06e+01 \n",
      " 15600| 5.80e-07  2.26e-08  2.52e-07 -8.20e-01 -8.20e-01  1.28e-15  4.08e+01 \n",
      " 15700| 5.80e-07  2.19e-08  2.49e-07 -8.20e-01 -8.20e-01  1.45e-16  4.10e+01 \n",
      " 15800| 5.80e-07  2.13e-08  2.46e-07 -8.20e-01 -8.20e-01  1.28e-15  4.12e+01 \n",
      " 15900| 5.80e-07  2.07e-08  2.42e-07 -8.20e-01 -8.20e-01  1.45e-16  4.14e+01 \n",
      " 16000| 5.79e-07  2.02e-08  2.39e-07 -8.20e-01 -8.20e-01  9.91e-16  4.16e+01 \n",
      " 16100| 5.79e-07  1.97e-08  2.35e-07 -8.20e-01 -8.20e-01  2.13e-15  4.19e+01 \n",
      " 16200| 5.79e-07  1.93e-08  2.32e-07 -8.20e-01 -8.20e-01  9.91e-16  4.21e+01 \n",
      " 16300| 5.78e-07  1.89e-08  2.28e-07 -8.20e-01 -8.20e-01  1.28e-15  4.23e+01 \n",
      " 16400| 5.78e-07  1.85e-08  2.25e-07 -8.20e-01 -8.20e-01  2.13e-15  4.25e+01 \n",
      " 16500| 5.78e-07  1.81e-08  2.21e-07 -8.20e-01 -8.20e-01  1.45e-16  4.27e+01 \n",
      " 16600| 5.78e-07  1.77e-08  2.18e-07 -8.20e-01 -8.20e-01  2.13e-15  4.29e+01 \n",
      " 16700| 5.77e-07  1.74e-08  2.15e-07 -8.20e-01 -8.20e-01  9.91e-16  4.32e+01 \n",
      " 16800| 5.77e-07  1.71e-08  2.11e-07 -8.20e-01 -8.20e-01  1.45e-16  4.34e+01 \n",
      " 16900| 5.77e-07  1.67e-08  2.08e-07 -8.20e-01 -8.20e-01  9.91e-16  4.36e+01 \n",
      " 17000| 5.76e-07  1.64e-08  2.04e-07 -8.20e-01 -8.20e-01  9.91e-16  4.38e+01 \n",
      " 17100| 5.76e-07  1.61e-08  2.01e-07 -8.20e-01 -8.20e-01  1.45e-16  4.41e+01 \n",
      " 17200| 5.76e-07  1.58e-08  1.97e-07 -8.20e-01 -8.20e-01  1.45e-16  4.43e+01 \n",
      " 17300| 5.76e-07  1.55e-08  1.94e-07 -8.20e-01 -8.20e-01  1.45e-16  4.45e+01 \n",
      " 17400| 5.75e-07  1.52e-08  1.90e-07 -8.20e-01 -8.20e-01  1.45e-16  4.47e+01 \n",
      " 17500| 5.75e-07  1.49e-08  1.87e-07 -8.20e-01 -8.20e-01  2.13e-15  4.50e+01 \n",
      " 17600| 5.75e-07  1.46e-08  1.83e-07 -8.20e-01 -8.20e-01  1.28e-15  4.53e+01 \n",
      " 17700| 5.74e-07  1.43e-08  1.80e-07 -8.20e-01 -8.20e-01  1.45e-16  4.55e+01 \n",
      " 17800| 5.74e-07  1.40e-08  1.76e-07 -8.20e-01 -8.20e-01  9.91e-16  4.58e+01 \n",
      " 17900| 5.74e-07  1.37e-08  1.73e-07 -8.20e-01 -8.20e-01  1.45e-16  4.60e+01 \n",
      " 18000| 5.74e-07  1.34e-08  1.69e-07 -8.20e-01 -8.20e-01  1.45e-16  4.62e+01 \n",
      " 18100| 5.73e-07  1.32e-08  1.66e-07 -8.20e-01 -8.20e-01  1.45e-16  4.64e+01 \n",
      " 18200| 5.73e-07  1.29e-08  1.62e-07 -8.20e-01 -8.20e-01  2.13e-15  4.66e+01 \n",
      " 18300| 5.73e-07  1.26e-08  1.59e-07 -8.20e-01 -8.20e-01  2.13e-15  4.68e+01 \n",
      " 18400| 5.72e-07  1.23e-08  1.55e-07 -8.20e-01 -8.20e-01  1.45e-16  4.70e+01 \n",
      " 18500| 5.72e-07  1.20e-08  1.52e-07 -8.20e-01 -8.20e-01  9.91e-16  4.72e+01 \n",
      " 18600| 5.72e-07  1.17e-08  1.48e-07 -8.20e-01 -8.20e-01  1.45e-16  4.74e+01 \n",
      " 18700| 5.71e-07  1.15e-08  1.45e-07 -8.20e-01 -8.20e-01  1.45e-16  4.75e+01 \n",
      " 18800| 5.71e-07  1.12e-08  1.41e-07 -8.20e-01 -8.20e-01  9.91e-16  4.78e+01 \n",
      " 18900| 5.71e-07  1.09e-08  1.38e-07 -8.20e-01 -8.20e-01  1.45e-16  4.80e+01 \n",
      " 19000| 5.71e-07  1.06e-08  1.34e-07 -8.20e-01 -8.20e-01  1.45e-16  4.81e+01 \n",
      " 19100| 5.70e-07  1.03e-08  1.31e-07 -8.20e-01 -8.20e-01  1.45e-16  4.83e+01 \n",
      " 19200| 5.70e-07  1.01e-08  1.27e-07 -8.20e-01 -8.20e-01  9.91e-16  4.85e+01 \n",
      " 19300| 5.70e-07  9.79e-09  1.24e-07 -8.20e-01 -8.20e-01  1.28e-15  4.87e+01 \n",
      " 19400| 5.69e-07  9.51e-09  1.20e-07 -8.20e-01 -8.20e-01  9.91e-16  4.89e+01 \n",
      " 19500| 5.69e-07  9.23e-09  1.17e-07 -8.20e-01 -8.20e-01  1.28e-15  4.91e+01 \n",
      " 19600| 5.69e-07  8.96e-09  1.13e-07 -8.20e-01 -8.20e-01  9.91e-16  4.93e+01 \n",
      " 19700| 5.69e-07  8.68e-09  1.10e-07 -8.20e-01 -8.20e-01  1.28e-15  4.95e+01 \n",
      " 19800| 5.68e-07  8.40e-09  1.06e-07 -8.20e-01 -8.20e-01  9.91e-16  4.97e+01 \n",
      " 19900| 5.68e-07  8.12e-09  1.03e-07 -8.20e-01 -8.20e-01  2.13e-15  4.99e+01 \n",
      " 20000| 5.68e-07  7.85e-09  9.90e-08 -8.20e-01 -8.20e-01  9.91e-16  5.01e+01 \n",
      " 20100| 5.67e-07  7.57e-09  9.55e-08 -8.20e-01 -8.20e-01  1.45e-16  5.03e+01 \n",
      " 20200| 5.67e-07  7.29e-09  9.20e-08 -8.20e-01 -8.20e-01  9.91e-16  5.05e+01 \n",
      " 20300| 5.67e-07  7.02e-09  8.85e-08 -8.20e-01 -8.20e-01  9.91e-16  5.07e+01 \n",
      " 20400| 5.67e-07  6.74e-09  8.50e-08 -8.20e-01 -8.20e-01  1.45e-16  5.09e+01 \n",
      " 20500| 5.66e-07  6.46e-09  8.15e-08 -8.20e-01 -8.20e-01  1.45e-16  5.11e+01 \n",
      " 20600| 5.66e-07  6.19e-09  7.79e-08 -8.20e-01 -8.20e-01  1.45e-16  5.13e+01 \n",
      " 20700| 5.66e-07  5.91e-09  7.44e-08 -8.20e-01 -8.20e-01  2.13e-15  5.15e+01 \n",
      " 20800| 5.65e-07  5.63e-09  7.09e-08 -8.20e-01 -8.20e-01  9.91e-16  5.17e+01 \n",
      " 20900| 5.65e-07  5.36e-09  6.74e-08 -8.20e-01 -8.20e-01  9.91e-16  5.19e+01 \n",
      " 21000| 5.65e-07  5.08e-09  6.39e-08 -8.20e-01 -8.20e-01  9.91e-16  5.21e+01 \n",
      " 21100| 5.65e-07  4.81e-09  6.04e-08 -8.20e-01 -8.20e-01  9.91e-16  5.23e+01 \n",
      " 21200| 5.64e-07  4.53e-09  5.68e-08 -8.20e-01 -8.20e-01  1.28e-15  5.25e+01 \n",
      " 21300| 5.64e-07  4.25e-09  5.33e-08 -8.20e-01 -8.20e-01  9.91e-16  5.27e+01 \n",
      " 21400| 5.64e-07  3.98e-09  4.98e-08 -8.20e-01 -8.20e-01  1.45e-16  5.29e+01 \n",
      " 21500| 5.63e-07  3.71e-09  4.63e-08 -8.20e-01 -8.20e-01  9.91e-16  5.30e+01 \n",
      " 21600| 5.63e-07  3.43e-09  4.28e-08 -8.20e-01 -8.20e-01  9.91e-16  5.32e+01 \n",
      " 21700| 5.63e-07  3.15e-09  3.92e-08 -8.20e-01 -8.20e-01  1.45e-16  5.34e+01 \n",
      " 21800| 5.62e-07  2.88e-09  3.57e-08 -8.20e-01 -8.20e-01  2.13e-15  5.36e+01 \n",
      " 21900| 5.62e-07  2.61e-09  3.22e-08 -8.20e-01 -8.20e-01  9.91e-16  5.38e+01 \n",
      " 22000| 5.62e-07  2.33e-09  2.87e-08 -8.20e-01 -8.20e-01  1.28e-15  5.40e+01 \n",
      " 22100| 5.62e-07  2.06e-09  2.52e-08 -8.20e-01 -8.20e-01  1.45e-16  5.42e+01 \n",
      " 22200| 5.61e-07  1.79e-09  2.16e-08 -8.20e-01 -8.20e-01  1.45e-16  5.44e+01 \n",
      " 22300| 5.61e-07  1.52e-09  1.81e-08 -8.20e-01 -8.20e-01  1.45e-16  5.47e+01 \n",
      " 22400| 5.61e-07  1.25e-09  1.46e-08 -8.20e-01 -8.20e-01  2.13e-15  5.49e+01 \n",
      " 22500| 5.60e-07  9.85e-10  1.11e-08 -8.20e-01 -8.20e-01  2.13e-15  5.51e+01 \n",
      " 22600| 5.60e-07  7.26e-10  7.54e-09 -8.20e-01 -8.20e-01  1.45e-16  5.53e+01 \n",
      " 22700| 5.60e-07  4.88e-10  4.02e-09 -8.20e-01 -8.20e-01  9.91e-16  5.55e+01 \n",
      " 22800| 5.60e-07  3.12e-10  4.97e-10 -8.20e-01 -8.20e-01  9.91e-16  5.57e+01 \n",
      " 22900| 5.59e-07  3.30e-10  3.06e-09 -8.20e-01 -8.20e-01  1.45e-16  5.59e+01 \n",
      " 23000| 5.59e-07  5.20e-10  6.59e-09 -8.20e-01 -8.20e-01  2.13e-15  5.61e+01 \n",
      " 23100| 5.59e-07  7.62e-10  1.01e-08 -8.20e-01 -8.20e-01  9.91e-16  5.63e+01 \n",
      " 23200| 5.58e-07  1.02e-09  1.37e-08 -8.20e-01 -8.20e-01  1.28e-15  5.65e+01 \n",
      " 23300| 5.58e-07  1.29e-09  1.72e-08 -8.20e-01 -8.20e-01  1.45e-16  5.67e+01 \n",
      " 23400| 5.58e-07  1.55e-09  2.08e-08 -8.20e-01 -8.20e-01  1.28e-15  5.69e+01 \n",
      " 23500| 5.58e-07  1.82e-09  2.43e-08 -8.20e-01 -8.20e-01  1.45e-16  5.71e+01 \n",
      " 23600| 5.57e-07  2.09e-09  2.79e-08 -8.20e-01 -8.20e-01  1.45e-16  5.73e+01 \n",
      " 23700| 5.57e-07  2.36e-09  3.14e-08 -8.20e-01 -8.20e-01  9.91e-16  5.75e+01 \n",
      " 23800| 5.57e-07  2.63e-09  3.50e-08 -8.20e-01 -8.20e-01  9.91e-16  5.77e+01 \n",
      " 23900| 5.56e-07  2.90e-09  3.85e-08 -8.20e-01 -8.20e-01  1.28e-15  5.79e+01 \n",
      " 24000| 5.56e-07  3.17e-09  4.21e-08 -8.20e-01 -8.20e-01  1.45e-16  5.81e+01 \n",
      " 24100| 5.56e-07  3.44e-09  4.57e-08 -8.20e-01 -8.20e-01  1.28e-15  5.84e+01 \n",
      " 24200| 5.55e-07  3.71e-09  4.92e-08 -8.20e-01 -8.20e-01  9.91e-16  5.85e+01 \n",
      " 24300| 5.55e-07  3.97e-09  5.28e-08 -8.20e-01 -8.20e-01  9.91e-16  5.87e+01 \n",
      " 24400| 5.55e-07  4.24e-09  5.64e-08 -8.20e-01 -8.20e-01  9.91e-16  5.89e+01 \n",
      " 24500| 5.55e-07  4.51e-09  6.00e-08 -8.20e-01 -8.20e-01  2.13e-15  5.91e+01 \n",
      " 24600| 5.54e-07  4.78e-09  6.35e-08 -8.20e-01 -8.20e-01  1.45e-16  5.93e+01 \n",
      " 24700| 5.54e-07  5.04e-09  6.71e-08 -8.20e-01 -8.20e-01  2.13e-15  5.95e+01 \n",
      " 24800| 5.54e-07  5.31e-09  7.08e-08 -8.20e-01 -8.20e-01  9.91e-16  5.97e+01 \n",
      " 24900| 5.53e-07  5.57e-09  7.44e-08 -8.20e-01 -8.20e-01  2.13e-15  5.99e+01 \n",
      " 25000| 5.53e-07  5.83e-09  7.80e-08 -8.20e-01 -8.20e-01  1.45e-16  6.01e+01 \n",
      " 25100| 5.53e-07  6.09e-09  8.16e-08 -8.20e-01 -8.20e-01  1.45e-16  6.03e+01 \n",
      " 25200| 5.53e-07  6.35e-09  8.53e-08 -8.20e-01 -8.20e-01  9.91e-16  6.04e+01 \n",
      " 25300| 5.52e-07  6.61e-09  8.90e-08 -8.20e-01 -8.20e-01  2.13e-15  6.06e+01 \n",
      " 25400| 5.52e-07  6.87e-09  9.26e-08 -8.20e-01 -8.20e-01  2.13e-15  6.08e+01 \n",
      " 25500| 5.52e-07  7.12e-09  9.64e-08 -8.20e-01 -8.20e-01  1.45e-16  6.10e+01 \n",
      " 25600| 5.51e-07  7.37e-09  1.00e-07 -8.20e-01 -8.20e-01  1.28e-15  6.12e+01 \n",
      " 25700| 5.51e-07  7.62e-09  1.04e-07 -8.20e-01 -8.20e-01  9.91e-16  6.14e+01 \n",
      " 25800| 5.51e-07  7.87e-09  1.08e-07 -8.20e-01 -8.20e-01  1.45e-16  6.16e+01 \n",
      " 25900| 5.50e-07  8.12e-09  1.12e-07 -8.20e-01 -8.20e-01  9.91e-16  6.18e+01 \n",
      " 26000| 5.50e-07  8.37e-09  1.16e-07 -8.20e-01 -8.20e-01  1.45e-16  6.20e+01 \n",
      " 26100| 5.50e-07  8.62e-09  1.20e-07 -8.20e-01 -8.20e-01  2.13e-15  6.22e+01 \n",
      " 26200| 5.49e-07  8.88e-09  1.24e-07 -8.20e-01 -8.20e-01  2.13e-15  6.24e+01 \n",
      " 26300| 5.49e-07  9.15e-09  1.28e-07 -8.20e-01 -8.20e-01  9.91e-16  6.26e+01 \n",
      " 26400| 5.49e-07  9.44e-09  1.33e-07 -8.20e-01 -8.20e-01  1.28e-15  6.29e+01 \n",
      " 26500| 1.90e-12  2.89e-11  1.49e-11 -8.20e-01 -8.20e-01  1.28e-15  6.31e+01 \n",
      " 26528| 5.74e-14  2.86e-13  2.03e-13 -8.20e-01 -8.20e-01  1.45e-16  6.31e+01 \n",
      "----------------------------------------------------------------------------\n",
      "Status: Solved\n",
      "Timing: Solve time: 6.31e+01s\n",
      "\tLin-sys: nnz in L factor: 289304, avg solve time: 1.55e-03s\n",
      "\tCones: avg projection time: 7.19e-04s\n",
      "\tAcceleration: avg step time: 0.00e+00s\n",
      "----------------------------------------------------------------------------\n",
      "Error metrics:\n",
      "dist(s, K) = 2.4133e-15, dist(y, K*) = 2.6603e-09, s'y/|s||y| = 6.5150e-15\n",
      "primal res: |Ax + s - b|_2 / (1 + |b|_2) = 5.7405e-14\n",
      "dual res:   |A'y + c|_2 / (1 + |c|_2) = 2.8555e-13\n",
      "rel gap:    |c'x + b'y| / (1 + |c'x| + |b'y|) = 2.0341e-13\n",
      "----------------------------------------------------------------------------\n",
      "c'x = -0.8200, -b'y = -0.8201\n",
      "============================================================================\n"
     ]
    }
   ],
   "source": [
    "with_SCS = with_optimizer(SCS.Optimizer, \n",
    "    linear_solver=SCS.Direct, \n",
    "    eps=3e-13,\n",
    "    max_iters=30000,\n",
    "    alpha=1.5,\n",
    "    acceleration_lookback=1,\n",
    "    warm_start=true)\n",
    "\n",
    "status, warm = PropertyT.solve(SDP_problem, with_SCS, warm);"
   ]
  },
  {
   "cell_type": "code",
   "execution_count": 13,
   "metadata": {
    "ExecuteTime": {
     "end_time": "2019-06-27T00:46:28.190000+02:00",
     "start_time": "2019-06-26T22:43:29.395Z"
    }
   },
   "outputs": [
    {
     "name": "stdout",
     "output_type": "stream",
     "text": [
      "status = OPTIMAL::TerminationStatusCode = 1\n",
      "λ = 0.8200499999995887\n"
     ]
    }
   ],
   "source": [
    "λ = value(SDP_problem[:λ])\n",
    "Ps = [value.(P) for P in varP]\n",
    "@show(status, λ);"
   ]
  },
  {
   "cell_type": "markdown",
   "metadata": {},
   "source": [
    "## Checking the solution\n",
    "Now we reconstruct the solution to the original problem over $\\mathbb{R} \\operatorname{SL}(N,\\mathbb{Z})$, which essentially boils down to averaging the obtained solution over the wreath product."
   ]
  },
  {
   "cell_type": "code",
   "execution_count": 14,
   "metadata": {
    "ExecuteTime": {
     "end_time": "2019-06-27T00:46:37.809000+02:00",
     "start_time": "2019-06-26T22:43:29.401Z"
    }
   },
   "outputs": [],
   "source": [
    "Qs = real.(sqrt.(Ps));\n",
    "Q = PropertyT.reconstruct(Qs, orbit_data);"
   ]
  },
  {
   "cell_type": "markdown",
   "metadata": {},
   "source": [
    "As explained in the paper the columns of the square-root of the solution matrix provide the coefficients for $\\xi_i$'s in basis `E_R` of the group ring. Below we compute the residual \n",
    "    $$ b = \\left(x - \\lambda\\Delta\\right) - \\sum \\xi_i^*\\xi_i.$$\n",
    "As we do it in floating-point arithmetic,  the result can't be taken seriously."
   ]
  },
  {
   "cell_type": "code",
   "execution_count": 15,
   "metadata": {
    "ExecuteTime": {
     "end_time": "2019-06-27T00:46:38.264000+02:00",
     "start_time": "2019-06-26T22:43:29.411Z"
    }
   },
   "outputs": [
    {
     "data": {
      "text/plain": [
       "SOS_residual (generic function with 1 method)"
      ]
     },
     "execution_count": 15,
     "metadata": {},
     "output_type": "execute_result"
    }
   ],
   "source": [
    "function SOS_residual(x::GroupRingElem, Q::Matrix)\n",
    "    RG = parent(x)\n",
    "    @time sos = PropertyT.compute_SOS(RG, Q);\n",
    "    return x - sos\n",
    "end"
   ]
  },
  {
   "cell_type": "code",
   "execution_count": 16,
   "metadata": {
    "ExecuteTime": {
     "end_time": "2019-06-27T00:46:39.727000+02:00",
     "start_time": "2019-06-26T22:43:29.417Z"
    }
   },
   "outputs": [
    {
     "name": "stderr",
     "output_type": "stream",
     "text": [
      "┌ Warning: Scalar and coeffs are in different rings! Promoting result to Float64\n",
      "└ @ GroupRings /home/kalmar/.julia/packages/GroupRings/RGQkD/src/GroupRings.jl:300\n",
      "┌ Warning: Adding elements with different coefficient rings, Promoting result to Float64\n",
      "└ @ GroupRings /home/kalmar/.julia/packages/GroupRings/RGQkD/src/GroupRings.jl:338\n"
     ]
    },
    {
     "name": "stdout",
     "output_type": "stream",
     "text": [
      "  0.056232 seconds (977 allocations: 2.065 MiB)\n",
      "norm(b, 1) = 1.4587019788678534e-8\n"
     ]
    }
   ],
   "source": [
    "b = SOS_residual(elt - λ*Δ, Q)\n",
    "@show norm(b, 1);"
   ]
  },
  {
   "cell_type": "markdown",
   "metadata": {},
   "source": [
    "### Checking in interval arithmetic"
   ]
  },
  {
   "cell_type": "code",
   "execution_count": 17,
   "metadata": {
    "ExecuteTime": {
     "end_time": "2019-06-27T00:46:40.131000+02:00",
     "start_time": "2019-06-26T22:43:29.423Z"
    }
   },
   "outputs": [
    {
     "name": "stderr",
     "output_type": "stream",
     "text": [
      "WARNING: using IntervalArithmetic.radius in module Main conflicts with an existing identifier.\n"
     ]
    }
   ],
   "source": [
    "using IntervalArithmetic\n",
    "IntervalArithmetic.setrounding(Interval, :tight)\n",
    "IntervalArithmetic.setformat(sigfigs=12);"
   ]
  },
  {
   "cell_type": "markdown",
   "metadata": {},
   "source": [
    "Here we resort to interval arithmetic to provide certified upper and lower bounds on the norm of the residual.\n",
    "* We first change entries of `Q` to narrow intervals\n",
    "* We project columns of `Q` so that $0$ is in the sum of coefficients of each column (i.e. $\\xi_i \\in I \\operatorname{SL}(N,\\mathbb{Z})$)\n",
    "* We compute the sum of squares and the $\\ell_1$-norm of the residual in the interval arithmetic.\n",
    "\n",
    "The returned `check_columns_augmentation` is a boolean flag to detect if the projection was successful, i.e. if we can guarantee that each column of `Q_aug` can be represented by an element from the augmentation ideal. (If it were not successful, one may project `Q = PropertyT.augIdproj(Q)` in the floating point arithmetic prior to the cell below).\n",
    "\n",
    "The resulting norm of the residual is **guaranteed** to be contained in the resulting interval. E.g. if each entry of `Q` were changed into an honest rational number and all the computations were carried out in rational arithmetic, the rational $\\ell_1$-norm will be contained in the interval $\\ell_1$-norm."
   ]
  },
  {
   "cell_type": "code",
   "execution_count": 18,
   "metadata": {
    "ExecuteTime": {
     "end_time": "2019-06-27T00:46:52.537000+02:00",
     "start_time": "2019-06-26T22:43:29.433Z"
    }
   },
   "outputs": [
    {
     "name": "stderr",
     "output_type": "stream",
     "text": [
      "┌ Warning: Scalar and coeffs are in different rings! Promoting result to Interval{Float64}\n",
      "└ @ GroupRings /home/kalmar/.julia/packages/GroupRings/RGQkD/src/GroupRings.jl:300\n",
      "┌ Warning: Adding elements with different coefficient rings, Promoting result to Interval{Float64}\n",
      "└ @ GroupRings /home/kalmar/.julia/packages/GroupRings/RGQkD/src/GroupRings.jl:338\n"
     ]
    },
    {
     "name": "stdout",
     "output_type": "stream",
     "text": [
      "  4.050721 seconds (976 allocations: 4.070 MiB)\n",
      "norm(b_int, 1) = [1.82538570099e-08, 1.85760547024e-08]\n"
     ]
    }
   ],
   "source": [
    "Q_aug, check_columns_augmentation = PropertyT.augIdproj(Interval, Q);\n",
    "@assert check_columns_augmentation\n",
    "elt_int = elt - @interval(λ)*Δ;\n",
    "b_int = SOS_residual(elt_int, Q_aug)\n",
    "@show norm(b_int, 1);"
   ]
  },
  {
   "cell_type": "code",
   "execution_count": 19,
   "metadata": {
    "ExecuteTime": {
     "end_time": "2019-06-27T00:46:53.559000+02:00",
     "start_time": "2019-06-26T22:43:29.439Z"
    }
   },
   "outputs": [
    {
     "data": {
      "text/plain": [
       "[0.820049925695, 0.820049926985]"
      ]
     },
     "execution_count": 19,
     "metadata": {},
     "output_type": "execute_result"
    }
   ],
   "source": [
    "certified_λ = @interval(λ) - 2^2*norm(b_int,1)"
   ]
  },
  {
   "cell_type": "markdown",
   "metadata": {
    "ExecuteTime": {
     "end_time": "2018-11-24T14:06:31.828000+01:00",
     "start_time": "2018-11-24T13:06:31.206Z"
    }
   },
   "source": [
    "So $\\operatorname{elt} - \\lambda_0 \\Delta \\in \\Sigma^2 I\\operatorname{SL}(N, \\mathbb{Z})$, where as $\\lambda_0$ we could take the left end of the above interval:"
   ]
  },
  {
   "cell_type": "code",
   "execution_count": 20,
   "metadata": {
    "ExecuteTime": {
     "end_time": "2019-06-27T00:46:54.430000+02:00",
     "start_time": "2019-06-26T22:43:29.449Z"
    }
   },
   "outputs": [
    {
     "data": {
      "text/plain": [
       "0.8200499256953697"
      ]
     },
     "execution_count": 20,
     "metadata": {},
     "output_type": "execute_result"
    }
   ],
   "source": [
    "certified_λ.lo"
   ]
  },
  {
   "cell_type": "code",
   "execution_count": 21,
   "metadata": {
    "ExecuteTime": {
     "end_time": "2019-06-27T00:46:54.508000+02:00",
     "start_time": "2019-06-26T22:43:29.455Z"
    }
   },
   "outputs": [
    {
     "data": {
      "text/plain": [
       "2019-06-27T00:46:54.431"
      ]
     },
     "execution_count": 21,
     "metadata": {},
     "output_type": "execute_result"
    }
   ],
   "source": [
    "now()"
   ]
  },
  {
   "cell_type": "code",
   "execution_count": 22,
   "metadata": {
    "ExecuteTime": {
     "end_time": "2019-06-27T00:46:56.260000+02:00",
     "start_time": "2019-06-26T22:43:29.465Z"
    }
   },
   "outputs": [
    {
     "name": "stdout",
     "output_type": "stream",
     "text": [
      "Julia Version 1.1.1\n",
      "Commit 55e36cc308 (2019-05-16 04:10 UTC)\n",
      "Platform Info:\n",
      "  OS: Linux (x86_64-pc-linux-gnu)\n",
      "  CPU: Intel(R) Core(TM) i5-6200U CPU @ 2.30GHz\n",
      "  WORD_SIZE: 64\n",
      "  LIBM: libopenlibm\n",
      "  LLVM: libLLVM-6.0.1 (ORCJIT, skylake)\n",
      "Environment:\n",
      "  JULIA_NUM_THREADS = 2\n"
     ]
    }
   ],
   "source": [
    "versioninfo()"
   ]
  }
 ],
 "metadata": {
  "@webio": {
   "lastCommId": null,
   "lastKernelId": null
  },
  "gist": {
   "data": {
    "description": "ownCloud/GroupsWithPropertyT/notebooks/Positivity in SL(n,Z).ipynb",
    "public": false
   },
   "id": ""
  },
  "kernelspec": {
   "display_name": "Julia 1.1.1",
   "language": "julia",
   "name": "julia-1.1"
  },
  "language_info": {
   "file_extension": ".jl",
   "mimetype": "application/julia",
   "name": "julia",
   "version": "1.1.1"
  },
  "toc": {
   "base_numbering": 1,
   "nav_menu": {},
   "number_sections": true,
   "sideBar": false,
   "skip_h1_title": false,
   "title_cell": "Table of Contents",
   "title_sidebar": "Contents",
   "toc_cell": false,
   "toc_position": {},
   "toc_section_display": true,
   "toc_window_display": false
  }
 },
 "nbformat": 4,
 "nbformat_minor": 2
}
